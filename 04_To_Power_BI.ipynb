{
 "metadata": {
  "language_info": {
   "codemirror_mode": {
    "name": "ipython",
    "version": 3
   },
   "file_extension": ".py",
   "mimetype": "text/x-python",
   "name": "python",
   "nbconvert_exporter": "python",
   "pygments_lexer": "ipython3",
   "version": "3.8.8"
  },
  "orig_nbformat": 4,
  "kernelspec": {
   "name": "python3",
   "display_name": "Python 3.8.8 64-bit ('Data_Science': conda)"
  },
  "interpreter": {
   "hash": "54aafdb36ba7a57007c1052e291baf553a31e85cae918a266292c7469c0efefb"
  }
 },
 "nbformat": 4,
 "nbformat_minor": 2,
 "cells": [
  {
   "cell_type": "code",
   "execution_count": 1,
   "metadata": {},
   "outputs": [],
   "source": [
    "#Core\n",
    "import pandas as pd\n",
    "import numpy as np"
   ]
  },
  {
   "cell_type": "code",
   "execution_count": 2,
   "metadata": {},
   "outputs": [],
   "source": [
    "df=pd.read_csv('CSVs\\df_acidentes_sp_moto_CLEAN.csv',sep=',')"
   ]
  },
  {
   "cell_type": "code",
   "execution_count": 3,
   "metadata": {},
   "outputs": [
    {
     "output_type": "stream",
     "name": "stdout",
     "text": [
      "<class 'pandas.core.frame.DataFrame'>\nRangeIndex: 53235 entries, 0 to 53234\nData columns (total 32 columns):\n #   Column                Non-Null Count  Dtype  \n---  ------                --------------  -----  \n 0   Ano                   53235 non-null  int64  \n 1   Mes                   53235 non-null  int64  \n 2   Dia                   53235 non-null  int64  \n 3   Dia da Semana         53235 non-null  object \n 4   Turno                 53235 non-null  object \n 5   Município             53235 non-null  object \n 6   Jurisdição            53235 non-null  object \n 7   Administração         53235 non-null  object \n 8   Conservação           53235 non-null  object \n 9   Latitude              53235 non-null  float64\n 10  Longitude             53235 non-null  float64\n 11  Condições Climáticas  53235 non-null  object \n 12  Iluminação            53235 non-null  object \n 13  Mão de direção        53235 non-null  object \n 14  Relevo                53235 non-null  object \n 15  Superfície da via     53235 non-null  object \n 16  Tipo de pavimento     53235 non-null  object \n 17  Tipo de pista         53235 non-null  object \n 18  Traçado               53235 non-null  object \n 19  Tipo de Via           53235 non-null  object \n 20  Acidente Fatal        53235 non-null  int64  \n 21  Mes_sin               53235 non-null  float64\n 22  Mes_cos               53235 non-null  float64\n 23  dias_semana_num       53235 non-null  int64  \n 24  dias_semana_norm      53235 non-null  float64\n 25  dias_semana_sin       53235 non-null  float64\n 26  dias_semana_cos       53235 non-null  float64\n 27  Hora                  53235 non-null  float64\n 28  Minuto                53235 non-null  float64\n 29  horario_float         53235 non-null  float64\n 30  horario_sin           53235 non-null  float64\n 31  horario_cos           53235 non-null  float64\ndtypes: float64(12), int64(5), object(15)\nmemory usage: 13.0+ MB\n"
     ]
    }
   ],
   "source": [
    "df.info()"
   ]
  },
  {
   "cell_type": "code",
   "execution_count": 4,
   "metadata": {},
   "outputs": [],
   "source": [
    "df_pbi = df[['Ano', 'Mes', 'Dia', 'Dia da Semana', 'Turno', 'Município',\n",
    "       'Jurisdição', 'Administração', 'Conservação', 'Latitude', 'Longitude',\n",
    "       'Condições Climáticas', 'Iluminação', 'Mão de direção', 'Relevo',\n",
    "       'Superfície da via', 'Tipo de pavimento', 'Tipo de pista', 'Traçado',\n",
    "       'Tipo de Via', 'Acidente Fatal', 'Hora', 'Minuto']]"
   ]
  },
  {
   "cell_type": "code",
   "execution_count": 5,
   "metadata": {},
   "outputs": [],
   "source": [
    "# df_pbi.to_csv('CSVs\\df_acidentes_sp_moto_PBI.csv',index=False)"
   ]
  },
  {
   "cell_type": "code",
   "execution_count": 6,
   "metadata": {},
   "outputs": [
    {
     "output_type": "stream",
     "name": "stderr",
     "text": [
      "C:\\Users\\Renato\\anaconda3\\envs\\Data_Science\\lib\\site-packages\\IPython\\core\\interactiveshell.py:3165: DtypeWarning: Columns (7) have mixed types.Specify dtype option on import or set low_memory=False.\n  has_raised = await self.run_ast_nodes(code_ast.body, cell_name,\n"
     ]
    }
   ],
   "source": [
    "# importando df inicial para pesquisar problemas de lat e lon achados no PBI\n",
    "df_init = pd.read_csv('CSVs\\df_acidentes_sp_moto.csv',sep=',')"
   ]
  },
  {
   "cell_type": "code",
   "execution_count": 7,
   "metadata": {},
   "outputs": [],
   "source": [
    "df.loc[4381, 'Latitude'] = -23.6576625\n",
    "# df.set_value(4381, 'Latitude', -23.6576625)"
   ]
  },
  {
   "cell_type": "code",
   "execution_count": 8,
   "metadata": {},
   "outputs": [],
   "source": [
    "df.drop(52483, inplace=True)"
   ]
  },
  {
   "cell_type": "code",
   "execution_count": 9,
   "metadata": {},
   "outputs": [],
   "source": [
    "df.drop(51779, inplace=True)"
   ]
  },
  {
   "cell_type": "code",
   "execution_count": 10,
   "metadata": {},
   "outputs": [],
   "source": [
    "df.drop(3084, inplace=True)\n",
    "df.drop(37283, inplace=True)"
   ]
  },
  {
   "cell_type": "code",
   "execution_count": 11,
   "metadata": {},
   "outputs": [],
   "source": [
    "df.drop(7798, inplace=True)\n",
    "df.drop(38256, inplace=True)\n",
    "df.drop(49113, inplace=True)"
   ]
  },
  {
   "cell_type": "code",
   "execution_count": 12,
   "metadata": {},
   "outputs": [
    {
     "output_type": "execute_result",
     "data": {
      "text/plain": [
       "PREFEITURA                     46612\n",
       "DR10 - São Paulo                2031\n",
       "ECOVIAS                          868\n",
       "NOVADUTRA                        785\n",
       "VIAOESTE                         716\n",
       "ECOPISTAS                        591\n",
       "AUTOBAN                          496\n",
       "AUTOPISTA REGIS BITTENCOURT      479\n",
       "CCR RODOANEL                     369\n",
       "AUTOPISTA FERNÃO DIAS            154\n",
       "SPMAR                             85\n",
       "DR02 - Itapetininga               42\n",
       "Name: Conservação, dtype: int64"
      ]
     },
     "metadata": {},
     "execution_count": 12
    }
   ],
   "source": [
    "df['Conservação'].value_counts()"
   ]
  },
  {
   "cell_type": "code",
   "execution_count": 14,
   "metadata": {},
   "outputs": [
    {
     "output_type": "execute_result",
     "data": {
      "text/plain": [
       "      Condições Climáticas  Hora  Minuto   Ano  Mes  Dia Dia da Semana  \\\n",
       "24155                CHUVA  20.0    20.0  2020    1   28         TERÇA   \n",
       "40875                CHUVA   9.0    18.0  2019    5   18        SÁBADO   \n",
       "41028                CHUVA   6.0    50.0  2019    5   16        QUINTA   \n",
       "13718                CHUVA   6.0    43.0  2020    7   29        QUARTA   \n",
       "8734                 CHUVA   6.0     5.0  2020   10    8        QUINTA   \n",
       "23851                CHUVA  17.0    32.0  2020    2    2       DOMINGO   \n",
       "35828                CHUVA  23.0    25.0  2019    8    4       DOMINGO   \n",
       "22555                CHUVA  11.0     5.0  2020    2   21         SEXTA   \n",
       "8652                 CHUVA  20.0    41.0  2020   10    9         SEXTA   \n",
       "19866                CHUVA  17.0    54.0  2020    4    7         TERÇA   \n",
       "\n",
       "         Município  Latitude  Longitude  \n",
       "24155  CARAPICUIBA  -23.5665  -46.83127  \n",
       "40875    SAO PAULO  -23.5489  -46.63886  \n",
       "41028    SAO PAULO  -23.6364  -46.60647  \n",
       "13718      DIADEMA  -23.6883  -46.62537  \n",
       "8734     GUARULHOS  -23.4549  -46.47286  \n",
       "23851    SAO PAULO  -23.6921  -46.78267  \n",
       "35828    SAO PAULO  -23.5518  -46.64414  \n",
       "22555      ITAPEVI  -23.5487  -46.92914  \n",
       "8652     SAO PAULO  -23.6074  -46.69022  \n",
       "19866    SAO PAULO  -23.5768  -46.66390  "
      ],
      "text/html": "<div>\n<style scoped>\n    .dataframe tbody tr th:only-of-type {\n        vertical-align: middle;\n    }\n\n    .dataframe tbody tr th {\n        vertical-align: top;\n    }\n\n    .dataframe thead th {\n        text-align: right;\n    }\n</style>\n<table border=\"1\" class=\"dataframe\">\n  <thead>\n    <tr style=\"text-align: right;\">\n      <th></th>\n      <th>Condições Climáticas</th>\n      <th>Hora</th>\n      <th>Minuto</th>\n      <th>Ano</th>\n      <th>Mes</th>\n      <th>Dia</th>\n      <th>Dia da Semana</th>\n      <th>Município</th>\n      <th>Latitude</th>\n      <th>Longitude</th>\n    </tr>\n  </thead>\n  <tbody>\n    <tr>\n      <th>24155</th>\n      <td>CHUVA</td>\n      <td>20.0</td>\n      <td>20.0</td>\n      <td>2020</td>\n      <td>1</td>\n      <td>28</td>\n      <td>TERÇA</td>\n      <td>CARAPICUIBA</td>\n      <td>-23.5665</td>\n      <td>-46.83127</td>\n    </tr>\n    <tr>\n      <th>40875</th>\n      <td>CHUVA</td>\n      <td>9.0</td>\n      <td>18.0</td>\n      <td>2019</td>\n      <td>5</td>\n      <td>18</td>\n      <td>SÁBADO</td>\n      <td>SAO PAULO</td>\n      <td>-23.5489</td>\n      <td>-46.63886</td>\n    </tr>\n    <tr>\n      <th>41028</th>\n      <td>CHUVA</td>\n      <td>6.0</td>\n      <td>50.0</td>\n      <td>2019</td>\n      <td>5</td>\n      <td>16</td>\n      <td>QUINTA</td>\n      <td>SAO PAULO</td>\n      <td>-23.6364</td>\n      <td>-46.60647</td>\n    </tr>\n    <tr>\n      <th>13718</th>\n      <td>CHUVA</td>\n      <td>6.0</td>\n      <td>43.0</td>\n      <td>2020</td>\n      <td>7</td>\n      <td>29</td>\n      <td>QUARTA</td>\n      <td>DIADEMA</td>\n      <td>-23.6883</td>\n      <td>-46.62537</td>\n    </tr>\n    <tr>\n      <th>8734</th>\n      <td>CHUVA</td>\n      <td>6.0</td>\n      <td>5.0</td>\n      <td>2020</td>\n      <td>10</td>\n      <td>8</td>\n      <td>QUINTA</td>\n      <td>GUARULHOS</td>\n      <td>-23.4549</td>\n      <td>-46.47286</td>\n    </tr>\n    <tr>\n      <th>23851</th>\n      <td>CHUVA</td>\n      <td>17.0</td>\n      <td>32.0</td>\n      <td>2020</td>\n      <td>2</td>\n      <td>2</td>\n      <td>DOMINGO</td>\n      <td>SAO PAULO</td>\n      <td>-23.6921</td>\n      <td>-46.78267</td>\n    </tr>\n    <tr>\n      <th>35828</th>\n      <td>CHUVA</td>\n      <td>23.0</td>\n      <td>25.0</td>\n      <td>2019</td>\n      <td>8</td>\n      <td>4</td>\n      <td>DOMINGO</td>\n      <td>SAO PAULO</td>\n      <td>-23.5518</td>\n      <td>-46.64414</td>\n    </tr>\n    <tr>\n      <th>22555</th>\n      <td>CHUVA</td>\n      <td>11.0</td>\n      <td>5.0</td>\n      <td>2020</td>\n      <td>2</td>\n      <td>21</td>\n      <td>SEXTA</td>\n      <td>ITAPEVI</td>\n      <td>-23.5487</td>\n      <td>-46.92914</td>\n    </tr>\n    <tr>\n      <th>8652</th>\n      <td>CHUVA</td>\n      <td>20.0</td>\n      <td>41.0</td>\n      <td>2020</td>\n      <td>10</td>\n      <td>9</td>\n      <td>SEXTA</td>\n      <td>SAO PAULO</td>\n      <td>-23.6074</td>\n      <td>-46.69022</td>\n    </tr>\n    <tr>\n      <th>19866</th>\n      <td>CHUVA</td>\n      <td>17.0</td>\n      <td>54.0</td>\n      <td>2020</td>\n      <td>4</td>\n      <td>7</td>\n      <td>TERÇA</td>\n      <td>SAO PAULO</td>\n      <td>-23.5768</td>\n      <td>-46.66390</td>\n    </tr>\n  </tbody>\n</table>\n</div>"
     },
     "metadata": {},
     "execution_count": 14
    }
   ],
   "source": [
    "df[['Condições Climáticas', 'Hora', 'Minuto','Ano', 'Mes', 'Dia', 'Dia da Semana','Município','Latitude','Longitude']].loc[df['Condições Climáticas']=='CHUVA'].sample(10)"
   ]
  },
  {
   "cell_type": "code",
   "execution_count": 15,
   "metadata": {},
   "outputs": [
    {
     "output_type": "execute_result",
     "data": {
      "text/plain": [
       "BOM                 46154\n",
       "CHUVA                4249\n",
       "NUBLADO              2576\n",
       "NEVOEIRO/NEBLINA      247\n",
       "URBANA                  1\n",
       "VENTO                   1\n",
       "Name: Condições Climáticas, dtype: int64"
      ]
     },
     "metadata": {},
     "execution_count": 15
    }
   ],
   "source": [
    "df['Condições Climáticas'].value_counts()"
   ]
  },
  {
   "cell_type": "code",
   "execution_count": 21,
   "metadata": {},
   "outputs": [
    {
     "output_type": "execute_result",
     "data": {
      "text/plain": [
       "     Condições Climáticas  Hora  Minuto   Ano  Mes  Dia Dia da Semana  \\\n",
       "3830               URBANA  22.0    21.0  2020   12   22         TERÇA   \n",
       "\n",
       "           Município  Latitude  Longitude  \n",
       "3830  RIBEIRAO PIRES  -23.7172   -46.4099  "
      ],
      "text/html": "<div>\n<style scoped>\n    .dataframe tbody tr th:only-of-type {\n        vertical-align: middle;\n    }\n\n    .dataframe tbody tr th {\n        vertical-align: top;\n    }\n\n    .dataframe thead th {\n        text-align: right;\n    }\n</style>\n<table border=\"1\" class=\"dataframe\">\n  <thead>\n    <tr style=\"text-align: right;\">\n      <th></th>\n      <th>Condições Climáticas</th>\n      <th>Hora</th>\n      <th>Minuto</th>\n      <th>Ano</th>\n      <th>Mes</th>\n      <th>Dia</th>\n      <th>Dia da Semana</th>\n      <th>Município</th>\n      <th>Latitude</th>\n      <th>Longitude</th>\n    </tr>\n  </thead>\n  <tbody>\n    <tr>\n      <th>3830</th>\n      <td>URBANA</td>\n      <td>22.0</td>\n      <td>21.0</td>\n      <td>2020</td>\n      <td>12</td>\n      <td>22</td>\n      <td>TERÇA</td>\n      <td>RIBEIRAO PIRES</td>\n      <td>-23.7172</td>\n      <td>-46.4099</td>\n    </tr>\n  </tbody>\n</table>\n</div>"
     },
     "metadata": {},
     "execution_count": 21
    }
   ],
   "source": [
    "df[['Condições Climáticas', 'Hora', 'Minuto','Ano', 'Mes', 'Dia', 'Dia da Semana','Município','Latitude','Longitude']].loc[df['Condições Climáticas']=='URBANA']"
   ]
  },
  {
   "cell_type": "code",
   "execution_count": 22,
   "metadata": {},
   "outputs": [],
   "source": [
    "df.loc[10491, 'Condições Climáticas'] = 'BOM'\n",
    "df.loc[3830, 'Condições Climáticas'] = 'NUBLADO'"
   ]
  },
  {
   "cell_type": "code",
   "execution_count": 23,
   "metadata": {},
   "outputs": [
    {
     "output_type": "execute_result",
     "data": {
      "text/plain": [
       "BOM                 46155\n",
       "CHUVA                4249\n",
       "NUBLADO              2577\n",
       "NEVOEIRO/NEBLINA      247\n",
       "Name: Condições Climáticas, dtype: int64"
      ]
     },
     "metadata": {},
     "execution_count": 23
    }
   ],
   "source": [
    "df['Condições Climáticas'].value_counts()"
   ]
  },
  {
   "cell_type": "code",
   "execution_count": 24,
   "metadata": {},
   "outputs": [],
   "source": [
    "df.to_csv('C:\\\\Users\\Renato\\OneDrive\\Projeto_TERA\\Predição Acidentes Motocicleta\\Projeto-TERA-Data-Science---Acidentes-Motocicletas\\CSVs\\df_acidentes_sp_moto_CLEAN2.csv',index=False)"
   ]
  },
  {
   "cell_type": "code",
   "execution_count": null,
   "metadata": {},
   "outputs": [],
   "source": []
  }
 ]
}