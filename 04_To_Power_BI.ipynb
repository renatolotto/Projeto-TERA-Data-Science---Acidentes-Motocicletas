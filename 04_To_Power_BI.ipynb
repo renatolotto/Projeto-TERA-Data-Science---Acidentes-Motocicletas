{
 "metadata": {
  "language_info": {
   "codemirror_mode": {
    "name": "ipython",
    "version": 3
   },
   "file_extension": ".py",
   "mimetype": "text/x-python",
   "name": "python",
   "nbconvert_exporter": "python",
   "pygments_lexer": "ipython3",
   "version": "3.8.8"
  },
  "orig_nbformat": 4,
  "kernelspec": {
   "name": "python3",
   "display_name": "Python 3.8.8 64-bit ('Data_Science': conda)"
  },
  "interpreter": {
   "hash": "54aafdb36ba7a57007c1052e291baf553a31e85cae918a266292c7469c0efefb"
  }
 },
 "nbformat": 4,
 "nbformat_minor": 2,
 "cells": [
  {
   "cell_type": "code",
   "execution_count": null,
   "metadata": {},
   "outputs": [],
   "source": [
    "#Core\n",
    "import pandas as pd\n",
    "import numpy as np"
   ]
  },
  {
   "cell_type": "code",
   "execution_count": 8,
   "metadata": {},
   "outputs": [],
   "source": [
    "df=pd.read_csv('CSVs\\df_acidentes_sp_moto_CLEAN.csv',sep=',')"
   ]
  },
  {
   "cell_type": "code",
   "execution_count": 9,
   "metadata": {},
   "outputs": [
    {
     "output_type": "stream",
     "name": "stdout",
     "text": [
      "<class 'pandas.core.frame.DataFrame'>\nRangeIndex: 53234 entries, 0 to 53233\nData columns (total 32 columns):\n #   Column                Non-Null Count  Dtype  \n---  ------                --------------  -----  \n 0   Ano                   53234 non-null  int64  \n 1   Mes                   53234 non-null  int64  \n 2   Dia                   53234 non-null  int64  \n 3   Dia da Semana         53234 non-null  object \n 4   Turno                 53234 non-null  object \n 5   Município             53234 non-null  object \n 6   Jurisdição            53234 non-null  object \n 7   Administração         53234 non-null  object \n 8   Conservação           53234 non-null  object \n 9   Latitude              53234 non-null  float64\n 10  Longitude             53234 non-null  float64\n 11  Condições Climáticas  53234 non-null  object \n 12  Iluminação            53234 non-null  object \n 13  Mão de direção        53234 non-null  object \n 14  Relevo                53234 non-null  object \n 15  Superfície da via     53234 non-null  object \n 16  Tipo de pavimento     53234 non-null  object \n 17  Tipo de pista         53234 non-null  object \n 18  Traçado               53234 non-null  object \n 19  Tipo de Via           53234 non-null  object \n 20  Acidente Fatal        53234 non-null  int64  \n 21  Mes_sin               53234 non-null  float64\n 22  Mes_cos               53234 non-null  float64\n 23  dias_semana_num       53234 non-null  int64  \n 24  dias_semana_norm      53234 non-null  float64\n 25  dias_semana_sin       53234 non-null  float64\n 26  dias_semana_cos       53234 non-null  float64\n 27  Hora                  53234 non-null  float64\n 28  Minuto                53234 non-null  float64\n 29  horario_float         53234 non-null  float64\n 30  horario_sin           53234 non-null  float64\n 31  horario_cos           53234 non-null  float64\ndtypes: float64(12), int64(5), object(15)\nmemory usage: 13.0+ MB\n"
     ]
    }
   ],
   "source": [
    "df.info()"
   ]
  },
  {
   "cell_type": "code",
   "execution_count": null,
   "metadata": {},
   "outputs": [],
   "source": []
  },
  {
   "cell_type": "code",
   "execution_count": 5,
   "metadata": {},
   "outputs": [],
   "source": [
    "df_pbi = df[['Ano', 'Mes', 'Dia', 'Dia da Semana', 'Turno', 'Município',\n",
    "       'Jurisdição', 'Administração', 'Conservação', 'Latitude', 'Longitude',\n",
    "       'Condições Climáticas', 'Iluminação', 'Mão de direção', 'Relevo',\n",
    "       'Superfície da via', 'Tipo de pavimento', 'Tipo de pista', 'Traçado',\n",
    "       'Tipo de Via', 'Acidente Fatal', 'Hora', 'Minuto']]"
   ]
  },
  {
   "cell_type": "code",
   "execution_count": 5,
   "metadata": {},
   "outputs": [],
   "source": [
    "# df_pbi.to_csv('CSVs\\df_acidentes_sp_moto_PBI.csv',index=False)"
   ]
  },
  {
   "cell_type": "code",
   "execution_count": 6,
   "metadata": {},
   "outputs": [
    {
     "output_type": "stream",
     "name": "stderr",
     "text": [
      "C:\\Users\\Renato\\anaconda3\\envs\\Data_Science\\lib\\site-packages\\IPython\\core\\interactiveshell.py:3165: DtypeWarning: Columns (7) have mixed types.Specify dtype option on import or set low_memory=False.\n  has_raised = await self.run_ast_nodes(code_ast.body, cell_name,\n"
     ]
    }
   ],
   "source": [
    "# importando df inicial para pesquisar problemas de lat e lon achados no PBI\n",
    "df_init = pd.read_csv('CSVs\\df_acidentes_sp_moto.csv',sep=',')"
   ]
  },
  {
   "cell_type": "code",
   "execution_count": 12,
   "metadata": {},
   "outputs": [],
   "source": [
    "df.loc[4381, 'Latitude'] = -23.6576625\n",
    "# df.set_value(4381, 'Latitude', -23.6576625)"
   ]
  },
  {
   "cell_type": "code",
   "execution_count": 21,
   "metadata": {},
   "outputs": [
    {
     "output_type": "execute_result",
     "data": {
      "text/plain": [
       "Empty DataFrame\n",
       "Columns: [Ano, Mes, Dia, Dia da Semana, Turno, Município, Jurisdição, Administração, Conservação, Latitude, Longitude, Condições Climáticas, Iluminação, Mão de direção, Relevo, Superfície da via, Tipo de pavimento, Tipo de pista, Traçado, Tipo de Via, Acidente Fatal, Mes_sin, Mes_cos, dias_semana_num, dias_semana_norm, dias_semana_sin, dias_semana_cos, Hora, Minuto, horario_float, horario_sin, horario_cos]\n",
       "Index: []\n",
       "\n",
       "[0 rows x 32 columns]"
      ],
      "text/html": "<div>\n<style scoped>\n    .dataframe tbody tr th:only-of-type {\n        vertical-align: middle;\n    }\n\n    .dataframe tbody tr th {\n        vertical-align: top;\n    }\n\n    .dataframe thead th {\n        text-align: right;\n    }\n</style>\n<table border=\"1\" class=\"dataframe\">\n  <thead>\n    <tr style=\"text-align: right;\">\n      <th></th>\n      <th>Ano</th>\n      <th>Mes</th>\n      <th>Dia</th>\n      <th>Dia da Semana</th>\n      <th>Turno</th>\n      <th>Município</th>\n      <th>Jurisdição</th>\n      <th>Administração</th>\n      <th>Conservação</th>\n      <th>Latitude</th>\n      <th>...</th>\n      <th>Mes_cos</th>\n      <th>dias_semana_num</th>\n      <th>dias_semana_norm</th>\n      <th>dias_semana_sin</th>\n      <th>dias_semana_cos</th>\n      <th>Hora</th>\n      <th>Minuto</th>\n      <th>horario_float</th>\n      <th>horario_sin</th>\n      <th>horario_cos</th>\n    </tr>\n  </thead>\n  <tbody>\n  </tbody>\n</table>\n<p>0 rows × 32 columns</p>\n</div>"
     },
     "metadata": {},
     "execution_count": 21
    }
   ],
   "source": [
    "df.loc[df['Conservação']=='VIARONDON']"
   ]
  },
  {
   "cell_type": "code",
   "execution_count": 20,
   "metadata": {},
   "outputs": [],
   "source": [
    "df.drop(51778, inplace=True)"
   ]
  },
  {
   "cell_type": "code",
   "execution_count": 14,
   "metadata": {},
   "outputs": [],
   "source": [
    "df.drop(51779, inplace=True)"
   ]
  },
  {
   "cell_type": "code",
   "execution_count": 15,
   "metadata": {},
   "outputs": [],
   "source": [
    "df.drop(3084, inplace=True)\n",
    "df.drop(37283, inplace=True)"
   ]
  },
  {
   "cell_type": "code",
   "execution_count": 16,
   "metadata": {},
   "outputs": [],
   "source": [
    "df.drop(7798, inplace=True)\n",
    "df.drop(38256, inplace=True)\n",
    "df.drop(49113, inplace=True)"
   ]
  },
  {
   "cell_type": "code",
   "execution_count": 22,
   "metadata": {},
   "outputs": [
    {
     "output_type": "execute_result",
     "data": {
      "text/plain": [
       "PREFEITURA                     46609\n",
       "DR10 - São Paulo                2031\n",
       "ECOVIAS                          868\n",
       "NOVADUTRA                        785\n",
       "VIAOESTE                         716\n",
       "ECOPISTAS                        591\n",
       "AUTOBAN                          496\n",
       "AUTOPISTA REGIS BITTENCOURT      479\n",
       "CCR RODOANEL                     369\n",
       "AUTOPISTA FERNÃO DIAS            154\n",
       "SPMAR                             85\n",
       "DR02 - Itapetininga               43\n",
       "Name: Conservação, dtype: int64"
      ]
     },
     "metadata": {},
     "execution_count": 22
    }
   ],
   "source": [
    "df['Conservação'].value_counts()"
   ]
  },
  {
   "cell_type": "code",
   "execution_count": 23,
   "metadata": {},
   "outputs": [
    {
     "output_type": "execute_result",
     "data": {
      "text/plain": [
       "      Condições Climáticas  Hora  Minuto   Ano  Mes  Dia Dia da Semana  \\\n",
       "12224                CHUVA  22.0    42.0  2020    8   19        QUARTA   \n",
       "33800                CHUVA  18.0    15.0  2019    9    3         TERÇA   \n",
       "5163                 CHUVA  20.0    24.0  2020   12    1         TERÇA   \n",
       "26004                CHUVA  18.0     8.0  2019   12   23       SEGUNDA   \n",
       "46529                CHUVA  18.0    23.0  2019    2   16        SÁBADO   \n",
       "23848                CHUVA  22.0     8.0  2020    2    2       DOMINGO   \n",
       "40979                CHUVA  12.0    45.0  2019    5   17         SEXTA   \n",
       "23310                CHUVA   6.0    48.0  2020    2   10       SEGUNDA   \n",
       "46082                CHUVA  17.0    50.0  2019    2   24       DOMINGO   \n",
       "26684                CHUVA  18.0    26.0  2019   12   14        SÁBADO   \n",
       "\n",
       "         Município  Latitude  Longitude  \n",
       "12224    SAO PAULO  -23.4876  -46.65337  \n",
       "33800  CARAPICUIBA  -23.5636  -46.82030  \n",
       "5163     SAO PAULO  -23.5302  -46.62280  \n",
       "26004    GUARULHOS  -23.4001  -46.40706  \n",
       "46529  SANTO ANDRE  -23.6674  -46.52494  \n",
       "23848    SAO PAULO  -23.7859  -46.72602  \n",
       "40979    SAO PAULO  -23.4655  -46.57151  \n",
       "23310    SAO PAULO  -23.5614  -46.47283  \n",
       "46082    SAO PAULO  -23.4603  -46.61248  \n",
       "26684    SAO PAULO  -23.4949  -46.43781  "
      ],
      "text/html": "<div>\n<style scoped>\n    .dataframe tbody tr th:only-of-type {\n        vertical-align: middle;\n    }\n\n    .dataframe tbody tr th {\n        vertical-align: top;\n    }\n\n    .dataframe thead th {\n        text-align: right;\n    }\n</style>\n<table border=\"1\" class=\"dataframe\">\n  <thead>\n    <tr style=\"text-align: right;\">\n      <th></th>\n      <th>Condições Climáticas</th>\n      <th>Hora</th>\n      <th>Minuto</th>\n      <th>Ano</th>\n      <th>Mes</th>\n      <th>Dia</th>\n      <th>Dia da Semana</th>\n      <th>Município</th>\n      <th>Latitude</th>\n      <th>Longitude</th>\n    </tr>\n  </thead>\n  <tbody>\n    <tr>\n      <th>12224</th>\n      <td>CHUVA</td>\n      <td>22.0</td>\n      <td>42.0</td>\n      <td>2020</td>\n      <td>8</td>\n      <td>19</td>\n      <td>QUARTA</td>\n      <td>SAO PAULO</td>\n      <td>-23.4876</td>\n      <td>-46.65337</td>\n    </tr>\n    <tr>\n      <th>33800</th>\n      <td>CHUVA</td>\n      <td>18.0</td>\n      <td>15.0</td>\n      <td>2019</td>\n      <td>9</td>\n      <td>3</td>\n      <td>TERÇA</td>\n      <td>CARAPICUIBA</td>\n      <td>-23.5636</td>\n      <td>-46.82030</td>\n    </tr>\n    <tr>\n      <th>5163</th>\n      <td>CHUVA</td>\n      <td>20.0</td>\n      <td>24.0</td>\n      <td>2020</td>\n      <td>12</td>\n      <td>1</td>\n      <td>TERÇA</td>\n      <td>SAO PAULO</td>\n      <td>-23.5302</td>\n      <td>-46.62280</td>\n    </tr>\n    <tr>\n      <th>26004</th>\n      <td>CHUVA</td>\n      <td>18.0</td>\n      <td>8.0</td>\n      <td>2019</td>\n      <td>12</td>\n      <td>23</td>\n      <td>SEGUNDA</td>\n      <td>GUARULHOS</td>\n      <td>-23.4001</td>\n      <td>-46.40706</td>\n    </tr>\n    <tr>\n      <th>46529</th>\n      <td>CHUVA</td>\n      <td>18.0</td>\n      <td>23.0</td>\n      <td>2019</td>\n      <td>2</td>\n      <td>16</td>\n      <td>SÁBADO</td>\n      <td>SANTO ANDRE</td>\n      <td>-23.6674</td>\n      <td>-46.52494</td>\n    </tr>\n    <tr>\n      <th>23848</th>\n      <td>CHUVA</td>\n      <td>22.0</td>\n      <td>8.0</td>\n      <td>2020</td>\n      <td>2</td>\n      <td>2</td>\n      <td>DOMINGO</td>\n      <td>SAO PAULO</td>\n      <td>-23.7859</td>\n      <td>-46.72602</td>\n    </tr>\n    <tr>\n      <th>40979</th>\n      <td>CHUVA</td>\n      <td>12.0</td>\n      <td>45.0</td>\n      <td>2019</td>\n      <td>5</td>\n      <td>17</td>\n      <td>SEXTA</td>\n      <td>SAO PAULO</td>\n      <td>-23.4655</td>\n      <td>-46.57151</td>\n    </tr>\n    <tr>\n      <th>23310</th>\n      <td>CHUVA</td>\n      <td>6.0</td>\n      <td>48.0</td>\n      <td>2020</td>\n      <td>2</td>\n      <td>10</td>\n      <td>SEGUNDA</td>\n      <td>SAO PAULO</td>\n      <td>-23.5614</td>\n      <td>-46.47283</td>\n    </tr>\n    <tr>\n      <th>46082</th>\n      <td>CHUVA</td>\n      <td>17.0</td>\n      <td>50.0</td>\n      <td>2019</td>\n      <td>2</td>\n      <td>24</td>\n      <td>DOMINGO</td>\n      <td>SAO PAULO</td>\n      <td>-23.4603</td>\n      <td>-46.61248</td>\n    </tr>\n    <tr>\n      <th>26684</th>\n      <td>CHUVA</td>\n      <td>18.0</td>\n      <td>26.0</td>\n      <td>2019</td>\n      <td>12</td>\n      <td>14</td>\n      <td>SÁBADO</td>\n      <td>SAO PAULO</td>\n      <td>-23.4949</td>\n      <td>-46.43781</td>\n    </tr>\n  </tbody>\n</table>\n</div>"
     },
     "metadata": {},
     "execution_count": 23
    }
   ],
   "source": [
    "df[['Condições Climáticas', 'Hora', 'Minuto','Ano', 'Mes', 'Dia', 'Dia da Semana','Município','Latitude','Longitude']].loc[df['Condições Climáticas']=='CHUVA'].sample(10)"
   ]
  },
  {
   "cell_type": "code",
   "execution_count": 32,
   "metadata": {},
   "outputs": [
    {
     "output_type": "execute_result",
     "data": {
      "text/plain": [
       "BOM                 47820\n",
       "CHUVA                4249\n",
       "NUBLADO               910\n",
       "NEVOEIRO/NEBLINA      247\n",
       "Name: Condições Climáticas, dtype: int64"
      ]
     },
     "metadata": {},
     "execution_count": 32
    }
   ],
   "source": [
    "df['Condições Climáticas'].value_counts()"
   ]
  },
  {
   "cell_type": "code",
   "execution_count": 31,
   "metadata": {},
   "outputs": [
    {
     "output_type": "execute_result",
     "data": {
      "text/plain": [
       "Empty DataFrame\n",
       "Columns: [Condições Climáticas, Hora, Minuto, Ano, Mes, Dia, Dia da Semana, Município, Latitude, Longitude]\n",
       "Index: []"
      ],
      "text/html": "<div>\n<style scoped>\n    .dataframe tbody tr th:only-of-type {\n        vertical-align: middle;\n    }\n\n    .dataframe tbody tr th {\n        vertical-align: top;\n    }\n\n    .dataframe thead th {\n        text-align: right;\n    }\n</style>\n<table border=\"1\" class=\"dataframe\">\n  <thead>\n    <tr style=\"text-align: right;\">\n      <th></th>\n      <th>Condições Climáticas</th>\n      <th>Hora</th>\n      <th>Minuto</th>\n      <th>Ano</th>\n      <th>Mes</th>\n      <th>Dia</th>\n      <th>Dia da Semana</th>\n      <th>Município</th>\n      <th>Latitude</th>\n      <th>Longitude</th>\n    </tr>\n  </thead>\n  <tbody>\n  </tbody>\n</table>\n</div>"
     },
     "metadata": {},
     "execution_count": 31
    }
   ],
   "source": [
    "df[['Condições Climáticas', 'Hora', 'Minuto','Ano', 'Mes', 'Dia', 'Dia da Semana','Município','Latitude','Longitude']].loc[df['Condições Climáticas']=='VENTO']"
   ]
  },
  {
   "cell_type": "code",
   "execution_count": 30,
   "metadata": {},
   "outputs": [],
   "source": [
    "df.loc[10491, 'Condições Climáticas'] = 'BOM'\n",
    "# df.loc[3830, 'Condições Climáticas'] = 'NUBLADO'"
   ]
  },
  {
   "cell_type": "code",
   "execution_count": 33,
   "metadata": {},
   "outputs": [
    {
     "output_type": "execute_result",
     "data": {
      "text/plain": [
       "BOM                 47820\n",
       "CHUVA                4249\n",
       "NUBLADO               910\n",
       "NEVOEIRO/NEBLINA      247\n",
       "Name: Condições Climáticas, dtype: int64"
      ]
     },
     "metadata": {},
     "execution_count": 33
    }
   ],
   "source": [
    "df['Condições Climáticas'].value_counts()"
   ]
  },
  {
   "cell_type": "code",
   "execution_count": 34,
   "metadata": {},
   "outputs": [],
   "source": [
    "df.to_csv('C:\\\\Users\\Renato\\OneDrive\\Projeto_TERA\\Predição Acidentes Motocicleta\\Projeto-TERA-Data-Science---Acidentes-Motocicletas\\CSVs\\df_acidentes_sp_moto_CLEAN2.csv',index=False)"
   ]
  },
  {
   "cell_type": "code",
   "execution_count": null,
   "metadata": {},
   "outputs": [],
   "source": []
  }
 ]
}