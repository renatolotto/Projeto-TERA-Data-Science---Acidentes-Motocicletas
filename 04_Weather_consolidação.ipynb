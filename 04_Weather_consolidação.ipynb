{
 "metadata": {
  "language_info": {
   "codemirror_mode": {
    "name": "ipython",
    "version": 3
   },
   "file_extension": ".py",
   "mimetype": "text/x-python",
   "name": "python",
   "nbconvert_exporter": "python",
   "pygments_lexer": "ipython3",
   "version": "3.8.8"
  },
  "orig_nbformat": 2,
  "kernelspec": {
   "name": "python388jvsc74a57bd054aafdb36ba7a57007c1052e291baf553a31e85cae918a266292c7469c0efefb",
   "display_name": "Python 3.8.8 64-bit ('Data_Science': conda)"
  }
 },
 "nbformat": 4,
 "nbformat_minor": 2,
 "cells": [
  {
   "cell_type": "code",
   "execution_count": 1,
   "metadata": {},
   "outputs": [],
   "source": [
    "import pandas as pd\n",
    "import os\n",
    "import glob\n",
    "os.chdir(\"C:\\\\Users\\Renato\\OneDrive\\Projeto_TERA\\Predição Acidentes Motocicleta\\Projeto-TERA-Data-Science---Acidentes-Motocicletas\\Weather_API_data\")"
   ]
  },
  {
   "cell_type": "code",
   "execution_count": 2,
   "metadata": {},
   "outputs": [],
   "source": [
    "extension = 'csv'\n",
    "all_filenames = [i for i in glob.glob('*.{}'.format(extension))]"
   ]
  },
  {
   "cell_type": "code",
   "execution_count": 3,
   "metadata": {},
   "outputs": [
    {
     "output_type": "execute_result",
     "data": {
      "text/plain": [
       "['df1.csv',\n",
       " 'df10.csv',\n",
       " 'df11.csv',\n",
       " 'df12.csv',\n",
       " 'df13.csv',\n",
       " 'df14.csv',\n",
       " 'df15.csv',\n",
       " 'df16.csv',\n",
       " 'df17.csv',\n",
       " 'df18.csv',\n",
       " 'df19.csv',\n",
       " 'df2.csv',\n",
       " 'df20 .csv',\n",
       " 'df21 .csv',\n",
       " 'df22 .csv',\n",
       " 'df23 .csv',\n",
       " 'df24 .csv',\n",
       " 'df25.csv',\n",
       " 'df26.csv',\n",
       " 'df27.csv',\n",
       " 'df28.csv',\n",
       " 'df29.csv',\n",
       " 'df3.csv',\n",
       " 'df30.csv',\n",
       " 'df31.csv',\n",
       " 'df32.csv',\n",
       " 'df33.csv',\n",
       " 'df34.csv',\n",
       " 'df35.csv',\n",
       " 'df36.csv',\n",
       " 'df37.csv',\n",
       " 'df38.csv',\n",
       " 'df39.csv',\n",
       " 'df4.csv',\n",
       " 'df40.csv',\n",
       " 'df41.csv',\n",
       " 'df42.csv',\n",
       " 'df43.csv',\n",
       " 'df44.csv',\n",
       " 'df45.csv',\n",
       " 'df46.csv',\n",
       " 'df47.csv',\n",
       " 'df48.csv',\n",
       " 'df49.csv',\n",
       " 'df5.csv',\n",
       " 'df50.csv',\n",
       " 'df51.csv',\n",
       " 'df52.csv',\n",
       " 'df53.csv',\n",
       " 'df54.csv',\n",
       " 'df6.csv',\n",
       " 'df7.csv',\n",
       " 'df8.csv',\n",
       " 'df9.csv']"
      ]
     },
     "metadata": {},
     "execution_count": 3
    }
   ],
   "source": [
    "all_filenames"
   ]
  },
  {
   "cell_type": "code",
   "execution_count": 4,
   "metadata": {},
   "outputs": [],
   "source": [
    "#combine all files in the list\n",
    "combined_csv = pd.concat([pd.read_csv(f) for f in all_filenames ])\n",
    "#export to csv\n",
    "# combined_csv.to_csv( \"combined_csv.csv\", index=False, encoding='utf-8-sig')"
   ]
  },
  {
   "cell_type": "code",
   "execution_count": 5,
   "metadata": {},
   "outputs": [],
   "source": [
    "combined_csv.set_index('Unnamed: 0',inplace=True)"
   ]
  },
  {
   "cell_type": "code",
   "execution_count": 6,
   "metadata": {},
   "outputs": [],
   "source": [
    "combined_csv.sort_index(inplace=True)"
   ]
  },
  {
   "cell_type": "code",
   "execution_count": 7,
   "metadata": {},
   "outputs": [
    {
     "output_type": "execute_result",
     "data": {
      "text/plain": [
       "           Data do Acidente             Latitude           Longitude  \\\n",
       "Unnamed: 0                                                             \n",
       "0                2020-12-29    -23,7464627689999       -46,803836335   \n",
       "1                2020-12-26  -23,458778790416762  -46,48209129083817   \n",
       "2                2020-12-26  -23,418102298841816  -46,37791152937248   \n",
       "3                2020-12-26   -23,54191853681889  -47,01329391534144   \n",
       "4                2020-12-25  -23,487367560249513  -46,75690361349391   \n",
       "...                     ...                  ...                 ...   \n",
       "2422             2015-09-14           -23,523764          -46,598984   \n",
       "2423             2015-09-14           -23,757065          -46,839592   \n",
       "2424             2015-09-14       -23,6024617804      -46,9316395403   \n",
       "2425             2015-09-13           -23,533542           -46,54044   \n",
       "2426             2015-09-12       -23,3309901731      -46,6942060169   \n",
       "\n",
       "           Condições Climáticas  Hora  \n",
       "Unnamed: 0                             \n",
       "0              Partially cloudy     9  \n",
       "1              Partially cloudy     2  \n",
       "2              Partially cloudy     0  \n",
       "3              Partially cloudy    18  \n",
       "4              Partially cloudy     6  \n",
       "...                         ...   ...  \n",
       "2422         ('Overcast', None)     9  \n",
       "2423         ('Overcast', None)     4  \n",
       "2424         ('Overcast', None)    17  \n",
       "2425         ('Overcast', None)     5  \n",
       "2426          ('Overcast', 0.0)    15  \n",
       "\n",
       "[2427 rows x 5 columns]"
      ],
      "text/html": "<div>\n<style scoped>\n    .dataframe tbody tr th:only-of-type {\n        vertical-align: middle;\n    }\n\n    .dataframe tbody tr th {\n        vertical-align: top;\n    }\n\n    .dataframe thead th {\n        text-align: right;\n    }\n</style>\n<table border=\"1\" class=\"dataframe\">\n  <thead>\n    <tr style=\"text-align: right;\">\n      <th></th>\n      <th>Data do Acidente</th>\n      <th>Latitude</th>\n      <th>Longitude</th>\n      <th>Condições Climáticas</th>\n      <th>Hora</th>\n    </tr>\n    <tr>\n      <th>Unnamed: 0</th>\n      <th></th>\n      <th></th>\n      <th></th>\n      <th></th>\n      <th></th>\n    </tr>\n  </thead>\n  <tbody>\n    <tr>\n      <th>0</th>\n      <td>2020-12-29</td>\n      <td>-23,7464627689999</td>\n      <td>-46,803836335</td>\n      <td>Partially cloudy</td>\n      <td>9</td>\n    </tr>\n    <tr>\n      <th>1</th>\n      <td>2020-12-26</td>\n      <td>-23,458778790416762</td>\n      <td>-46,48209129083817</td>\n      <td>Partially cloudy</td>\n      <td>2</td>\n    </tr>\n    <tr>\n      <th>2</th>\n      <td>2020-12-26</td>\n      <td>-23,418102298841816</td>\n      <td>-46,37791152937248</td>\n      <td>Partially cloudy</td>\n      <td>0</td>\n    </tr>\n    <tr>\n      <th>3</th>\n      <td>2020-12-26</td>\n      <td>-23,54191853681889</td>\n      <td>-47,01329391534144</td>\n      <td>Partially cloudy</td>\n      <td>18</td>\n    </tr>\n    <tr>\n      <th>4</th>\n      <td>2020-12-25</td>\n      <td>-23,487367560249513</td>\n      <td>-46,75690361349391</td>\n      <td>Partially cloudy</td>\n      <td>6</td>\n    </tr>\n    <tr>\n      <th>...</th>\n      <td>...</td>\n      <td>...</td>\n      <td>...</td>\n      <td>...</td>\n      <td>...</td>\n    </tr>\n    <tr>\n      <th>2422</th>\n      <td>2015-09-14</td>\n      <td>-23,523764</td>\n      <td>-46,598984</td>\n      <td>('Overcast', None)</td>\n      <td>9</td>\n    </tr>\n    <tr>\n      <th>2423</th>\n      <td>2015-09-14</td>\n      <td>-23,757065</td>\n      <td>-46,839592</td>\n      <td>('Overcast', None)</td>\n      <td>4</td>\n    </tr>\n    <tr>\n      <th>2424</th>\n      <td>2015-09-14</td>\n      <td>-23,6024617804</td>\n      <td>-46,9316395403</td>\n      <td>('Overcast', None)</td>\n      <td>17</td>\n    </tr>\n    <tr>\n      <th>2425</th>\n      <td>2015-09-13</td>\n      <td>-23,533542</td>\n      <td>-46,54044</td>\n      <td>('Overcast', None)</td>\n      <td>5</td>\n    </tr>\n    <tr>\n      <th>2426</th>\n      <td>2015-09-12</td>\n      <td>-23,3309901731</td>\n      <td>-46,6942060169</td>\n      <td>('Overcast', 0.0)</td>\n      <td>15</td>\n    </tr>\n  </tbody>\n</table>\n<p>2427 rows × 5 columns</p>\n</div>"
     },
     "metadata": {},
     "execution_count": 7
    }
   ],
   "source": [
    "combined_csv"
   ]
  },
  {
   "cell_type": "code",
   "execution_count": 8,
   "metadata": {},
   "outputs": [
    {
     "output_type": "execute_result",
     "data": {
      "text/plain": [
       "('Partially cloudy', None)          735\n",
       "Partially cloudy                    469\n",
       "('Clear', None)                     442\n",
       "Clear                               366\n",
       "('Overcast', None)                  236\n",
       "Overcast                            151\n",
       "('Rain, Partially cloudy', 0.08)      5\n",
       "Rain, Partially cloudy                3\n",
       "('Overcast', 0.0)                     3\n",
       "('Rain, Partially cloudy', 0.28)      2\n",
       "Rain, Overcast                        2\n",
       "('Partially cloudy', 0.0)             2\n",
       "('Rain, Overcast', 0.87)              1\n",
       "('Rain, Partially cloudy', 0.01)      1\n",
       "('Rain, Partially cloudy', 0.63)      1\n",
       "('Rain, Partially cloudy', 0.24)      1\n",
       "('Rain, Partially cloudy', 0.12)      1\n",
       "('Rain, Partially cloudy', 0.04)      1\n",
       "Rain                                  1\n",
       "('Rain, Overcast', 0.55)              1\n",
       "('Rain, Partially cloudy', 0.39)      1\n",
       "('Rain, Partially cloudy', 0.02)      1\n",
       "Name: Condições Climáticas, dtype: int64"
      ]
     },
     "metadata": {},
     "execution_count": 8
    }
   ],
   "source": [
    "# categorias no dataset original\n",
    "# BOM                 43529\n",
    "# CHUVA                4081\n",
    "# NUBLADO               365\n",
    "# NEVOEIRO/NEBLINA      242\n",
    "# VENTO                   1\n",
    "# URBANA                  1\n",
    "combined_csv['Condições Climáticas'].value_counts()"
   ]
  },
  {
   "cell_type": "code",
   "execution_count": 22,
   "metadata": {},
   "outputs": [
    {
     "output_type": "stream",
     "name": "stdout",
     "text": [
      "<class 'pandas.core.frame.DataFrame'>\nInt64Index: 2427 entries, 0 to 2426\nData columns (total 5 columns):\n #   Column                Non-Null Count  Dtype \n---  ------                --------------  ----- \n 0   Data do Acidente      2427 non-null   object\n 1   Latitude              2427 non-null   object\n 2   Longitude             2427 non-null   object\n 3   Condições Climáticas  2426 non-null   object\n 4   Hora                  2427 non-null   int64 \ndtypes: int64(1), object(4)\nmemory usage: 178.3+ KB\n"
     ]
    }
   ],
   "source": [
    "combined_csv.info()"
   ]
  },
  {
   "cell_type": "code",
   "execution_count": 41,
   "metadata": {},
   "outputs": [
    {
     "output_type": "execute_result",
     "data": {
      "text/plain": [
       "('Partially cloudy', None)          735\n",
       "Partially cloudy                    469\n",
       "('Clear', None)                     442\n",
       "Clear                               366\n",
       "('Overcast', None)                  236\n",
       "Overcast                            151\n",
       "('Rain, Partially cloudy', 0.08)      5\n",
       "Rain, Partially cloudy                3\n",
       "('Overcast', 0.0)                     3\n",
       "('Rain, Partially cloudy', 0.28)      2\n",
       "Rain, Overcast                        2\n",
       "('Partially cloudy', 0.0)             2\n",
       "('Rain, Overcast', 0.87)              1\n",
       "('Rain, Partially cloudy', 0.01)      1\n",
       "('Rain, Partially cloudy', 0.63)      1\n",
       "('Rain, Partially cloudy', 0.24)      1\n",
       "('Rain, Partially cloudy', 0.12)      1\n",
       "('Rain, Partially cloudy', 0.04)      1\n",
       "Rain                                  1\n",
       "('Rain, Overcast', 0.55)              1\n",
       "('Rain, Partially cloudy', 0.39)      1\n",
       "('Rain, Partially cloudy', 0.02)      1\n",
       "Name: Condições Climáticas, dtype: int64"
      ]
     },
     "metadata": {},
     "execution_count": 41
    }
   ],
   "source": [
    "combined_csv['Condições Climáticas'].value_counts()"
   ]
  },
  {
   "cell_type": "code",
   "execution_count": 62,
   "metadata": {},
   "outputs": [
    {
     "output_type": "execute_result",
     "data": {
      "text/plain": [
       "pandas.core.series.Series"
      ]
     },
     "metadata": {},
     "execution_count": 62
    }
   ],
   "source": [
    "# criando def function pra corrigir os nomes\n",
    "# combined_csv.iloc[tuple(combined_csv['Condições Climáticas'])==('Clear', None\n",
    "type(combined_csv['Condições Climáticas'])#.iloc[2425]"
   ]
  },
  {
   "cell_type": "code",
   "execution_count": 52,
   "metadata": {},
   "outputs": [
    {
     "output_type": "stream",
     "name": "stdout",
     "text": [
      "Filtered Characters  :  'Overcast', None\n"
     ]
    }
   ],
   "source": [
    "strObj = 'Hi this is a sample string, a very sample string'\n",
    "filteredChars = ''.join((filter(lambda x: x not in ['(', ')'], combined_csv['Condições Climáticas'].iloc[2425])))\n",
    "print('Filtered Characters  : ', filteredChars)"
   ]
  },
  {
   "cell_type": "code",
   "execution_count": null,
   "metadata": {},
   "outputs": [],
   "source": []
  }
 ]
}