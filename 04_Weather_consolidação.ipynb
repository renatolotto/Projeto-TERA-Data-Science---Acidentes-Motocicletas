{
 "metadata": {
  "language_info": {
   "codemirror_mode": {
    "name": "ipython",
    "version": 3
   },
   "file_extension": ".py",
   "mimetype": "text/x-python",
   "name": "python",
   "nbconvert_exporter": "python",
   "pygments_lexer": "ipython3",
   "version": "3.8.8"
  },
  "orig_nbformat": 2,
  "kernelspec": {
   "name": "python388jvsc74a57bd054aafdb36ba7a57007c1052e291baf553a31e85cae918a266292c7469c0efefb",
   "display_name": "Python 3.8.8 64-bit ('Data_Science': conda)"
  }
 },
 "nbformat": 4,
 "nbformat_minor": 2,
 "cells": [
  {
   "cell_type": "code",
   "execution_count": 68,
   "metadata": {},
   "outputs": [],
   "source": [
    "import pandas as pd\n",
    "import os\n",
    "import glob\n",
    "os.chdir(\"C:\\\\Users\\Renato\\OneDrive\\Projeto_TERA\\Predição Acidentes Motocicleta\\Projeto-TERA-Data-Science---Acidentes-Motocicletas\\Weather_API_data\")"
   ]
  },
  {
   "cell_type": "code",
   "execution_count": 69,
   "metadata": {},
   "outputs": [],
   "source": [
    "extension = 'csv'\n",
    "all_filenames = [i for i in glob.glob('*.{}'.format(extension))]"
   ]
  },
  {
   "cell_type": "code",
   "execution_count": 70,
   "metadata": {},
   "outputs": [
    {
     "output_type": "execute_result",
     "data": {
      "text/plain": [
       "['df1.csv',\n",
       " 'df10.csv',\n",
       " 'df2.csv',\n",
       " 'df3.csv',\n",
       " 'df4.csv',\n",
       " 'df5.csv',\n",
       " 'df6.csv',\n",
       " 'df7.csv',\n",
       " 'df8.csv',\n",
       " 'df9.csv']"
      ]
     },
     "metadata": {},
     "execution_count": 70
    }
   ],
   "source": [
    "all_filenames"
   ]
  },
  {
   "cell_type": "code",
   "execution_count": 71,
   "metadata": {},
   "outputs": [],
   "source": [
    "#combine all files in the list\n",
    "combined_csv = pd.concat([pd.read_csv(f) for f in all_filenames ])\n",
    "#export to csv\n",
    "# combined_csv.to_csv( \"combined_csv.csv\", index=False, encoding='utf-8-sig')"
   ]
  },
  {
   "cell_type": "code",
   "execution_count": 72,
   "metadata": {},
   "outputs": [],
   "source": [
    "combined_csv.set_index('Unnamed: 0',inplace=True)"
   ]
  },
  {
   "cell_type": "code",
   "execution_count": 75,
   "metadata": {},
   "outputs": [],
   "source": [
    "combined_csv.sort_index(inplace=True)"
   ]
  },
  {
   "cell_type": "code",
   "execution_count": 76,
   "metadata": {},
   "outputs": [
    {
     "output_type": "execute_result",
     "data": {
      "text/plain": [
       "           Data do Acidente             Latitude            Longitude  \\\n",
       "Unnamed: 0                                                              \n",
       "0                2020-12-29    -23,7464627689999        -46,803836335   \n",
       "1                2020-12-26  -23,458778790416762   -46,48209129083817   \n",
       "2                2020-12-26  -23,418102298841816   -46,37791152937248   \n",
       "3                2020-12-26   -23,54191853681889   -47,01329391534144   \n",
       "4                2020-12-25  -23,487367560249513   -46,75690361349391   \n",
       "5                2020-12-25  -23,629213402277966   -46,44444764662342   \n",
       "6                2020-12-24    -23,6752902367181    -46,7588632756068   \n",
       "7                2020-12-22   -23,61104367264415  -46,774764757852616   \n",
       "8                2020-12-21    -23,5891492568507    -46,5133690658635   \n",
       "9                2020-12-20  -23,408292043483332   -46,40864849581614   \n",
       "10               2020-12-20   -23,67630110361861   -47,03888568650607   \n",
       "11               2020-12-18  -23,520184243401008  -46,623988286461916   \n",
       "12               2020-12-16    -23,5706038730833    -46,6451578113509   \n",
       "13               2020-12-15  -23,723568855592834          -46,6817901   \n",
       "14               2020-12-14   -23,48540795903779  -46,486434486509275   \n",
       "15               2020-12-14   -23,66698207512908   -46,42861238468512   \n",
       "16               2020-12-12    -23,6421005528744    -46,6742355069332   \n",
       "17               2020-12-11  -23,418102298841816   -46,37791152937248   \n",
       "18               2020-12-11  -23,650802470635373    -46,8168426023568   \n",
       "19               2020-12-10  -23,647420237056657  -46,582871638638245   \n",
       "20               2020-12-07    -23,7226788756658    -46,6982042139851   \n",
       "21               2020-12-07  -23,407240093456394   -47,00726578650608   \n",
       "22               2020-12-05  -23,657871114815116   -46,77215472333457   \n",
       "23               2020-11-30  -23,649956116144363  -46,592008658211235   \n",
       "24               2020-11-28   -23,04586733500997   -45,58821860273697   \n",
       "25               2020-11-27    -23,5586958501744    -46,7600997708379   \n",
       "26               2020-11-25  -23,614062700005228  -46,724471817788675   \n",
       "27               2020-11-20   -23,62224416632502   -46,45000509385428   \n",
       "28               2020-11-20   -23,68544313693001   -46,59358100000547   \n",
       "29               2020-11-18   -23,55931055369333  -46,134758061855756   \n",
       "30               2020-11-17  -23,406444069252995   -46,73491924111718   \n",
       "31               2020-11-16    -23,5511469198674    -46,5277493699879   \n",
       "32               2020-11-16  -23,495490051474537  -46,357499434036484   \n",
       "33               2020-11-13           -23,455258           -46,693756   \n",
       "34               2020-11-11           -23,499542           -46,188319   \n",
       "35               2020-11-11           -23,579723           -46,794483   \n",
       "36               2020-11-09  -23,619477979789792  -46,699985277372164   \n",
       "37               2020-11-08     -23,550106844052    -46,4213781838229   \n",
       "38               2020-11-08    -23,7036567868141     -46,700989389981   \n",
       "39               2020-11-08  -23,551139016382372  -45,963768606516076   \n",
       "40               2020-11-07  -23,460528098456592   -46,78155444520064   \n",
       "41               2020-11-07    -23,5316790279999        -46,522731426   \n",
       "42               2020-11-07           -23,580413           -46,410842   \n",
       "43               2020-11-07           -23,594144           -46,406052   \n",
       "44               2020-11-07    -23,7055050701374    -46,5885778644806   \n",
       "45               2020-11-06  -23,691531294111083   -46,81810740401574   \n",
       "46               2020-11-05  -23,408938439795886  -46,675254686509284   \n",
       "47               2020-11-05  -23,612613072459055   -46,77887607028904   \n",
       "48               2020-11-03           -23,582905           -46,702741   \n",
       "49               2020-11-03           -23,656679           -46,506779   \n",
       "\n",
       "           Condições Climáticas  Hora  \n",
       "Unnamed: 0                             \n",
       "0              Partially cloudy     9  \n",
       "1              Partially cloudy     2  \n",
       "2              Partially cloudy     0  \n",
       "3              Partially cloudy    18  \n",
       "4              Partially cloudy     6  \n",
       "5              Partially cloudy     2  \n",
       "6              Partially cloudy    17  \n",
       "7                      Overcast     5  \n",
       "8                         Clear     1  \n",
       "9                         Clear    16  \n",
       "10             Partially cloudy    14  \n",
       "11             Partially cloudy    20  \n",
       "12             Partially cloudy    23  \n",
       "13             Partially cloudy    23  \n",
       "14                        Clear     7  \n",
       "15             Partially cloudy    14  \n",
       "16                     Overcast     0  \n",
       "17                        Clear     9  \n",
       "18             Partially cloudy     6  \n",
       "19             Partially cloudy     4  \n",
       "20             Partially cloudy    23  \n",
       "21                     Overcast     7  \n",
       "22                     Overcast    22  \n",
       "23                        Clear     2  \n",
       "24                        Clear     8  \n",
       "25             Partially cloudy    23  \n",
       "26                        Clear    10  \n",
       "27             Partially cloudy    22  \n",
       "28             Partially cloudy    15  \n",
       "29             Partially cloudy     5  \n",
       "30                     Overcast    18  \n",
       "31             Partially cloudy     7  \n",
       "32             Partially cloudy     2  \n",
       "33             Partially cloudy     0  \n",
       "34             Partially cloudy    15  \n",
       "35             Partially cloudy    13  \n",
       "36                        Clear    13  \n",
       "37             Partially cloudy     8  \n",
       "38                        Clear    13  \n",
       "39                        Clear    13  \n",
       "40             Partially cloudy     4  \n",
       "41             Partially cloudy    10  \n",
       "42             Partially cloudy     4  \n",
       "43                        Clear    20  \n",
       "44             Partially cloudy    22  \n",
       "45             Partially cloudy    21  \n",
       "46             Partially cloudy    10  \n",
       "47             Partially cloudy    17  \n",
       "48             Partially cloudy    15  \n",
       "49                        Clear     6  "
      ],
      "text/html": "<div>\n<style scoped>\n    .dataframe tbody tr th:only-of-type {\n        vertical-align: middle;\n    }\n\n    .dataframe tbody tr th {\n        vertical-align: top;\n    }\n\n    .dataframe thead th {\n        text-align: right;\n    }\n</style>\n<table border=\"1\" class=\"dataframe\">\n  <thead>\n    <tr style=\"text-align: right;\">\n      <th></th>\n      <th>Data do Acidente</th>\n      <th>Latitude</th>\n      <th>Longitude</th>\n      <th>Condições Climáticas</th>\n      <th>Hora</th>\n    </tr>\n    <tr>\n      <th>Unnamed: 0</th>\n      <th></th>\n      <th></th>\n      <th></th>\n      <th></th>\n      <th></th>\n    </tr>\n  </thead>\n  <tbody>\n    <tr>\n      <th>0</th>\n      <td>2020-12-29</td>\n      <td>-23,7464627689999</td>\n      <td>-46,803836335</td>\n      <td>Partially cloudy</td>\n      <td>9</td>\n    </tr>\n    <tr>\n      <th>1</th>\n      <td>2020-12-26</td>\n      <td>-23,458778790416762</td>\n      <td>-46,48209129083817</td>\n      <td>Partially cloudy</td>\n      <td>2</td>\n    </tr>\n    <tr>\n      <th>2</th>\n      <td>2020-12-26</td>\n      <td>-23,418102298841816</td>\n      <td>-46,37791152937248</td>\n      <td>Partially cloudy</td>\n      <td>0</td>\n    </tr>\n    <tr>\n      <th>3</th>\n      <td>2020-12-26</td>\n      <td>-23,54191853681889</td>\n      <td>-47,01329391534144</td>\n      <td>Partially cloudy</td>\n      <td>18</td>\n    </tr>\n    <tr>\n      <th>4</th>\n      <td>2020-12-25</td>\n      <td>-23,487367560249513</td>\n      <td>-46,75690361349391</td>\n      <td>Partially cloudy</td>\n      <td>6</td>\n    </tr>\n    <tr>\n      <th>5</th>\n      <td>2020-12-25</td>\n      <td>-23,629213402277966</td>\n      <td>-46,44444764662342</td>\n      <td>Partially cloudy</td>\n      <td>2</td>\n    </tr>\n    <tr>\n      <th>6</th>\n      <td>2020-12-24</td>\n      <td>-23,6752902367181</td>\n      <td>-46,7588632756068</td>\n      <td>Partially cloudy</td>\n      <td>17</td>\n    </tr>\n    <tr>\n      <th>7</th>\n      <td>2020-12-22</td>\n      <td>-23,61104367264415</td>\n      <td>-46,774764757852616</td>\n      <td>Overcast</td>\n      <td>5</td>\n    </tr>\n    <tr>\n      <th>8</th>\n      <td>2020-12-21</td>\n      <td>-23,5891492568507</td>\n      <td>-46,5133690658635</td>\n      <td>Clear</td>\n      <td>1</td>\n    </tr>\n    <tr>\n      <th>9</th>\n      <td>2020-12-20</td>\n      <td>-23,408292043483332</td>\n      <td>-46,40864849581614</td>\n      <td>Clear</td>\n      <td>16</td>\n    </tr>\n    <tr>\n      <th>10</th>\n      <td>2020-12-20</td>\n      <td>-23,67630110361861</td>\n      <td>-47,03888568650607</td>\n      <td>Partially cloudy</td>\n      <td>14</td>\n    </tr>\n    <tr>\n      <th>11</th>\n      <td>2020-12-18</td>\n      <td>-23,520184243401008</td>\n      <td>-46,623988286461916</td>\n      <td>Partially cloudy</td>\n      <td>20</td>\n    </tr>\n    <tr>\n      <th>12</th>\n      <td>2020-12-16</td>\n      <td>-23,5706038730833</td>\n      <td>-46,6451578113509</td>\n      <td>Partially cloudy</td>\n      <td>23</td>\n    </tr>\n    <tr>\n      <th>13</th>\n      <td>2020-12-15</td>\n      <td>-23,723568855592834</td>\n      <td>-46,6817901</td>\n      <td>Partially cloudy</td>\n      <td>23</td>\n    </tr>\n    <tr>\n      <th>14</th>\n      <td>2020-12-14</td>\n      <td>-23,48540795903779</td>\n      <td>-46,486434486509275</td>\n      <td>Clear</td>\n      <td>7</td>\n    </tr>\n    <tr>\n      <th>15</th>\n      <td>2020-12-14</td>\n      <td>-23,66698207512908</td>\n      <td>-46,42861238468512</td>\n      <td>Partially cloudy</td>\n      <td>14</td>\n    </tr>\n    <tr>\n      <th>16</th>\n      <td>2020-12-12</td>\n      <td>-23,6421005528744</td>\n      <td>-46,6742355069332</td>\n      <td>Overcast</td>\n      <td>0</td>\n    </tr>\n    <tr>\n      <th>17</th>\n      <td>2020-12-11</td>\n      <td>-23,418102298841816</td>\n      <td>-46,37791152937248</td>\n      <td>Clear</td>\n      <td>9</td>\n    </tr>\n    <tr>\n      <th>18</th>\n      <td>2020-12-11</td>\n      <td>-23,650802470635373</td>\n      <td>-46,8168426023568</td>\n      <td>Partially cloudy</td>\n      <td>6</td>\n    </tr>\n    <tr>\n      <th>19</th>\n      <td>2020-12-10</td>\n      <td>-23,647420237056657</td>\n      <td>-46,582871638638245</td>\n      <td>Partially cloudy</td>\n      <td>4</td>\n    </tr>\n    <tr>\n      <th>20</th>\n      <td>2020-12-07</td>\n      <td>-23,7226788756658</td>\n      <td>-46,6982042139851</td>\n      <td>Partially cloudy</td>\n      <td>23</td>\n    </tr>\n    <tr>\n      <th>21</th>\n      <td>2020-12-07</td>\n      <td>-23,407240093456394</td>\n      <td>-47,00726578650608</td>\n      <td>Overcast</td>\n      <td>7</td>\n    </tr>\n    <tr>\n      <th>22</th>\n      <td>2020-12-05</td>\n      <td>-23,657871114815116</td>\n      <td>-46,77215472333457</td>\n      <td>Overcast</td>\n      <td>22</td>\n    </tr>\n    <tr>\n      <th>23</th>\n      <td>2020-11-30</td>\n      <td>-23,649956116144363</td>\n      <td>-46,592008658211235</td>\n      <td>Clear</td>\n      <td>2</td>\n    </tr>\n    <tr>\n      <th>24</th>\n      <td>2020-11-28</td>\n      <td>-23,04586733500997</td>\n      <td>-45,58821860273697</td>\n      <td>Clear</td>\n      <td>8</td>\n    </tr>\n    <tr>\n      <th>25</th>\n      <td>2020-11-27</td>\n      <td>-23,5586958501744</td>\n      <td>-46,7600997708379</td>\n      <td>Partially cloudy</td>\n      <td>23</td>\n    </tr>\n    <tr>\n      <th>26</th>\n      <td>2020-11-25</td>\n      <td>-23,614062700005228</td>\n      <td>-46,724471817788675</td>\n      <td>Clear</td>\n      <td>10</td>\n    </tr>\n    <tr>\n      <th>27</th>\n      <td>2020-11-20</td>\n      <td>-23,62224416632502</td>\n      <td>-46,45000509385428</td>\n      <td>Partially cloudy</td>\n      <td>22</td>\n    </tr>\n    <tr>\n      <th>28</th>\n      <td>2020-11-20</td>\n      <td>-23,68544313693001</td>\n      <td>-46,59358100000547</td>\n      <td>Partially cloudy</td>\n      <td>15</td>\n    </tr>\n    <tr>\n      <th>29</th>\n      <td>2020-11-18</td>\n      <td>-23,55931055369333</td>\n      <td>-46,134758061855756</td>\n      <td>Partially cloudy</td>\n      <td>5</td>\n    </tr>\n    <tr>\n      <th>30</th>\n      <td>2020-11-17</td>\n      <td>-23,406444069252995</td>\n      <td>-46,73491924111718</td>\n      <td>Overcast</td>\n      <td>18</td>\n    </tr>\n    <tr>\n      <th>31</th>\n      <td>2020-11-16</td>\n      <td>-23,5511469198674</td>\n      <td>-46,5277493699879</td>\n      <td>Partially cloudy</td>\n      <td>7</td>\n    </tr>\n    <tr>\n      <th>32</th>\n      <td>2020-11-16</td>\n      <td>-23,495490051474537</td>\n      <td>-46,357499434036484</td>\n      <td>Partially cloudy</td>\n      <td>2</td>\n    </tr>\n    <tr>\n      <th>33</th>\n      <td>2020-11-13</td>\n      <td>-23,455258</td>\n      <td>-46,693756</td>\n      <td>Partially cloudy</td>\n      <td>0</td>\n    </tr>\n    <tr>\n      <th>34</th>\n      <td>2020-11-11</td>\n      <td>-23,499542</td>\n      <td>-46,188319</td>\n      <td>Partially cloudy</td>\n      <td>15</td>\n    </tr>\n    <tr>\n      <th>35</th>\n      <td>2020-11-11</td>\n      <td>-23,579723</td>\n      <td>-46,794483</td>\n      <td>Partially cloudy</td>\n      <td>13</td>\n    </tr>\n    <tr>\n      <th>36</th>\n      <td>2020-11-09</td>\n      <td>-23,619477979789792</td>\n      <td>-46,699985277372164</td>\n      <td>Clear</td>\n      <td>13</td>\n    </tr>\n    <tr>\n      <th>37</th>\n      <td>2020-11-08</td>\n      <td>-23,550106844052</td>\n      <td>-46,4213781838229</td>\n      <td>Partially cloudy</td>\n      <td>8</td>\n    </tr>\n    <tr>\n      <th>38</th>\n      <td>2020-11-08</td>\n      <td>-23,7036567868141</td>\n      <td>-46,700989389981</td>\n      <td>Clear</td>\n      <td>13</td>\n    </tr>\n    <tr>\n      <th>39</th>\n      <td>2020-11-08</td>\n      <td>-23,551139016382372</td>\n      <td>-45,963768606516076</td>\n      <td>Clear</td>\n      <td>13</td>\n    </tr>\n    <tr>\n      <th>40</th>\n      <td>2020-11-07</td>\n      <td>-23,460528098456592</td>\n      <td>-46,78155444520064</td>\n      <td>Partially cloudy</td>\n      <td>4</td>\n    </tr>\n    <tr>\n      <th>41</th>\n      <td>2020-11-07</td>\n      <td>-23,5316790279999</td>\n      <td>-46,522731426</td>\n      <td>Partially cloudy</td>\n      <td>10</td>\n    </tr>\n    <tr>\n      <th>42</th>\n      <td>2020-11-07</td>\n      <td>-23,580413</td>\n      <td>-46,410842</td>\n      <td>Partially cloudy</td>\n      <td>4</td>\n    </tr>\n    <tr>\n      <th>43</th>\n      <td>2020-11-07</td>\n      <td>-23,594144</td>\n      <td>-46,406052</td>\n      <td>Clear</td>\n      <td>20</td>\n    </tr>\n    <tr>\n      <th>44</th>\n      <td>2020-11-07</td>\n      <td>-23,7055050701374</td>\n      <td>-46,5885778644806</td>\n      <td>Partially cloudy</td>\n      <td>22</td>\n    </tr>\n    <tr>\n      <th>45</th>\n      <td>2020-11-06</td>\n      <td>-23,691531294111083</td>\n      <td>-46,81810740401574</td>\n      <td>Partially cloudy</td>\n      <td>21</td>\n    </tr>\n    <tr>\n      <th>46</th>\n      <td>2020-11-05</td>\n      <td>-23,408938439795886</td>\n      <td>-46,675254686509284</td>\n      <td>Partially cloudy</td>\n      <td>10</td>\n    </tr>\n    <tr>\n      <th>47</th>\n      <td>2020-11-05</td>\n      <td>-23,612613072459055</td>\n      <td>-46,77887607028904</td>\n      <td>Partially cloudy</td>\n      <td>17</td>\n    </tr>\n    <tr>\n      <th>48</th>\n      <td>2020-11-03</td>\n      <td>-23,582905</td>\n      <td>-46,702741</td>\n      <td>Partially cloudy</td>\n      <td>15</td>\n    </tr>\n    <tr>\n      <th>49</th>\n      <td>2020-11-03</td>\n      <td>-23,656679</td>\n      <td>-46,506779</td>\n      <td>Clear</td>\n      <td>6</td>\n    </tr>\n  </tbody>\n</table>\n</div>"
     },
     "metadata": {},
     "execution_count": 76
    }
   ],
   "source": [
    "combined_csv.head(50)"
   ]
  },
  {
   "cell_type": "code",
   "execution_count": null,
   "metadata": {},
   "outputs": [],
   "source": []
  }
 ]
}