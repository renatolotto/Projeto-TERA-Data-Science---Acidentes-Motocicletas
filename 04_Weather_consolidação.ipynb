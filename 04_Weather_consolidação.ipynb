{
 "metadata": {
  "language_info": {
   "codemirror_mode": {
    "name": "ipython",
    "version": 3
   },
   "file_extension": ".py",
   "mimetype": "text/x-python",
   "name": "python",
   "nbconvert_exporter": "python",
   "pygments_lexer": "ipython3",
   "version": "3.8.8"
  },
  "orig_nbformat": 2,
  "kernelspec": {
   "name": "python388jvsc74a57bd054aafdb36ba7a57007c1052e291baf553a31e85cae918a266292c7469c0efefb",
   "display_name": "Python 3.8.8 64-bit ('Data_Science': conda)"
  }
 },
 "nbformat": 4,
 "nbformat_minor": 2,
 "cells": [
  {
   "cell_type": "code",
   "execution_count": 1,
   "metadata": {},
   "outputs": [],
   "source": [
    "import pandas as pd\n",
    "import os\n",
    "import glob\n",
    "os.chdir(\"C:\\\\Users\\Renato\\OneDrive\\Projeto_TERA\\Predição Acidentes Motocicleta\\Projeto-TERA-Data-Science---Acidentes-Motocicletas\\Weather_API_data\")"
   ]
  },
  {
   "cell_type": "code",
   "execution_count": 2,
   "metadata": {},
   "outputs": [],
   "source": [
    "extension = 'csv'\n",
    "all_filenames = [i for i in glob.glob('*.{}'.format(extension))]"
   ]
  },
  {
   "cell_type": "code",
   "execution_count": 3,
   "metadata": {},
   "outputs": [
    {
     "output_type": "execute_result",
     "data": {
      "text/plain": [
       "['df1.csv',\n",
       " 'df10.csv',\n",
       " 'df11.csv',\n",
       " 'df12.csv',\n",
       " 'df13.csv',\n",
       " 'df14.csv',\n",
       " 'df15.csv',\n",
       " 'df16.csv',\n",
       " 'df17.csv',\n",
       " 'df18.csv',\n",
       " 'df19.csv',\n",
       " 'df2.csv',\n",
       " 'df20 .csv',\n",
       " 'df21 .csv',\n",
       " 'df22 .csv',\n",
       " 'df23 .csv',\n",
       " 'df24 .csv',\n",
       " 'df25.csv',\n",
       " 'df26.csv',\n",
       " 'df27.csv',\n",
       " 'df28.csv',\n",
       " 'df29.csv',\n",
       " 'df3.csv',\n",
       " 'df30.csv',\n",
       " 'df31.csv',\n",
       " 'df32.csv',\n",
       " 'df33.csv',\n",
       " 'df34.csv',\n",
       " 'df35.csv',\n",
       " 'df36.csv',\n",
       " 'df4.csv',\n",
       " 'df5.csv',\n",
       " 'df6.csv',\n",
       " 'df7.csv',\n",
       " 'df8.csv',\n",
       " 'df9.csv']"
      ]
     },
     "metadata": {},
     "execution_count": 3
    }
   ],
   "source": [
    "all_filenames"
   ]
  },
  {
   "cell_type": "code",
   "execution_count": 4,
   "metadata": {},
   "outputs": [],
   "source": [
    "#combine all files in the list\n",
    "combined_csv = pd.concat([pd.read_csv(f) for f in all_filenames ])\n",
    "#export to csv\n",
    "# combined_csv.to_csv( \"combined_csv.csv\", index=False, encoding='utf-8-sig')"
   ]
  },
  {
   "cell_type": "code",
   "execution_count": 5,
   "metadata": {},
   "outputs": [],
   "source": [
    "combined_csv.set_index('Unnamed: 0',inplace=True)"
   ]
  },
  {
   "cell_type": "code",
   "execution_count": 6,
   "metadata": {},
   "outputs": [],
   "source": [
    "combined_csv.sort_index(inplace=True)"
   ]
  },
  {
   "cell_type": "code",
   "execution_count": 7,
   "metadata": {},
   "outputs": [
    {
     "output_type": "execute_result",
     "data": {
      "text/plain": [
       "           Data do Acidente             Latitude           Longitude  \\\n",
       "Unnamed: 0                                                             \n",
       "0                2020-12-29    -23,7464627689999       -46,803836335   \n",
       "1                2020-12-26  -23,458778790416762  -46,48209129083817   \n",
       "2                2020-12-26  -23,418102298841816  -46,37791152937248   \n",
       "3                2020-12-26   -23,54191853681889  -47,01329391534144   \n",
       "4                2020-12-25  -23,487367560249513  -46,75690361349391   \n",
       "...                     ...                  ...                 ...   \n",
       "1684             2016-12-06           -23,538019          -46,486573   \n",
       "1685             2016-12-06           -23,542904           -46,48162   \n",
       "1686             2016-12-05       -23,7185444914      -46,8822947262   \n",
       "1687             2016-12-04           -23,630937          -46,621861   \n",
       "1688             2016-12-04           -23,666649          -46,576017   \n",
       "\n",
       "                  Condições Climáticas  Hora  \n",
       "Unnamed: 0                                    \n",
       "0                     Partially cloudy     9  \n",
       "1                     Partially cloudy     2  \n",
       "2                     Partially cloudy     0  \n",
       "3                     Partially cloudy    18  \n",
       "4                     Partially cloudy     6  \n",
       "...                                ...   ...  \n",
       "1684                   ('Clear', None)    10  \n",
       "1685                   ('Clear', None)     6  \n",
       "1686                ('Overcast', None)     2  \n",
       "1687                ('Overcast', None)     4  \n",
       "1688        ('Partially cloudy', None)    12  \n",
       "\n",
       "[1689 rows x 5 columns]"
      ],
      "text/html": "<div>\n<style scoped>\n    .dataframe tbody tr th:only-of-type {\n        vertical-align: middle;\n    }\n\n    .dataframe tbody tr th {\n        vertical-align: top;\n    }\n\n    .dataframe thead th {\n        text-align: right;\n    }\n</style>\n<table border=\"1\" class=\"dataframe\">\n  <thead>\n    <tr style=\"text-align: right;\">\n      <th></th>\n      <th>Data do Acidente</th>\n      <th>Latitude</th>\n      <th>Longitude</th>\n      <th>Condições Climáticas</th>\n      <th>Hora</th>\n    </tr>\n    <tr>\n      <th>Unnamed: 0</th>\n      <th></th>\n      <th></th>\n      <th></th>\n      <th></th>\n      <th></th>\n    </tr>\n  </thead>\n  <tbody>\n    <tr>\n      <th>0</th>\n      <td>2020-12-29</td>\n      <td>-23,7464627689999</td>\n      <td>-46,803836335</td>\n      <td>Partially cloudy</td>\n      <td>9</td>\n    </tr>\n    <tr>\n      <th>1</th>\n      <td>2020-12-26</td>\n      <td>-23,458778790416762</td>\n      <td>-46,48209129083817</td>\n      <td>Partially cloudy</td>\n      <td>2</td>\n    </tr>\n    <tr>\n      <th>2</th>\n      <td>2020-12-26</td>\n      <td>-23,418102298841816</td>\n      <td>-46,37791152937248</td>\n      <td>Partially cloudy</td>\n      <td>0</td>\n    </tr>\n    <tr>\n      <th>3</th>\n      <td>2020-12-26</td>\n      <td>-23,54191853681889</td>\n      <td>-47,01329391534144</td>\n      <td>Partially cloudy</td>\n      <td>18</td>\n    </tr>\n    <tr>\n      <th>4</th>\n      <td>2020-12-25</td>\n      <td>-23,487367560249513</td>\n      <td>-46,75690361349391</td>\n      <td>Partially cloudy</td>\n      <td>6</td>\n    </tr>\n    <tr>\n      <th>...</th>\n      <td>...</td>\n      <td>...</td>\n      <td>...</td>\n      <td>...</td>\n      <td>...</td>\n    </tr>\n    <tr>\n      <th>1684</th>\n      <td>2016-12-06</td>\n      <td>-23,538019</td>\n      <td>-46,486573</td>\n      <td>('Clear', None)</td>\n      <td>10</td>\n    </tr>\n    <tr>\n      <th>1685</th>\n      <td>2016-12-06</td>\n      <td>-23,542904</td>\n      <td>-46,48162</td>\n      <td>('Clear', None)</td>\n      <td>6</td>\n    </tr>\n    <tr>\n      <th>1686</th>\n      <td>2016-12-05</td>\n      <td>-23,7185444914</td>\n      <td>-46,8822947262</td>\n      <td>('Overcast', None)</td>\n      <td>2</td>\n    </tr>\n    <tr>\n      <th>1687</th>\n      <td>2016-12-04</td>\n      <td>-23,630937</td>\n      <td>-46,621861</td>\n      <td>('Overcast', None)</td>\n      <td>4</td>\n    </tr>\n    <tr>\n      <th>1688</th>\n      <td>2016-12-04</td>\n      <td>-23,666649</td>\n      <td>-46,576017</td>\n      <td>('Partially cloudy', None)</td>\n      <td>12</td>\n    </tr>\n  </tbody>\n</table>\n<p>1689 rows × 5 columns</p>\n</div>"
     },
     "metadata": {},
     "execution_count": 7
    }
   ],
   "source": [
    "combined_csv"
   ]
  },
  {
   "cell_type": "code",
   "execution_count": null,
   "metadata": {},
   "outputs": [],
   "source": []
  }
 ]
}