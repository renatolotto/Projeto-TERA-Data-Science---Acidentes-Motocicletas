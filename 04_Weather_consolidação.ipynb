{
 "metadata": {
  "language_info": {
   "codemirror_mode": {
    "name": "ipython",
    "version": 3
   },
   "file_extension": ".py",
   "mimetype": "text/x-python",
   "name": "python",
   "nbconvert_exporter": "python",
   "pygments_lexer": "ipython3",
   "version": "3.8.8"
  },
  "orig_nbformat": 2,
  "kernelspec": {
   "name": "python388jvsc74a57bd054aafdb36ba7a57007c1052e291baf553a31e85cae918a266292c7469c0efefb",
   "display_name": "Python 3.8.8 64-bit ('Data_Science': conda)"
  }
 },
 "nbformat": 4,
 "nbformat_minor": 2,
 "cells": [
  {
   "cell_type": "code",
   "execution_count": 9,
   "metadata": {},
   "outputs": [],
   "source": [
    "import pandas as pd\n",
    "import os\n",
    "import glob\n",
    "os.chdir(\"C:\\\\Users\\Renato\\OneDrive\\Projeto_TERA\\Predição Acidentes Motocicleta\\Projeto-TERA-Data-Science---Acidentes-Motocicletas\\Weather_API_data\")"
   ]
  },
  {
   "cell_type": "code",
   "execution_count": 10,
   "metadata": {},
   "outputs": [],
   "source": [
    "extension = 'csv'\n",
    "all_filenames = [i for i in glob.glob('*.{}'.format(extension))]"
   ]
  },
  {
   "cell_type": "code",
   "execution_count": 11,
   "metadata": {},
   "outputs": [
    {
     "output_type": "execute_result",
     "data": {
      "text/plain": [
       "['df1.csv',\n",
       " 'df10.csv',\n",
       " 'df11.csv',\n",
       " 'df12.csv',\n",
       " 'df13.csv',\n",
       " 'df14.csv',\n",
       " 'df15.csv',\n",
       " 'df16.csv',\n",
       " 'df17.csv',\n",
       " 'df18.csv',\n",
       " 'df19.csv',\n",
       " 'df2.csv',\n",
       " 'df3.csv',\n",
       " 'df4.csv',\n",
       " 'df5.csv',\n",
       " 'df6.csv',\n",
       " 'df7.csv',\n",
       " 'df8.csv',\n",
       " 'df9.csv']"
      ]
     },
     "metadata": {},
     "execution_count": 11
    }
   ],
   "source": [
    "all_filenames"
   ]
  },
  {
   "cell_type": "code",
   "execution_count": 12,
   "metadata": {},
   "outputs": [],
   "source": [
    "#combine all files in the list\n",
    "combined_csv = pd.concat([pd.read_csv(f) for f in all_filenames ])\n",
    "#export to csv\n",
    "# combined_csv.to_csv( \"combined_csv.csv\", index=False, encoding='utf-8-sig')"
   ]
  },
  {
   "cell_type": "code",
   "execution_count": 13,
   "metadata": {},
   "outputs": [],
   "source": [
    "combined_csv.set_index('Unnamed: 0',inplace=True)"
   ]
  },
  {
   "cell_type": "code",
   "execution_count": 14,
   "metadata": {},
   "outputs": [],
   "source": [
    "combined_csv.sort_index(inplace=True)"
   ]
  },
  {
   "cell_type": "code",
   "execution_count": 15,
   "metadata": {},
   "outputs": [
    {
     "output_type": "execute_result",
     "data": {
      "text/plain": [
       "           Data do Acidente             Latitude            Longitude  \\\n",
       "Unnamed: 0                                                              \n",
       "943              2018-04-25           -23,376644           -46,720239   \n",
       "944              2018-04-24           -23,660414           -46,725499   \n",
       "945              2018-04-24           -23,459694           -46,444304   \n",
       "946              2018-04-23            -23,52952            -46,77385   \n",
       "947              2018-04-22           -23,411699           -46,757139   \n",
       "948              2018-04-22           -23,720073           -46,608224   \n",
       "949              2018-04-22  -23,724681413125065  -46,405119825977266   \n",
       "950              2018-04-22           -23,403397           -46,532097   \n",
       "951              2018-04-22           -23,544677           -46,910433   \n",
       "952              2018-04-21           -23,508651            -46,68321   \n",
       "953              2018-04-21           -23,507185           -46,486156   \n",
       "954              2018-04-21           -23,490734           -46,770538   \n",
       "955              2018-04-20  -23,289652817691163    -46,8466866204862   \n",
       "956              2018-04-19     -23,766777340116    -46,6762969520143   \n",
       "957              2018-04-19           -23,490659           -46,426977   \n",
       "958              2018-04-17  -23,844285776527993  -46,823411072745586   \n",
       "959              2018-04-15           -23,709584           -46,699692   \n",
       "960              2018-04-15           -23,322032           -46,630584   \n",
       "961              2018-04-15           -23,567856           -46,832253   \n",
       "962              2018-04-14           -23,678503           -46,776714   \n",
       "963              2018-04-14           -23,566527           -46,569345   \n",
       "964              2018-04-14  -23,578775390120782   -46,69416613263075   \n",
       "965              2018-04-13            -23,63645           -46,778075   \n",
       "966              2018-04-13           -23,543906           -46,408042   \n",
       "967              2018-04-11           -23,598776            -46,59749   \n",
       "968              2018-04-10  -23,425746351883976  -46,787776220729555   \n",
       "969              2018-04-10   -23,51023935714047   -46,72888797827142   \n",
       "970              2018-04-09           -23,614449            -46,50167   \n",
       "971              2018-04-08           -23,574312           -46,481592   \n",
       "972              2018-04-08           -23,560609           -46,521808   \n",
       "973              2018-04-08           -23,671126           -46,430628   \n",
       "974              2018-04-07           -23,402101           -46,721073   \n",
       "975              2018-04-07           -23,487599           -46,544012   \n",
       "976              2018-04-06           -23,718027           -46,703489   \n",
       "977              2018-04-06           -23,539291           -46,570446   \n",
       "978              2018-04-05           -23,605907           -46,469031   \n",
       "979              2018-04-03           -23,639736           -46,745634   \n",
       "980              2018-04-01           -23,668971           -46,634474   \n",
       "981              2018-04-01           -23,514548           -46,664321   \n",
       "982              2018-04-01           -23,679219           -46,384018   \n",
       "983              2018-04-01           -23,388421           -46,435756   \n",
       "984              2018-03-31  -23,274322759063615  -46,585275361039365   \n",
       "985              2018-03-30           -23,400982           -46,524045   \n",
       "986              2018-03-29           -23,437867             -46,4959   \n",
       "987              2018-03-28           -23,629013           -46,716791   \n",
       "988              2018-03-27           -23,781795           -46,690976   \n",
       "989              2018-03-27           -23,505205           -46,152062   \n",
       "990              2018-03-26           -23,704344           -46,616806   \n",
       "991              2018-03-26   -23,50816807819195   -46,34258100197872   \n",
       "992              2018-03-26           -23,590828           -46,823061   \n",
       "\n",
       "           Condições Climáticas  Hora  \n",
       "Unnamed: 0                             \n",
       "943            Partially cloudy    18  \n",
       "944                       Clear     5  \n",
       "945                       Clear    23  \n",
       "946            Partially cloudy    19  \n",
       "947                       Clear     1  \n",
       "948                       Clear     7  \n",
       "949                       Clear     6  \n",
       "950            Partially cloudy    21  \n",
       "951                       Clear    23  \n",
       "952                       Clear     3  \n",
       "953            Partially cloudy    18  \n",
       "954                       Clear    10  \n",
       "955                       Clear     6  \n",
       "956                       Clear    23  \n",
       "957                       Clear    21  \n",
       "958            Partially cloudy    18  \n",
       "959                    Overcast     5  \n",
       "960                    Overcast    18  \n",
       "961                    Overcast    13  \n",
       "962            Partially cloudy     5  \n",
       "963            Partially cloudy    15  \n",
       "964            Partially cloudy    19  \n",
       "965            Partially cloudy    23  \n",
       "966            Partially cloudy    21  \n",
       "967            Partially cloudy     1  \n",
       "968            Partially cloudy    17  \n",
       "969            Partially cloudy    18  \n",
       "970            Partially cloudy    17  \n",
       "971            Partially cloudy    20  \n",
       "972            Partially cloudy    18  \n",
       "973            Partially cloudy    15  \n",
       "974            Partially cloudy     8  \n",
       "975            Partially cloudy    12  \n",
       "976            Partially cloudy     2  \n",
       "977            Partially cloudy     9  \n",
       "978            Partially cloudy    18  \n",
       "979            Partially cloudy    18  \n",
       "980                       Clear     3  \n",
       "981            Partially cloudy    17  \n",
       "982            Partially cloudy    22  \n",
       "983                       Clear     0  \n",
       "984            Partially cloudy    13  \n",
       "985            Partially cloudy     2  \n",
       "986            Partially cloudy    14  \n",
       "987            Partially cloudy    10  \n",
       "988            Partially cloudy    19  \n",
       "989            Partially cloudy    23  \n",
       "990                       Clear     1  \n",
       "991                       Clear     6  \n",
       "992            Partially cloudy     6  "
      ],
      "text/html": "<div>\n<style scoped>\n    .dataframe tbody tr th:only-of-type {\n        vertical-align: middle;\n    }\n\n    .dataframe tbody tr th {\n        vertical-align: top;\n    }\n\n    .dataframe thead th {\n        text-align: right;\n    }\n</style>\n<table border=\"1\" class=\"dataframe\">\n  <thead>\n    <tr style=\"text-align: right;\">\n      <th></th>\n      <th>Data do Acidente</th>\n      <th>Latitude</th>\n      <th>Longitude</th>\n      <th>Condições Climáticas</th>\n      <th>Hora</th>\n    </tr>\n    <tr>\n      <th>Unnamed: 0</th>\n      <th></th>\n      <th></th>\n      <th></th>\n      <th></th>\n      <th></th>\n    </tr>\n  </thead>\n  <tbody>\n    <tr>\n      <th>943</th>\n      <td>2018-04-25</td>\n      <td>-23,376644</td>\n      <td>-46,720239</td>\n      <td>Partially cloudy</td>\n      <td>18</td>\n    </tr>\n    <tr>\n      <th>944</th>\n      <td>2018-04-24</td>\n      <td>-23,660414</td>\n      <td>-46,725499</td>\n      <td>Clear</td>\n      <td>5</td>\n    </tr>\n    <tr>\n      <th>945</th>\n      <td>2018-04-24</td>\n      <td>-23,459694</td>\n      <td>-46,444304</td>\n      <td>Clear</td>\n      <td>23</td>\n    </tr>\n    <tr>\n      <th>946</th>\n      <td>2018-04-23</td>\n      <td>-23,52952</td>\n      <td>-46,77385</td>\n      <td>Partially cloudy</td>\n      <td>19</td>\n    </tr>\n    <tr>\n      <th>947</th>\n      <td>2018-04-22</td>\n      <td>-23,411699</td>\n      <td>-46,757139</td>\n      <td>Clear</td>\n      <td>1</td>\n    </tr>\n    <tr>\n      <th>948</th>\n      <td>2018-04-22</td>\n      <td>-23,720073</td>\n      <td>-46,608224</td>\n      <td>Clear</td>\n      <td>7</td>\n    </tr>\n    <tr>\n      <th>949</th>\n      <td>2018-04-22</td>\n      <td>-23,724681413125065</td>\n      <td>-46,405119825977266</td>\n      <td>Clear</td>\n      <td>6</td>\n    </tr>\n    <tr>\n      <th>950</th>\n      <td>2018-04-22</td>\n      <td>-23,403397</td>\n      <td>-46,532097</td>\n      <td>Partially cloudy</td>\n      <td>21</td>\n    </tr>\n    <tr>\n      <th>951</th>\n      <td>2018-04-22</td>\n      <td>-23,544677</td>\n      <td>-46,910433</td>\n      <td>Clear</td>\n      <td>23</td>\n    </tr>\n    <tr>\n      <th>952</th>\n      <td>2018-04-21</td>\n      <td>-23,508651</td>\n      <td>-46,68321</td>\n      <td>Clear</td>\n      <td>3</td>\n    </tr>\n    <tr>\n      <th>953</th>\n      <td>2018-04-21</td>\n      <td>-23,507185</td>\n      <td>-46,486156</td>\n      <td>Partially cloudy</td>\n      <td>18</td>\n    </tr>\n    <tr>\n      <th>954</th>\n      <td>2018-04-21</td>\n      <td>-23,490734</td>\n      <td>-46,770538</td>\n      <td>Clear</td>\n      <td>10</td>\n    </tr>\n    <tr>\n      <th>955</th>\n      <td>2018-04-20</td>\n      <td>-23,289652817691163</td>\n      <td>-46,8466866204862</td>\n      <td>Clear</td>\n      <td>6</td>\n    </tr>\n    <tr>\n      <th>956</th>\n      <td>2018-04-19</td>\n      <td>-23,766777340116</td>\n      <td>-46,6762969520143</td>\n      <td>Clear</td>\n      <td>23</td>\n    </tr>\n    <tr>\n      <th>957</th>\n      <td>2018-04-19</td>\n      <td>-23,490659</td>\n      <td>-46,426977</td>\n      <td>Clear</td>\n      <td>21</td>\n    </tr>\n    <tr>\n      <th>958</th>\n      <td>2018-04-17</td>\n      <td>-23,844285776527993</td>\n      <td>-46,823411072745586</td>\n      <td>Partially cloudy</td>\n      <td>18</td>\n    </tr>\n    <tr>\n      <th>959</th>\n      <td>2018-04-15</td>\n      <td>-23,709584</td>\n      <td>-46,699692</td>\n      <td>Overcast</td>\n      <td>5</td>\n    </tr>\n    <tr>\n      <th>960</th>\n      <td>2018-04-15</td>\n      <td>-23,322032</td>\n      <td>-46,630584</td>\n      <td>Overcast</td>\n      <td>18</td>\n    </tr>\n    <tr>\n      <th>961</th>\n      <td>2018-04-15</td>\n      <td>-23,567856</td>\n      <td>-46,832253</td>\n      <td>Overcast</td>\n      <td>13</td>\n    </tr>\n    <tr>\n      <th>962</th>\n      <td>2018-04-14</td>\n      <td>-23,678503</td>\n      <td>-46,776714</td>\n      <td>Partially cloudy</td>\n      <td>5</td>\n    </tr>\n    <tr>\n      <th>963</th>\n      <td>2018-04-14</td>\n      <td>-23,566527</td>\n      <td>-46,569345</td>\n      <td>Partially cloudy</td>\n      <td>15</td>\n    </tr>\n    <tr>\n      <th>964</th>\n      <td>2018-04-14</td>\n      <td>-23,578775390120782</td>\n      <td>-46,69416613263075</td>\n      <td>Partially cloudy</td>\n      <td>19</td>\n    </tr>\n    <tr>\n      <th>965</th>\n      <td>2018-04-13</td>\n      <td>-23,63645</td>\n      <td>-46,778075</td>\n      <td>Partially cloudy</td>\n      <td>23</td>\n    </tr>\n    <tr>\n      <th>966</th>\n      <td>2018-04-13</td>\n      <td>-23,543906</td>\n      <td>-46,408042</td>\n      <td>Partially cloudy</td>\n      <td>21</td>\n    </tr>\n    <tr>\n      <th>967</th>\n      <td>2018-04-11</td>\n      <td>-23,598776</td>\n      <td>-46,59749</td>\n      <td>Partially cloudy</td>\n      <td>1</td>\n    </tr>\n    <tr>\n      <th>968</th>\n      <td>2018-04-10</td>\n      <td>-23,425746351883976</td>\n      <td>-46,787776220729555</td>\n      <td>Partially cloudy</td>\n      <td>17</td>\n    </tr>\n    <tr>\n      <th>969</th>\n      <td>2018-04-10</td>\n      <td>-23,51023935714047</td>\n      <td>-46,72888797827142</td>\n      <td>Partially cloudy</td>\n      <td>18</td>\n    </tr>\n    <tr>\n      <th>970</th>\n      <td>2018-04-09</td>\n      <td>-23,614449</td>\n      <td>-46,50167</td>\n      <td>Partially cloudy</td>\n      <td>17</td>\n    </tr>\n    <tr>\n      <th>971</th>\n      <td>2018-04-08</td>\n      <td>-23,574312</td>\n      <td>-46,481592</td>\n      <td>Partially cloudy</td>\n      <td>20</td>\n    </tr>\n    <tr>\n      <th>972</th>\n      <td>2018-04-08</td>\n      <td>-23,560609</td>\n      <td>-46,521808</td>\n      <td>Partially cloudy</td>\n      <td>18</td>\n    </tr>\n    <tr>\n      <th>973</th>\n      <td>2018-04-08</td>\n      <td>-23,671126</td>\n      <td>-46,430628</td>\n      <td>Partially cloudy</td>\n      <td>15</td>\n    </tr>\n    <tr>\n      <th>974</th>\n      <td>2018-04-07</td>\n      <td>-23,402101</td>\n      <td>-46,721073</td>\n      <td>Partially cloudy</td>\n      <td>8</td>\n    </tr>\n    <tr>\n      <th>975</th>\n      <td>2018-04-07</td>\n      <td>-23,487599</td>\n      <td>-46,544012</td>\n      <td>Partially cloudy</td>\n      <td>12</td>\n    </tr>\n    <tr>\n      <th>976</th>\n      <td>2018-04-06</td>\n      <td>-23,718027</td>\n      <td>-46,703489</td>\n      <td>Partially cloudy</td>\n      <td>2</td>\n    </tr>\n    <tr>\n      <th>977</th>\n      <td>2018-04-06</td>\n      <td>-23,539291</td>\n      <td>-46,570446</td>\n      <td>Partially cloudy</td>\n      <td>9</td>\n    </tr>\n    <tr>\n      <th>978</th>\n      <td>2018-04-05</td>\n      <td>-23,605907</td>\n      <td>-46,469031</td>\n      <td>Partially cloudy</td>\n      <td>18</td>\n    </tr>\n    <tr>\n      <th>979</th>\n      <td>2018-04-03</td>\n      <td>-23,639736</td>\n      <td>-46,745634</td>\n      <td>Partially cloudy</td>\n      <td>18</td>\n    </tr>\n    <tr>\n      <th>980</th>\n      <td>2018-04-01</td>\n      <td>-23,668971</td>\n      <td>-46,634474</td>\n      <td>Clear</td>\n      <td>3</td>\n    </tr>\n    <tr>\n      <th>981</th>\n      <td>2018-04-01</td>\n      <td>-23,514548</td>\n      <td>-46,664321</td>\n      <td>Partially cloudy</td>\n      <td>17</td>\n    </tr>\n    <tr>\n      <th>982</th>\n      <td>2018-04-01</td>\n      <td>-23,679219</td>\n      <td>-46,384018</td>\n      <td>Partially cloudy</td>\n      <td>22</td>\n    </tr>\n    <tr>\n      <th>983</th>\n      <td>2018-04-01</td>\n      <td>-23,388421</td>\n      <td>-46,435756</td>\n      <td>Clear</td>\n      <td>0</td>\n    </tr>\n    <tr>\n      <th>984</th>\n      <td>2018-03-31</td>\n      <td>-23,274322759063615</td>\n      <td>-46,585275361039365</td>\n      <td>Partially cloudy</td>\n      <td>13</td>\n    </tr>\n    <tr>\n      <th>985</th>\n      <td>2018-03-30</td>\n      <td>-23,400982</td>\n      <td>-46,524045</td>\n      <td>Partially cloudy</td>\n      <td>2</td>\n    </tr>\n    <tr>\n      <th>986</th>\n      <td>2018-03-29</td>\n      <td>-23,437867</td>\n      <td>-46,4959</td>\n      <td>Partially cloudy</td>\n      <td>14</td>\n    </tr>\n    <tr>\n      <th>987</th>\n      <td>2018-03-28</td>\n      <td>-23,629013</td>\n      <td>-46,716791</td>\n      <td>Partially cloudy</td>\n      <td>10</td>\n    </tr>\n    <tr>\n      <th>988</th>\n      <td>2018-03-27</td>\n      <td>-23,781795</td>\n      <td>-46,690976</td>\n      <td>Partially cloudy</td>\n      <td>19</td>\n    </tr>\n    <tr>\n      <th>989</th>\n      <td>2018-03-27</td>\n      <td>-23,505205</td>\n      <td>-46,152062</td>\n      <td>Partially cloudy</td>\n      <td>23</td>\n    </tr>\n    <tr>\n      <th>990</th>\n      <td>2018-03-26</td>\n      <td>-23,704344</td>\n      <td>-46,616806</td>\n      <td>Clear</td>\n      <td>1</td>\n    </tr>\n    <tr>\n      <th>991</th>\n      <td>2018-03-26</td>\n      <td>-23,50816807819195</td>\n      <td>-46,34258100197872</td>\n      <td>Clear</td>\n      <td>6</td>\n    </tr>\n    <tr>\n      <th>992</th>\n      <td>2018-03-26</td>\n      <td>-23,590828</td>\n      <td>-46,823061</td>\n      <td>Partially cloudy</td>\n      <td>6</td>\n    </tr>\n  </tbody>\n</table>\n</div>"
     },
     "metadata": {},
     "execution_count": 15
    }
   ],
   "source": [
    "combined_csv.tail(50)"
   ]
  },
  {
   "cell_type": "code",
   "execution_count": null,
   "metadata": {},
   "outputs": [],
   "source": []
  }
 ]
}