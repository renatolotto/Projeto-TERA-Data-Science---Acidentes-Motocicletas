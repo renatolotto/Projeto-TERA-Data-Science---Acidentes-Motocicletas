{
 "metadata": {
  "language_info": {
   "codemirror_mode": {
    "name": "ipython",
    "version": 3
   },
   "file_extension": ".py",
   "mimetype": "text/x-python",
   "name": "python",
   "nbconvert_exporter": "python",
   "pygments_lexer": "ipython3",
   "version": "3.8.8"
  },
  "orig_nbformat": 2,
  "kernelspec": {
   "name": "python388jvsc74a57bd054aafdb36ba7a57007c1052e291baf553a31e85cae918a266292c7469c0efefb",
   "display_name": "Python 3.8.8 64-bit ('Data_Science': conda)"
  }
 },
 "nbformat": 4,
 "nbformat_minor": 2,
 "cells": [
  {
   "cell_type": "code",
   "execution_count": 1,
   "metadata": {},
   "outputs": [],
   "source": [
    "import pandas as pd\n",
    "import numpy as np\n",
    "import matplotlib.pyplot as plt \n",
    "import seaborn as sns"
   ]
  },
  {
   "cell_type": "code",
   "execution_count": 2,
   "metadata": {},
   "outputs": [
    {
     "output_type": "stream",
     "name": "stderr",
     "text": [
      "C:\\Users\\Renato\\anaconda3\\envs\\Data_Science\\lib\\site-packages\\openpyxl\\styles\\stylesheet.py:221: UserWarning: Workbook contains no default style, apply openpyxl's default\n  warn(\"Workbook contains no default style, apply openpyxl's default\")\n"
     ]
    }
   ],
   "source": [
    "#importando datasets http://www.respeitoavida.sp.gov.br/relatorios/\n",
    "df_obitos_raw=pd.read_csv(r'C:\\Users\\Renato\\OneDrive\\Projeto_TERA\\Predição Acidentes Motocicleta\\Datasets\\obitos_publico.csv',encoding='unicode_escape',sep=';')\n",
    "df_nao_fatais_raw = pd.read_csv(r'C:\\Users\\Renato\\OneDrive\\Projeto_TERA\\Predição Acidentes Motocicleta\\Datasets\\acidentes_naofatais.csv',encoding='unicode_escape',sep=';')\n",
    "df_fatais_raw = pd.read_excel(r'C:\\Users\\Renato\\OneDrive\\Projeto_TERA\\Predição Acidentes Motocicleta\\Datasets\\acidentes_fatais.xlsx')"
   ]
  },
  {
   "cell_type": "code",
   "execution_count": 3,
   "metadata": {},
   "outputs": [],
   "source": [
    "#checando duplicatas\n",
    "df_obitos_raw.duplicated().value_counts() #achado 97 linhas duplicadas (os outros df's não tem duplicatas)\n",
    "df_obitos_raw = df_obitos_raw.drop_duplicates()#dropando as 97 duplicatas, temos 34657 linhas"
   ]
  },
  {
   "cell_type": "code",
   "execution_count": 4,
   "metadata": {},
   "outputs": [],
   "source": [
    "# Criando Dataframes para trabalhar\n",
    "df_nao_fatais = df_nao_fatais_raw.copy()\n",
    "\n",
    "df_fatais = df_fatais_raw.copy()#NAO TEMOS COMO FILTRAR POR MOTOCILCETA POIS NAO TEM ESSA COLUNA!!!!\n",
    "\n",
    "df_obitos = df_obitos_raw.copy()#AQUI CONSEGUIMOS FILTRAR POR MOTOCICLETA"
   ]
  },
  {
   "cell_type": "code",
   "execution_count": 5,
   "metadata": {},
   "outputs": [
    {
     "output_type": "stream",
     "name": "stdout",
     "text": [
      "obitos (34657, 34)\nfatais (31791, 32)\nÑ fatais (377613, 55)\n"
     ]
    }
   ],
   "source": [
    "#checando sempre a quantidade de dados dos dataframes\n",
    "print('obitos',df_obitos.shape)\n",
    "print('fatais',df_fatais.shape)\n",
    "print('Ñ fatais',df_nao_fatais.shape)"
   ]
  },
  {
   "cell_type": "code",
   "execution_count": 6,
   "metadata": {},
   "outputs": [],
   "source": [
    "#Arrumando o nome das colunas\n",
    "df_obitos = df_obitos_raw.rename(columns={'LAT_(GEO)':'Latitude',\n",
    "                                          'LONG_(GEO)':'Longitude',\n",
    "                                          'Tipo de via':'Tipo de Via',\n",
    "                                         'Id da Delegacia (RDO)':'Id Delegacia', 'Número do Bo (RDO)':'Número BO',\n",
    "                                          'Ano do BO (RDO)':'Ano BO','Númeral / KM':'Numero/KM'})\n",
    "\n",
    "df_nao_fatais = df_nao_fatais_raw.rename(columns={'LAT_(GEO)':'Latitude','LONG_(GEO)':'Longitude'})\n",
    "\n",
    "\n",
    "df_fatais =df_fatais_raw.rename(columns={'Lat (GEO)':'Latitude','Long (GEO)':'Longitude','Numeral / KM':'Numero/KM',\n",
    "                                         'Iluminação da via (SIOPM)':'Iluminação',\n",
    "                                        'Superfície da Via (SIOPM)':'Superfície da via', \n",
    "                                         'Dia da semana':'Dia da Semana',\n",
    "                                         'Tipo de via':'Tipo de Via',\n",
    "                                         'Tipo de pista (SIOPM)':'Tipo de pista',\n",
    "                                         'Id Delegacia (RDO)':'Id Delegacia', 'Número BO (RDO)':'Número BO', \n",
    "                                         'Ano BO (RDO)':'Ano BO',\n",
    "                                        'Condições Climáticas (SIOPM)':'Condições Climáticas'})"
   ]
  },
  {
   "cell_type": "code",
   "execution_count": 7,
   "metadata": {},
   "outputs": [],
   "source": [
    "# dropando colunas duplicada\n",
    "# no df_nao_fatais, colunas 'Condições da pista' e 'Tipo de pista', portando dropamos a coluna 'Condições da pista'\n",
    "df_nao_fatais.drop(['Condições da pista'],axis=1,inplace=True)"
   ]
  },
  {
   "cell_type": "code",
   "execution_count": 8,
   "metadata": {},
   "outputs": [],
   "source": [
    "#alterando tipos de variáveis\n",
    "df_obitos['Data do Acidente'] = pd.to_datetime(df_obitos['Data do Acidente'],errors='coerce')\n",
    "\n",
    "df_nao_fatais['Data do Acidente'] = pd.to_datetime(df_nao_fatais['Data do Acidente'],format='%Y-%m-%d')\n",
    "df_nao_fatais['Ano do Acidente'] = pd.to_datetime(df_nao_fatais['Ano do Acidente'],format='%Y')\n",
    "df_nao_fatais['Dia do Acidente'] = pd.to_datetime(df_nao_fatais['Dia do Acidente'],format='%d')\n",
    "\n",
    "df_fatais.loc[31790,'Data do Acidente']='2020-02-27'\n",
    "df_fatais['Data do Acidente'] = pd.to_datetime(df_fatais['Data do Acidente'],format='%Y-%m-%d')\n",
    "df_fatais.loc[31790, 'Ano do Acidente']='2020'\n",
    "df_fatais['Ano do Acidente'] = pd.to_datetime(df_fatais['Ano do Acidente'],format='%Y')\n",
    "df_fatais['Dia do Acidente'] = pd.to_datetime(df_fatais['Dia do Acidente'],format='%d')"
   ]
  },
  {
   "cell_type": "code",
   "execution_count": 9,
   "metadata": {},
   "outputs": [
    {
     "output_type": "execute_result",
     "data": {
      "text/plain": [
       "Index(['Id Delegacia', 'Número BO', 'Ano BO', 'Data do Óbito',\n",
       "       'Data do Acidente', 'Tipo de Via', 'Dia do óbito', 'Mês do Óbito',\n",
       "       'Mês Óbito Descrição', 'Ano do Óbito', 'Ano/Mês do Óbito',\n",
       "       'Dia da Semana', 'Hora do Acidente', 'Turno', 'Município',\n",
       "       'Região Administrativa', 'Logradouro', 'Numero/KM', 'Jurisdição',\n",
       "       'Administração', 'Conservação', 'Tipo do local da ocorrência',\n",
       "       'Latitude', 'Longitude', 'Tipo do veículo da vítima', 'Tipo de vítima',\n",
       "       'Local do óbito', 'Tipo de acidente', 'Sub Tipo do Acidente', 'Sexo',\n",
       "       'Faixa etária', 'Idade da vítima', 'Outro Veículo Envolvido',\n",
       "       'Tempo entre o Acidente e o Óbito'],\n",
       "      dtype='object')"
      ]
     },
     "metadata": {},
     "execution_count": 9
    }
   ],
   "source": [
    "df_obitos.columns"
   ]
  },
  {
   "cell_type": "code",
   "execution_count": 10,
   "metadata": {},
   "outputs": [
    {
     "output_type": "execute_result",
     "data": {
      "text/plain": [
       "      Hora do Acidente Data do Acidente\n",
       "0             17:30:00       2021-02-28\n",
       "1             10:55:00       2021-02-28\n",
       "2             19:50:00       2021-02-27\n",
       "3             20:18:00       2021-02-28\n",
       "4             18:50:00       2021-02-28\n",
       "...                ...              ...\n",
       "34749         19:00:00       2015-01-01\n",
       "34750         01:20:00       2015-01-01\n",
       "34751         10:48:00       2015-01-01\n",
       "34752         07:40:00       2015-01-01\n",
       "34753         03:30:00       2015-01-01\n",
       "\n",
       "[34657 rows x 2 columns]"
      ],
      "text/html": "<div>\n<style scoped>\n    .dataframe tbody tr th:only-of-type {\n        vertical-align: middle;\n    }\n\n    .dataframe tbody tr th {\n        vertical-align: top;\n    }\n\n    .dataframe thead th {\n        text-align: right;\n    }\n</style>\n<table border=\"1\" class=\"dataframe\">\n  <thead>\n    <tr style=\"text-align: right;\">\n      <th></th>\n      <th>Hora do Acidente</th>\n      <th>Data do Acidente</th>\n    </tr>\n  </thead>\n  <tbody>\n    <tr>\n      <th>0</th>\n      <td>17:30:00</td>\n      <td>2021-02-28</td>\n    </tr>\n    <tr>\n      <th>1</th>\n      <td>10:55:00</td>\n      <td>2021-02-28</td>\n    </tr>\n    <tr>\n      <th>2</th>\n      <td>19:50:00</td>\n      <td>2021-02-27</td>\n    </tr>\n    <tr>\n      <th>3</th>\n      <td>20:18:00</td>\n      <td>2021-02-28</td>\n    </tr>\n    <tr>\n      <th>4</th>\n      <td>18:50:00</td>\n      <td>2021-02-28</td>\n    </tr>\n    <tr>\n      <th>...</th>\n      <td>...</td>\n      <td>...</td>\n    </tr>\n    <tr>\n      <th>34749</th>\n      <td>19:00:00</td>\n      <td>2015-01-01</td>\n    </tr>\n    <tr>\n      <th>34750</th>\n      <td>01:20:00</td>\n      <td>2015-01-01</td>\n    </tr>\n    <tr>\n      <th>34751</th>\n      <td>10:48:00</td>\n      <td>2015-01-01</td>\n    </tr>\n    <tr>\n      <th>34752</th>\n      <td>07:40:00</td>\n      <td>2015-01-01</td>\n    </tr>\n    <tr>\n      <th>34753</th>\n      <td>03:30:00</td>\n      <td>2015-01-01</td>\n    </tr>\n  </tbody>\n</table>\n<p>34657 rows × 2 columns</p>\n</div>"
     },
     "metadata": {},
     "execution_count": 10
    }
   ],
   "source": [
    "df_obitos[['Hora do Acidente','Data do Acidente']]"
   ]
  },
  {
   "cell_type": "code",
   "execution_count": 11,
   "metadata": {},
   "outputs": [],
   "source": [
    "#juntando a df_fatais_geral com df_nao_fatais, criando df_acidentes\n",
    "df_fatais_geral = df_fatais.merge(df_obitos,\n",
    "                                  on=['Número BO','Data do Acidente','Ano BO','Hora do Acidente','Turno','Município','Região Administrativa','Jurisdição','Administração','Conservação','Outro Veículo Envolvido','Tipo de Via','Logradouro','Dia da Semana','Numero/KM','Id Delegacia','Latitude','Longitude'])"
   ]
  },
  {
   "cell_type": "code",
   "execution_count": 12,
   "metadata": {},
   "outputs": [
    {
     "output_type": "stream",
     "name": "stdout",
     "text": [
      "obitos (34657, 34)\nfatais (31791, 32)\nÑ fatais (377613, 54)\nmerge (33934, 48)\n"
     ]
    }
   ],
   "source": [
    "#checando sempre a quantidade de dados dos dataframes\n",
    "print('obitos',df_obitos.shape)\n",
    "print('fatais',df_fatais.shape)\n",
    "print('Ñ fatais',df_nao_fatais.shape)\n",
    "print('merge',df_fatais_geral.shape)"
   ]
  },
  {
   "cell_type": "code",
   "execution_count": 13,
   "metadata": {},
   "outputs": [
    {
     "output_type": "stream",
     "name": "stdout",
     "text": [
      "<class 'pandas.core.frame.DataFrame'>\nInt64Index: 33934 entries, 0 to 33933\nData columns (total 48 columns):\n #   Column                               Non-Null Count  Dtype         \n---  ------                               --------------  -----         \n 0   ID                                   33934 non-null  int64         \n 1   Id Delegacia                         33934 non-null  int64         \n 2   Número BO                            33934 non-null  int64         \n 3   Ano BO                               33934 non-null  int64         \n 4   Data do Acidente                     33934 non-null  datetime64[ns]\n 5   Dia do Acidente                      33934 non-null  datetime64[ns]\n 6   Mês do Acidente                      33934 non-null  object        \n 7   Ano do Acidente                      33934 non-null  datetime64[ns]\n 8   Ano/Mês do Acidente                  33934 non-null  float64       \n 9   Dia da Semana                        33934 non-null  object        \n 10  Hora do Acidente                     33934 non-null  object        \n 11  Turno                                33934 non-null  object        \n 12  Município                            33934 non-null  object        \n 13  Região Administrativa                33934 non-null  object        \n 14  Logradouro                           33934 non-null  object        \n 15  Numero/KM                            33934 non-null  object        \n 16  Jurisdição                           33934 non-null  object        \n 17  Administração                        33934 non-null  object        \n 18  Conservação                          33934 non-null  object        \n 19  Tipo do Local do Acidente            33934 non-null  object        \n 20  Latitude                             33934 non-null  object        \n 21  Longitude                            33934 non-null  object        \n 22  Iluminação                           33934 non-null  object        \n 23  Superfície da via                    33934 non-null  object        \n 24  Tipo de pista                        33934 non-null  object        \n 25  Outro Veículo Envolvido              22544 non-null  object        \n 26  Tipo de Via                          33934 non-null  object        \n 27  Condições Climáticas                 33934 non-null  object        \n 28  Sentido da Via (SIOPM)               33934 non-null  object        \n 29  Limite da velocidade da via (SIOPM)  33934 non-null  object        \n 30  Quantidade de vítimas                33934 non-null  int64         \n 31  Tempo entre o Acidente e as Mortes   33934 non-null  object        \n 32  Data do Óbito                        33934 non-null  object        \n 33  Dia do óbito                         33934 non-null  int64         \n 34  Mês do Óbito                         33934 non-null  int64         \n 35  Mês Óbito Descrição                  33934 non-null  object        \n 36  Ano do Óbito                         33934 non-null  int64         \n 37  Ano/Mês do Óbito                     33934 non-null  float64       \n 38  Tipo do local da ocorrência          33934 non-null  object        \n 39  Tipo do veículo da vítima            33934 non-null  object        \n 40  Tipo de vítima                       33934 non-null  object        \n 41  Local do óbito                       33934 non-null  object        \n 42  Tipo de acidente                     33934 non-null  object        \n 43  Sub Tipo do Acidente                 17194 non-null  object        \n 44  Sexo                                 33934 non-null  object        \n 45  Faixa etária                         33934 non-null  object        \n 46  Idade da vítima                      33934 non-null  object        \n 47  Tempo entre o Acidente e o Óbito     33934 non-null  object        \ndtypes: datetime64[ns](3), float64(2), int64(8), object(35)\nmemory usage: 12.7+ MB\n"
     ]
    }
   ],
   "source": [
    "df_fatais_geral.info()"
   ]
  },
  {
   "cell_type": "code",
   "execution_count": 14,
   "metadata": {},
   "outputs": [
    {
     "output_type": "execute_result",
     "data": {
      "text/plain": [
       "AUTOMOVEL         7650\n",
       "NÃO HÁ            4561\n",
       "NAO DISPONIVEL    3503\n",
       "CAMINHAO          3450\n",
       "MOTOCICLETA       1724\n",
       "ONIBUS            1376\n",
       "OUTROS             143\n",
       "BICICLETA           94\n",
       "PEDESTRE            43\n",
       "Name: Outro Veículo Envolvido, dtype: int64"
      ]
     },
     "metadata": {},
     "execution_count": 14
    }
   ],
   "source": [
    "#checando o pq algumas variáveis acima tem valores nulos. \n",
    "df_fatais_geral['Outro Veículo Envolvido'].value_counts()\n",
    "# Temos apenas 22544 valores não nulos de 33934. Podemos considerar essa diferença de nulos como da categoria \"Não Há\"?? E os \"não disponíveis\" podem ser considerados \"Não Há\"?? Se sim fazer um apply lambda pra corrigir isso. CHECAR COM O GRUPO!!!"
   ]
  },
  {
   "cell_type": "code",
   "execution_count": 15,
   "metadata": {},
   "outputs": [
    {
     "output_type": "execute_result",
     "data": {
      "text/plain": [
       "NAO DISPONIVEL                           3512\n",
       "FRONTAL                                  2136\n",
       "CRUZANDO A VIA                           1858\n",
       "TRASEIRA                                 1382\n",
       "LATERAL                                  1144\n",
       "TOMBAMENTO VEÍCULO DE 2 RODAS            1142\n",
       "POSTE                                     813\n",
       "TRANSVERSAL                               782\n",
       "CAPOTAMENTO                               695\n",
       "ANDANDO NA VIA / ACOSTAMENTO              523\n",
       "ÁRVORE                                    464\n",
       "DEFENSA / BARREIRA                        440\n",
       "MURO/PAREDE/TALUDE                        406\n",
       "VEÍCULO ESTACIONADO                       399\n",
       "OUTROS                                    265\n",
       "CONDUTOR/PASSAGEIROS FORA DO VEÍCULO      218\n",
       "QUEDA (ÁGUA, BARRANCO, PONTE)             176\n",
       "NA CALÇADA                                163\n",
       "TOMBAMENTO VEÍCULO DE MAIS DE 2 RODAS     154\n",
       "MEIO-FIO/CALÇAMENTO/DRENAGEM              150\n",
       "ANIMAL                                    109\n",
       "ENGAVETAMENTO                              97\n",
       "PLACA DE SINALIZAÇÃO                       71\n",
       "OBJETO NA PISTA                            34\n",
       "SUBMERSÃO                                  25\n",
       "OBJETO LANÇADO SOBRE O VEÍCULO             16\n",
       "INCÊDIO / EXPLOSÃO                          7\n",
       "RABEIRA - APOIO EM VEÍCULO                  7\n",
       "\"RABEIRA\" / APOIO EM VEÍCULO                4\n",
       "NÃO HÁ                                      2\n",
       "Name: Sub Tipo do Acidente, dtype: int64"
      ]
     },
     "metadata": {},
     "execution_count": 15
    }
   ],
   "source": [
    "df_fatais_geral['Sub Tipo do Acidente'].value_counts()\r\n",
    "#aqui quase 50% dos dados são nulos. E temos muitas categorias....CHECAR COM O GRUPO!!!"
   ]
  },
  {
   "cell_type": "code",
   "execution_count": 16,
   "metadata": {},
   "outputs": [],
   "source": [
    "#criando colunas com labels de fatal e não falal antes de juntar\n",
    "df_fatais_geral['Acidente Fatal']=1\n",
    "df_fatais_geral['Acidente Não Fatal']=0\n",
    "df_nao_fatais['Acidente Fatal']=0\n",
    "df_nao_fatais['Acidente Não Fatal']=1\n"
   ]
  },
  {
   "cell_type": "code",
   "execution_count": 17,
   "metadata": {},
   "outputs": [],
   "source": [
    "#juntando a df_fatais_geral com df_nao_fatais criando df_acidentes\n",
    "df_acidentes = pd.concat([df_nao_fatais,df_fatais_geral])"
   ]
  },
  {
   "cell_type": "code",
   "execution_count": 18,
   "metadata": {},
   "outputs": [
    {
     "output_type": "stream",
     "name": "stdout",
     "text": [
      "<class 'pandas.core.frame.DataFrame'>\nInt64Index: 411547 entries, 0 to 33933\nData columns (total 80 columns):\n #   Column                                       Non-Null Count   Dtype         \n---  ------                                       --------------   -----         \n 0   ID                                           411547 non-null  int64         \n 1   Data do Acidente                             411547 non-null  datetime64[ns]\n 2   Dia do Acidente                              411547 non-null  datetime64[ns]\n 3   Mês do Acidente                              411547 non-null  object        \n 4   Ano do Acidente                              411547 non-null  datetime64[ns]\n 5   Ano/Mês do Acidente                          411547 non-null  float64       \n 6   Dia da Semana                                411547 non-null  object        \n 7   Hora do Acidente                             411547 non-null  object        \n 8   Turno                                        411547 non-null  object        \n 9   Município                                    411547 non-null  object        \n 10  Região Administrativa                        411547 non-null  object        \n 11  Logradouro                                   411546 non-null  object        \n 12  Numero/KM                                    411547 non-null  object        \n 13  Jurisdição                                   411547 non-null  object        \n 14  Administração                                411547 non-null  object        \n 15  Conservação                                  411547 non-null  object        \n 16  Latitude                                     411547 non-null  object        \n 17  Longitude                                    411547 non-null  object        \n 18  Condições Climáticas                         411547 non-null  object        \n 19  Iluminação                                   411547 non-null  object        \n 20  Mão de direção                               377613 non-null  object        \n 21  Obras na pista                               377613 non-null  object        \n 22  Relevo                                       377613 non-null  object        \n 23  Superfície da via                            411547 non-null  object        \n 24  Tipo de pavimento                            377613 non-null  object        \n 25  Tipo de pista                                411547 non-null  object        \n 26  Traçado                                      377613 non-null  object        \n 27  Veículos Envolvidos - Bicicleta              377613 non-null  float64       \n 28  Veículos Envolvidos - Caminhão               377613 non-null  float64       \n 29  Veículos Envolvidos - Automóvel              377613 non-null  float64       \n 30  Veículos Envolvidos - Outros                 377613 non-null  float64       \n 31  Veículos Envolvidos - Motocicleta            377613 non-null  float64       \n 32  Veículos Envolvidos - Ônibus                 377613 non-null  float64       \n 33  Veículos Envolvidos - ND                     377613 non-null  float64       \n 34  Veículos Envolvidos - Pedestre               377613 non-null  float64       \n 35  Pessoas Envolvidas - Grave                   377613 non-null  float64       \n 36  Pessoas Envolvidas - Ileso                   377613 non-null  float64       \n 37  Pessoas Envolvidas - Leve                    377613 non-null  float64       \n 38  Pessoas Envolvidas - Fatal                   377613 non-null  float64       \n 39  Pessoas Envolvidas - Feridos                 377613 non-null  float64       \n 40  Pessoas Envolvidas - ND                      377613 non-null  float64       \n 41  Serviço de Atendimento - Bombeiro            377613 non-null  object        \n 42  Serviço de Atendimento - PMRV                377613 non-null  object        \n 43  Serviço de Atendimento - PRF                 377613 non-null  object        \n 44  Serviço de Atendimento - Radio Patrulha      377613 non-null  object        \n 45  Servciço de Atendimento - CPTRAN             377613 non-null  object        \n 46  Tipo de Via                                  411547 non-null  object        \n 47  Tipo de Acidente - Atropelamento             377613 non-null  float64       \n 48  Tipo de Acidente - Choque                    377613 non-null  float64       \n 49  Tipo de Acidente - Colisão                   377613 non-null  float64       \n 50  Tipo de Acidente - Outros tipos de Acidente  377613 non-null  float64       \n 51  Tipo de Acidente - ND                        377613 non-null  float64       \n 52  Turno + Dia de Semana                        377613 non-null  object        \n 53  Tempo entre o Acidente e as Mortes           33934 non-null   object        \n 54  Acidente Fatal                               411547 non-null  int64         \n 55  Acidente Não Fatal                           411547 non-null  int64         \n 56  Id Delegacia                                 33934 non-null   float64       \n 57  Número BO                                    33934 non-null   float64       \n 58  Ano BO                                       33934 non-null   float64       \n 59  Tipo do Local do Acidente                    33934 non-null   object        \n 60  Outro Veículo Envolvido                      22544 non-null   object        \n 61  Sentido da Via (SIOPM)                       33934 non-null   object        \n 62  Limite da velocidade da via (SIOPM)          33934 non-null   object        \n 63  Quantidade de vítimas                        33934 non-null   float64       \n 64  Data do Óbito                                33934 non-null   object        \n 65  Dia do óbito                                 33934 non-null   float64       \n 66  Mês do Óbito                                 33934 non-null   float64       \n 67  Mês Óbito Descrição                          33934 non-null   object        \n 68  Ano do Óbito                                 33934 non-null   float64       \n 69  Ano/Mês do Óbito                             33934 non-null   float64       \n 70  Tipo do local da ocorrência                  33934 non-null   object        \n 71  Tipo do veículo da vítima                    33934 non-null   object        \n 72  Tipo de vítima                               33934 non-null   object        \n 73  Local do óbito                               33934 non-null   object        \n 74  Tipo de acidente                             33934 non-null   object        \n 75  Sub Tipo do Acidente                         17194 non-null   object        \n 76  Sexo                                         33934 non-null   object        \n 77  Faixa etária                                 33934 non-null   object        \n 78  Idade da vítima                              33934 non-null   object        \n 79  Tempo entre o Acidente e o Óbito             33934 non-null   object        \ndtypes: datetime64[ns](3), float64(28), int64(3), object(46)\nmemory usage: 254.3+ MB\n"
     ]
    }
   ],
   "source": [
    "df_acidentes.info()"
   ]
  },
  {
   "cell_type": "code",
   "execution_count": 19,
   "metadata": {},
   "outputs": [
    {
     "output_type": "stream",
     "name": "stdout",
     "text": [
      "df_obitos (34657, 34)\ndf_fatais (31791, 32)\ndf_nao_fatais (377613, 56)\ndf_fatais_geral (33934, 50)\ndf_acidentes (411547, 80)\n"
     ]
    }
   ],
   "source": [
    "#checando sempre a quantidade de dados dos dataframes\n",
    "print('df_obitos',df_obitos.shape)\n",
    "print('df_fatais',df_fatais.shape)\n",
    "print('df_nao_fatais',df_nao_fatais.shape)\n",
    "print('df_fatais_geral',df_fatais_geral.shape)\n",
    "print('df_acidentes',df_acidentes.shape)"
   ]
  },
  {
   "cell_type": "code",
   "execution_count": 20,
   "metadata": {},
   "outputs": [],
   "source": [
    "#FILTROS\n",
    "# Filtrando por Região metropolitana de SP\n",
    "df_acidentes_sp = df_acidentes.loc[df_acidentes['Região Administrativa']=='Metropolitana de São Paulo']#\n",
    "# df_nao_fatais_sp_moto = df_nao_fatais_sp_moto.loc[df_nao_fatais_sp_moto['Data do Acidente']>='2019-01-01']\n",
    "# df_nao_fatais_sp_moto = df_nao_fatais_sp_moto.loc[df_nao_fatais_sp_moto['Data do Acidente']<='2020-12-31']"
   ]
  },
  {
   "cell_type": "code",
   "execution_count": 21,
   "metadata": {},
   "outputs": [],
   "source": [
    "#filtrando por acidentes que envolvem motocicleta\n",
    "# criando dataframes preliminares com diferentes filtros, pra depois concatenar\n",
    "df_acidentes_sp_moto1 = df_acidentes_sp.loc[df_acidentes_sp['Veículos Envolvidos - Motocicleta']==1] #dados que vem do \"não fatais\" onde temos motos envolvidas\n",
    "df_acidentes_sp_moto2 = df_acidentes_sp.loc[df_acidentes_sp['Tipo do veículo da vítima']=='MOTOCICLETA'] # dados que vem dos \"fatais\", que são os óbitos de motocicleta\n",
    "df_acidentes_sp_moto3 = df_acidentes_sp.loc[df_acidentes_sp['Outro Veículo Envolvido']=='MOTOCICLETA'] # dados que vem dos \"fatais\" , que podem ter motos como outo veículo envolvido\n",
    "#concatenando os 3 dataframes\n",
    "df_acidentes_sp_moto = pd.concat([df_acidentes_sp_moto1,df_acidentes_sp_moto2,df_acidentes_sp_moto3])\n",
    "#checando duplicatas\n",
    "df_acidentes_sp_moto.duplicated().value_counts() #169 duplicatas pois tem como motocicletas o 'Tipo do veículo da vítima' e 'Outro Veículo Envolvido', do df_fatais. deletar!\n",
    "df_acidentes_sp_moto = df_acidentes_sp_moto.drop_duplicates()"
   ]
  },
  {
   "cell_type": "code",
   "execution_count": 22,
   "metadata": {},
   "outputs": [
    {
     "output_type": "stream",
     "name": "stdout",
     "text": [
      "<class 'pandas.core.frame.DataFrame'>\nInt64Index: 62479 entries, 0 to 33910\nData columns (total 80 columns):\n #   Column                                       Non-Null Count  Dtype         \n---  ------                                       --------------  -----         \n 0   ID                                           62479 non-null  int64         \n 1   Data do Acidente                             62479 non-null  datetime64[ns]\n 2   Dia do Acidente                              62479 non-null  datetime64[ns]\n 3   Mês do Acidente                              62479 non-null  object        \n 4   Ano do Acidente                              62479 non-null  datetime64[ns]\n 5   Ano/Mês do Acidente                          62479 non-null  float64       \n 6   Dia da Semana                                62479 non-null  object        \n 7   Hora do Acidente                             62479 non-null  object        \n 8   Turno                                        62479 non-null  object        \n 9   Município                                    62479 non-null  object        \n 10  Região Administrativa                        62479 non-null  object        \n 11  Logradouro                                   62479 non-null  object        \n 12  Numero/KM                                    62479 non-null  object        \n 13  Jurisdição                                   62479 non-null  object        \n 14  Administração                                62479 non-null  object        \n 15  Conservação                                  62479 non-null  object        \n 16  Latitude                                     62479 non-null  object        \n 17  Longitude                                    62479 non-null  object        \n 18  Condições Climáticas                         62479 non-null  object        \n 19  Iluminação                                   62479 non-null  object        \n 20  Mão de direção                               58161 non-null  object        \n 21  Obras na pista                               58161 non-null  object        \n 22  Relevo                                       58161 non-null  object        \n 23  Superfície da via                            62479 non-null  object        \n 24  Tipo de pavimento                            58161 non-null  object        \n 25  Tipo de pista                                62479 non-null  object        \n 26  Traçado                                      58161 non-null  object        \n 27  Veículos Envolvidos - Bicicleta              58161 non-null  float64       \n 28  Veículos Envolvidos - Caminhão               58161 non-null  float64       \n 29  Veículos Envolvidos - Automóvel              58161 non-null  float64       \n 30  Veículos Envolvidos - Outros                 58161 non-null  float64       \n 31  Veículos Envolvidos - Motocicleta            58161 non-null  float64       \n 32  Veículos Envolvidos - Ônibus                 58161 non-null  float64       \n 33  Veículos Envolvidos - ND                     58161 non-null  float64       \n 34  Veículos Envolvidos - Pedestre               58161 non-null  float64       \n 35  Pessoas Envolvidas - Grave                   58161 non-null  float64       \n 36  Pessoas Envolvidas - Ileso                   58161 non-null  float64       \n 37  Pessoas Envolvidas - Leve                    58161 non-null  float64       \n 38  Pessoas Envolvidas - Fatal                   58161 non-null  float64       \n 39  Pessoas Envolvidas - Feridos                 58161 non-null  float64       \n 40  Pessoas Envolvidas - ND                      58161 non-null  float64       \n 41  Serviço de Atendimento - Bombeiro            58161 non-null  object        \n 42  Serviço de Atendimento - PMRV                58161 non-null  object        \n 43  Serviço de Atendimento - PRF                 58161 non-null  object        \n 44  Serviço de Atendimento - Radio Patrulha      58161 non-null  object        \n 45  Servciço de Atendimento - CPTRAN             58161 non-null  object        \n 46  Tipo de Via                                  62479 non-null  object        \n 47  Tipo de Acidente - Atropelamento             58161 non-null  float64       \n 48  Tipo de Acidente - Choque                    58161 non-null  float64       \n 49  Tipo de Acidente - Colisão                   58161 non-null  float64       \n 50  Tipo de Acidente - Outros tipos de Acidente  58161 non-null  float64       \n 51  Tipo de Acidente - ND                        58161 non-null  float64       \n 52  Turno + Dia de Semana                        58161 non-null  object        \n 53  Tempo entre o Acidente e as Mortes           4318 non-null   object        \n 54  Acidente Fatal                               62479 non-null  int64         \n 55  Acidente Não Fatal                           62479 non-null  int64         \n 56  Id Delegacia                                 4318 non-null   float64       \n 57  Número BO                                    4318 non-null   float64       \n 58  Ano BO                                       4318 non-null   float64       \n 59  Tipo do Local do Acidente                    4318 non-null   object        \n 60  Outro Veículo Envolvido                      3061 non-null   object        \n 61  Sentido da Via (SIOPM)                       4318 non-null   object        \n 62  Limite da velocidade da via (SIOPM)          4318 non-null   object        \n 63  Quantidade de vítimas                        4318 non-null   float64       \n 64  Data do Óbito                                4318 non-null   object        \n 65  Dia do óbito                                 4318 non-null   float64       \n 66  Mês do Óbito                                 4318 non-null   float64       \n 67  Mês Óbito Descrição                          4318 non-null   object        \n 68  Ano do Óbito                                 4318 non-null   float64       \n 69  Ano/Mês do Óbito                             4318 non-null   float64       \n 70  Tipo do local da ocorrência                  4318 non-null   object        \n 71  Tipo do veículo da vítima                    4318 non-null   object        \n 72  Tipo de vítima                               4318 non-null   object        \n 73  Local do óbito                               4318 non-null   object        \n 74  Tipo de acidente                             4318 non-null   object        \n 75  Sub Tipo do Acidente                         2397 non-null   object        \n 76  Sexo                                         4318 non-null   object        \n 77  Faixa etária                                 4318 non-null   object        \n 78  Idade da vítima                              4318 non-null   object        \n 79  Tempo entre o Acidente e o Óbito             4318 non-null   object        \ndtypes: datetime64[ns](3), float64(28), int64(3), object(46)\nmemory usage: 38.6+ MB\n"
     ]
    }
   ],
   "source": [
    "df_acidentes_sp_moto.info()"
   ]
  },
  {
   "cell_type": "code",
   "execution_count": 23,
   "metadata": {},
   "outputs": [
    {
     "output_type": "stream",
     "name": "stdout",
     "text": [
      "df_obitos (34657, 34)\ndf_fatais (31791, 32)\ndf_nao_fatais (377613, 56)\ndf_fatais_geral (33934, 50)\ndf_acidentes (411547, 80)\ndf_acidentes_sp (159898, 80)\ndf_acidentes_sp_moto (62479, 80)\n"
     ]
    }
   ],
   "source": [
    "#checando sempre a quantidade de dados dos dataframes\n",
    "print('df_obitos',df_obitos.shape)\n",
    "print('df_fatais',df_fatais.shape)\n",
    "print('df_nao_fatais',df_nao_fatais.shape)\n",
    "print('df_fatais_geral',df_fatais_geral.shape)\n",
    "print('df_acidentes',df_acidentes.shape)\n",
    "print('df_acidentes_sp',df_acidentes_sp.shape)\n",
    "print('df_acidentes_sp_moto',df_acidentes_sp_moto.shape)\n"
   ]
  },
  {
   "cell_type": "code",
   "execution_count": 24,
   "metadata": {},
   "outputs": [
    {
     "output_type": "stream",
     "name": "stdout",
     "text": [
      "Proporção de fatais: 6.91 % Portanto temos 4318 acidentes fatais no dataset.\n"
     ]
    }
   ],
   "source": [
    "# checando o balanceamento do dataset\n",
    "positive_proportion = 100*df_acidentes_sp_moto['Acidente Fatal'].value_counts()[1]/len(df_acidentes_sp_moto)\n",
    "print('Proporção de fatais:', round(positive_proportion,2),'%','Portanto temos', df_acidentes_sp_moto['Acidente Fatal'].value_counts()[1],'acidentes fatais no dataset.')"
   ]
  },
  {
   "cell_type": "code",
   "execution_count": 25,
   "metadata": {},
   "outputs": [
    {
     "output_type": "stream",
     "name": "stdout",
     "text": [
      "<class 'pandas.core.frame.DataFrame'>\nInt64Index: 62479 entries, 0 to 33910\nData columns (total 80 columns):\n #   Column                                       Non-Null Count  Dtype         \n---  ------                                       --------------  -----         \n 0   ID                                           62479 non-null  int64         \n 1   Data do Acidente                             62479 non-null  datetime64[ns]\n 2   Dia do Acidente                              62479 non-null  datetime64[ns]\n 3   Mês do Acidente                              62479 non-null  object        \n 4   Ano do Acidente                              62479 non-null  datetime64[ns]\n 5   Ano/Mês do Acidente                          62479 non-null  float64       \n 6   Dia da Semana                                62479 non-null  object        \n 7   Hora do Acidente                             62479 non-null  object        \n 8   Turno                                        62479 non-null  object        \n 9   Município                                    62479 non-null  object        \n 10  Região Administrativa                        62479 non-null  object        \n 11  Logradouro                                   62479 non-null  object        \n 12  Numero/KM                                    62479 non-null  object        \n 13  Jurisdição                                   62479 non-null  object        \n 14  Administração                                62479 non-null  object        \n 15  Conservação                                  62479 non-null  object        \n 16  Latitude                                     62479 non-null  object        \n 17  Longitude                                    62479 non-null  object        \n 18  Condições Climáticas                         62479 non-null  object        \n 19  Iluminação                                   62479 non-null  object        \n 20  Mão de direção                               58161 non-null  object        \n 21  Obras na pista                               58161 non-null  object        \n 22  Relevo                                       58161 non-null  object        \n 23  Superfície da via                            62479 non-null  object        \n 24  Tipo de pavimento                            58161 non-null  object        \n 25  Tipo de pista                                62479 non-null  object        \n 26  Traçado                                      58161 non-null  object        \n 27  Veículos Envolvidos - Bicicleta              58161 non-null  float64       \n 28  Veículos Envolvidos - Caminhão               58161 non-null  float64       \n 29  Veículos Envolvidos - Automóvel              58161 non-null  float64       \n 30  Veículos Envolvidos - Outros                 58161 non-null  float64       \n 31  Veículos Envolvidos - Motocicleta            58161 non-null  float64       \n 32  Veículos Envolvidos - Ônibus                 58161 non-null  float64       \n 33  Veículos Envolvidos - ND                     58161 non-null  float64       \n 34  Veículos Envolvidos - Pedestre               58161 non-null  float64       \n 35  Pessoas Envolvidas - Grave                   58161 non-null  float64       \n 36  Pessoas Envolvidas - Ileso                   58161 non-null  float64       \n 37  Pessoas Envolvidas - Leve                    58161 non-null  float64       \n 38  Pessoas Envolvidas - Fatal                   58161 non-null  float64       \n 39  Pessoas Envolvidas - Feridos                 58161 non-null  float64       \n 40  Pessoas Envolvidas - ND                      58161 non-null  float64       \n 41  Serviço de Atendimento - Bombeiro            58161 non-null  object        \n 42  Serviço de Atendimento - PMRV                58161 non-null  object        \n 43  Serviço de Atendimento - PRF                 58161 non-null  object        \n 44  Serviço de Atendimento - Radio Patrulha      58161 non-null  object        \n 45  Servciço de Atendimento - CPTRAN             58161 non-null  object        \n 46  Tipo de Via                                  62479 non-null  object        \n 47  Tipo de Acidente - Atropelamento             58161 non-null  float64       \n 48  Tipo de Acidente - Choque                    58161 non-null  float64       \n 49  Tipo de Acidente - Colisão                   58161 non-null  float64       \n 50  Tipo de Acidente - Outros tipos de Acidente  58161 non-null  float64       \n 51  Tipo de Acidente - ND                        58161 non-null  float64       \n 52  Turno + Dia de Semana                        58161 non-null  object        \n 53  Tempo entre o Acidente e as Mortes           4318 non-null   object        \n 54  Acidente Fatal                               62479 non-null  int64         \n 55  Acidente Não Fatal                           62479 non-null  int64         \n 56  Id Delegacia                                 4318 non-null   float64       \n 57  Número BO                                    4318 non-null   float64       \n 58  Ano BO                                       4318 non-null   float64       \n 59  Tipo do Local do Acidente                    4318 non-null   object        \n 60  Outro Veículo Envolvido                      3061 non-null   object        \n 61  Sentido da Via (SIOPM)                       4318 non-null   object        \n 62  Limite da velocidade da via (SIOPM)          4318 non-null   object        \n 63  Quantidade de vítimas                        4318 non-null   float64       \n 64  Data do Óbito                                4318 non-null   object        \n 65  Dia do óbito                                 4318 non-null   float64       \n 66  Mês do Óbito                                 4318 non-null   float64       \n 67  Mês Óbito Descrição                          4318 non-null   object        \n 68  Ano do Óbito                                 4318 non-null   float64       \n 69  Ano/Mês do Óbito                             4318 non-null   float64       \n 70  Tipo do local da ocorrência                  4318 non-null   object        \n 71  Tipo do veículo da vítima                    4318 non-null   object        \n 72  Tipo de vítima                               4318 non-null   object        \n 73  Local do óbito                               4318 non-null   object        \n 74  Tipo de acidente                             4318 non-null   object        \n 75  Sub Tipo do Acidente                         2397 non-null   object        \n 76  Sexo                                         4318 non-null   object        \n 77  Faixa etária                                 4318 non-null   object        \n 78  Idade da vítima                              4318 non-null   object        \n 79  Tempo entre o Acidente e o Óbito             4318 non-null   object        \ndtypes: datetime64[ns](3), float64(28), int64(3), object(46)\nmemory usage: 38.6+ MB\n"
     ]
    }
   ],
   "source": [
    "#PRECISAMOS CHECAR COLUNAS ANTES DO REPLACE NAN\n",
    "df_acidentes_sp_moto.info()"
   ]
  },
  {
   "cell_type": "code",
   "execution_count": 26,
   "metadata": {},
   "outputs": [],
   "source": [
    "df_acidentes_sp_moto = df_acidentes_sp_moto[['Data do Acidente', 'Dia da Semana',\n",
    "       'Hora do Acidente', 'Turno', 'Município', 'Jurisdição', 'Administração', 'Conservação',\n",
    "       'Latitude', 'Longitude', 'Condições Climáticas', 'Iluminação',\n",
    "       'Mão de direção', 'Relevo', 'Superfície da via',\n",
    "       'Tipo de pavimento', 'Tipo de pista', 'Traçado',\n",
    "       'Tipo de Via','Acidente Fatal']]"
   ]
  },
  {
   "cell_type": "code",
   "execution_count": 27,
   "metadata": {},
   "outputs": [],
   "source": [
    "#Definir variáveis ciclicas:\n",
    "#mes, dia da semana, hora, turno\n",
    "\n",
    "#recursive feature extraction (escolhe o número de variáveis)\n",
    "\n",
    "#Checklist features: Total do dataset 62,5K linhas e 4318 fatais.\n",
    "# 'Data do Acidente' OK\n",
    "# 'Dia da Semana' OK\n",
    "# Turno e hora do acidente : 253 ND e todos vem dos fatais...temos que consertar isso. fillna moda!! JÁ FIZ!\n",
    "#municipio OK\n",
    "# Jurisdição: 4 categorias, 882 ND, só no fatais temos 184 ND. fillna randomico e proporcional?\n",
    "# Administração: 5 categorias, 14020 ND, só no fatais tem 142 ND. fillna randomico e proporcional?\n",
    "# Conservação: 16 categorias, 1403 ND, só no fatais tem 143 ND\n",
    "# cond climaticas: 7 categorias, 11529 ND, só nos fatais tem 3588. API de confição do tempo pra completar os dados?*******************\n",
    "# iluminação : 8 Categorias,  12540 ND, só nos fatias tem 3588. O que faremos aqui?? correlacionar com outros endereços e pegar a informação?*************\n",
    "# 'Mão de direção' (EXCLUSIVO NAO FATAIS): 2 Categ, 9020 ND, porém não temos dados de fatais. correlacionar com outros endereços e pegar a informação?\n",
    "# 'Obras na pista': 55k ND, melhor dropar\n",
    "# 'Relevo' (EXCLUSIVO NAO FATAIS): 3 Categorias, 9020 ND, porém não temos dados de fatais. correlacionar com outros endereços e pegar a informação?\n",
    "# 'Superfície da via': 6 categorias, 12603 ND,  só nos fatais tem 3583. O que faremos aqui??***********\n",
    "# Tipo de pavimento (EXCLUSIVO NAO FATAIS): 7 categorias, 9020 ND, porém não temos dados de fatais. correlacionar com outros endereços e pegar a informação?\n",
    "# Tipo de pista: 3 categorias, 11276 ND, só nos fatais tem 3583 ND. O que fazer aqui?***********\n",
    "# 'Traçado'(EXCLUSIVO NAO FATAIS):7 categorais, 9020 ND porém nao temos em fatais.\n",
    "# Veículos envolvidos (EXCLUSIVO NAO FATAIS): todos já são dummies, porém são de não fatais. dropar para prever fatal e não fatal.\n",
    "# Pessoas envoldias (EXCLUSIVO NAO FATAIS): todos já são dummies, porém são de não fatais. dropar para prever fatal e não fatal.\n",
    "# Tipo de Via: 2 categorias, 778 ND sendo 129 no fatais.\n",
    "# Tipo de acidente (EXCLUSIVO NAO FATAIS): todos já são dummies, porém são de não fatais. dropar para prever fatal e não fatal.\n",
    "# 'Tipo do Local do Acidente' E DEMAIS (EXCLUSIVO PARA FATAIS): DROPAR TUDO PQ É SÓ PRA FATAIS."
   ]
  },
  {
   "cell_type": "code",
   "execution_count": 28,
   "metadata": {},
   "outputs": [
    {
     "output_type": "execute_result",
     "data": {
      "text/plain": [
       "       Condições Climáticas           Latitude          Longitude  \\\n",
       "274421                  BOM         -23,735128        -46,5605649   \n",
       "194194                  BOM     -23,7114359536      -46,548815941   \n",
       "87632        NAO DISPONIVEL           -23,5778           -46,9066   \n",
       "30866        NAO DISPONIVEL     -23,5466577824     -46,2056692457   \n",
       "203907                  BOM     -23,6990754035     -46,4376554034   \n",
       "13162                   BOM        -23,5543697        -46,6249654   \n",
       "356303                CHUVA     -23,5798280839     -46,6627233133   \n",
       "266114                  BOM       -23,59718865     -46,5330500877   \n",
       "164088                  BOM  -23,5128128186263  -46,6904486534985   \n",
       "114608                  BOM      -23,563833529  -46,7458730389999   \n",
       "259119                  BOM     -23,5393186253     -46,5337899567   \n",
       "46713                   BOM   -23,684428374418  -46,4647697213783   \n",
       "262391                  BOM     -23,5547299599     -46,6695242914   \n",
       "30360                   BOM  -23,5433622185555  -46,2570917166666   \n",
       "174750                  BOM   -23,531818752267  -46,5225590045205   \n",
       "100836                  BOM      -23,624588177      -46,700215355   \n",
       "257632                  BOM      -23,570557049       -46,67315947   \n",
       "221229                CHUVA     -23,5527218781     -46,6378919325   \n",
       "69074                   BOM        -23,6567796        -46,7177224   \n",
       "229505                  BOM        -23,5340958        -46,6247629   \n",
       "\n",
       "       Hora do Acidente Data do Acidente  \n",
       "274421            09:42       2019-07-26  \n",
       "194194            10:39       2019-12-30  \n",
       "87632             16:23       2020-09-05  \n",
       "30866          07:16:00       2015-06-13  \n",
       "203907            13:27       2019-12-11  \n",
       "13162             18:46       2021-02-01  \n",
       "356303            20:08       2019-02-16  \n",
       "266114            20:57       2019-08-12  \n",
       "164088            11:06       2020-03-05  \n",
       "114608            22:28       2020-07-10  \n",
       "259119            19:01       2019-08-25  \n",
       "46713             18:49       2020-11-25  \n",
       "262391            08:06       2019-08-19  \n",
       "30360             03:19       2020-12-25  \n",
       "174750            07:25       2020-02-12  \n",
       "100836            19:00       2020-08-08  \n",
       "257632            17:02       2019-08-28  \n",
       "221229            20:50       2019-11-08  \n",
       "69074             07:32       2020-10-12  \n",
       "229505            23:11       2019-10-23  "
      ],
      "text/html": "<div>\n<style scoped>\n    .dataframe tbody tr th:only-of-type {\n        vertical-align: middle;\n    }\n\n    .dataframe tbody tr th {\n        vertical-align: top;\n    }\n\n    .dataframe thead th {\n        text-align: right;\n    }\n</style>\n<table border=\"1\" class=\"dataframe\">\n  <thead>\n    <tr style=\"text-align: right;\">\n      <th></th>\n      <th>Condições Climáticas</th>\n      <th>Latitude</th>\n      <th>Longitude</th>\n      <th>Hora do Acidente</th>\n      <th>Data do Acidente</th>\n    </tr>\n  </thead>\n  <tbody>\n    <tr>\n      <th>274421</th>\n      <td>BOM</td>\n      <td>-23,735128</td>\n      <td>-46,5605649</td>\n      <td>09:42</td>\n      <td>2019-07-26</td>\n    </tr>\n    <tr>\n      <th>194194</th>\n      <td>BOM</td>\n      <td>-23,7114359536</td>\n      <td>-46,548815941</td>\n      <td>10:39</td>\n      <td>2019-12-30</td>\n    </tr>\n    <tr>\n      <th>87632</th>\n      <td>NAO DISPONIVEL</td>\n      <td>-23,5778</td>\n      <td>-46,9066</td>\n      <td>16:23</td>\n      <td>2020-09-05</td>\n    </tr>\n    <tr>\n      <th>30866</th>\n      <td>NAO DISPONIVEL</td>\n      <td>-23,5466577824</td>\n      <td>-46,2056692457</td>\n      <td>07:16:00</td>\n      <td>2015-06-13</td>\n    </tr>\n    <tr>\n      <th>203907</th>\n      <td>BOM</td>\n      <td>-23,6990754035</td>\n      <td>-46,4376554034</td>\n      <td>13:27</td>\n      <td>2019-12-11</td>\n    </tr>\n    <tr>\n      <th>13162</th>\n      <td>BOM</td>\n      <td>-23,5543697</td>\n      <td>-46,6249654</td>\n      <td>18:46</td>\n      <td>2021-02-01</td>\n    </tr>\n    <tr>\n      <th>356303</th>\n      <td>CHUVA</td>\n      <td>-23,5798280839</td>\n      <td>-46,6627233133</td>\n      <td>20:08</td>\n      <td>2019-02-16</td>\n    </tr>\n    <tr>\n      <th>266114</th>\n      <td>BOM</td>\n      <td>-23,59718865</td>\n      <td>-46,5330500877</td>\n      <td>20:57</td>\n      <td>2019-08-12</td>\n    </tr>\n    <tr>\n      <th>164088</th>\n      <td>BOM</td>\n      <td>-23,5128128186263</td>\n      <td>-46,6904486534985</td>\n      <td>11:06</td>\n      <td>2020-03-05</td>\n    </tr>\n    <tr>\n      <th>114608</th>\n      <td>BOM</td>\n      <td>-23,563833529</td>\n      <td>-46,7458730389999</td>\n      <td>22:28</td>\n      <td>2020-07-10</td>\n    </tr>\n    <tr>\n      <th>259119</th>\n      <td>BOM</td>\n      <td>-23,5393186253</td>\n      <td>-46,5337899567</td>\n      <td>19:01</td>\n      <td>2019-08-25</td>\n    </tr>\n    <tr>\n      <th>46713</th>\n      <td>BOM</td>\n      <td>-23,684428374418</td>\n      <td>-46,4647697213783</td>\n      <td>18:49</td>\n      <td>2020-11-25</td>\n    </tr>\n    <tr>\n      <th>262391</th>\n      <td>BOM</td>\n      <td>-23,5547299599</td>\n      <td>-46,6695242914</td>\n      <td>08:06</td>\n      <td>2019-08-19</td>\n    </tr>\n    <tr>\n      <th>30360</th>\n      <td>BOM</td>\n      <td>-23,5433622185555</td>\n      <td>-46,2570917166666</td>\n      <td>03:19</td>\n      <td>2020-12-25</td>\n    </tr>\n    <tr>\n      <th>174750</th>\n      <td>BOM</td>\n      <td>-23,531818752267</td>\n      <td>-46,5225590045205</td>\n      <td>07:25</td>\n      <td>2020-02-12</td>\n    </tr>\n    <tr>\n      <th>100836</th>\n      <td>BOM</td>\n      <td>-23,624588177</td>\n      <td>-46,700215355</td>\n      <td>19:00</td>\n      <td>2020-08-08</td>\n    </tr>\n    <tr>\n      <th>257632</th>\n      <td>BOM</td>\n      <td>-23,570557049</td>\n      <td>-46,67315947</td>\n      <td>17:02</td>\n      <td>2019-08-28</td>\n    </tr>\n    <tr>\n      <th>221229</th>\n      <td>CHUVA</td>\n      <td>-23,5527218781</td>\n      <td>-46,6378919325</td>\n      <td>20:50</td>\n      <td>2019-11-08</td>\n    </tr>\n    <tr>\n      <th>69074</th>\n      <td>BOM</td>\n      <td>-23,6567796</td>\n      <td>-46,7177224</td>\n      <td>07:32</td>\n      <td>2020-10-12</td>\n    </tr>\n    <tr>\n      <th>229505</th>\n      <td>BOM</td>\n      <td>-23,5340958</td>\n      <td>-46,6247629</td>\n      <td>23:11</td>\n      <td>2019-10-23</td>\n    </tr>\n  </tbody>\n</table>\n</div>"
     },
     "metadata": {},
     "execution_count": 28
    }
   ],
   "source": [
    "df_acidentes_sp_moto[['Condições Climáticas','Latitude','Longitude','Hora do Acidente','Data do Acidente']].sample(20)"
   ]
  },
  {
   "cell_type": "code",
   "execution_count": 29,
   "metadata": {},
   "outputs": [
    {
     "output_type": "execute_result",
     "data": {
      "text/plain": [
       "Series([], Name: Condições Climáticas, dtype: object)"
      ]
     },
     "metadata": {},
     "execution_count": 29
    }
   ],
   "source": [
    "#entendendo melhor os missing values de condição climática\n",
    "# df_acidentes_sp_moto['Condições Climáticas'].loc[df_acidentes_sp_moto['Condições Climáticas'].isnull()]\n",
    "#16 antes de 2015\n",
    "#700 em 2015\n",
    "#640 em 2016\n",
    "#715 em 2017\n",
    "#770 em 2018\n",
    "#4550 em 2019\n",
    "#3646 em 2020\n",
    "#492 em 2021\n",
    "df_acidentes_sp_moto['Condições Climáticas'].loc[(df_acidentes_sp_moto['Data do Acidente']>='2000-01-01')&(df_acidentes_sp_moto['Data do Acidente']<'2022-01-01')&(df_acidentes_sp_moto['Condições Climáticas'].isnull())&(df_acidentes_sp_moto['Acidente Fatal']==1)]\n"
   ]
  },
  {
   "cell_type": "code",
   "execution_count": 30,
   "metadata": {},
   "outputs": [
    {
     "output_type": "stream",
     "name": "stdout",
     "text": [
      "<class 'pandas.core.frame.DataFrame'>\nInt64Index: 62479 entries, 0 to 33910\nData columns (total 20 columns):\n #   Column                Non-Null Count  Dtype         \n---  ------                --------------  -----         \n 0   Data do Acidente      62479 non-null  datetime64[ns]\n 1   Dia da Semana         62479 non-null  object        \n 2   Hora do Acidente      62479 non-null  object        \n 3   Turno                 62479 non-null  object        \n 4   Município             62479 non-null  object        \n 5   Jurisdição            62479 non-null  object        \n 6   Administração         62479 non-null  object        \n 7   Conservação           62479 non-null  object        \n 8   Latitude              62479 non-null  object        \n 9   Longitude             62479 non-null  object        \n 10  Condições Climáticas  62479 non-null  object        \n 11  Iluminação            62479 non-null  object        \n 12  Mão de direção        58161 non-null  object        \n 13  Relevo                58161 non-null  object        \n 14  Superfície da via     62479 non-null  object        \n 15  Tipo de pavimento     58161 non-null  object        \n 16  Tipo de pista         62479 non-null  object        \n 17  Traçado               58161 non-null  object        \n 18  Tipo de Via           62479 non-null  object        \n 19  Acidente Fatal        62479 non-null  int64         \ndtypes: datetime64[ns](1), int64(1), object(18)\nmemory usage: 10.0+ MB\n"
     ]
    }
   ],
   "source": [
    "df_acidentes_sp_moto.info()\n"
   ]
  },
  {
   "cell_type": "code",
   "execution_count": 31,
   "metadata": {},
   "outputs": [
    {
     "output_type": "execute_result",
     "data": {
      "text/plain": [
       "Index(['Data do Acidente', 'Dia da Semana', 'Hora do Acidente', 'Turno',\n",
       "       'Município', 'Jurisdição', 'Administração', 'Conservação', 'Latitude',\n",
       "       'Longitude', 'Condições Climáticas', 'Iluminação', 'Mão de direção',\n",
       "       'Relevo', 'Superfície da via', 'Tipo de pavimento', 'Tipo de pista',\n",
       "       'Traçado', 'Tipo de Via', 'Acidente Fatal'],\n",
       "      dtype='object')"
      ]
     },
     "metadata": {},
     "execution_count": 31
    }
   ],
   "source": [
    "#Substituir os nao disponiveis por nulos\n",
    "df_acidentes_sp_moto.replace('NAO DISPONIVEL', np.nan,inplace=True)\n",
    "df_acidentes_sp_moto.replace('NÃO', np.nan,inplace=True)\n",
    "df_acidentes_sp_moto.replace('NÃO HÁ', np.nan,inplace=True)\n",
    "df_acidentes_sp_moto.columns\n",
    "\n"
   ]
  },
  {
   "cell_type": "code",
   "execution_count": 32,
   "metadata": {},
   "outputs": [
    {
     "output_type": "execute_result",
     "data": {
      "text/plain": [
       "(62479, 20)"
      ]
     },
     "metadata": {},
     "execution_count": 32
    }
   ],
   "source": [
    "df_acidentes_sp_moto.shape"
   ]
  },
  {
   "cell_type": "code",
   "execution_count": 33,
   "metadata": {},
   "outputs": [
    {
     "output_type": "execute_result",
     "data": {
      "text/plain": [
       "0    58161\n",
       "1     4318\n",
       "Name: Acidente Fatal, dtype: int64"
      ]
     },
     "metadata": {},
     "execution_count": 33
    }
   ],
   "source": [
    "df_acidentes_sp_moto['Acidente Fatal'].value_counts()\n"
   ]
  },
  {
   "cell_type": "code",
   "execution_count": 34,
   "metadata": {},
   "outputs": [],
   "source": [
    "#Dropando tudo em branco\n",
    "# df_acidentes_sp_moto.dropna(inplace=True)\n",
    "\n",
    "#Dropando quando não temos LAT, LON\n",
    "df_acidentes_sp_moto = df_acidentes_sp_moto.loc[(df_acidentes_sp_moto['Latitude'].notnull())&(df_acidentes_sp_moto['Longitude'].notnull())]\n",
    "\n",
    "\n"
   ]
  },
  {
   "cell_type": "code",
   "execution_count": 35,
   "metadata": {},
   "outputs": [
    {
     "output_type": "execute_result",
     "data": {
      "text/plain": [
       "0           02:29\n",
       "4           13:47\n",
       "8           21:40\n",
       "21          15:14\n",
       "22          15:18\n",
       "           ...   \n",
       "32976    11:51:00\n",
       "33557    14:53:00\n",
       "33850    14:30:00\n",
       "33867    15:20:00\n",
       "33910    22:50:00\n",
       "Name: Hora do Acidente, Length: 58740, dtype: object"
      ]
     },
     "metadata": {},
     "execution_count": 35
    }
   ],
   "source": [
    "df_acidentes_sp_moto['Hora do Acidente']"
   ]
  },
  {
   "cell_type": "code",
   "execution_count": 36,
   "metadata": {},
   "outputs": [
    {
     "output_type": "execute_result",
     "data": {
      "text/plain": [
       "(58740, 20)"
      ]
     },
     "metadata": {},
     "execution_count": 36
    }
   ],
   "source": [
    "df_acidentes_sp_moto.shape"
   ]
  },
  {
   "cell_type": "code",
   "execution_count": 37,
   "metadata": {},
   "outputs": [],
   "source": [
    "# export\n",
    "# df_acidentes_sp_moto.to_csv('df_acidentes_sp_moto.csv')"
   ]
  },
  {
   "cell_type": "code",
   "execution_count": 38,
   "metadata": {},
   "outputs": [
    {
     "output_type": "stream",
     "name": "stdout",
     "text": [
      "<class 'pandas.core.frame.DataFrame'>\nInt64Index: 58740 entries, 0 to 33910\nData columns (total 20 columns):\n #   Column                Non-Null Count  Dtype         \n---  ------                --------------  -----         \n 0   Data do Acidente      58740 non-null  datetime64[ns]\n 1   Dia da Semana         58740 non-null  object        \n 2   Hora do Acidente      58573 non-null  object        \n 3   Turno                 58573 non-null  object        \n 4   Município             58740 non-null  object        \n 5   Jurisdição            58648 non-null  object        \n 6   Administração         58198 non-null  object        \n 7   Conservação           58197 non-null  object        \n 8   Latitude              58740 non-null  object        \n 9   Longitude             58740 non-null  object        \n 10  Condições Climáticas  48219 non-null  object        \n 11  Iluminação            47238 non-null  object        \n 12  Mão de direção        46452 non-null  object        \n 13  Relevo                46453 non-null  object        \n 14  Superfície da via     47178 non-null  object        \n 15  Tipo de pavimento     46453 non-null  object        \n 16  Tipo de pista         48460 non-null  object        \n 17  Traçado               46453 non-null  object        \n 18  Tipo de Via           58726 non-null  object        \n 19  Acidente Fatal        58740 non-null  int64         \ndtypes: datetime64[ns](1), int64(1), object(18)\nmemory usage: 9.4+ MB\n"
     ]
    }
   ],
   "source": [
    "df_acidentes_sp_moto.info()"
   ]
  },
  {
   "cell_type": "code",
   "execution_count": null,
   "metadata": {},
   "outputs": [],
   "source": []
  }
 ]
}