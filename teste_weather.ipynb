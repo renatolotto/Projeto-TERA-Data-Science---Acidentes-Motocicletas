{
 "metadata": {
  "language_info": {
   "codemirror_mode": {
    "name": "ipython",
    "version": 3
   },
   "file_extension": ".py",
   "mimetype": "text/x-python",
   "name": "python",
   "nbconvert_exporter": "python",
   "pygments_lexer": "ipython3",
   "version": "3.8.8"
  },
  "orig_nbformat": 2,
  "kernelspec": {
   "name": "python388jvsc74a57bd054aafdb36ba7a57007c1052e291baf553a31e85cae918a266292c7469c0efefb",
   "display_name": "Python 3.8.8 64-bit ('Data_Science': conda)"
  }
 },
 "nbformat": 4,
 "nbformat_minor": 2,
 "cells": [
  {
   "cell_type": "code",
   "execution_count": 1,
   "metadata": {},
   "outputs": [],
   "source": [
    "\n",
    "import numpy as np\n",
    "import pandas as pd\n",
    "import json\n",
    "import urllib, json\n",
    "# #EDU\n",
    "# with open('teste1.json') as json_data:\n",
    "#     data = json.load(json_data)\n",
    "# days = pd.DataFrame.from_dict(data['days'])\n",
    "# stations = pd.DataFrame.from_dict(data['stations'])\n",
    "# current_conditions = pd.DataFrame.from_dict(data['currentConditions'])\n"
   ]
  },
  {
   "cell_type": "code",
   "execution_count": 2,
   "metadata": {},
   "outputs": [],
   "source": [
    "# API Info\n",
    "#  https://weather.visualcrossing.com/VisualCrossingWebServices/rest/services/timeline/[location]/[date1]/[date2]?key=YOUR_API_KEY \n",
    "\n",
    "# Condições Climáticas\tLatitude\tLongitude\t  Hora do Acidente\tData do Acidente\n",
    "# 246622\tNaN\t      -23.581669571\t-46.631902216\t20:34\t          2019-09-19\n",
    "\n",
    "# https://weather.visualcrossing.com/VisualCrossingWebServices/rest/services/timeline/-23.581669571,-46.631902216/2019-09-19T20:00:00?key=B8JYA2DGP8JEMDN3SH4N4XGTT\n",
    "key='B8JYA2DGP8JEMDN3SH4N4XGTT' #minha chave\n"
   ]
  },
  {
   "cell_type": "code",
   "execution_count": 32,
   "metadata": {},
   "outputs": [
    {
     "output_type": "stream",
     "name": "stdout",
     "text": [
      "{'queryCost': 24, 'latitude': -23.581669571, 'longitude': -46.631902216, 'resolvedAddress': '-23.581669571,-46.631902216', 'address': '-23.581669571,-46.631902216', 'timezone': 'America/Sao_Paulo', 'tzoffset': -3.0, 'days': [{'datetime': '2019-09-19', 'datetimeEpoch': 1568862000, 'tempmax': 88.2, 'tempmin': 62.7, 'temp': 70.3, 'feelslikemax': 86.3, 'feelslikemin': 62.7, 'feelslike': 70.1, 'dew': 60.0, 'humidity': 73.43, 'precip': 0.0, 'precipprob': None, 'precipcover': 0.0, 'preciptype': None, 'snow': 0.0, 'snowdepth': 0.0, 'windgust': 33.3, 'windspeed': 16.7, 'winddir': 152.0, 'pressure': None, 'cloudcover': 60.3, 'visibility': 5.8, 'solarradiation': None, 'solarenergy': None, 'uvindex': 0.0, 'sunrise': '05:59:26', 'sunriseEpoch': 1568883566, 'sunset': '18:01:42', 'sunsetEpoch': 1568926902, 'moonphase': 0.63, 'conditions': 'Partially cloudy', 'description': 'Partly cloudy throughout the day.', 'icon': 'partly-cloudy-day', 'stations': ['SBMT', '83779099999', '83075099999', 'SBSP', 'SBGR', '83780099999'], 'source': 'obs', 'hours': [{'datetime': '00:00:00', 'datetimeEpoch': 1568862000, 'temp': 62.7, 'feelslike': 62.7, 'humidity': 88.27, 'dew': 59.1, 'precip': None, 'precipprob': None, 'snow': 0.0, 'snowdepth': 0.0, 'preciptype': None, 'windgust': None, 'windspeed': 9.0, 'winddir': 160.0, 'pressure': None, 'visibility': 6.1, 'cloudcover': 99.5, 'solarradiation': None, 'solarenergy': None, 'uvindex': 0.0, 'conditions': 'Overcast', 'icon': 'cloudy', 'stations': ['83075099999', 'SBSP', 'SBGR', '83780099999'], 'source': 'obs'}, {'datetime': '01:00:00', 'datetimeEpoch': 1568865600, 'temp': 64.4, 'feelslike': 64.4, 'humidity': 83.1, 'dew': 59.1, 'precip': None, 'precipprob': None, 'snow': 0.0, 'snowdepth': 0.0, 'preciptype': None, 'windgust': None, 'windspeed': 7.9, 'winddir': 160.0, 'pressure': None, 'visibility': 6.1, 'cloudcover': 71.9, 'solarradiation': None, 'solarenergy': None, 'uvindex': 0.0, 'conditions': 'Partially cloudy', 'icon': 'partly-cloudy-night', 'stations': ['83075099999', 'SBSP', 'SBGR', '83780099999'], 'source': 'obs'}, {'datetime': '02:00:00', 'datetimeEpoch': 1568869200, 'temp': 62.7, 'feelslike': 62.7, 'humidity': 88.27, 'dew': 59.1, 'precip': None, 'precipprob': None, 'snow': 0.0, 'snowdepth': 0.0, 'preciptype': None, 'windgust': None, 'windspeed': 10.0, 'winddir': 110.0, 'pressure': None, 'visibility': 6.1, 'cloudcover': 71.9, 'solarradiation': None, 'solarenergy': None, 'uvindex': 0.0, 'conditions': 'Partially cloudy', 'icon': 'partly-cloudy-night', 'stations': ['83075099999', 'SBSP', 'SBGR', '83780099999'], 'source': 'obs'}, {'datetime': '03:00:00', 'datetimeEpoch': 1568872800, 'temp': 62.7, 'feelslike': 62.7, 'humidity': 88.27, 'dew': 59.1, 'precip': None, 'precipprob': None, 'snow': 0.0, 'snowdepth': 0.0, 'preciptype': None, 'windgust': None, 'windspeed': 6.8, 'winddir': 159.0, 'pressure': None, 'visibility': 6.1, 'cloudcover': 71.9, 'solarradiation': None, 'solarenergy': None, 'uvindex': 0.0, 'conditions': 'Partially cloudy', 'icon': 'partly-cloudy-night', 'stations': ['83075099999', 'SBSP', 'SBGR', '83780099999'], 'source': 'obs'}, {'datetime': '04:00:00', 'datetimeEpoch': 1568876400, 'temp': 62.7, 'feelslike': 62.7, 'humidity': 88.27, 'dew': 59.1, 'precip': None, 'precipprob': None, 'snow': 0.0, 'snowdepth': 0.0, 'preciptype': None, 'windgust': None, 'windspeed': 6.8, 'winddir': 149.0, 'pressure': None, 'visibility': 6.1, 'cloudcover': 71.9, 'solarradiation': None, 'solarenergy': None, 'uvindex': 0.0, 'conditions': 'Partially cloudy', 'icon': 'partly-cloudy-night', 'stations': ['83075099999', 'SBSP', 'SBGR', '83780099999'], 'source': 'obs'}, {'datetime': '05:00:00', 'datetimeEpoch': 1568880000, 'temp': 64.4, 'feelslike': 64.4, 'humidity': 83.1, 'dew': 59.1, 'precip': None, 'precipprob': None, 'snow': 0.0, 'snowdepth': 0.0, 'preciptype': None, 'windgust': None, 'windspeed': 6.8, 'winddir': 101.0, 'pressure': None, 'visibility': 6.1, 'cloudcover': 71.9, 'solarradiation': None, 'solarenergy': None, 'uvindex': 0.0, 'conditions': 'Partially cloudy', 'icon': 'partly-cloudy-night', 'stations': ['83075099999', 'SBSP', 'SBGR', '83780099999'], 'source': 'obs'}, {'datetime': '06:00:00', 'datetimeEpoch': 1568883600, 'temp': 64.4, 'feelslike': 64.4, 'humidity': 82.21, 'dew': 58.8, 'precip': None, 'precipprob': None, 'snow': 0.0, 'snowdepth': 0.0, 'preciptype': None, 'windgust': None, 'windspeed': 6.5, 'winddir': 79.0, 'pressure': None, 'visibility': 7.1, 'cloudcover': 75.1, 'solarradiation': None, 'solarenergy': None, 'uvindex': 0.0, 'conditions': 'Partially cloudy', 'icon': 'partly-cloudy-day', 'stations': ['SBMT', '83779099999', '83075099999', 'SBSP', 'SBGR', '83780099999'], 'source': 'obs'}, {'datetime': '07:00:00', 'datetimeEpoch': 1568887200, 'temp': 64.9, 'feelslike': 64.9, 'humidity': 82.99, 'dew': 59.6, 'precip': None, 'precipprob': None, 'snow': 0.0, 'snowdepth': 0.0, 'preciptype': None, 'windgust': None, 'windspeed': 6.3, 'winddir': 82.0, 'pressure': None, 'visibility': 5.8, 'cloudcover': 44.2, 'solarradiation': None, 'solarenergy': None, 'uvindex': 0.0, 'conditions': 'Partially cloudy', 'icon': 'partly-cloudy-day', 'stations': ['SBMT', '83779099999', '83075099999', 'SBSP', 'SBGR', '83780099999'], 'source': 'obs'}, {'datetime': '08:00:00', 'datetimeEpoch': 1568890800, 'temp': 66.2, 'feelslike': 66.2, 'humidity': 78.05, 'dew': 59.1, 'precip': None, 'precipprob': None, 'snow': 0.0, 'snowdepth': 0.0, 'preciptype': None, 'windgust': None, 'windspeed': 8.1, 'winddir': 128.0, 'pressure': None, 'visibility': 6.2, 'cloudcover': 67.5, 'solarradiation': None, 'solarenergy': None, 'uvindex': 0.0, 'conditions': 'Partially cloudy', 'icon': 'partly-cloudy-day', 'stations': ['83075099999', 'SBSP', 'SBGR', '83780099999'], 'source': 'obs'}, {'datetime': '09:00:00', 'datetimeEpoch': 1568894400, 'temp': 68.3, 'feelslike': 68.3, 'humidity': 74.03, 'dew': 59.7, 'precip': None, 'precipprob': None, 'snow': 0.0, 'snowdepth': 0.0, 'preciptype': None, 'windgust': None, 'windspeed': 7.3, 'winddir': 118.0, 'pressure': None, 'visibility': 7.9, 'cloudcover': 53.6, 'solarradiation': None, 'solarenergy': None, 'uvindex': 0.0, 'conditions': 'Partially cloudy', 'icon': 'partly-cloudy-day', 'stations': ['SBMT', '83779099999', '83075099999', 'SBSP', 'SBGR', '83780099999'], 'source': 'obs'}, {'datetime': '10:00:00', 'datetimeEpoch': 1568898000, 'temp': 70.4, 'feelslike': 70.4, 'humidity': 68.78, 'dew': 59.6, 'precip': None, 'precipprob': None, 'snow': 0.0, 'snowdepth': 0.0, 'preciptype': None, 'windgust': None, 'windspeed': 7.6, 'winddir': 96.0, 'pressure': None, 'visibility': 6.2, 'cloudcover': 22.2, 'solarradiation': None, 'solarenergy': None, 'uvindex': 0.0, 'conditions': 'Partially cloudy', 'icon': 'partly-cloudy-day', 'stations': ['SBMT', '83779099999', '83075099999', 'SBSP', 'SBGR', '83780099999'], 'source': 'obs'}, {'datetime': '11:00:00', 'datetimeEpoch': 1568901600, 'temp': 75.2, 'feelslike': 75.2, 'humidity': 58.63, 'dew': 59.7, 'precip': None, 'precipprob': None, 'snow': 0.0, 'snowdepth': 0.0, 'preciptype': None, 'windgust': None, 'windspeed': 6.9, 'winddir': 56.0, 'pressure': None, 'visibility': 6.2, 'cloudcover': 0.0, 'solarradiation': None, 'solarenergy': None, 'uvindex': 0.0, 'conditions': 'Clear', 'icon': 'clear-day', 'stations': ['SBMT', '83779099999', '83075099999', 'SBSP', 'SBGR', '83780099999'], 'source': 'obs'}, {'datetime': '12:00:00', 'datetimeEpoch': 1568905200, 'temp': 80.3, 'feelslike': 81.2, 'humidity': 50.63, 'dew': 60.4, 'precip': None, 'precipprob': None, 'snow': 0.0, 'snowdepth': 0.0, 'preciptype': None, 'windgust': None, 'windspeed': 7.0, 'winddir': 12.0, 'pressure': None, 'visibility': 7.9, 'cloudcover': 0.0, 'solarradiation': None, 'solarenergy': None, 'uvindex': 0.0, 'conditions': 'Clear', 'icon': 'clear-day', 'stations': ['SBMT', '83779099999', '83075099999', 'SBSP', 'SBGR', '83780099999'], 'source': 'obs'}, {'datetime': '13:00:00', 'datetimeEpoch': 1568908800, 'temp': 84.7, 'feelslike': 83.7, 'humidity': 37.91, 'dew': 56.3, 'precip': None, 'precipprob': None, 'snow': 0.0, 'snowdepth': 0.0, 'preciptype': None, 'windgust': None, 'windspeed': 9.4, 'winddir': 356.0, 'pressure': None, 'visibility': 6.2, 'cloudcover': 0.0, 'solarradiation': None, 'solarenergy': None, 'uvindex': 0.0, 'conditions': 'Clear', 'icon': 'clear-day', 'stations': ['SBMT', '83779099999', '83075099999', 'SBSP', 'SBGR', '83780099999'], 'source': 'obs'}, {'datetime': '14:00:00', 'datetimeEpoch': 1568912400, 'temp': 87.8, 'feelslike': 85.8, 'humidity': 31.84, 'dew': 54.1, 'precip': None, 'precipprob': None, 'snow': 0.0, 'snowdepth': 0.0, 'preciptype': None, 'windgust': None, 'windspeed': 14.6, 'winddir': 334.0, 'pressure': None, 'visibility': 5.0, 'cloudcover': 0.0, 'solarradiation': None, 'solarenergy': None, 'uvindex': 0.0, 'conditions': 'Clear', 'icon': 'clear-day', 'stations': ['83075099999', 'SBSP', 'SBGR', '83780099999'], 'source': 'obs'}, {'datetime': '15:00:00', 'datetimeEpoch': 1568916000, 'temp': 88.2, 'feelslike': 86.3, 'humidity': 31.63, 'dew': 54.4, 'precip': None, 'precipprob': None, 'snow': 0.0, 'snowdepth': 0.0, 'preciptype': None, 'windgust': None, 'windspeed': 10.4, 'winddir': 334.0, 'pressure': None, 'visibility': 5.0, 'cloudcover': 59.0, 'solarradiation': None, 'solarenergy': None, 'uvindex': 0.0, 'conditions': 'Partially cloudy', 'icon': 'partly-cloudy-day', 'stations': ['SBMT', '83779099999', '83075099999', 'SBSP', 'SBGR', '83780099999'], 'source': 'obs'}, {'datetime': '16:00:00', 'datetimeEpoch': 1568919600, 'temp': 83.0, 'feelslike': 83.3, 'humidity': 46.26, 'dew': 60.3, 'precip': None, 'precipprob': None, 'snow': 0.0, 'snowdepth': 0.0, 'preciptype': None, 'windgust': 33.3, 'windspeed': 15.5, 'winddir': 212.0, 'pressure': None, 'visibility': 5.0, 'cloudcover': 0.0, 'solarradiation': None, 'solarenergy': None, 'uvindex': 0.0, 'conditions': 'Clear', 'icon': 'clear-day', 'stations': ['SBMT', '83779099999', '83075099999', 'SBSP', 'SBGR', '83780099999'], 'source': 'obs'}, {'datetime': '17:00:00', 'datetimeEpoch': 1568923200, 'temp': 71.0, 'feelslike': 71.0, 'humidity': 79.48, 'dew': 64.4, 'precip': None, 'precipprob': None, 'snow': 0.0, 'snowdepth': 0.0, 'preciptype': None, 'windgust': None, 'windspeed': 16.7, 'winddir': 167.0, 'pressure': None, 'visibility': 5.4, 'cloudcover': 80.6, 'solarradiation': None, 'solarenergy': None, 'uvindex': 0.0, 'conditions': 'Partially cloudy', 'icon': 'partly-cloudy-day', 'stations': ['SBMT', '83779099999', '83075099999', 'SBSP', 'SBGR', '83780099999'], 'source': 'obs'}, {'datetime': '18:00:00', 'datetimeEpoch': 1568926800, 'temp': 66.6, 'feelslike': 66.6, 'humidity': 89.16, 'dew': 63.3, 'precip': None, 'precipprob': None, 'snow': 0.0, 'snowdepth': 0.0, 'preciptype': None, 'windgust': None, 'windspeed': 14.4, 'winddir': 184.0, 'pressure': None, 'visibility': 1.9, 'cloudcover': 89.6, 'solarradiation': None, 'solarenergy': None, 'uvindex': 0.0, 'conditions': 'Partially cloudy', 'icon': 'partly-cloudy-day', 'stations': ['SBMT', '83779099999', '83075099999', 'SBSP', 'SBGR', '83780099999'], 'source': 'obs'}, {'datetime': '19:00:00', 'datetimeEpoch': 1568930400, 'temp': 66.8, 'feelslike': 66.8, 'humidity': 88.38, 'dew': 63.2, 'precip': None, 'precipprob': None, 'snow': 0.0, 'snowdepth': 0.0, 'preciptype': None, 'windgust': None, 'windspeed': 11.5, 'winddir': 154.0, 'pressure': None, 'visibility': 4.1, 'cloudcover': 100.0, 'solarradiation': None, 'solarenergy': None, 'uvindex': 0.0, 'conditions': 'Overcast', 'icon': 'cloudy', 'stations': ['SBMT', '83779099999', '83075099999', 'SBSP', 'SBGR', '83780099999'], 'source': 'obs'}, {'datetime': '20:00:00', 'datetimeEpoch': 1568934000, 'temp': 66.2, 'feelslike': 66.2, 'humidity': 88.68, 'dew': 62.7, 'precip': None, 'precipprob': None, 'snow': 0.0, 'snowdepth': 0.0, 'preciptype': None, 'windgust': None, 'windspeed': 11.1, 'winddir': 160.0, 'pressure': None, 'visibility': 6.1, 'cloudcover': 100.0, 'solarradiation': None, 'solarenergy': None, 'uvindex': 0.0, 'conditions': 'Overcast', 'icon': 'cloudy', 'stations': ['83075099999', 'SBSP', 'SBGR', '83780099999'], 'source': 'obs'}, {'datetime': '21:00:00', 'datetimeEpoch': 1568937600, 'temp': 66.8, 'feelslike': 66.8, 'humidity': 86.38, 'dew': 62.6, 'precip': None, 'precipprob': None, 'snow': 0.0, 'snowdepth': 0.0, 'preciptype': None, 'windgust': None, 'windspeed': 8.0, 'winddir': 137.0, 'pressure': None, 'visibility': 6.1, 'cloudcover': 96.6, 'solarradiation': None, 'solarenergy': None, 'uvindex': 0.0, 'conditions': 'Overcast', 'icon': 'cloudy', 'stations': ['SBMT', '83779099999', '83075099999', 'SBSP', 'SBGR', '83780099999'], 'source': 'obs'}, {'datetime': '22:00:00', 'datetimeEpoch': 1568941200, 'temp': 68.0, 'feelslike': 68.0, 'humidity': 83.19, 'dew': 62.7, 'precip': None, 'precipprob': None, 'snow': 0.0, 'snowdepth': 0.0, 'preciptype': None, 'windgust': None, 'windspeed': 6.1, 'winddir': 107.0, 'pressure': None, 'visibility': 5.8, 'cloudcover': 100.0, 'solarradiation': None, 'solarenergy': None, 'uvindex': 0.0, 'conditions': 'Overcast', 'icon': 'cloudy', 'stations': ['SBMT', '83779099999', '83075099999', 'SBSP', 'SBGR', '83780099999'], 'source': 'obs'}, {'datetime': '23:00:00', 'datetimeEpoch': 1568944800, 'temp': 68.0, 'feelslike': 68.0, 'humidity': 84.82, 'dew': 63.2, 'precip': None, 'precipprob': None, 'snow': 0.0, 'snowdepth': 0.0, 'preciptype': None, 'windgust': None, 'windspeed': 8.8, 'winddir': 92.0, 'pressure': None, 'visibility': 5.8, 'cloudcover': 99.7, 'solarradiation': None, 'solarenergy': None, 'uvindex': 0.0, 'conditions': 'Overcast', 'icon': 'cloudy', 'stations': ['SBMT', '83779099999', '83075099999', 'SBSP', 'SBGR', '83780099999'], 'source': 'obs'}]}], 'stations': {'SBMT': {'distance': 6868.0, 'latitude': -23.52, 'longitude': -46.63, 'useCount': 0, 'id': 'SBMT', 'name': 'SBMT', 'quality': 28, 'contribution': 0.0}, '83779099999': {'distance': 8101.0, 'latitude': -23.509, 'longitude': -46.638, 'useCount': 0, 'id': '83779099999', 'name': 'MARTE, BR', 'quality': 29, 'contribution': 0.0}, '83075099999': {'distance': 23496.0, 'latitude': -23.432, 'longitude': -46.469, 'useCount': 0, 'id': '83075099999', 'name': 'GUARULHOS, BR', 'quality': 50, 'contribution': 0.0}, 'SBSP': {'distance': 4649.0, 'latitude': -23.62, 'longitude': -46.65, 'useCount': 0, 'id': 'SBSP', 'name': 'SBSP', 'quality': 50, 'contribution': 0.0}, 'SBGR': {'distance': 23627.0, 'latitude': -23.43, 'longitude': -46.47, 'useCount': 0, 'id': 'SBGR', 'name': 'SBGR', 'quality': 50, 'contribution': 0.0}, '83780099999': {'distance': 5556.0, 'latitude': -23.627, 'longitude': -46.655, 'useCount': 0, 'id': '83780099999', 'name': 'CONGONHAS, BR', 'quality': 50, 'contribution': 0.0}}, 'currentConditions': {'datetime': '20:00:00', 'datetimeEpoch': 1568934000, 'temp': 66.2, 'feelslike': 66.2, 'humidity': 88.7, 'dew': 62.7, 'precip': None, 'precipprob': None, 'snow': None, 'snowdepth': 0.0, 'preciptype': None, 'windgust': None, 'windspeed': 11.1, 'winddir': 160.0, 'pressure': None, 'visibility': 6.1, 'cloudcover': 100.0, 'solarradiation': None, 'solarenergy': None, 'uvindex': None, 'conditions': 'Overcast', 'icon': 'cloudy', 'stations': ['83075099999', 'SBSP', 'SBGR', '83780099999'], 'sunrise': '05:59:26', 'sunriseEpoch': 1568883566, 'sunset': '18:01:42', 'sunsetEpoch': 1568926902, 'moonphase': 0.64}}\n"
     ]
    }
   ],
   "source": [
    "\n",
    "\n",
    "# url = \"https://weather.visualcrossing.com/VisualCrossingWebServices/rest/services/timeline/-23.581669571,-46.631902216/2019-09-19T20:00:00?key=B8JYA2DGP8JEMDN3SH4N4XGTT\"\n",
    "# response = urllib.request.urlopen(url)\n",
    "# data = json.loads(response.read())\n",
    "# print (data)"
   ]
  },
  {
   "cell_type": "code",
   "execution_count": 33,
   "metadata": {},
   "outputs": [
    {
     "output_type": "execute_result",
     "data": {
      "text/plain": [
       "'Partially cloudy'"
      ]
     },
     "metadata": {},
     "execution_count": 33
    }
   ],
   "source": [
    "# lógica de filtrar do dicionário\n",
    "day_list=data.get('days')#isso é uma lista\n",
    "day_dict = day_list[0]#transformando a lista em dict\n",
    "hours_list = day_dict.get('hours')# isso é uma lista\n",
    "hours_dict = hours_list[1] #o indice inputado é a hora arredeondada do conjunto de dicionarios\n",
    "condition = hours_dict.get('conditions')# ISSO é o que queremos\n",
    "condition"
   ]
  },
  {
   "cell_type": "code",
   "execution_count": 5,
   "metadata": {},
   "outputs": [
    {
     "output_type": "execute_result",
     "data": {
      "text/plain": [
       "'Partially cloudy'"
      ]
     },
     "metadata": {},
     "execution_count": 5
    }
   ],
   "source": [
    "#lógica otimizada\n",
    "time=10\n",
    "condition2 = data.get('days')[0].get('hours')[time].get('conditions')\n",
    "condition2"
   ]
  },
  {
   "cell_type": "code",
   "execution_count": 21,
   "metadata": {},
   "outputs": [
    {
     "output_type": "execute_result",
     "data": {
      "text/plain": [
       "   Data do Acidente  Dia  Mes   Ano Dia da Semana Hora do Acidente  Turno  \\\n",
       "0        2020-11-01    1   11  2020       DOMINGO            06:15  MANHA   \n",
       "1        2020-04-30   30    4  2020        QUINTA            15:03  TARDE   \n",
       "2        2019-11-08    8   11  2019         SEXTA            18:15  NOITE   \n",
       "3        2020-06-01    1    6  2020       SEGUNDA            23:08  NOITE   \n",
       "4        2019-05-16   16    5  2019        QUINTA            07:20  MANHA   \n",
       "5        2020-12-19   19   12  2020        SÁBADO            10:39  MANHA   \n",
       "6        2020-11-08    8   11  2020       DOMINGO            17:24  TARDE   \n",
       "7        2019-10-25   25   10  2019         SEXTA            08:51  MANHA   \n",
       "8        2020-05-30   30    5  2020        SÁBADO            11:23  MANHA   \n",
       "9        2019-11-25   25   11  2019       SEGUNDA            17:33  TARDE   \n",
       "10       2019-07-12   12    7  2019         SEXTA            20:45  NOITE   \n",
       "11       2019-04-25   25    4  2019        QUINTA            21:14  NOITE   \n",
       "12       2019-01-17   17    1  2019        QUINTA            14:52  TARDE   \n",
       "13       2019-01-14   14    1  2019       SEGUNDA         07:33:00  MANHA   \n",
       "14       2021-01-23   23    1  2021        SÁBADO            07:05  MANHA   \n",
       "15       2020-07-22   22    7  2020        QUARTA            07:49  MANHA   \n",
       "16       2020-06-11   11    6  2020        QUINTA            07:00  MANHA   \n",
       "17       2019-11-20   20   11  2019        QUARTA            14:55  TARDE   \n",
       "18       2020-06-03    3    6  2020        QUARTA            16:14  TARDE   \n",
       "19       2019-10-27   27   10  2019       DOMINGO            11:30  MANHA   \n",
       "\n",
       "         Município Jurisdição Administração  ... dias_semana_num  \\\n",
       "0        SAO PAULO  MUNICIPAL    PREFEITURA  ...               7   \n",
       "1        SAO PAULO  MUNICIPAL    PREFEITURA  ...               4   \n",
       "2        SAO PAULO  MUNICIPAL    PREFEITURA  ...               5   \n",
       "3        SAO PAULO  MUNICIPAL    PREFEITURA  ...               1   \n",
       "4        SAO PAULO  MUNICIPAL    PREFEITURA  ...               4   \n",
       "5        SAO PAULO  MUNICIPAL    PREFEITURA  ...               6   \n",
       "6          DIADEMA  MUNICIPAL    PREFEITURA  ...               7   \n",
       "7           OSASCO  MUNICIPAL    PREFEITURA  ...               5   \n",
       "8        GUARAREMA  MUNICIPAL    PREFEITURA  ...               6   \n",
       "9        SAO PAULO  MUNICIPAL    PREFEITURA  ...               1   \n",
       "10       GUARULHOS  MUNICIPAL    PREFEITURA  ...               5   \n",
       "11       SAO PAULO  MUNICIPAL    PREFEITURA  ...               4   \n",
       "12       SAO PAULO  MUNICIPAL    PREFEITURA  ...               4   \n",
       "13       SAO PAULO  MUNICIPAL    PREFEITURA  ...               1   \n",
       "14       SAO PAULO  MUNICIPAL    PREFEITURA  ...               6   \n",
       "15  RIBEIRAO PIRES  MUNICIPAL    PREFEITURA  ...               3   \n",
       "16       SAO PAULO  MUNICIPAL    PREFEITURA  ...               4   \n",
       "17       SAO PAULO  MUNICIPAL    PREFEITURA  ...               3   \n",
       "18       SAO PAULO  MUNICIPAL    PREFEITURA  ...               3   \n",
       "19           COTIA  MUNICIPAL    PREFEITURA  ...               7   \n",
       "\n",
       "   dias_semana_norm dias_semana_sin dias_semana_cos Hora Minuto Segundo  \\\n",
       "0          1.000000   -2.449294e-16        1.000000    6   15.0     NaN   \n",
       "1          0.571429   -4.338837e-01       -0.900969   15    3.0     NaN   \n",
       "2          0.714286   -9.749279e-01       -0.222521   18   15.0     NaN   \n",
       "3          0.142857    7.818315e-01        0.623490   23    8.0     NaN   \n",
       "4          0.571429   -4.338837e-01       -0.900969    7   20.0     NaN   \n",
       "5          0.857143   -7.818315e-01        0.623490   10   39.0     NaN   \n",
       "6          1.000000   -2.449294e-16        1.000000   17   24.0     NaN   \n",
       "7          0.714286   -9.749279e-01       -0.222521    8   51.0     NaN   \n",
       "8          0.857143   -7.818315e-01        0.623490   11   23.0     NaN   \n",
       "9          0.142857    7.818315e-01        0.623490   17   33.0     NaN   \n",
       "10         0.714286   -9.749279e-01       -0.222521   20   45.0     NaN   \n",
       "11         0.571429   -4.338837e-01       -0.900969   21   14.0     NaN   \n",
       "12         0.571429   -4.338837e-01       -0.900969   14   52.0     NaN   \n",
       "13         0.142857    7.818315e-01        0.623490    7   33.0     0.0   \n",
       "14         0.857143   -7.818315e-01        0.623490    7    5.0     NaN   \n",
       "15         0.428571    4.338837e-01       -0.900969    7   49.0     NaN   \n",
       "16         0.571429   -4.338837e-01       -0.900969    7    0.0     NaN   \n",
       "17         0.428571    4.338837e-01       -0.900969   14   55.0     NaN   \n",
       "18         0.428571    4.338837e-01       -0.900969   16   14.0     NaN   \n",
       "19         1.000000   -2.449294e-16        1.000000   11   30.0     NaN   \n",
       "\n",
       "   horario_float horario_sin horario_cos  \n",
       "0       6.250000    0.997859   -0.065403  \n",
       "1      15.050000   -0.716302   -0.697790  \n",
       "2      18.250000   -0.997859    0.065403  \n",
       "3      23.133333   -0.224951    0.974370  \n",
       "4       7.333333    0.939693   -0.342020  \n",
       "5      10.650000    0.346117   -0.938191  \n",
       "6      17.400000   -0.987688   -0.156434  \n",
       "7       8.850000    0.734323   -0.678801  \n",
       "8      11.383333    0.160743   -0.986996  \n",
       "9      17.550000   -0.993068   -0.117537  \n",
       "10     20.750000   -0.751840    0.659346  \n",
       "11     21.233333   -0.662620    0.748956  \n",
       "12     14.866667   -0.681998   -0.731354  \n",
       "13      7.550000    0.918791   -0.394744  \n",
       "14      7.083333    0.960050   -0.279829  \n",
       "15      7.816667    0.889017   -0.457874  \n",
       "16      7.000000    0.965926   -0.258819  \n",
       "17     14.916667   -0.691513   -0.722364  \n",
       "18     16.233333   -0.894934   -0.446198  \n",
       "19     11.500000    0.130526   -0.991445  \n",
       "\n",
       "[20 rows x 35 columns]"
      ],
      "text/html": "<div>\n<style scoped>\n    .dataframe tbody tr th:only-of-type {\n        vertical-align: middle;\n    }\n\n    .dataframe tbody tr th {\n        vertical-align: top;\n    }\n\n    .dataframe thead th {\n        text-align: right;\n    }\n</style>\n<table border=\"1\" class=\"dataframe\">\n  <thead>\n    <tr style=\"text-align: right;\">\n      <th></th>\n      <th>Data do Acidente</th>\n      <th>Dia</th>\n      <th>Mes</th>\n      <th>Ano</th>\n      <th>Dia da Semana</th>\n      <th>Hora do Acidente</th>\n      <th>Turno</th>\n      <th>Município</th>\n      <th>Jurisdição</th>\n      <th>Administração</th>\n      <th>...</th>\n      <th>dias_semana_num</th>\n      <th>dias_semana_norm</th>\n      <th>dias_semana_sin</th>\n      <th>dias_semana_cos</th>\n      <th>Hora</th>\n      <th>Minuto</th>\n      <th>Segundo</th>\n      <th>horario_float</th>\n      <th>horario_sin</th>\n      <th>horario_cos</th>\n    </tr>\n  </thead>\n  <tbody>\n    <tr>\n      <th>0</th>\n      <td>2020-11-01</td>\n      <td>1</td>\n      <td>11</td>\n      <td>2020</td>\n      <td>DOMINGO</td>\n      <td>06:15</td>\n      <td>MANHA</td>\n      <td>SAO PAULO</td>\n      <td>MUNICIPAL</td>\n      <td>PREFEITURA</td>\n      <td>...</td>\n      <td>7</td>\n      <td>1.000000</td>\n      <td>-2.449294e-16</td>\n      <td>1.000000</td>\n      <td>6</td>\n      <td>15.0</td>\n      <td>NaN</td>\n      <td>6.250000</td>\n      <td>0.997859</td>\n      <td>-0.065403</td>\n    </tr>\n    <tr>\n      <th>1</th>\n      <td>2020-04-30</td>\n      <td>30</td>\n      <td>4</td>\n      <td>2020</td>\n      <td>QUINTA</td>\n      <td>15:03</td>\n      <td>TARDE</td>\n      <td>SAO PAULO</td>\n      <td>MUNICIPAL</td>\n      <td>PREFEITURA</td>\n      <td>...</td>\n      <td>4</td>\n      <td>0.571429</td>\n      <td>-4.338837e-01</td>\n      <td>-0.900969</td>\n      <td>15</td>\n      <td>3.0</td>\n      <td>NaN</td>\n      <td>15.050000</td>\n      <td>-0.716302</td>\n      <td>-0.697790</td>\n    </tr>\n    <tr>\n      <th>2</th>\n      <td>2019-11-08</td>\n      <td>8</td>\n      <td>11</td>\n      <td>2019</td>\n      <td>SEXTA</td>\n      <td>18:15</td>\n      <td>NOITE</td>\n      <td>SAO PAULO</td>\n      <td>MUNICIPAL</td>\n      <td>PREFEITURA</td>\n      <td>...</td>\n      <td>5</td>\n      <td>0.714286</td>\n      <td>-9.749279e-01</td>\n      <td>-0.222521</td>\n      <td>18</td>\n      <td>15.0</td>\n      <td>NaN</td>\n      <td>18.250000</td>\n      <td>-0.997859</td>\n      <td>0.065403</td>\n    </tr>\n    <tr>\n      <th>3</th>\n      <td>2020-06-01</td>\n      <td>1</td>\n      <td>6</td>\n      <td>2020</td>\n      <td>SEGUNDA</td>\n      <td>23:08</td>\n      <td>NOITE</td>\n      <td>SAO PAULO</td>\n      <td>MUNICIPAL</td>\n      <td>PREFEITURA</td>\n      <td>...</td>\n      <td>1</td>\n      <td>0.142857</td>\n      <td>7.818315e-01</td>\n      <td>0.623490</td>\n      <td>23</td>\n      <td>8.0</td>\n      <td>NaN</td>\n      <td>23.133333</td>\n      <td>-0.224951</td>\n      <td>0.974370</td>\n    </tr>\n    <tr>\n      <th>4</th>\n      <td>2019-05-16</td>\n      <td>16</td>\n      <td>5</td>\n      <td>2019</td>\n      <td>QUINTA</td>\n      <td>07:20</td>\n      <td>MANHA</td>\n      <td>SAO PAULO</td>\n      <td>MUNICIPAL</td>\n      <td>PREFEITURA</td>\n      <td>...</td>\n      <td>4</td>\n      <td>0.571429</td>\n      <td>-4.338837e-01</td>\n      <td>-0.900969</td>\n      <td>7</td>\n      <td>20.0</td>\n      <td>NaN</td>\n      <td>7.333333</td>\n      <td>0.939693</td>\n      <td>-0.342020</td>\n    </tr>\n    <tr>\n      <th>5</th>\n      <td>2020-12-19</td>\n      <td>19</td>\n      <td>12</td>\n      <td>2020</td>\n      <td>SÁBADO</td>\n      <td>10:39</td>\n      <td>MANHA</td>\n      <td>SAO PAULO</td>\n      <td>MUNICIPAL</td>\n      <td>PREFEITURA</td>\n      <td>...</td>\n      <td>6</td>\n      <td>0.857143</td>\n      <td>-7.818315e-01</td>\n      <td>0.623490</td>\n      <td>10</td>\n      <td>39.0</td>\n      <td>NaN</td>\n      <td>10.650000</td>\n      <td>0.346117</td>\n      <td>-0.938191</td>\n    </tr>\n    <tr>\n      <th>6</th>\n      <td>2020-11-08</td>\n      <td>8</td>\n      <td>11</td>\n      <td>2020</td>\n      <td>DOMINGO</td>\n      <td>17:24</td>\n      <td>TARDE</td>\n      <td>DIADEMA</td>\n      <td>MUNICIPAL</td>\n      <td>PREFEITURA</td>\n      <td>...</td>\n      <td>7</td>\n      <td>1.000000</td>\n      <td>-2.449294e-16</td>\n      <td>1.000000</td>\n      <td>17</td>\n      <td>24.0</td>\n      <td>NaN</td>\n      <td>17.400000</td>\n      <td>-0.987688</td>\n      <td>-0.156434</td>\n    </tr>\n    <tr>\n      <th>7</th>\n      <td>2019-10-25</td>\n      <td>25</td>\n      <td>10</td>\n      <td>2019</td>\n      <td>SEXTA</td>\n      <td>08:51</td>\n      <td>MANHA</td>\n      <td>OSASCO</td>\n      <td>MUNICIPAL</td>\n      <td>PREFEITURA</td>\n      <td>...</td>\n      <td>5</td>\n      <td>0.714286</td>\n      <td>-9.749279e-01</td>\n      <td>-0.222521</td>\n      <td>8</td>\n      <td>51.0</td>\n      <td>NaN</td>\n      <td>8.850000</td>\n      <td>0.734323</td>\n      <td>-0.678801</td>\n    </tr>\n    <tr>\n      <th>8</th>\n      <td>2020-05-30</td>\n      <td>30</td>\n      <td>5</td>\n      <td>2020</td>\n      <td>SÁBADO</td>\n      <td>11:23</td>\n      <td>MANHA</td>\n      <td>GUARAREMA</td>\n      <td>MUNICIPAL</td>\n      <td>PREFEITURA</td>\n      <td>...</td>\n      <td>6</td>\n      <td>0.857143</td>\n      <td>-7.818315e-01</td>\n      <td>0.623490</td>\n      <td>11</td>\n      <td>23.0</td>\n      <td>NaN</td>\n      <td>11.383333</td>\n      <td>0.160743</td>\n      <td>-0.986996</td>\n    </tr>\n    <tr>\n      <th>9</th>\n      <td>2019-11-25</td>\n      <td>25</td>\n      <td>11</td>\n      <td>2019</td>\n      <td>SEGUNDA</td>\n      <td>17:33</td>\n      <td>TARDE</td>\n      <td>SAO PAULO</td>\n      <td>MUNICIPAL</td>\n      <td>PREFEITURA</td>\n      <td>...</td>\n      <td>1</td>\n      <td>0.142857</td>\n      <td>7.818315e-01</td>\n      <td>0.623490</td>\n      <td>17</td>\n      <td>33.0</td>\n      <td>NaN</td>\n      <td>17.550000</td>\n      <td>-0.993068</td>\n      <td>-0.117537</td>\n    </tr>\n    <tr>\n      <th>10</th>\n      <td>2019-07-12</td>\n      <td>12</td>\n      <td>7</td>\n      <td>2019</td>\n      <td>SEXTA</td>\n      <td>20:45</td>\n      <td>NOITE</td>\n      <td>GUARULHOS</td>\n      <td>MUNICIPAL</td>\n      <td>PREFEITURA</td>\n      <td>...</td>\n      <td>5</td>\n      <td>0.714286</td>\n      <td>-9.749279e-01</td>\n      <td>-0.222521</td>\n      <td>20</td>\n      <td>45.0</td>\n      <td>NaN</td>\n      <td>20.750000</td>\n      <td>-0.751840</td>\n      <td>0.659346</td>\n    </tr>\n    <tr>\n      <th>11</th>\n      <td>2019-04-25</td>\n      <td>25</td>\n      <td>4</td>\n      <td>2019</td>\n      <td>QUINTA</td>\n      <td>21:14</td>\n      <td>NOITE</td>\n      <td>SAO PAULO</td>\n      <td>MUNICIPAL</td>\n      <td>PREFEITURA</td>\n      <td>...</td>\n      <td>4</td>\n      <td>0.571429</td>\n      <td>-4.338837e-01</td>\n      <td>-0.900969</td>\n      <td>21</td>\n      <td>14.0</td>\n      <td>NaN</td>\n      <td>21.233333</td>\n      <td>-0.662620</td>\n      <td>0.748956</td>\n    </tr>\n    <tr>\n      <th>12</th>\n      <td>2019-01-17</td>\n      <td>17</td>\n      <td>1</td>\n      <td>2019</td>\n      <td>QUINTA</td>\n      <td>14:52</td>\n      <td>TARDE</td>\n      <td>SAO PAULO</td>\n      <td>MUNICIPAL</td>\n      <td>PREFEITURA</td>\n      <td>...</td>\n      <td>4</td>\n      <td>0.571429</td>\n      <td>-4.338837e-01</td>\n      <td>-0.900969</td>\n      <td>14</td>\n      <td>52.0</td>\n      <td>NaN</td>\n      <td>14.866667</td>\n      <td>-0.681998</td>\n      <td>-0.731354</td>\n    </tr>\n    <tr>\n      <th>13</th>\n      <td>2019-01-14</td>\n      <td>14</td>\n      <td>1</td>\n      <td>2019</td>\n      <td>SEGUNDA</td>\n      <td>07:33:00</td>\n      <td>MANHA</td>\n      <td>SAO PAULO</td>\n      <td>MUNICIPAL</td>\n      <td>PREFEITURA</td>\n      <td>...</td>\n      <td>1</td>\n      <td>0.142857</td>\n      <td>7.818315e-01</td>\n      <td>0.623490</td>\n      <td>7</td>\n      <td>33.0</td>\n      <td>0.0</td>\n      <td>7.550000</td>\n      <td>0.918791</td>\n      <td>-0.394744</td>\n    </tr>\n    <tr>\n      <th>14</th>\n      <td>2021-01-23</td>\n      <td>23</td>\n      <td>1</td>\n      <td>2021</td>\n      <td>SÁBADO</td>\n      <td>07:05</td>\n      <td>MANHA</td>\n      <td>SAO PAULO</td>\n      <td>MUNICIPAL</td>\n      <td>PREFEITURA</td>\n      <td>...</td>\n      <td>6</td>\n      <td>0.857143</td>\n      <td>-7.818315e-01</td>\n      <td>0.623490</td>\n      <td>7</td>\n      <td>5.0</td>\n      <td>NaN</td>\n      <td>7.083333</td>\n      <td>0.960050</td>\n      <td>-0.279829</td>\n    </tr>\n    <tr>\n      <th>15</th>\n      <td>2020-07-22</td>\n      <td>22</td>\n      <td>7</td>\n      <td>2020</td>\n      <td>QUARTA</td>\n      <td>07:49</td>\n      <td>MANHA</td>\n      <td>RIBEIRAO PIRES</td>\n      <td>MUNICIPAL</td>\n      <td>PREFEITURA</td>\n      <td>...</td>\n      <td>3</td>\n      <td>0.428571</td>\n      <td>4.338837e-01</td>\n      <td>-0.900969</td>\n      <td>7</td>\n      <td>49.0</td>\n      <td>NaN</td>\n      <td>7.816667</td>\n      <td>0.889017</td>\n      <td>-0.457874</td>\n    </tr>\n    <tr>\n      <th>16</th>\n      <td>2020-06-11</td>\n      <td>11</td>\n      <td>6</td>\n      <td>2020</td>\n      <td>QUINTA</td>\n      <td>07:00</td>\n      <td>MANHA</td>\n      <td>SAO PAULO</td>\n      <td>MUNICIPAL</td>\n      <td>PREFEITURA</td>\n      <td>...</td>\n      <td>4</td>\n      <td>0.571429</td>\n      <td>-4.338837e-01</td>\n      <td>-0.900969</td>\n      <td>7</td>\n      <td>0.0</td>\n      <td>NaN</td>\n      <td>7.000000</td>\n      <td>0.965926</td>\n      <td>-0.258819</td>\n    </tr>\n    <tr>\n      <th>17</th>\n      <td>2019-11-20</td>\n      <td>20</td>\n      <td>11</td>\n      <td>2019</td>\n      <td>QUARTA</td>\n      <td>14:55</td>\n      <td>TARDE</td>\n      <td>SAO PAULO</td>\n      <td>MUNICIPAL</td>\n      <td>PREFEITURA</td>\n      <td>...</td>\n      <td>3</td>\n      <td>0.428571</td>\n      <td>4.338837e-01</td>\n      <td>-0.900969</td>\n      <td>14</td>\n      <td>55.0</td>\n      <td>NaN</td>\n      <td>14.916667</td>\n      <td>-0.691513</td>\n      <td>-0.722364</td>\n    </tr>\n    <tr>\n      <th>18</th>\n      <td>2020-06-03</td>\n      <td>3</td>\n      <td>6</td>\n      <td>2020</td>\n      <td>QUARTA</td>\n      <td>16:14</td>\n      <td>TARDE</td>\n      <td>SAO PAULO</td>\n      <td>MUNICIPAL</td>\n      <td>PREFEITURA</td>\n      <td>...</td>\n      <td>3</td>\n      <td>0.428571</td>\n      <td>4.338837e-01</td>\n      <td>-0.900969</td>\n      <td>16</td>\n      <td>14.0</td>\n      <td>NaN</td>\n      <td>16.233333</td>\n      <td>-0.894934</td>\n      <td>-0.446198</td>\n    </tr>\n    <tr>\n      <th>19</th>\n      <td>2019-10-27</td>\n      <td>27</td>\n      <td>10</td>\n      <td>2019</td>\n      <td>DOMINGO</td>\n      <td>11:30</td>\n      <td>MANHA</td>\n      <td>COTIA</td>\n      <td>MUNICIPAL</td>\n      <td>PREFEITURA</td>\n      <td>...</td>\n      <td>7</td>\n      <td>1.000000</td>\n      <td>-2.449294e-16</td>\n      <td>1.000000</td>\n      <td>11</td>\n      <td>30.0</td>\n      <td>NaN</td>\n      <td>11.500000</td>\n      <td>0.130526</td>\n      <td>-0.991445</td>\n    </tr>\n  </tbody>\n</table>\n<p>20 rows × 35 columns</p>\n</div>"
     },
     "metadata": {},
     "execution_count": 21
    }
   ],
   "source": [
    "\n",
    "df_API_test = pd.read_csv('df_teste_API.csv')\n",
    "df_API_test['Hora'] = df_API_test['Hora'].astype(int)\n",
    "# df_API_test.drop(columns=['Unnamed: 0'],inplace=True)\n",
    "# df_API_test['Hora do Acidente'] = pd.to_datetime(df_API_test['Hora do Acidente'],format='%H-%M')# ,errors='coerce'\n",
    "# df_API_test[['Condições Climáticas','Acidente Fatal','Hora do Acidente']]\n",
    "df_API_test"
   ]
  },
  {
   "cell_type": "code",
   "execution_count": 22,
   "metadata": {},
   "outputs": [],
   "source": [
    "# Criando o URL pra cada linha\n",
    "# https://weather.visualcrossing.com/VisualCrossingWebServices/rest/services/timeline/-23.581669571,-46.631902216/2019-09-19?key=B8JYA2DGP8JEMDN3SH4N4XGTT\n",
    "def create_URL_column(df):\n",
    "    if pd.isnull(df['Condições Climáticas']):\n",
    "        return \"https://weather.visualcrossing.com/VisualCrossingWebServices/rest/services/timeline/{},{}/{}?key={}\".format(df['Latitude'].replace(',','.'),df['Longitude'].replace(',','.'),df['Data do Acidente'][0:10],key)\n",
    "    else:\n",
    "        return 'Já temos'\n",
    "\n",
    "\n",
    "\n",
    "#ARRUMAR DATA DO ACIDENTE AQUI"
   ]
  },
  {
   "cell_type": "code",
   "execution_count": null,
   "metadata": {},
   "outputs": [],
   "source": [
    "# df com colunas acima e drop duplicate"
   ]
  },
  {
   "cell_type": "code",
   "execution_count": 23,
   "metadata": {},
   "outputs": [],
   "source": [
    "df_API_test['API_url']= 'zero'\n",
    "df_API_test['API_url'] = df_API_test.apply(lambda df: create_URL_column(df),axis=1)"
   ]
  },
  {
   "cell_type": "code",
   "execution_count": 24,
   "metadata": {},
   "outputs": [
    {
     "output_type": "execute_result",
     "data": {
      "text/plain": [
       "['Já temos',\n",
       " 'Já temos',\n",
       " 'Já temos',\n",
       " 'https://weather.visualcrossing.com/VisualCrossingWebServices/rest/services/timeline/-23.5017991,-46.5973999/2020-06-01?key=B8JYA2DGP8JEMDN3SH4N4XGTT',\n",
       " 'Já temos',\n",
       " 'Já temos',\n",
       " 'Já temos',\n",
       " 'Já temos',\n",
       " 'Já temos',\n",
       " 'Já temos',\n",
       " 'https://weather.visualcrossing.com/VisualCrossingWebServices/rest/services/timeline/-23.4285477665,-46.4099081823/2019-07-12?key=B8JYA2DGP8JEMDN3SH4N4XGTT',\n",
       " 'Já temos',\n",
       " 'Já temos',\n",
       " 'Já temos',\n",
       " 'Já temos',\n",
       " 'Já temos',\n",
       " 'Já temos',\n",
       " 'Já temos',\n",
       " 'Já temos',\n",
       " 'https://weather.visualcrossing.com/VisualCrossingWebServices/rest/services/timeline/-23.5899,-46.8422/2019-10-27?key=B8JYA2DGP8JEMDN3SH4N4XGTT']"
      ]
     },
     "metadata": {},
     "execution_count": 24
    }
   ],
   "source": [
    "\n",
    "list(df_API_test['API_url'])"
   ]
  },
  {
   "cell_type": "code",
   "execution_count": 25,
   "metadata": {},
   "outputs": [
    {
     "output_type": "execute_result",
     "data": {
      "text/plain": [
       "             Latitude          Longitude  \\\n",
       "0   -23,6114172389999      -46,475221818   \n",
       "1   -23,5667455328604  -46,7541186428483   \n",
       "2        -23,67413675     -46,7430974504   \n",
       "3         -23,5017991        -46,5973999   \n",
       "4                 NaN                NaN   \n",
       "5       -23,539357077  -46,5737148169999   \n",
       "6       -23,693986971      -46,602077026   \n",
       "7       -23,569182102      -46,811645823   \n",
       "8   -23,4223447445048  -46,0237531795786   \n",
       "9      -23,6262651708     -46,6508952939   \n",
       "10     -23,4285477665     -46,4099081823   \n",
       "11     -23,5004080124     -46,6129423868   \n",
       "12        -23,6168628        -46,6972238   \n",
       "13            -23,457         -46,600141   \n",
       "14  -23,6354776535187  -46,6947028940624   \n",
       "15       -23,68242795      -46,367920026   \n",
       "16        -23,5782901        -46,4998416   \n",
       "17     -23,5674818707     -46,6740627575   \n",
       "18  -23,5622706318051  -46,6749512511461   \n",
       "19           -23,5899           -46,8422   \n",
       "\n",
       "                                              API_url Condições Climáticas  \n",
       "0                                            Já temos                  BOM  \n",
       "1                                            Já temos                  BOM  \n",
       "2                                            Já temos                  BOM  \n",
       "3   https://weather.visualcrossing.com/VisualCross...                  NaN  \n",
       "4                                            Já temos                  BOM  \n",
       "5                                            Já temos                  BOM  \n",
       "6                                            Já temos                  BOM  \n",
       "7                                            Já temos                  BOM  \n",
       "8                                            Já temos                  BOM  \n",
       "9                                            Já temos                  BOM  \n",
       "10  https://weather.visualcrossing.com/VisualCross...                  NaN  \n",
       "11                                           Já temos                  BOM  \n",
       "12                                           Já temos                  BOM  \n",
       "13                                           Já temos                  BOM  \n",
       "14                                           Já temos                  BOM  \n",
       "15                                           Já temos                  BOM  \n",
       "16                                           Já temos                  BOM  \n",
       "17                                           Já temos                  BOM  \n",
       "18                                           Já temos                  BOM  \n",
       "19  https://weather.visualcrossing.com/VisualCross...                  NaN  "
      ],
      "text/html": "<div>\n<style scoped>\n    .dataframe tbody tr th:only-of-type {\n        vertical-align: middle;\n    }\n\n    .dataframe tbody tr th {\n        vertical-align: top;\n    }\n\n    .dataframe thead th {\n        text-align: right;\n    }\n</style>\n<table border=\"1\" class=\"dataframe\">\n  <thead>\n    <tr style=\"text-align: right;\">\n      <th></th>\n      <th>Latitude</th>\n      <th>Longitude</th>\n      <th>API_url</th>\n      <th>Condições Climáticas</th>\n    </tr>\n  </thead>\n  <tbody>\n    <tr>\n      <th>0</th>\n      <td>-23,6114172389999</td>\n      <td>-46,475221818</td>\n      <td>Já temos</td>\n      <td>BOM</td>\n    </tr>\n    <tr>\n      <th>1</th>\n      <td>-23,5667455328604</td>\n      <td>-46,7541186428483</td>\n      <td>Já temos</td>\n      <td>BOM</td>\n    </tr>\n    <tr>\n      <th>2</th>\n      <td>-23,67413675</td>\n      <td>-46,7430974504</td>\n      <td>Já temos</td>\n      <td>BOM</td>\n    </tr>\n    <tr>\n      <th>3</th>\n      <td>-23,5017991</td>\n      <td>-46,5973999</td>\n      <td>https://weather.visualcrossing.com/VisualCross...</td>\n      <td>NaN</td>\n    </tr>\n    <tr>\n      <th>4</th>\n      <td>NaN</td>\n      <td>NaN</td>\n      <td>Já temos</td>\n      <td>BOM</td>\n    </tr>\n    <tr>\n      <th>5</th>\n      <td>-23,539357077</td>\n      <td>-46,5737148169999</td>\n      <td>Já temos</td>\n      <td>BOM</td>\n    </tr>\n    <tr>\n      <th>6</th>\n      <td>-23,693986971</td>\n      <td>-46,602077026</td>\n      <td>Já temos</td>\n      <td>BOM</td>\n    </tr>\n    <tr>\n      <th>7</th>\n      <td>-23,569182102</td>\n      <td>-46,811645823</td>\n      <td>Já temos</td>\n      <td>BOM</td>\n    </tr>\n    <tr>\n      <th>8</th>\n      <td>-23,4223447445048</td>\n      <td>-46,0237531795786</td>\n      <td>Já temos</td>\n      <td>BOM</td>\n    </tr>\n    <tr>\n      <th>9</th>\n      <td>-23,6262651708</td>\n      <td>-46,6508952939</td>\n      <td>Já temos</td>\n      <td>BOM</td>\n    </tr>\n    <tr>\n      <th>10</th>\n      <td>-23,4285477665</td>\n      <td>-46,4099081823</td>\n      <td>https://weather.visualcrossing.com/VisualCross...</td>\n      <td>NaN</td>\n    </tr>\n    <tr>\n      <th>11</th>\n      <td>-23,5004080124</td>\n      <td>-46,6129423868</td>\n      <td>Já temos</td>\n      <td>BOM</td>\n    </tr>\n    <tr>\n      <th>12</th>\n      <td>-23,6168628</td>\n      <td>-46,6972238</td>\n      <td>Já temos</td>\n      <td>BOM</td>\n    </tr>\n    <tr>\n      <th>13</th>\n      <td>-23,457</td>\n      <td>-46,600141</td>\n      <td>Já temos</td>\n      <td>BOM</td>\n    </tr>\n    <tr>\n      <th>14</th>\n      <td>-23,6354776535187</td>\n      <td>-46,6947028940624</td>\n      <td>Já temos</td>\n      <td>BOM</td>\n    </tr>\n    <tr>\n      <th>15</th>\n      <td>-23,68242795</td>\n      <td>-46,367920026</td>\n      <td>Já temos</td>\n      <td>BOM</td>\n    </tr>\n    <tr>\n      <th>16</th>\n      <td>-23,5782901</td>\n      <td>-46,4998416</td>\n      <td>Já temos</td>\n      <td>BOM</td>\n    </tr>\n    <tr>\n      <th>17</th>\n      <td>-23,5674818707</td>\n      <td>-46,6740627575</td>\n      <td>Já temos</td>\n      <td>BOM</td>\n    </tr>\n    <tr>\n      <th>18</th>\n      <td>-23,5622706318051</td>\n      <td>-46,6749512511461</td>\n      <td>Já temos</td>\n      <td>BOM</td>\n    </tr>\n    <tr>\n      <th>19</th>\n      <td>-23,5899</td>\n      <td>-46,8422</td>\n      <td>https://weather.visualcrossing.com/VisualCross...</td>\n      <td>NaN</td>\n    </tr>\n  </tbody>\n</table>\n</div>"
     },
     "metadata": {},
     "execution_count": 25
    }
   ],
   "source": [
    "df_API_test[['Latitude','Longitude','API_url','Condições Climáticas']]"
   ]
  },
  {
   "cell_type": "code",
   "execution_count": 26,
   "metadata": {},
   "outputs": [
    {
     "output_type": "execute_result",
     "data": {
      "text/plain": [
       "   Data do Acidente  Dia  Mes   Ano Dia da Semana Hora do Acidente  Turno  \\\n",
       "3        2020-06-01    1    6  2020       SEGUNDA            23:08  NOITE   \n",
       "10       2019-07-12   12    7  2019         SEXTA            20:45  NOITE   \n",
       "19       2019-10-27   27   10  2019       DOMINGO            11:30  MANHA   \n",
       "\n",
       "    Município Jurisdição Administração  ... dias_semana_norm dias_semana_sin  \\\n",
       "3   SAO PAULO  MUNICIPAL    PREFEITURA  ...         0.142857    7.818315e-01   \n",
       "10  GUARULHOS  MUNICIPAL    PREFEITURA  ...         0.714286   -9.749279e-01   \n",
       "19      COTIA  MUNICIPAL    PREFEITURA  ...         1.000000   -2.449294e-16   \n",
       "\n",
       "   dias_semana_cos Hora Minuto Segundo horario_float horario_sin horario_cos  \\\n",
       "3         0.623490   23    8.0     NaN     23.133333   -0.224951    0.974370   \n",
       "10       -0.222521   20   45.0     NaN     20.750000   -0.751840    0.659346   \n",
       "19        1.000000   11   30.0     NaN     11.500000    0.130526   -0.991445   \n",
       "\n",
       "                                              API_url  \n",
       "3   https://weather.visualcrossing.com/VisualCross...  \n",
       "10  https://weather.visualcrossing.com/VisualCross...  \n",
       "19  https://weather.visualcrossing.com/VisualCross...  \n",
       "\n",
       "[3 rows x 36 columns]"
      ],
      "text/html": "<div>\n<style scoped>\n    .dataframe tbody tr th:only-of-type {\n        vertical-align: middle;\n    }\n\n    .dataframe tbody tr th {\n        vertical-align: top;\n    }\n\n    .dataframe thead th {\n        text-align: right;\n    }\n</style>\n<table border=\"1\" class=\"dataframe\">\n  <thead>\n    <tr style=\"text-align: right;\">\n      <th></th>\n      <th>Data do Acidente</th>\n      <th>Dia</th>\n      <th>Mes</th>\n      <th>Ano</th>\n      <th>Dia da Semana</th>\n      <th>Hora do Acidente</th>\n      <th>Turno</th>\n      <th>Município</th>\n      <th>Jurisdição</th>\n      <th>Administração</th>\n      <th>...</th>\n      <th>dias_semana_norm</th>\n      <th>dias_semana_sin</th>\n      <th>dias_semana_cos</th>\n      <th>Hora</th>\n      <th>Minuto</th>\n      <th>Segundo</th>\n      <th>horario_float</th>\n      <th>horario_sin</th>\n      <th>horario_cos</th>\n      <th>API_url</th>\n    </tr>\n  </thead>\n  <tbody>\n    <tr>\n      <th>3</th>\n      <td>2020-06-01</td>\n      <td>1</td>\n      <td>6</td>\n      <td>2020</td>\n      <td>SEGUNDA</td>\n      <td>23:08</td>\n      <td>NOITE</td>\n      <td>SAO PAULO</td>\n      <td>MUNICIPAL</td>\n      <td>PREFEITURA</td>\n      <td>...</td>\n      <td>0.142857</td>\n      <td>7.818315e-01</td>\n      <td>0.623490</td>\n      <td>23</td>\n      <td>8.0</td>\n      <td>NaN</td>\n      <td>23.133333</td>\n      <td>-0.224951</td>\n      <td>0.974370</td>\n      <td>https://weather.visualcrossing.com/VisualCross...</td>\n    </tr>\n    <tr>\n      <th>10</th>\n      <td>2019-07-12</td>\n      <td>12</td>\n      <td>7</td>\n      <td>2019</td>\n      <td>SEXTA</td>\n      <td>20:45</td>\n      <td>NOITE</td>\n      <td>GUARULHOS</td>\n      <td>MUNICIPAL</td>\n      <td>PREFEITURA</td>\n      <td>...</td>\n      <td>0.714286</td>\n      <td>-9.749279e-01</td>\n      <td>-0.222521</td>\n      <td>20</td>\n      <td>45.0</td>\n      <td>NaN</td>\n      <td>20.750000</td>\n      <td>-0.751840</td>\n      <td>0.659346</td>\n      <td>https://weather.visualcrossing.com/VisualCross...</td>\n    </tr>\n    <tr>\n      <th>19</th>\n      <td>2019-10-27</td>\n      <td>27</td>\n      <td>10</td>\n      <td>2019</td>\n      <td>DOMINGO</td>\n      <td>11:30</td>\n      <td>MANHA</td>\n      <td>COTIA</td>\n      <td>MUNICIPAL</td>\n      <td>PREFEITURA</td>\n      <td>...</td>\n      <td>1.000000</td>\n      <td>-2.449294e-16</td>\n      <td>1.000000</td>\n      <td>11</td>\n      <td>30.0</td>\n      <td>NaN</td>\n      <td>11.500000</td>\n      <td>0.130526</td>\n      <td>-0.991445</td>\n      <td>https://weather.visualcrossing.com/VisualCross...</td>\n    </tr>\n  </tbody>\n</table>\n<p>3 rows × 36 columns</p>\n</div>"
     },
     "metadata": {},
     "execution_count": 26
    }
   ],
   "source": [
    "#criando df apenas com as URL's do API\n",
    "df_API_Fill = df_API_test[df_API_test['API_url']!='Já temos']\n",
    "df_API_Fill"
   ]
  },
  {
   "cell_type": "code",
   "execution_count": 28,
   "metadata": {},
   "outputs": [],
   "source": [
    "#criando função def para buscar na API e incluir no df\n",
    "def get_API_value(df):\n",
    "    response = urllib.request.urlopen(df['API_url'])\n",
    "    data = json.loads(response.read())\n",
    "    condition = data.get('days')[0].get('hours')[df['Hora']].get('conditions')\n",
    "    return condition\n",
    "\n"
   ]
  },
  {
   "cell_type": "code",
   "execution_count": 29,
   "metadata": {},
   "outputs": [
    {
     "output_type": "stream",
     "name": "stdout",
     "text": [
      "<class 'pandas.core.frame.DataFrame'>\nInt64Index: 3 entries, 3 to 19\nData columns (total 36 columns):\n #   Column                Non-Null Count  Dtype  \n---  ------                --------------  -----  \n 0   Data do Acidente      3 non-null      object \n 1   Dia                   3 non-null      int64  \n 2   Mes                   3 non-null      int64  \n 3   Ano                   3 non-null      int64  \n 4   Dia da Semana         3 non-null      object \n 5   Hora do Acidente      3 non-null      object \n 6   Turno                 3 non-null      object \n 7   Município             3 non-null      object \n 8   Jurisdição            3 non-null      object \n 9   Administração         3 non-null      object \n 10  Conservação           3 non-null      object \n 11  Latitude              3 non-null      object \n 12  Longitude             3 non-null      object \n 13  Condições Climáticas  0 non-null      object \n 14  Iluminação            0 non-null      object \n 15  Mão de direção        0 non-null      object \n 16  Relevo                0 non-null      object \n 17  Superfície da via     0 non-null      object \n 18  Tipo de pavimento     0 non-null      object \n 19  Tipo de pista         0 non-null      object \n 20  Traçado               0 non-null      object \n 21  Tipo de Via           3 non-null      object \n 22  Acidente Fatal        3 non-null      int64  \n 23  Mes_sin               3 non-null      float64\n 24  Mes_cos               3 non-null      float64\n 25  dias_semana_num       3 non-null      int64  \n 26  dias_semana_norm      3 non-null      float64\n 27  dias_semana_sin       3 non-null      float64\n 28  dias_semana_cos       3 non-null      float64\n 29  Hora                  3 non-null      int32  \n 30  Minuto                3 non-null      float64\n 31  Segundo               0 non-null      float64\n 32  horario_float         3 non-null      float64\n 33  horario_sin           3 non-null      float64\n 34  horario_cos           3 non-null      float64\n 35  API_url               3 non-null      object \ndtypes: float64(10), int32(1), int64(5), object(20)\nmemory usage: 876.0+ bytes\n"
     ]
    }
   ],
   "source": [
    "df_API_Fill.info()"
   ]
  },
  {
   "cell_type": "code",
   "execution_count": 30,
   "metadata": {},
   "outputs": [
    {
     "output_type": "stream",
     "name": "stderr",
     "text": [
      "<ipython-input-30-bc5cd428d04d>:1: SettingWithCopyWarning: \nA value is trying to be set on a copy of a slice from a DataFrame.\nTry using .loc[row_indexer,col_indexer] = value instead\n\nSee the caveats in the documentation: https://pandas.pydata.org/pandas-docs/stable/user_guide/indexing.html#returning-a-view-versus-a-copy\n  df_API_Fill['Condições Climáticas'] =df_API_Fill.apply(lambda df: get_API_value(df),axis=1)\n"
     ]
    }
   ],
   "source": [
    "df_API_Fill['Condições Climáticas'] =df_API_Fill.apply(lambda df: get_API_value(df),axis=1)"
   ]
  },
  {
   "cell_type": "code",
   "execution_count": 90,
   "metadata": {},
   "outputs": [
    {
     "output_type": "execute_result",
     "data": {
      "text/plain": [
       "3     Overcast\n",
       "10       Clear\n",
       "19       Clear\n",
       "Name: Condições Climáticas, dtype: object"
      ]
     },
     "metadata": {},
     "execution_count": 90
    }
   ],
   "source": [
    "df_API_Fill['Condições Climáticas']"
   ]
  },
  {
   "cell_type": "code",
   "execution_count": 92,
   "metadata": {},
   "outputs": [],
   "source": [
    "# gravando os dados obtidos pela API diretamente nos arquivos originais dos datasets\n",
    "import glob\n",
    "from datetime import datetime\n",
    "\n",
    "def get_date_time(fmt='%Y_%m_%d_%H_%M_%S'):\n",
    "    date_stamp = datetime.now().strftime(fmt)\n",
    "    return date_stamp\n",
    "\n",
    "# creating df\n",
    "grades = pd.DataFrame(\n",
    "{   'Math'   :[72,np.nan,90,np.nan,76,np.nan,88,40],\n",
    "    'Reading':[72,90,95,57,78,83,95,43],\n",
    "    'Writing':[74,88,93,44,75,78,92,39],\n",
    "    'Gender' :['F','F','F','M','M','F','F','M']     \n",
    "})\n",
    "  \n",
    "# Create the pandas DataFrame\n",
    "df_teste = pd.DataFrame(data, columns = ['Name', 'Age'])\n",
    "# # Give the filename you wish to save the file to\n",
    "filename = r'C:\\Users\\Renato\\OneDrive\\Projeto_TERA\\Predição Acidentes Motocicleta\\Projeto-TERA-Data-Science---Acidentes-Motocicletas\\Weather_API_data\\test_{}.csv'.format(get_date_time())\n",
    "\n",
    "grades.to_csv(filename)"
   ]
  },
  {
   "cell_type": "code",
   "execution_count": 86,
   "metadata": {},
   "outputs": [
    {
     "output_type": "execute_result",
     "data": {
      "text/plain": [
       "   Math  Reading  Writing Gender\n",
       "0  72.0       72       74      F\n",
       "1   NaN       90       88      F\n",
       "2  90.0       95       93      F\n",
       "3   NaN       57       44      M\n",
       "4  76.0       78       75      M\n",
       "5   NaN       83       78      F\n",
       "6  88.0       95       92      F\n",
       "7  40.0       43       39      M"
      ],
      "text/html": "<div>\n<style scoped>\n    .dataframe tbody tr th:only-of-type {\n        vertical-align: middle;\n    }\n\n    .dataframe tbody tr th {\n        vertical-align: top;\n    }\n\n    .dataframe thead th {\n        text-align: right;\n    }\n</style>\n<table border=\"1\" class=\"dataframe\">\n  <thead>\n    <tr style=\"text-align: right;\">\n      <th></th>\n      <th>Math</th>\n      <th>Reading</th>\n      <th>Writing</th>\n      <th>Gender</th>\n    </tr>\n  </thead>\n  <tbody>\n    <tr>\n      <th>0</th>\n      <td>72.0</td>\n      <td>72</td>\n      <td>74</td>\n      <td>F</td>\n    </tr>\n    <tr>\n      <th>1</th>\n      <td>NaN</td>\n      <td>90</td>\n      <td>88</td>\n      <td>F</td>\n    </tr>\n    <tr>\n      <th>2</th>\n      <td>90.0</td>\n      <td>95</td>\n      <td>93</td>\n      <td>F</td>\n    </tr>\n    <tr>\n      <th>3</th>\n      <td>NaN</td>\n      <td>57</td>\n      <td>44</td>\n      <td>M</td>\n    </tr>\n    <tr>\n      <th>4</th>\n      <td>76.0</td>\n      <td>78</td>\n      <td>75</td>\n      <td>M</td>\n    </tr>\n    <tr>\n      <th>5</th>\n      <td>NaN</td>\n      <td>83</td>\n      <td>78</td>\n      <td>F</td>\n    </tr>\n    <tr>\n      <th>6</th>\n      <td>88.0</td>\n      <td>95</td>\n      <td>92</td>\n      <td>F</td>\n    </tr>\n    <tr>\n      <th>7</th>\n      <td>40.0</td>\n      <td>43</td>\n      <td>39</td>\n      <td>M</td>\n    </tr>\n  </tbody>\n</table>\n</div>"
     },
     "metadata": {},
     "execution_count": 86
    }
   ],
   "source": [
    "grades = pd.DataFrame(\n",
    "{   'Math'   :[72,np.nan,90,np.nan,76,np.nan,88,40],\n",
    "    'Reading':[72,90,95,57,78,83,95,43],\n",
    "    'Writing':[74,88,93,44,75,78,92,39],\n",
    "    'Gender' :['F','F','F','M','M','F','F','M']     \n",
    "})\n",
    "grades.to_csv('teste2.csv',index=False)\n",
    "grades"
   ]
  },
  {
   "cell_type": "code",
   "execution_count": 89,
   "metadata": {},
   "outputs": [
    {
     "output_type": "execute_result",
     "data": {
      "text/plain": [
       "   Math  Reading  Writing Gender\n",
       "0  72.0       72       74      F\n",
       "1  76.0       90       88      F\n",
       "2  90.0       95       93      F\n",
       "3  76.0       57       44      M\n",
       "4  76.0       78       75      M\n",
       "5  76.0       83       78      F\n",
       "6  88.0       95       92      F\n",
       "7  40.0       43       39      M"
      ],
      "text/html": "<div>\n<style scoped>\n    .dataframe tbody tr th:only-of-type {\n        vertical-align: middle;\n    }\n\n    .dataframe tbody tr th {\n        vertical-align: top;\n    }\n\n    .dataframe thead th {\n        text-align: right;\n    }\n</style>\n<table border=\"1\" class=\"dataframe\">\n  <thead>\n    <tr style=\"text-align: right;\">\n      <th></th>\n      <th>Math</th>\n      <th>Reading</th>\n      <th>Writing</th>\n      <th>Gender</th>\n    </tr>\n  </thead>\n  <tbody>\n    <tr>\n      <th>0</th>\n      <td>72.0</td>\n      <td>72</td>\n      <td>74</td>\n      <td>F</td>\n    </tr>\n    <tr>\n      <th>1</th>\n      <td>76.0</td>\n      <td>90</td>\n      <td>88</td>\n      <td>F</td>\n    </tr>\n    <tr>\n      <th>2</th>\n      <td>90.0</td>\n      <td>95</td>\n      <td>93</td>\n      <td>F</td>\n    </tr>\n    <tr>\n      <th>3</th>\n      <td>76.0</td>\n      <td>57</td>\n      <td>44</td>\n      <td>M</td>\n    </tr>\n    <tr>\n      <th>4</th>\n      <td>76.0</td>\n      <td>78</td>\n      <td>75</td>\n      <td>M</td>\n    </tr>\n    <tr>\n      <th>5</th>\n      <td>76.0</td>\n      <td>83</td>\n      <td>78</td>\n      <td>F</td>\n    </tr>\n    <tr>\n      <th>6</th>\n      <td>88.0</td>\n      <td>95</td>\n      <td>92</td>\n      <td>F</td>\n    </tr>\n    <tr>\n      <th>7</th>\n      <td>40.0</td>\n      <td>43</td>\n      <td>39</td>\n      <td>M</td>\n    </tr>\n  </tbody>\n</table>\n</div>"
     },
     "metadata": {},
     "execution_count": 89
    }
   ],
   "source": [
    "grades2 = pd.read_csv('teste2.csv')\n",
    "grades2 = grades2.fillna(grades2['Math'].median())\n",
    "grades2.to_csv('teste2.csv',index=False)\n",
    "grades2"
   ]
  },
  {
   "cell_type": "code",
   "execution_count": null,
   "metadata": {},
   "outputs": [],
   "source": []
  }
 ]
}