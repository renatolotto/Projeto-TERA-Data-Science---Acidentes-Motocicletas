{
 "metadata": {
  "language_info": {
   "codemirror_mode": {
    "name": "ipython",
    "version": 3
   },
   "file_extension": ".py",
   "mimetype": "text/x-python",
   "name": "python",
   "nbconvert_exporter": "python",
   "pygments_lexer": "ipython3",
   "version": "3.8.8"
  },
  "orig_nbformat": 2,
  "kernelspec": {
   "name": "python388jvsc74a57bd054aafdb36ba7a57007c1052e291baf553a31e85cae918a266292c7469c0efefb",
   "display_name": "Python 3.8.8 64-bit ('Data_Science': conda)"
  }
 },
 "nbformat": 4,
 "nbformat_minor": 2,
 "cells": [
  {
   "cell_type": "code",
   "execution_count": 1,
   "metadata": {},
   "outputs": [],
   "source": [
    "import pandas as pd\n",
    "import numpy as np\n",
    "import matplotlib.pyplot as plt \n",
    "import seaborn as sns"
   ]
  },
  {
   "cell_type": "code",
   "execution_count": 2,
   "metadata": {},
   "outputs": [
    {
     "output_type": "stream",
     "name": "stderr",
     "text": [
      "C:\\Users\\Renato\\anaconda3\\envs\\Data_Science\\lib\\site-packages\\openpyxl\\styles\\stylesheet.py:221: UserWarning: Workbook contains no default style, apply openpyxl's default\n  warn(\"Workbook contains no default style, apply openpyxl's default\")\n"
     ]
    }
   ],
   "source": [
    "#importando datasets http://www.respeitoavida.sp.gov.br/relatorios/\n",
    "df_obitos_raw=pd.read_csv(r'C:\\Users\\Renato\\OneDrive\\Projeto_TERA\\Predição Acidentes Motocicleta\\Datasets\\obitos_publico.csv',encoding='unicode_escape',sep=';')\n",
    "df_nao_fatais_raw = pd.read_csv(r'C:\\Users\\Renato\\OneDrive\\Projeto_TERA\\Predição Acidentes Motocicleta\\Datasets\\acidentes_naofatais.csv',encoding='unicode_escape',sep=';')\n",
    "df_fatais_raw = pd.read_excel(r'C:\\Users\\Renato\\OneDrive\\Projeto_TERA\\Predição Acidentes Motocicleta\\Datasets\\acidentes_fatais.xlsx')"
   ]
  },
  {
   "cell_type": "code",
   "execution_count": 3,
   "metadata": {},
   "outputs": [],
   "source": [
    "#checando duplicatas\n",
    "df_obitos_raw.duplicated().value_counts() #achado 97 linhas duplicadas (os outros df's não tem duplicatas)\n",
    "df_obitos_raw = df_obitos_raw.drop_duplicates()#dropando as 97 duplicatas, temos 34657 linhas"
   ]
  },
  {
   "cell_type": "code",
   "execution_count": 24,
   "metadata": {},
   "outputs": [],
   "source": [
    "# Criando Dataframes para trabalhar\n",
    "df_nao_fatais = df_nao_fatais_raw.copy()\n",
    "\n",
    "df_fatais = df_fatais_raw.copy()#NAO TEMOS COMO FILTRAR POR MOTOCILCETA POIS NAO TEM ESSA COLUNA!!!!\n",
    "\n",
    "df_obitos = df_obitos_raw.copy()#AQUI CONSEGUIMOS FILTRAR POR MOTOCICLETA"
   ]
  },
  {
   "cell_type": "code",
   "execution_count": 25,
   "metadata": {},
   "outputs": [
    {
     "output_type": "stream",
     "name": "stdout",
     "text": [
      "obitos (34657, 34)\nfatais (31791, 32)\nÑ fatais (377613, 55)\n"
     ]
    }
   ],
   "source": [
    "#checando sempre a quantidade de dados dos dataframes\n",
    "print('obitos',df_obitos.shape)\n",
    "print('fatais',df_fatais.shape)\n",
    "print('Ñ fatais',df_nao_fatais.shape)"
   ]
  },
  {
   "cell_type": "code",
   "execution_count": 26,
   "metadata": {},
   "outputs": [],
   "source": [
    "#Arrumando o nome das colunas\n",
    "df_obitos = df_obitos_raw.rename(columns={'LAT_(GEO)':'Latitude',\n",
    "                                          'LONG_(GEO)':'Longitude',\n",
    "                                          'Tipo de via':'Tipo de Via',\n",
    "                                         'Id da Delegacia (RDO)':'Id Delegacia', 'Número do Bo (RDO)':'Número BO',\n",
    "                                          'Ano do BO (RDO)':'Ano BO','Númeral / KM':'Numero/KM'})\n",
    "\n",
    "df_nao_fatais = df_nao_fatais_raw.rename(columns={'LAT_(GEO)':'Latitude','LONG_(GEO)':'Longitude'})\n",
    "\n",
    "\n",
    "df_fatais =df_fatais_raw.rename(columns={'Lat (GEO)':'Latitude','Long (GEO)':'Longitude','Numeral / KM':'Numero/KM',\n",
    "                                         'Iluminação da via (SIOPM)':'Iluminação',\n",
    "                                        'Superfície da Via (SIOPM)':'Superfície da via', \n",
    "                                         'Dia da semana':'Dia da Semana',\n",
    "                                         'Tipo de via':'Tipo de Via',\n",
    "                                         'Tipo de pista (SIOPM)':'Tipo de pista',\n",
    "                                         'Id Delegacia (RDO)':'Id Delegacia', 'Número BO (RDO)':'Número BO', \n",
    "                                         'Ano BO (RDO)':'Ano BO',\n",
    "                                        'Condições Climáticas (SIOPM)':'Condições Climáticas'})"
   ]
  },
  {
   "cell_type": "code",
   "execution_count": 27,
   "metadata": {},
   "outputs": [],
   "source": [
    "# dropando colunas duplicada\n",
    "# no df_nao_fatais, colunas 'Condições da pista' e 'Tipo de pista', portando dropamos a coluna 'Condições da pista'\n",
    "df_nao_fatais.drop(['Condições da pista'],axis=1,inplace=True)"
   ]
  },
  {
   "cell_type": "code",
   "execution_count": 28,
   "metadata": {},
   "outputs": [],
   "source": [
    "#alterando tipos de variáveis\n",
    "df_obitos['Data do Acidente'] = pd.to_datetime(df_obitos['Data do Acidente'],errors='coerce')\n",
    "\n",
    "df_nao_fatais['Data do Acidente'] = pd.to_datetime(df_nao_fatais['Data do Acidente'],format='%Y-%m-%d')\n",
    "df_nao_fatais['Ano do Acidente'] = pd.to_datetime(df_nao_fatais['Ano do Acidente'],format='%Y')\n",
    "df_nao_fatais['Dia do Acidente'] = pd.to_datetime(df_nao_fatais['Dia do Acidente'],format='%d')\n",
    "\n",
    "df_fatais.loc[31790,'Data do Acidente']='2020-02-27'\n",
    "df_fatais['Data do Acidente'] = pd.to_datetime(df_fatais['Data do Acidente'],format='%Y-%m-%d')\n",
    "df_fatais.loc[31790, 'Ano do Acidente']='2020'\n",
    "df_fatais['Ano do Acidente'] = pd.to_datetime(df_fatais['Ano do Acidente'],format='%Y')\n",
    "df_fatais['Dia do Acidente'] = pd.to_datetime(df_fatais['Dia do Acidente'],format='%d')"
   ]
  },
  {
   "cell_type": "code",
   "execution_count": 32,
   "metadata": {},
   "outputs": [],
   "source": [
    "#juntando a df_fatais_geral com df_nao_fatais, criando df_acidentes\n",
    "df_fatais_geral = df_fatais.merge(df_obitos,\n",
    "                                  on=['Número BO','Data do Acidente','Ano BO','Hora do Acidente','Turno','Município','Região Administrativa','Jurisdição','Administração','Conservação','Outro Veículo Envolvido','Tipo de Via','Logradouro','Dia da Semana','Numero/KM','Id Delegacia','Latitude','Longitude'])"
   ]
  },
  {
   "cell_type": "code",
   "execution_count": 33,
   "metadata": {},
   "outputs": [
    {
     "output_type": "stream",
     "name": "stdout",
     "text": [
      "obitos (34657, 34)\nfatais (31791, 32)\nÑ fatais (377613, 54)\nmerge (33934, 48)\n"
     ]
    }
   ],
   "source": [
    "#checando sempre a quantidade de dados dos dataframes\n",
    "print('obitos',df_obitos.shape)\n",
    "print('fatais',df_fatais.shape)\n",
    "print('Ñ fatais',df_nao_fatais.shape)\n",
    "print('merge',df_fatais_geral.shape)"
   ]
  },
  {
   "cell_type": "code",
   "execution_count": 31,
   "metadata": {},
   "outputs": [
    {
     "output_type": "stream",
     "name": "stdout",
     "text": [
      "<class 'pandas.core.frame.DataFrame'>\nInt64Index: 33934 entries, 0 to 33933\nData columns (total 48 columns):\n #   Column                               Non-Null Count  Dtype         \n---  ------                               --------------  -----         \n 0   ID                                   33934 non-null  int64         \n 1   Id Delegacia                         33934 non-null  int64         \n 2   Número BO                            33934 non-null  int64         \n 3   Ano BO                               33934 non-null  int64         \n 4   Data do Acidente                     33934 non-null  datetime64[ns]\n 5   Dia do Acidente                      33934 non-null  datetime64[ns]\n 6   Mês do Acidente                      33934 non-null  object        \n 7   Ano do Acidente                      33934 non-null  datetime64[ns]\n 8   Ano/Mês do Acidente                  33934 non-null  float64       \n 9   Dia da Semana                        33934 non-null  object        \n 10  Hora do Acidente                     33934 non-null  object        \n 11  Turno                                33934 non-null  object        \n 12  Município                            33934 non-null  object        \n 13  Região Administrativa                33934 non-null  object        \n 14  Logradouro                           33934 non-null  object        \n 15  Numero/KM                            33934 non-null  object        \n 16  Jurisdição                           33934 non-null  object        \n 17  Administração                        33934 non-null  object        \n 18  Conservação                          33934 non-null  object        \n 19  Tipo do Local do Acidente            33934 non-null  object        \n 20  Latitude                             33934 non-null  object        \n 21  Longitude                            33934 non-null  object        \n 22  Iluminação                           33934 non-null  object        \n 23  Superfície da via                    33934 non-null  object        \n 24  Tipo de pista                        33934 non-null  object        \n 25  Outro Veículo Envolvido              22544 non-null  object        \n 26  Tipo de Via                          33934 non-null  object        \n 27  Condições Climáticas                 33934 non-null  object        \n 28  Sentido da Via (SIOPM)               33934 non-null  object        \n 29  Limite da velocidade da via (SIOPM)  33934 non-null  object        \n 30  Quantidade de vítimas                33934 non-null  int64         \n 31  Tempo entre o Acidente e as Mortes   33934 non-null  object        \n 32  Data do Óbito                        33934 non-null  object        \n 33  Dia do óbito                         33934 non-null  int64         \n 34  Mês do Óbito                         33934 non-null  int64         \n 35  Mês Óbito Descrição                  33934 non-null  object        \n 36  Ano do Óbito                         33934 non-null  int64         \n 37  Ano/Mês do Óbito                     33934 non-null  float64       \n 38  Tipo do local da ocorrência          33934 non-null  object        \n 39  Tipo do veículo da vítima            33934 non-null  object        \n 40  Tipo de vítima                       33934 non-null  object        \n 41  Local do óbito                       33934 non-null  object        \n 42  Tipo de acidente                     33934 non-null  object        \n 43  Sub Tipo do Acidente                 17194 non-null  object        \n 44  Sexo                                 33934 non-null  object        \n 45  Faixa etária                         33934 non-null  object        \n 46  Idade da vítima                      33934 non-null  object        \n 47  Tempo entre o Acidente e o Óbito     33934 non-null  object        \ndtypes: datetime64[ns](3), float64(2), int64(8), object(35)\nmemory usage: 12.7+ MB\n"
     ]
    }
   ],
   "source": [
    "df_fatais_geral.info()"
   ]
  },
  {
   "cell_type": "code",
   "execution_count": 39,
   "metadata": {},
   "outputs": [
    {
     "output_type": "execute_result",
     "data": {
      "text/plain": [
       "AUTOMOVEL         7650\n",
       "NÃO HÁ            4561\n",
       "NAO DISPONIVEL    3503\n",
       "CAMINHAO          3450\n",
       "MOTOCICLETA       1724\n",
       "ONIBUS            1376\n",
       "OUTROS             143\n",
       "BICICLETA           94\n",
       "PEDESTRE            43\n",
       "Name: Outro Veículo Envolvido, dtype: int64"
      ]
     },
     "metadata": {},
     "execution_count": 39
    }
   ],
   "source": [
    "#checando o pq algumas variáveis acima tem valores nulos. \n",
    "df_fatais_geral['Outro Veículo Envolvido'].value_counts()\n",
    "# Temos apenas 22544 valores não nulos de 33934. Podemos considerar essa diferença de nulos como da categoria \"Não Há\"?? E os \"não disponíveis\" podem ser considerados \"Não Há\"?? Se sim fazer um apply lambda pra corrigir isso. CHECAR COM O GRUPO!!!"
   ]
  },
  {
   "cell_type": "code",
   "execution_count": 40,
   "metadata": {},
   "outputs": [
    {
     "output_type": "execute_result",
     "data": {
      "text/plain": [
       "NAO DISPONIVEL                           3512\n",
       "FRONTAL                                  2136\n",
       "CRUZANDO A VIA                           1858\n",
       "TRASEIRA                                 1382\n",
       "LATERAL                                  1144\n",
       "TOMBAMENTO VEÍCULO DE 2 RODAS            1142\n",
       "POSTE                                     813\n",
       "TRANSVERSAL                               782\n",
       "CAPOTAMENTO                               695\n",
       "ANDANDO NA VIA / ACOSTAMENTO              523\n",
       "ÁRVORE                                    464\n",
       "DEFENSA / BARREIRA                        440\n",
       "MURO/PAREDE/TALUDE                        406\n",
       "VEÍCULO ESTACIONADO                       399\n",
       "OUTROS                                    265\n",
       "CONDUTOR/PASSAGEIROS FORA DO VEÍCULO      218\n",
       "QUEDA (ÁGUA, BARRANCO, PONTE)             176\n",
       "NA CALÇADA                                163\n",
       "TOMBAMENTO VEÍCULO DE MAIS DE 2 RODAS     154\n",
       "MEIO-FIO/CALÇAMENTO/DRENAGEM              150\n",
       "ANIMAL                                    109\n",
       "ENGAVETAMENTO                              97\n",
       "PLACA DE SINALIZAÇÃO                       71\n",
       "OBJETO NA PISTA                            34\n",
       "SUBMERSÃO                                  25\n",
       "OBJETO LANÇADO SOBRE O VEÍCULO             16\n",
       "RABEIRA - APOIO EM VEÍCULO                  7\n",
       "INCÊDIO / EXPLOSÃO                          7\n",
       "\"RABEIRA\" / APOIO EM VEÍCULO                4\n",
       "NÃO HÁ                                      2\n",
       "Name: Sub Tipo do Acidente, dtype: int64"
      ]
     },
     "metadata": {},
     "execution_count": 40
    }
   ],
   "source": [
    "df_fatais_geral['Sub Tipo do Acidente'].value_counts()\r\n",
    "#aqui quase 50% dos dados são nulos. E temos muitas categorias....CHECAR COM O GRUPO!!!"
   ]
  },
  {
   "cell_type": "code",
   "execution_count": 41,
   "metadata": {},
   "outputs": [],
   "source": [
    "#criando colunas com labels de fatal e não falal antes de juntar\n",
    "df_fatais_geral['Acidente Fatal']=1\n",
    "df_fatais_geral['Acidente Não Fatal']=0\n",
    "df_nao_fatais['Acidente Fatal']=0\n",
    "df_nao_fatais['Acidente Não Fatal']=1\n"
   ]
  },
  {
   "cell_type": "code",
   "execution_count": 42,
   "metadata": {},
   "outputs": [],
   "source": [
    "#juntando a df_fatais_geral com df_nao_fatais criando df_acidentes\n",
    "df_acidentes = pd.concat([df_nao_fatais,df_fatais_geral])"
   ]
  },
  {
   "cell_type": "code",
   "execution_count": 43,
   "metadata": {},
   "outputs": [
    {
     "output_type": "stream",
     "name": "stdout",
     "text": [
      "<class 'pandas.core.frame.DataFrame'>\nInt64Index: 411547 entries, 0 to 33933\nData columns (total 80 columns):\n #   Column                                       Non-Null Count   Dtype         \n---  ------                                       --------------   -----         \n 0   ID                                           411547 non-null  int64         \n 1   Data do Acidente                             411547 non-null  datetime64[ns]\n 2   Dia do Acidente                              411547 non-null  datetime64[ns]\n 3   Mês do Acidente                              411547 non-null  object        \n 4   Ano do Acidente                              411547 non-null  datetime64[ns]\n 5   Ano/Mês do Acidente                          411547 non-null  float64       \n 6   Dia da Semana                                411547 non-null  object        \n 7   Hora do Acidente                             411547 non-null  object        \n 8   Turno                                        411547 non-null  object        \n 9   Município                                    411547 non-null  object        \n 10  Região Administrativa                        411547 non-null  object        \n 11  Logradouro                                   411546 non-null  object        \n 12  Numero/KM                                    411547 non-null  object        \n 13  Jurisdição                                   411547 non-null  object        \n 14  Administração                                411547 non-null  object        \n 15  Conservação                                  411547 non-null  object        \n 16  Latitude                                     411547 non-null  object        \n 17  Longitude                                    411547 non-null  object        \n 18  Condições Climáticas                         411547 non-null  object        \n 19  Iluminação                                   411547 non-null  object        \n 20  Mão de direção                               377613 non-null  object        \n 21  Obras na pista                               377613 non-null  object        \n 22  Relevo                                       377613 non-null  object        \n 23  Superfície da via                            411547 non-null  object        \n 24  Tipo de pavimento                            377613 non-null  object        \n 25  Tipo de pista                                411547 non-null  object        \n 26  Traçado                                      377613 non-null  object        \n 27  Veículos Envolvidos - Bicicleta              377613 non-null  float64       \n 28  Veículos Envolvidos - Caminhão               377613 non-null  float64       \n 29  Veículos Envolvidos - Automóvel              377613 non-null  float64       \n 30  Veículos Envolvidos - Outros                 377613 non-null  float64       \n 31  Veículos Envolvidos - Motocicleta            377613 non-null  float64       \n 32  Veículos Envolvidos - Ônibus                 377613 non-null  float64       \n 33  Veículos Envolvidos - ND                     377613 non-null  float64       \n 34  Veículos Envolvidos - Pedestre               377613 non-null  float64       \n 35  Pessoas Envolvidas - Grave                   377613 non-null  float64       \n 36  Pessoas Envolvidas - Ileso                   377613 non-null  float64       \n 37  Pessoas Envolvidas - Leve                    377613 non-null  float64       \n 38  Pessoas Envolvidas - Fatal                   377613 non-null  float64       \n 39  Pessoas Envolvidas - Feridos                 377613 non-null  float64       \n 40  Pessoas Envolvidas - ND                      377613 non-null  float64       \n 41  Serviço de Atendimento - Bombeiro            377613 non-null  object        \n 42  Serviço de Atendimento - PMRV                377613 non-null  object        \n 43  Serviço de Atendimento - PRF                 377613 non-null  object        \n 44  Serviço de Atendimento - Radio Patrulha      377613 non-null  object        \n 45  Servciço de Atendimento - CPTRAN             377613 non-null  object        \n 46  Tipo de Via                                  411547 non-null  object        \n 47  Tipo de Acidente - Atropelamento             377613 non-null  float64       \n 48  Tipo de Acidente - Choque                    377613 non-null  float64       \n 49  Tipo de Acidente - Colisão                   377613 non-null  float64       \n 50  Tipo de Acidente - Outros tipos de Acidente  377613 non-null  float64       \n 51  Tipo de Acidente - ND                        377613 non-null  float64       \n 52  Turno + Dia de Semana                        377613 non-null  object        \n 53  Tempo entre o Acidente e as Mortes           33934 non-null   object        \n 54  Acidente Fatal                               411547 non-null  int64         \n 55  Acidente Não Fatal                           411547 non-null  int64         \n 56  Id Delegacia                                 33934 non-null   float64       \n 57  Número BO                                    33934 non-null   float64       \n 58  Ano BO                                       33934 non-null   float64       \n 59  Tipo do Local do Acidente                    33934 non-null   object        \n 60  Outro Veículo Envolvido                      22544 non-null   object        \n 61  Sentido da Via (SIOPM)                       33934 non-null   object        \n 62  Limite da velocidade da via (SIOPM)          33934 non-null   object        \n 63  Quantidade de vítimas                        33934 non-null   float64       \n 64  Data do Óbito                                33934 non-null   object        \n 65  Dia do óbito                                 33934 non-null   float64       \n 66  Mês do Óbito                                 33934 non-null   float64       \n 67  Mês Óbito Descrição                          33934 non-null   object        \n 68  Ano do Óbito                                 33934 non-null   float64       \n 69  Ano/Mês do Óbito                             33934 non-null   float64       \n 70  Tipo do local da ocorrência                  33934 non-null   object        \n 71  Tipo do veículo da vítima                    33934 non-null   object        \n 72  Tipo de vítima                               33934 non-null   object        \n 73  Local do óbito                               33934 non-null   object        \n 74  Tipo de acidente                             33934 non-null   object        \n 75  Sub Tipo do Acidente                         17194 non-null   object        \n 76  Sexo                                         33934 non-null   object        \n 77  Faixa etária                                 33934 non-null   object        \n 78  Idade da vítima                              33934 non-null   object        \n 79  Tempo entre o Acidente e o Óbito             33934 non-null   object        \ndtypes: datetime64[ns](3), float64(28), int64(3), object(46)\nmemory usage: 254.3+ MB\n"
     ]
    }
   ],
   "source": [
    "df_acidentes.info()"
   ]
  },
  {
   "cell_type": "code",
   "execution_count": 47,
   "metadata": {},
   "outputs": [
    {
     "output_type": "stream",
     "name": "stdout",
     "text": [
      "df_obitos (34657, 34)\ndf_fatais (31791, 32)\ndf_nao_fatais (377613, 56)\ndf_fatais_geral (33934, 50)\ndf_acidentes (411547, 80)\n"
     ]
    }
   ],
   "source": [
    "#checando sempre a quantidade de dados dos dataframes\n",
    "print('df_obitos',df_obitos.shape)\n",
    "print('df_fatais',df_fatais.shape)\n",
    "print('df_nao_fatais',df_nao_fatais.shape)\n",
    "print('df_fatais_geral',df_fatais_geral.shape)\n",
    "print('df_acidentes',df_acidentes.shape)"
   ]
  },
  {
   "cell_type": "code",
   "execution_count": 48,
   "metadata": {},
   "outputs": [
    {
     "output_type": "execute_result",
     "data": {
      "text/plain": [
       "NAO DISPONIVEL    167791\n",
       "DUPLA             108445\n",
       "ÚNICA             101375\n",
       "NÃO                    2\n",
       "Name: Mão de direção, dtype: int64"
      ]
     },
     "metadata": {},
     "execution_count": 48
    }
   ],
   "source": [
    "df_acidentes['Mão de direção'].value_counts()"
   ]
  },
  {
   "cell_type": "code",
   "execution_count": 51,
   "metadata": {},
   "outputs": [
    {
     "output_type": "execute_result",
     "data": {
      "text/plain": [
       "ESTABELECIMENTO DE SAUDE    18213\n",
       "VIA                         13865\n",
       "OUTROS                       1341\n",
       "NAO DISPONIVEL                515\n",
       "Name: Local do óbito, dtype: int64"
      ]
     },
     "metadata": {},
     "execution_count": 51
    }
   ],
   "source": [
    "df_acidentes['Local do óbito'].value_counts()"
   ]
  },
  {
   "cell_type": "code",
   "execution_count": 60,
   "metadata": {},
   "outputs": [],
   "source": [
    "#FILTROS\n",
    "# Filtrando por Região metropolitana de SP\n",
    "df_acidentes_sp = df_acidentes.loc[df_acidentes['Região Administrativa']=='Metropolitana de São Paulo']#\n",
    "# df_nao_fatais_sp_moto = df_nao_fatais_sp_moto.loc[df_nao_fatais_sp_moto['Data do Acidente']>='2019-01-01']\n",
    "# df_nao_fatais_sp_moto = df_nao_fatais_sp_moto.loc[df_nao_fatais_sp_moto['Data do Acidente']<='2020-12-31']"
   ]
  },
  {
   "cell_type": "code",
   "execution_count": 71,
   "metadata": {},
   "outputs": [],
   "source": [
    "#filtrando por acidentes que envolvem motocicleta\n",
    "# criando dataframes preliminares com diferentes filtros\n",
    "df_acidentes_sp_moto1 = df_acidentes_sp.loc[df_acidentes_sp['Veículos Envolvidos - Motocicleta']==1] #dados que vem do \"não fatais\" onde temos motos envolvidas\n",
    "df_acidentes_sp_moto2 = df_acidentes_sp.loc[df_acidentes_sp['Tipo do veículo da vítima']=='MOTOCICLETA'] # dados que vem dos \"fatais\", que são os óbitos de motocicleta\n",
    "df_acidentes_sp_moto3 = df_acidentes_sp.loc[df_acidentes_sp['Outro Veículo Envolvido']=='MOTOCICLETA'] # dados que vem dos \"fatais\" , que podem ter motos como outo veículo envolvido\n",
    "#concatenando os 3 dataframes\n",
    "df_acidentes_sp_moto = pd.concat([df_acidentes_sp_moto1,df_acidentes_sp_moto2,df_acidentes_sp_moto3])\n",
    "#checando duplicatas\n",
    "df_acidentes_sp_moto.duplicated().value_counts() #169 duplicatas pois tem como motocicletas o 'Tipo do veículo da vítima' e 'Outro Veículo Envolvido', do df_fatais. deletar!\n",
    "df_acidentes_sp_moto = df_acidentes_sp_moto.drop_duplicates()"
   ]
  },
  {
   "cell_type": "code",
   "execution_count": 73,
   "metadata": {},
   "outputs": [
    {
     "output_type": "stream",
     "name": "stdout",
     "text": [
      "<class 'pandas.core.frame.DataFrame'>\nInt64Index: 62479 entries, 0 to 33910\nData columns (total 80 columns):\n #   Column                                       Non-Null Count  Dtype         \n---  ------                                       --------------  -----         \n 0   ID                                           62479 non-null  int64         \n 1   Data do Acidente                             62479 non-null  datetime64[ns]\n 2   Dia do Acidente                              62479 non-null  datetime64[ns]\n 3   Mês do Acidente                              62479 non-null  object        \n 4   Ano do Acidente                              62479 non-null  datetime64[ns]\n 5   Ano/Mês do Acidente                          62479 non-null  float64       \n 6   Dia da Semana                                62479 non-null  object        \n 7   Hora do Acidente                             62479 non-null  object        \n 8   Turno                                        62479 non-null  object        \n 9   Município                                    62479 non-null  object        \n 10  Região Administrativa                        62479 non-null  object        \n 11  Logradouro                                   62479 non-null  object        \n 12  Numero/KM                                    62479 non-null  object        \n 13  Jurisdição                                   62479 non-null  object        \n 14  Administração                                62479 non-null  object        \n 15  Conservação                                  62479 non-null  object        \n 16  Latitude                                     62479 non-null  object        \n 17  Longitude                                    62479 non-null  object        \n 18  Condições Climáticas                         62479 non-null  object        \n 19  Iluminação                                   62479 non-null  object        \n 20  Mão de direção                               58161 non-null  object        \n 21  Obras na pista                               58161 non-null  object        \n 22  Relevo                                       58161 non-null  object        \n 23  Superfície da via                            62479 non-null  object        \n 24  Tipo de pavimento                            58161 non-null  object        \n 25  Tipo de pista                                62479 non-null  object        \n 26  Traçado                                      58161 non-null  object        \n 27  Veículos Envolvidos - Bicicleta              58161 non-null  float64       \n 28  Veículos Envolvidos - Caminhão               58161 non-null  float64       \n 29  Veículos Envolvidos - Automóvel              58161 non-null  float64       \n 30  Veículos Envolvidos - Outros                 58161 non-null  float64       \n 31  Veículos Envolvidos - Motocicleta            58161 non-null  float64       \n 32  Veículos Envolvidos - Ônibus                 58161 non-null  float64       \n 33  Veículos Envolvidos - ND                     58161 non-null  float64       \n 34  Veículos Envolvidos - Pedestre               58161 non-null  float64       \n 35  Pessoas Envolvidas - Grave                   58161 non-null  float64       \n 36  Pessoas Envolvidas - Ileso                   58161 non-null  float64       \n 37  Pessoas Envolvidas - Leve                    58161 non-null  float64       \n 38  Pessoas Envolvidas - Fatal                   58161 non-null  float64       \n 39  Pessoas Envolvidas - Feridos                 58161 non-null  float64       \n 40  Pessoas Envolvidas - ND                      58161 non-null  float64       \n 41  Serviço de Atendimento - Bombeiro            58161 non-null  object        \n 42  Serviço de Atendimento - PMRV                58161 non-null  object        \n 43  Serviço de Atendimento - PRF                 58161 non-null  object        \n 44  Serviço de Atendimento - Radio Patrulha      58161 non-null  object        \n 45  Servciço de Atendimento - CPTRAN             58161 non-null  object        \n 46  Tipo de Via                                  62479 non-null  object        \n 47  Tipo de Acidente - Atropelamento             58161 non-null  float64       \n 48  Tipo de Acidente - Choque                    58161 non-null  float64       \n 49  Tipo de Acidente - Colisão                   58161 non-null  float64       \n 50  Tipo de Acidente - Outros tipos de Acidente  58161 non-null  float64       \n 51  Tipo de Acidente - ND                        58161 non-null  float64       \n 52  Turno + Dia de Semana                        58161 non-null  object        \n 53  Tempo entre o Acidente e as Mortes           4318 non-null   object        \n 54  Acidente Fatal                               62479 non-null  int64         \n 55  Acidente Não Fatal                           62479 non-null  int64         \n 56  Id Delegacia                                 4318 non-null   float64       \n 57  Número BO                                    4318 non-null   float64       \n 58  Ano BO                                       4318 non-null   float64       \n 59  Tipo do Local do Acidente                    4318 non-null   object        \n 60  Outro Veículo Envolvido                      3061 non-null   object        \n 61  Sentido da Via (SIOPM)                       4318 non-null   object        \n 62  Limite da velocidade da via (SIOPM)          4318 non-null   object        \n 63  Quantidade de vítimas                        4318 non-null   float64       \n 64  Data do Óbito                                4318 non-null   object        \n 65  Dia do óbito                                 4318 non-null   float64       \n 66  Mês do Óbito                                 4318 non-null   float64       \n 67  Mês Óbito Descrição                          4318 non-null   object        \n 68  Ano do Óbito                                 4318 non-null   float64       \n 69  Ano/Mês do Óbito                             4318 non-null   float64       \n 70  Tipo do local da ocorrência                  4318 non-null   object        \n 71  Tipo do veículo da vítima                    4318 non-null   object        \n 72  Tipo de vítima                               4318 non-null   object        \n 73  Local do óbito                               4318 non-null   object        \n 74  Tipo de acidente                             4318 non-null   object        \n 75  Sub Tipo do Acidente                         2397 non-null   object        \n 76  Sexo                                         4318 non-null   object        \n 77  Faixa etária                                 4318 non-null   object        \n 78  Idade da vítima                              4318 non-null   object        \n 79  Tempo entre o Acidente e o Óbito             4318 non-null   object        \ndtypes: datetime64[ns](3), float64(28), int64(3), object(46)\nmemory usage: 38.6+ MB\n"
     ]
    }
   ],
   "source": [
    "df_acidentes_sp_moto.info()"
   ]
  },
  {
   "cell_type": "code",
   "execution_count": 74,
   "metadata": {},
   "outputs": [
    {
     "output_type": "stream",
     "name": "stdout",
     "text": [
      "df_obitos (34657, 34)\ndf_fatais (31791, 32)\ndf_nao_fatais (377613, 56)\ndf_fatais_geral (33934, 50)\ndf_acidentes (411547, 80)\ndf_acidentes_sp (159898, 80)\ndf_acidentes_sp_moto (62479, 80)\n"
     ]
    }
   ],
   "source": [
    "#checando sempre a quantidade de dados dos dataframes\n",
    "print('df_obitos',df_obitos.shape)\n",
    "print('df_fatais',df_fatais.shape)\n",
    "print('df_nao_fatais',df_nao_fatais.shape)\n",
    "print('df_fatais_geral',df_fatais_geral.shape)\n",
    "print('df_acidentes',df_acidentes.shape)\n",
    "print('df_acidentes_sp',df_acidentes_sp.shape)\n",
    "print('df_acidentes_sp_moto',df_acidentes_sp_moto.shape)\n"
   ]
  },
  {
   "cell_type": "code",
   "execution_count": 77,
   "metadata": {},
   "outputs": [
    {
     "output_type": "stream",
     "name": "stdout",
     "text": [
      "Proporção de fatais: 6.91 %\n"
     ]
    }
   ],
   "source": [
    "# checando o balanceamento do dataset\n",
    "positive_proportion = 100*df_acidentes_sp_moto['Acidente Fatal'].value_counts()[1]/len(df_acidentes_sp_moto)\n",
    "print('Proporção de fatais:', round(positive_proportion,2),'%')"
   ]
  },
  {
   "cell_type": "code",
   "execution_count": null,
   "metadata": {},
   "outputs": [],
   "source": [
    "#PRECISAMOS CHECAR COLUNAS ANTES DO REPLACE NAN"
   ]
  },
  {
   "cell_type": "code",
   "execution_count": null,
   "metadata": {},
   "outputs": [],
   "source": [
    "#Substituir os nao disponiveis por nulos\n",
    "# df_acidentes_sp_moto.replace('NAO DISPONIVEL', np.nan,inplace=True)"
   ]
  },
  {
   "cell_type": "code",
   "execution_count": null,
   "metadata": {},
   "outputs": [],
   "source": [
    "# Selecionar colunas pra exportar\n"
   ]
  },
  {
   "cell_type": "code",
   "execution_count": null,
   "metadata": {},
   "outputs": [],
   "source": [
    "# export\n",
    "df_acidentes_moto_sp.to_csv('df_acidentes_moto_sp.csv')"
   ]
  }
 ]
}