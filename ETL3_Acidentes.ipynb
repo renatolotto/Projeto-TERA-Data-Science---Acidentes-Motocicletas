{
 "metadata": {
  "language_info": {
   "codemirror_mode": {
    "name": "ipython",
    "version": 3
   },
   "file_extension": ".py",
   "mimetype": "text/x-python",
   "name": "python",
   "nbconvert_exporter": "python",
   "pygments_lexer": "ipython3",
   "version": "3.8.8"
  },
  "orig_nbformat": 2,
  "kernelspec": {
   "name": "python388jvsc74a57bd054aafdb36ba7a57007c1052e291baf553a31e85cae918a266292c7469c0efefb",
   "display_name": "Python 3.8.8 64-bit ('Data_Science': conda)"
  }
 },
 "nbformat": 4,
 "nbformat_minor": 2,
 "cells": [
  {
   "cell_type": "code",
   "execution_count": 25,
   "metadata": {},
   "outputs": [],
   "source": [
    "import pandas as pd\n",
    "import numpy as np\n",
    "import matplotlib.pyplot as plt \n",
    "import seaborn as sns"
   ]
  },
  {
   "cell_type": "code",
   "execution_count": 26,
   "metadata": {},
   "outputs": [
    {
     "output_type": "stream",
     "name": "stderr",
     "text": [
      "C:\\Users\\Renato\\anaconda3\\envs\\Data_Science\\lib\\site-packages\\openpyxl\\styles\\stylesheet.py:221: UserWarning: Workbook contains no default style, apply openpyxl's default\n  warn(\"Workbook contains no default style, apply openpyxl's default\")\n"
     ]
    }
   ],
   "source": [
    "#importando datasets http://www.respeitoavida.sp.gov.br/relatorios/\n",
    "df_obitos_raw=pd.read_csv(r'C:\\Users\\Renato\\OneDrive\\Projeto_TERA\\Predição Acidentes Motocicleta\\Datasets\\obitos_publico.csv',encoding='unicode_escape',sep=';')\n",
    "df_nao_fatais_raw = pd.read_csv(r'C:\\Users\\Renato\\OneDrive\\Projeto_TERA\\Predição Acidentes Motocicleta\\Datasets\\acidentes_naofatais.csv',encoding='unicode_escape',sep=';')\n",
    "df_fatais_raw = pd.read_excel(r'C:\\Users\\Renato\\OneDrive\\Projeto_TERA\\Predição Acidentes Motocicleta\\Datasets\\acidentes_fatais.xlsx')"
   ]
  },
  {
   "cell_type": "code",
   "execution_count": 27,
   "metadata": {},
   "outputs": [],
   "source": [
    "#checando duplicatas\n",
    "df_obitos_raw.duplicated().value_counts() #achado 97 linhas duplicadas (os outros df's não tem duplicatas)\n",
    "df_obitos_raw = df_obitos_raw.drop_duplicates()#dropando as 97 duplicatas, temos 34657 linhas"
   ]
  },
  {
   "cell_type": "code",
   "execution_count": 28,
   "metadata": {},
   "outputs": [],
   "source": [
    "# Criando Dataframes para trabalhar\n",
    "df_nao_fatais = df_nao_fatais_raw.copy()\n",
    "\n",
    "df_fatais = df_fatais_raw.copy()#NAO TEMOS COMO FILTRAR POR MOTOCILCETA POIS NAO TEM ESSA COLUNA!!!!\n",
    "\n",
    "df_obitos = df_obitos_raw.copy()#AQUI CONSEGUIMOS FILTRAR POR MOTOCICLETA"
   ]
  },
  {
   "cell_type": "code",
   "execution_count": 29,
   "metadata": {},
   "outputs": [
    {
     "output_type": "stream",
     "name": "stdout",
     "text": [
      "obitos (34657, 34)\nfatais (31791, 32)\nÑ fatais (377613, 55)\n"
     ]
    }
   ],
   "source": [
    "print('obitos',df_obitos.shape)\n",
    "print('fatais',df_fatais.shape)\n",
    "print('Ñ fatais',df_nao_fatais.shape)"
   ]
  },
  {
   "cell_type": "code",
   "execution_count": 30,
   "metadata": {},
   "outputs": [],
   "source": [
    "#Arrumando o nome das colunas\n",
    "df_obitos = df_obitos_raw.rename(columns={'LAT_(GEO)':'Latitude',\n",
    "                                          'LONG_(GEO)':'Longitude',\n",
    "                                          'Tipo de via':'Tipo de Via',\n",
    "                                         'Id da Delegacia (RDO)':'Id Delegacia', 'Número do Bo (RDO)':'Número BO',\n",
    "                                          'Ano do BO (RDO)':'Ano BO','Númeral / KM':'Numero/KM'})\n",
    "\n",
    "df_nao_fatais = df_nao_fatais_raw.rename(columns={'LAT_(GEO)':'Latitude','LONG_(GEO)':'Longitude'})\n",
    "\n",
    "\n",
    "df_fatais =df_fatais_raw.rename(columns={'Lat (GEO)':'Latitude','Long (GEO)':'Longitude','Numeral / KM':'Numero/KM',\n",
    "                                         'Iluminação da via (SIOPM)':'Iluminação',\n",
    "                                        'Superfície da Via (SIOPM)':'Superfície da via', \n",
    "                                         'Dia da semana':'Dia da Semana',\n",
    "                                         'Tipo de via':'Tipo de Via',\n",
    "                                         'Tipo de pista (SIOPM)':'Tipo de pista',\n",
    "                                         'Id Delegacia (RDO)':'Id Delegacia', 'Número BO (RDO)':'Número BO', \n",
    "                                         'Ano BO (RDO)':'Ano BO',\n",
    "                                        'Condições Climáticas (SIOPM)':'Condições Climáticas'})"
   ]
  },
  {
   "cell_type": "code",
   "execution_count": 31,
   "metadata": {},
   "outputs": [],
   "source": [
    "#alterando tipos de variáveis\n",
    "df_obitos['Data do Acidente'] = pd.to_datetime(df_obitos['Data do Acidente'],errors='coerce')\n",
    "\n",
    "df_nao_fatais['Data do Acidente'] = pd.to_datetime(df_nao_fatais['Data do Acidente'],format='%Y-%m-%d')#,errors='coerce'\n",
    "df_nao_fatais['Ano do Acidente'] = pd.to_datetime(df_nao_fatais['Ano do Acidente'],format='%Y')\n",
    "df_nao_fatais['Dia do Acidente'] = pd.to_datetime(df_nao_fatais['Dia do Acidente'],format='%d')\n",
    "\n",
    "df_fatais.loc[31790,'Data do Acidente']='2020-02-27'\n",
    "df_fatais['Data do Acidente'] = pd.to_datetime(df_fatais['Data do Acidente'],format='%Y-%m-%d')#,errors='coerce'\n",
    "df_fatais.loc[31790, 'Ano do Acidente']='2020'\n",
    "df_fatais['Ano do Acidente'] = pd.to_datetime(df_fatais['Ano do Acidente'],format='%Y')\n",
    "df_fatais['Dia do Acidente'] = pd.to_datetime(df_fatais['Dia do Acidente'],format='%d')"
   ]
  },
  {
   "cell_type": "code",
   "execution_count": 32,
   "metadata": {},
   "outputs": [],
   "source": [
    "#juntando a df_fatais_geral com df_nao_fatais criando df_acidentes\n",
    "df_fatais_geral = df_fatais.merge(df_obitos,\n",
    "                                  on=['Número BO','Data do Acidente','Ano BO','Hora do Acidente','Turno','Município','Região Administrativa','Jurisdição','Administração','Conservação','Outro Veículo Envolvido','Tipo de Via','Logradouro','Dia da Semana','Numero/KM','Id Delegacia','Latitude','Longitude'])"
   ]
  },
  {
   "cell_type": "code",
   "execution_count": 33,
   "metadata": {},
   "outputs": [
    {
     "output_type": "stream",
     "name": "stdout",
     "text": [
      "obitos (34657, 34)\nfatais (31791, 32)\nÑ fatais (377613, 55)\nmerge (33934, 48)\n"
     ]
    }
   ],
   "source": [
    "print('obitos',df_obitos.shape)\n",
    "print('fatais',df_fatais.shape)\n",
    "print('Ñ fatais',df_nao_fatais.shape)\n",
    "print('merge',df_fatais_geral.shape)"
   ]
  },
  {
   "cell_type": "code",
   "execution_count": 34,
   "metadata": {},
   "outputs": [],
   "source": [
    "#criando colunas com labels de fatal e não falal\n",
    "df_fatais_geral['Acidente Fatal']=1\n",
    "df_fatais_geral['Acidente Não Fatal']=0\n",
    "df_nao_fatais['Acidente Fatal']=0\n",
    "df_nao_fatais['Acidente Não Fatal']=1"
   ]
  },
  {
   "cell_type": "code",
   "execution_count": 35,
   "metadata": {},
   "outputs": [],
   "source": [
    "#juntando a df_fatais_geral com df_nao_fatais criando df_acidentes\n",
    "df_acidentes = pd.concat([df_nao_fatais,df_fatais_geral])"
   ]
  },
  {
   "cell_type": "code",
   "execution_count": 37,
   "metadata": {},
   "outputs": [
    {
     "output_type": "execute_result",
     "data": {
      "text/plain": [
       "0    377613\n",
       "1     33934\n",
       "Name: Acidente Fatal, dtype: int64"
      ]
     },
     "metadata": {},
     "execution_count": 37
    }
   ],
   "source": [
    "df_acidentes['Acidente Fatal'].value_counts()"
   ]
  },
  {
   "cell_type": "code",
   "execution_count": 12,
   "metadata": {},
   "outputs": [
    {
     "output_type": "stream",
     "name": "stdout",
     "text": [
      "df_obitos (34657, 34)\ndf_fatais (31791, 32)\ndf_nao_fatais (377613, 57)\ndf_fatais_geral (33934, 50)\ndf_acidentes (411547, 81)\n"
     ]
    }
   ],
   "source": [
    "print('df_obitos',df_obitos.shape)\n",
    "print('df_fatais',df_fatais.shape)\n",
    "print('df_nao_fatais',df_nao_fatais.shape)\n",
    "print('df_fatais_geral',df_fatais_geral.shape)\n",
    "print('df_acidentes',df_acidentes.shape)"
   ]
  },
  {
   "cell_type": "code",
   "execution_count": 13,
   "metadata": {},
   "outputs": [
    {
     "output_type": "stream",
     "name": "stdout",
     "text": [
      "<class 'pandas.core.frame.DataFrame'>\nInt64Index: 411547 entries, 0 to 33933\nData columns (total 81 columns):\n #   Column                                       Non-Null Count   Dtype         \n---  ------                                       --------------   -----         \n 0   ID                                           411547 non-null  int64         \n 1   Data do Acidente                             411547 non-null  datetime64[ns]\n 2   Dia do Acidente                              411547 non-null  datetime64[ns]\n 3   Mês do Acidente                              411547 non-null  object        \n 4   Ano do Acidente                              411547 non-null  datetime64[ns]\n 5   Ano/Mês do Acidente                          411547 non-null  float64       \n 6   Dia da Semana                                411547 non-null  object        \n 7   Hora do Acidente                             411547 non-null  object        \n 8   Turno                                        411547 non-null  object        \n 9   Município                                    411547 non-null  object        \n 10  Região Administrativa                        411547 non-null  object        \n 11  Logradouro                                   411546 non-null  object        \n 12  Numero/KM                                    411547 non-null  object        \n 13  Jurisdição                                   411547 non-null  object        \n 14  Administração                                411547 non-null  object        \n 15  Conservação                                  411547 non-null  object        \n 16  Latitude                                     411547 non-null  object        \n 17  Longitude                                    411547 non-null  object        \n 18  Condições da pista                           377613 non-null  object        \n 19  Condições Climáticas                         411547 non-null  object        \n 20  Iluminação                                   411547 non-null  object        \n 21  Mão de direção                               377613 non-null  object        \n 22  Obras na pista                               377613 non-null  object        \n 23  Relevo                                       377613 non-null  object        \n 24  Superfície da via                            411547 non-null  object        \n 25  Tipo de pavimento                            377613 non-null  object        \n 26  Tipo de pista                                411547 non-null  object        \n 27  Traçado                                      377613 non-null  object        \n 28  Veículos Envolvidos - Bicicleta              377613 non-null  float64       \n 29  Veículos Envolvidos - Caminhão               377613 non-null  float64       \n 30  Veículos Envolvidos - Automóvel              377613 non-null  float64       \n 31  Veículos Envolvidos - Outros                 377613 non-null  float64       \n 32  Veículos Envolvidos - Motocicleta            377613 non-null  float64       \n 33  Veículos Envolvidos - Ônibus                 377613 non-null  float64       \n 34  Veículos Envolvidos - ND                     377613 non-null  float64       \n 35  Veículos Envolvidos - Pedestre               377613 non-null  float64       \n 36  Pessoas Envolvidas - Grave                   377613 non-null  float64       \n 37  Pessoas Envolvidas - Ileso                   377613 non-null  float64       \n 38  Pessoas Envolvidas - Leve                    377613 non-null  float64       \n 39  Pessoas Envolvidas - Fatal                   377613 non-null  float64       \n 40  Pessoas Envolvidas - Feridos                 377613 non-null  float64       \n 41  Pessoas Envolvidas - ND                      377613 non-null  float64       \n 42  Serviço de Atendimento - Bombeiro            377613 non-null  object        \n 43  Serviço de Atendimento - PMRV                377613 non-null  object        \n 44  Serviço de Atendimento - PRF                 377613 non-null  object        \n 45  Serviço de Atendimento - Radio Patrulha      377613 non-null  object        \n 46  Servciço de Atendimento - CPTRAN             377613 non-null  object        \n 47  Tipo de Via                                  411547 non-null  object        \n 48  Tipo de Acidente - Atropelamento             377613 non-null  float64       \n 49  Tipo de Acidente - Choque                    377613 non-null  float64       \n 50  Tipo de Acidente - Colisão                   377613 non-null  float64       \n 51  Tipo de Acidente - Outros tipos de Acidente  377613 non-null  float64       \n 52  Tipo de Acidente - ND                        377613 non-null  float64       \n 53  Turno + Dia de Semana                        377613 non-null  object        \n 54  Tempo entre o Acidente e as Mortes           33934 non-null   object        \n 55  Acidente Fatal                               411547 non-null  int64         \n 56  Acidente Não Fatal                           411547 non-null  int64         \n 57  Id Delegacia                                 33934 non-null   float64       \n 58  Número BO                                    33934 non-null   float64       \n 59  Ano BO                                       33934 non-null   float64       \n 60  Tipo do Local do Acidente                    33934 non-null   object        \n 61  Outro Veículo Envolvido                      22544 non-null   object        \n 62  Sentido da Via (SIOPM)                       33934 non-null   object        \n 63  Limite da velocidade da via (SIOPM)          33934 non-null   object        \n 64  Quantidade de vítimas                        33934 non-null   float64       \n 65  Data do Óbito                                33934 non-null   object        \n 66  Dia do óbito                                 33934 non-null   float64       \n 67  Mês do Óbito                                 33934 non-null   float64       \n 68  Mês Óbito Descrição                          33934 non-null   object        \n 69  Ano do Óbito                                 33934 non-null   float64       \n 70  Ano/Mês do Óbito                             33934 non-null   float64       \n 71  Tipo do local da ocorrência                  33934 non-null   object        \n 72  Tipo do veículo da vítima                    33934 non-null   object        \n 73  Tipo de vítima                               33934 non-null   object        \n 74  Local do óbito                               33934 non-null   object        \n 75  Tipo de acidente                             33934 non-null   object        \n 76  Sub Tipo do Acidente                         17194 non-null   object        \n 77  Sexo                                         33934 non-null   object        \n 78  Faixa etária                                 33934 non-null   object        \n 79  Idade da vítima                              33934 non-null   object        \n 80  Tempo entre o Acidente e o Óbito             33934 non-null   object        \ndtypes: datetime64[ns](3), float64(28), int64(3), object(47)\nmemory usage: 257.5+ MB\n"
     ]
    }
   ],
   "source": [
    "df_acidentes.info()"
   ]
  },
  {
   "cell_type": "code",
   "execution_count": 14,
   "metadata": {},
   "outputs": [
    {
     "output_type": "execute_result",
     "data": {
      "text/plain": [
       "NAO DISPONIVEL    162240\n",
       "DUPLA              99503\n",
       "SIMPLES            92544\n",
       "MÚLTIPLA           22388\n",
       "MULTIPLA             936\n",
       "INCLINADO              1\n",
       "PLANO                  1\n",
       "Name: Condições da pista, dtype: int64"
      ]
     },
     "metadata": {},
     "execution_count": 14
    }
   ],
   "source": [
    "df_acidentes['Condições da pista'].value_counts()"
   ]
  },
  {
   "cell_type": "code",
   "execution_count": 15,
   "metadata": {},
   "outputs": [
    {
     "output_type": "execute_result",
     "data": {
      "text/plain": [
       "NAO DISPONIVEL    191080\n",
       "DUPLA             101932\n",
       "SIMPLES            94776\n",
       "MULTIPLA           23757\n",
       "INCLINADO              1\n",
       "PLANO                  1\n",
       "Name: Tipo de pista, dtype: int64"
      ]
     },
     "metadata": {},
     "execution_count": 15
    }
   ],
   "source": [
    "df_acidentes['Tipo de pista'].value_counts()"
   ]
  },
  {
   "cell_type": "code",
   "execution_count": 17,
   "metadata": {},
   "outputs": [],
   "source": [
    "#PRECISAMOS CHECAR COLUNAS ANTES DO REPLACE NAN"
   ]
  },
  {
   "cell_type": "code",
   "execution_count": 18,
   "metadata": {},
   "outputs": [],
   "source": [
    "#Substituir os nao disponiveis por nulos\n",
    "# df_acidentes.replace('NAO DISPONIVEL', np.nan,inplace=True)"
   ]
  },
  {
   "cell_type": "code",
   "execution_count": 19,
   "metadata": {},
   "outputs": [],
   "source": [
    "# Filtros\n",
    "df_acidentes_moto = df_acidentes.loc[df_acidentes['Veículos Envolvidos - Motocicleta']==1] #\n",
    "df_acidentes_moto_sp = df_acidentes_moto.loc[df_acidentes_moto['Região Administrativa']=='Metropolitana de São Paulo']#\n",
    "# df_nao_fatais_sp_moto = df_nao_fatais_sp_moto.loc[df_nao_fatais_sp_moto['Data do Acidente']>='2019-01-01']\n",
    "# df_nao_fatais_sp_moto = df_nao_fatais_sp_moto.loc[df_nao_fatais_sp_moto['Data do Acidente']<='2020-12-31']"
   ]
  },
  {
   "cell_type": "code",
   "execution_count": 20,
   "metadata": {},
   "outputs": [
    {
     "output_type": "stream",
     "name": "stdout",
     "text": [
      "df_obitos (34657, 34)\ndf_fatais (31791, 32)\ndf_nao_fatais (377613, 57)\ndf_fatais_geral (33934, 50)\ndf_acidentes (411547, 81)\ndf_acidentes_moto (168023, 81)\ndf_acidentes_moto_sp (58161, 81)\n"
     ]
    }
   ],
   "source": [
    "print('df_obitos',df_obitos.shape)\n",
    "print('df_fatais',df_fatais.shape)\n",
    "print('df_nao_fatais',df_nao_fatais.shape)\n",
    "print('df_fatais_geral',df_fatais_geral.shape)\n",
    "print('df_acidentes',df_acidentes.shape)\n",
    "print('df_acidentes_moto',df_acidentes_moto.shape)\n",
    "print('df_acidentes_moto_sp',df_acidentes_moto_sp.shape)\n"
   ]
  },
  {
   "cell_type": "code",
   "execution_count": 39,
   "metadata": {},
   "outputs": [
    {
     "output_type": "stream",
     "name": "stdout",
     "text": [
      "<class 'pandas.core.frame.DataFrame'>\nInt64Index: 58161 entries, 0 to 377590\nData columns (total 81 columns):\n #   Column                                       Non-Null Count  Dtype         \n---  ------                                       --------------  -----         \n 0   ID                                           58161 non-null  int64         \n 1   Data do Acidente                             58161 non-null  datetime64[ns]\n 2   Dia do Acidente                              58161 non-null  datetime64[ns]\n 3   Mês do Acidente                              58161 non-null  object        \n 4   Ano do Acidente                              58161 non-null  datetime64[ns]\n 5   Ano/Mês do Acidente                          58161 non-null  float64       \n 6   Dia da Semana                                58161 non-null  object        \n 7   Hora do Acidente                             58161 non-null  object        \n 8   Turno                                        58161 non-null  object        \n 9   Município                                    58161 non-null  object        \n 10  Região Administrativa                        58161 non-null  object        \n 11  Logradouro                                   58161 non-null  object        \n 12  Numero/KM                                    58161 non-null  object        \n 13  Jurisdição                                   58161 non-null  object        \n 14  Administração                                58161 non-null  object        \n 15  Conservação                                  58161 non-null  object        \n 16  Latitude                                     58161 non-null  object        \n 17  Longitude                                    58161 non-null  object        \n 18  Condições da pista                           58161 non-null  object        \n 19  Condições Climáticas                         58161 non-null  object        \n 20  Iluminação                                   58161 non-null  object        \n 21  Mão de direção                               58161 non-null  object        \n 22  Obras na pista                               58161 non-null  object        \n 23  Relevo                                       58161 non-null  object        \n 24  Superfície da via                            58161 non-null  object        \n 25  Tipo de pavimento                            58161 non-null  object        \n 26  Tipo de pista                                58161 non-null  object        \n 27  Traçado                                      58161 non-null  object        \n 28  Veículos Envolvidos - Bicicleta              58161 non-null  float64       \n 29  Veículos Envolvidos - Caminhão               58161 non-null  float64       \n 30  Veículos Envolvidos - Automóvel              58161 non-null  float64       \n 31  Veículos Envolvidos - Outros                 58161 non-null  float64       \n 32  Veículos Envolvidos - Motocicleta            58161 non-null  float64       \n 33  Veículos Envolvidos - Ônibus                 58161 non-null  float64       \n 34  Veículos Envolvidos - ND                     58161 non-null  float64       \n 35  Veículos Envolvidos - Pedestre               58161 non-null  float64       \n 36  Pessoas Envolvidas - Grave                   58161 non-null  float64       \n 37  Pessoas Envolvidas - Ileso                   58161 non-null  float64       \n 38  Pessoas Envolvidas - Leve                    58161 non-null  float64       \n 39  Pessoas Envolvidas - Fatal                   58161 non-null  float64       \n 40  Pessoas Envolvidas - Feridos                 58161 non-null  float64       \n 41  Pessoas Envolvidas - ND                      58161 non-null  float64       \n 42  Serviço de Atendimento - Bombeiro            58161 non-null  object        \n 43  Serviço de Atendimento - PMRV                58161 non-null  object        \n 44  Serviço de Atendimento - PRF                 58161 non-null  object        \n 45  Serviço de Atendimento - Radio Patrulha      58161 non-null  object        \n 46  Servciço de Atendimento - CPTRAN             58161 non-null  object        \n 47  Tipo de Via                                  58161 non-null  object        \n 48  Tipo de Acidente - Atropelamento             58161 non-null  float64       \n 49  Tipo de Acidente - Choque                    58161 non-null  float64       \n 50  Tipo de Acidente - Colisão                   58161 non-null  float64       \n 51  Tipo de Acidente - Outros tipos de Acidente  58161 non-null  float64       \n 52  Tipo de Acidente - ND                        58161 non-null  float64       \n 53  Turno + Dia de Semana                        58161 non-null  object        \n 54  Tempo entre o Acidente e as Mortes           0 non-null      object        \n 55  Acidente Fatal                               58161 non-null  int64         \n 56  Acidente Não Fatal                           58161 non-null  int64         \n 57  Id Delegacia                                 0 non-null      float64       \n 58  Número BO                                    0 non-null      float64       \n 59  Ano BO                                       0 non-null      float64       \n 60  Tipo do Local do Acidente                    0 non-null      object        \n 61  Outro Veículo Envolvido                      0 non-null      object        \n 62  Sentido da Via (SIOPM)                       0 non-null      object        \n 63  Limite da velocidade da via (SIOPM)          0 non-null      object        \n 64  Quantidade de vítimas                        0 non-null      float64       \n 65  Data do Óbito                                0 non-null      object        \n 66  Dia do óbito                                 0 non-null      float64       \n 67  Mês do Óbito                                 0 non-null      float64       \n 68  Mês Óbito Descrição                          0 non-null      object        \n 69  Ano do Óbito                                 0 non-null      float64       \n 70  Ano/Mês do Óbito                             0 non-null      float64       \n 71  Tipo do local da ocorrência                  0 non-null      object        \n 72  Tipo do veículo da vítima                    0 non-null      object        \n 73  Tipo de vítima                               0 non-null      object        \n 74  Local do óbito                               0 non-null      object        \n 75  Tipo de acidente                             0 non-null      object        \n 76  Sub Tipo do Acidente                         0 non-null      object        \n 77  Sexo                                         0 non-null      object        \n 78  Faixa etária                                 0 non-null      object        \n 79  Idade da vítima                              0 non-null      object        \n 80  Tempo entre o Acidente e o Óbito             0 non-null      object        \ndtypes: datetime64[ns](3), float64(28), int64(3), object(47)\nmemory usage: 36.4+ MB\n"
     ]
    }
   ],
   "source": [
    "df_acidentes_moto_sp.info()"
   ]
  },
  {
   "cell_type": "code",
   "execution_count": 22,
   "metadata": {},
   "outputs": [],
   "source": [
    "# Selecionar colunas pra exportar\n"
   ]
  },
  {
   "cell_type": "code",
   "execution_count": 23,
   "metadata": {},
   "outputs": [],
   "source": [
    "# export\n",
    "df_acidentes_moto_sp.to_csv('df_acidentes_moto_sp.csv')"
   ]
  },
  {
   "cell_type": "code",
   "execution_count": 41,
   "metadata": {},
   "outputs": [
    {
     "output_type": "execute_result",
     "data": {
      "text/plain": [
       "0        NaN\n",
       "4        NaN\n",
       "8        NaN\n",
       "21       NaN\n",
       "22       NaN\n",
       "          ..\n",
       "377529   NaN\n",
       "377536   NaN\n",
       "377538   NaN\n",
       "377539   NaN\n",
       "377590   NaN\n",
       "Name: Mês do Óbito, Length: 58161, dtype: float64"
      ]
     },
     "metadata": {},
     "execution_count": 41
    }
   ],
   "source": [
    "df_acidentes_moto_sp['Mês do Óbito']\n"
   ]
  },
  {
   "cell_type": "code",
   "execution_count": null,
   "metadata": {},
   "outputs": [],
   "source": []
  }
 ]
}