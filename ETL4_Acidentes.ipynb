{
 "cells": [
  {
   "cell_type": "code",
   "execution_count": 1,
   "metadata": {},
   "outputs": [],
   "source": [
    "import pandas as pd\n",
    "import numpy as np\n",
    "import matplotlib.pyplot as plt \n",
    "import seaborn as sns"
   ]
  },
  {
   "cell_type": "code",
   "execution_count": 3,
   "metadata": {},
   "outputs": [],
   "source": [
    "#importando datasets http://www.respeitoavida.sp.gov.br/relatorios/\n",
    "df_obitos_raw=pd.read_csv('obitos_publico.csv',encoding='unicode_escape',sep=';')\n",
    "df_nao_fatais_raw = pd.read_csv('acidentes_naofatais.csv',encoding='unicode_escape',sep=';')\n",
    "df_fatais_raw = pd.read_excel('acidentes_fatais.xlsx')"
   ]
  },
  {
   "cell_type": "code",
   "execution_count": 4,
   "metadata": {},
   "outputs": [],
   "source": [
    "#checando duplicatas - precisamos deletar os duplicados antes de fazer o merge das bases\n",
    "df_obitos_raw.duplicated().value_counts() #achado 97 linhas duplicadas (os outros df's não tem duplicatas)\n",
    "df_obitos_raw = df_obitos_raw.drop_duplicates()#dropando as 97 duplicatas, temos 34657 linhas"
   ]
  },
  {
   "cell_type": "code",
   "execution_count": 5,
   "metadata": {},
   "outputs": [],
   "source": [
    "# Criando Dataframes para trabalhar\n",
    "df_nao_fatais = df_nao_fatais_raw.copy()\n",
    "\n",
    "df_fatais = df_fatais_raw.copy()#NAO TEMOS COMO FILTRAR POR MOTOCILCETA POIS NAO TEM ESSA COLUNA!!!!\n",
    "\n",
    "df_obitos = df_obitos_raw.copy()#AQUI CONSEGUIMOS FILTRAR POR MOTOCICLETA"
   ]
  },
  {
   "cell_type": "code",
   "execution_count": 16,
   "metadata": {},
   "outputs": [
    {
     "name": "stdout",
     "output_type": "stream",
     "text": [
      "obitos (35046, 34)\n",
      "fatais (31796, 32)\n",
      "Ñ fatais (390437, 54)\n"
     ]
    }
   ],
   "source": [
    "#checando sempre a quantidade de dados dos dataframes\n",
    "print('obitos',df_obitos.shape)\n",
    "print('fatais',df_fatais.shape)\n",
    "print('Ñ fatais',df_nao_fatais.shape)"
   ]
  },
  {
   "cell_type": "code",
   "execution_count": 17,
   "metadata": {},
   "outputs": [],
   "source": [
    "#Arrumando o nome das colunas\n",
    "df_obitos = df_obitos_raw.rename(columns={'LAT_(GEO)':'Latitude',\n",
    "                                          'LONG_(GEO)':'Longitude',\n",
    "                                          'Tipo de via':'Tipo de Via',\n",
    "                                         'Id da Delegacia (RDO)':'Id Delegacia', 'Número do Bo (RDO)':'Número BO',\n",
    "                                          'Ano do BO (RDO)':'Ano BO','Númeral / KM':'Numero/KM'})\n",
    "\n",
    "df_nao_fatais = df_nao_fatais_raw.rename(columns={'LAT_(GEO)':'Latitude','LONG_(GEO)':'Longitude'})\n",
    "\n",
    "\n",
    "df_fatais =df_fatais_raw.rename(columns={'Lat (GEO)':'Latitude','Long (GEO)':'Longitude','Numeral / KM':'Numero/KM',\n",
    "                                         'Iluminação da via (SIOPM)':'Iluminação',\n",
    "                                        'Superfície da Via (SIOPM)':'Superfície da via', \n",
    "                                         'Dia da semana':'Dia da Semana',\n",
    "                                         'Tipo de via':'Tipo de Via',\n",
    "                                         'Tipo de pista (SIOPM)':'Tipo de pista',\n",
    "                                         'Id Delegacia (RDO)':'Id Delegacia', 'Número BO (RDO)':'Número BO', \n",
    "                                         'Ano BO (RDO)':'Ano BO',\n",
    "                                        'Condições Climáticas (SIOPM)':'Condições Climáticas'})"
   ]
  },
  {
   "cell_type": "code",
   "execution_count": 18,
   "metadata": {},
   "outputs": [],
   "source": [
    "# dropando colunas duplicada\n",
    "# no df_nao_fatais, colunas 'Condições da pista' e 'Tipo de pista' são iguais, portando dropamos a coluna 'Condições da pista'\n",
    "df_nao_fatais.drop(['Condições da pista'],axis=1,inplace=True)"
   ]
  },
  {
   "cell_type": "code",
   "execution_count": 20,
   "metadata": {},
   "outputs": [],
   "source": [
    "#alterando tipos de variáveis\n",
    "df_obitos['Data do Acidente'] = pd.to_datetime(df_obitos['Data do Acidente'],errors='coerce')\n",
    "\n",
    "df_nao_fatais['Data do Acidente'] = pd.to_datetime(df_nao_fatais['Data do Acidente'],format='%Y-%m-%d')\n",
    "df_nao_fatais['Ano do Acidente'] = pd.to_datetime(df_nao_fatais['Ano do Acidente'],format='%Y')\n",
    "df_nao_fatais['Dia do Acidente'] = pd.to_datetime(df_nao_fatais['Dia do Acidente'],format='%d')\n",
    "\n",
    "df_fatais.loc[31790,'Data do Acidente']= '2020-02-27'\n",
    "df_fatais['Data do Acidente'] = pd.to_datetime(df_fatais['Data do Acidente'],format='%Y-%m-%d')\n",
    "df_fatais.loc[31790, 'Ano do Acidente']= '2020'\n",
    "df_fatais['Ano do Acidente'] = pd.to_datetime(df_fatais['Ano do Acidente'],format='%Y',errors='coerce')\n",
    "df_fatais['Dia do Acidente'] = pd.to_datetime(df_fatais['Dia do Acidente'],format='%d')"
   ]
  },
  {
   "cell_type": "code",
   "execution_count": 21,
   "metadata": {},
   "outputs": [],
   "source": [
    "#juntando a df_fatais_geral com df_nao_fatais, criando df_acidentes\n",
    "df_fatais_geral = df_fatais.merge(df_obitos,\n",
    "                                  on=['Número BO','Data do Acidente','Ano BO','Hora do Acidente','Turno','Município','Região Administrativa','Jurisdição','Administração','Conservação','Outro Veículo Envolvido','Tipo de Via','Logradouro','Dia da Semana','Numero/KM','Id Delegacia','Latitude','Longitude'])"
   ]
  },
  {
   "cell_type": "code",
   "execution_count": 22,
   "metadata": {},
   "outputs": [
    {
     "name": "stdout",
     "output_type": "stream",
     "text": [
      "obitos (35046, 34)\n",
      "fatais (31796, 32)\n",
      "Ñ fatais (390437, 54)\n",
      "merge (33938, 48)\n"
     ]
    }
   ],
   "source": [
    "#checando sempre a quantidade de dados dos dataframes\n",
    "print('obitos',df_obitos.shape)\n",
    "print('fatais',df_fatais.shape)\n",
    "print('Ñ fatais',df_nao_fatais.shape)\n",
    "print('merge',df_fatais_geral.shape)"
   ]
  },
  {
   "cell_type": "code",
   "execution_count": 23,
   "metadata": {},
   "outputs": [
    {
     "name": "stdout",
     "output_type": "stream",
     "text": [
      "<class 'pandas.core.frame.DataFrame'>\n",
      "Int64Index: 33938 entries, 0 to 33937\n",
      "Data columns (total 48 columns):\n",
      " #   Column                               Non-Null Count  Dtype         \n",
      "---  ------                               --------------  -----         \n",
      " 0   ID                                   33938 non-null  int64         \n",
      " 1   Id Delegacia                         33938 non-null  int64         \n",
      " 2   Número BO                            33938 non-null  int64         \n",
      " 3   Ano BO                               33938 non-null  int64         \n",
      " 4   Data do Acidente                     33938 non-null  datetime64[ns]\n",
      " 5   Dia do Acidente                      33938 non-null  datetime64[ns]\n",
      " 6   Mês do Acidente                      33938 non-null  object        \n",
      " 7   Ano do Acidente                      33938 non-null  datetime64[ns]\n",
      " 8   Ano/Mês do Acidente                  33938 non-null  float64       \n",
      " 9   Dia da Semana                        33938 non-null  object        \n",
      " 10  Hora do Acidente                     33938 non-null  object        \n",
      " 11  Turno                                33938 non-null  object        \n",
      " 12  Município                            33938 non-null  object        \n",
      " 13  Região Administrativa                33938 non-null  object        \n",
      " 14  Logradouro                           33938 non-null  object        \n",
      " 15  Numero/KM                            33938 non-null  object        \n",
      " 16  Jurisdição                           33938 non-null  object        \n",
      " 17  Administração                        33938 non-null  object        \n",
      " 18  Conservação                          33938 non-null  object        \n",
      " 19  Tipo do Local do Acidente            33938 non-null  object        \n",
      " 20  Latitude                             33938 non-null  object        \n",
      " 21  Longitude                            33938 non-null  object        \n",
      " 22  Iluminação                           33938 non-null  object        \n",
      " 23  Superfície da via                    33938 non-null  object        \n",
      " 24  Tipo de pista                        33938 non-null  object        \n",
      " 25  Outro Veículo Envolvido              22548 non-null  object        \n",
      " 26  Tipo de Via                          33938 non-null  object        \n",
      " 27  Condições Climáticas                 33938 non-null  object        \n",
      " 28  Sentido da Via (SIOPM)               33938 non-null  object        \n",
      " 29  Limite da velocidade da via (SIOPM)  33938 non-null  object        \n",
      " 30  Quantidade de vítimas                33938 non-null  int64         \n",
      " 31  Tempo entre o Acidente e as Mortes   33938 non-null  object        \n",
      " 32  Data do Óbito                        33938 non-null  object        \n",
      " 33  Dia do óbito                         33938 non-null  int64         \n",
      " 34  Mês do Óbito                         33938 non-null  int64         \n",
      " 35  Mês Óbito Descrição                  33938 non-null  object        \n",
      " 36  Ano do Óbito                         33938 non-null  int64         \n",
      " 37  Ano/Mês do Óbito                     33938 non-null  float64       \n",
      " 38  Tipo do local da ocorrência          33938 non-null  object        \n",
      " 39  Tipo do veículo da vítima            33938 non-null  object        \n",
      " 40  Tipo de vítima                       33938 non-null  object        \n",
      " 41  Local do óbito                       33938 non-null  object        \n",
      " 42  Tipo de acidente                     33938 non-null  object        \n",
      " 43  Sub Tipo do Acidente                 17198 non-null  object        \n",
      " 44  Sexo                                 33938 non-null  object        \n",
      " 45  Faixa etária                         33938 non-null  object        \n",
      " 46  Idade da vítima                      33938 non-null  object        \n",
      " 47  Tempo entre o Acidente e o Óbito     33938 non-null  object        \n",
      "dtypes: datetime64[ns](3), float64(2), int64(8), object(35)\n",
      "memory usage: 12.7+ MB\n"
     ]
    }
   ],
   "source": [
    "df_fatais_geral.info()"
   ]
  },
  {
   "cell_type": "code",
   "execution_count": 12,
   "metadata": {},
   "outputs": [
    {
     "data": {
      "text/plain": [
       "AUTOMOVEL         7650\n",
       "NÃO HÁ            4561\n",
       "NAO DISPONIVEL    3503\n",
       "CAMINHAO          3450\n",
       "MOTOCICLETA       1724\n",
       "ONIBUS            1376\n",
       "OUTROS             143\n",
       "BICICLETA           94\n",
       "PEDESTRE            43\n",
       "Name: Outro Veículo Envolvido, dtype: int64"
      ]
     },
     "execution_count": 12,
     "metadata": {},
     "output_type": "execute_result"
    }
   ],
   "source": [
    "#checando o pq algumas variáveis acima tem valores nulos. \n",
    "df_fatais_geral['Outro Veículo Envolvido'].value_counts()\n",
    "# Temos apenas 22544 valores não nulos de 33934. Podemos considerar essa diferença de nulos como da categoria \"Não Há\"?? E os \"não disponíveis\" podem ser considerados \"Não Há\"?? Se sim fazer um apply lambda pra corrigir isso. CHECAR COM O GRUPO!!!"
   ]
  },
  {
   "cell_type": "code",
   "execution_count": 13,
   "metadata": {},
   "outputs": [
    {
     "data": {
      "text/plain": [
       "NAO DISPONIVEL                           3512\n",
       "FRONTAL                                  2136\n",
       "CRUZANDO A VIA                           1858\n",
       "TRASEIRA                                 1382\n",
       "LATERAL                                  1144\n",
       "TOMBAMENTO VEÍCULO DE 2 RODAS            1142\n",
       "POSTE                                     813\n",
       "TRANSVERSAL                               782\n",
       "CAPOTAMENTO                               695\n",
       "ANDANDO NA VIA / ACOSTAMENTO              523\n",
       "ÁRVORE                                    464\n",
       "DEFENSA / BARREIRA                        440\n",
       "MURO/PAREDE/TALUDE                        406\n",
       "VEÍCULO ESTACIONADO                       399\n",
       "OUTROS                                    265\n",
       "CONDUTOR/PASSAGEIROS FORA DO VEÍCULO      218\n",
       "QUEDA (ÁGUA, BARRANCO, PONTE)             176\n",
       "NA CALÇADA                                163\n",
       "TOMBAMENTO VEÍCULO DE MAIS DE 2 RODAS     154\n",
       "MEIO-FIO/CALÇAMENTO/DRENAGEM              150\n",
       "ANIMAL                                    109\n",
       "ENGAVETAMENTO                              97\n",
       "PLACA DE SINALIZAÇÃO                       71\n",
       "OBJETO NA PISTA                            34\n",
       "SUBMERSÃO                                  25\n",
       "OBJETO LANÇADO SOBRE O VEÍCULO             16\n",
       "RABEIRA - APOIO EM VEÍCULO                  7\n",
       "INCÊDIO / EXPLOSÃO                          7\n",
       "\"RABEIRA\" / APOIO EM VEÍCULO                4\n",
       "NÃO HÁ                                      2\n",
       "Name: Sub Tipo do Acidente, dtype: int64"
      ]
     },
     "execution_count": 13,
     "metadata": {},
     "output_type": "execute_result"
    }
   ],
   "source": [
    "df_fatais_geral['Sub Tipo do Acidente'].value_counts()\n",
    "#aqui quase 50% dos dados são nulos. E temos muitas categorias....CHECAR COM O GRUPO!!!"
   ]
  },
  {
   "cell_type": "code",
   "execution_count": 24,
   "metadata": {},
   "outputs": [],
   "source": [
    "#criando colunas com labels de fatal e não falal antes de juntar\n",
    "df_fatais_geral['Acidente Fatal']=1\n",
    "df_fatais_geral['Acidente Não Fatal']=0\n",
    "df_nao_fatais['Acidente Fatal']=0\n",
    "df_nao_fatais['Acidente Não Fatal']=1\n"
   ]
  },
  {
   "cell_type": "code",
   "execution_count": 25,
   "metadata": {},
   "outputs": [],
   "source": [
    "#juntando a df_fatais_geral com df_nao_fatais criando df_acidentes\n",
    "df_acidentes = pd.concat([df_nao_fatais,df_fatais_geral])"
   ]
  },
  {
   "cell_type": "code",
   "execution_count": 26,
   "metadata": {},
   "outputs": [
    {
     "name": "stdout",
     "output_type": "stream",
     "text": [
      "<class 'pandas.core.frame.DataFrame'>\n",
      "Int64Index: 424375 entries, 0 to 33937\n",
      "Data columns (total 80 columns):\n",
      " #   Column                                       Non-Null Count   Dtype         \n",
      "---  ------                                       --------------   -----         \n",
      " 0   ID                                           424375 non-null  int64         \n",
      " 1   Data do Acidente                             424375 non-null  datetime64[ns]\n",
      " 2   Dia do Acidente                              424375 non-null  datetime64[ns]\n",
      " 3   Mês do Acidente                              424375 non-null  object        \n",
      " 4   Ano do Acidente                              424375 non-null  datetime64[ns]\n",
      " 5   Ano/Mês do Acidente                          424375 non-null  float64       \n",
      " 6   Dia da Semana                                424375 non-null  object        \n",
      " 7   Hora do Acidente                             424375 non-null  object        \n",
      " 8   Turno                                        424375 non-null  object        \n",
      " 9   Município                                    424375 non-null  object        \n",
      " 10  Região Administrativa                        424375 non-null  object        \n",
      " 11  Logradouro                                   424374 non-null  object        \n",
      " 12  Numero/KM                                    424375 non-null  object        \n",
      " 13  Jurisdição                                   424375 non-null  object        \n",
      " 14  Administração                                424375 non-null  object        \n",
      " 15  Conservação                                  424375 non-null  object        \n",
      " 16  Latitude                                     424375 non-null  object        \n",
      " 17  Longitude                                    424375 non-null  object        \n",
      " 18  Condições Climáticas                         424375 non-null  object        \n",
      " 19  Iluminação                                   424375 non-null  object        \n",
      " 20  Mão de direção                               390437 non-null  object        \n",
      " 21  Obras na pista                               390437 non-null  object        \n",
      " 22  Relevo                                       390437 non-null  object        \n",
      " 23  Superfície da via                            424375 non-null  object        \n",
      " 24  Tipo de pavimento                            390437 non-null  object        \n",
      " 25  Tipo de pista                                424375 non-null  object        \n",
      " 26  Traçado                                      390437 non-null  object        \n",
      " 27  Veículos Envolvidos - Bicicleta              390437 non-null  float64       \n",
      " 28  Veículos Envolvidos - Caminhão               390437 non-null  float64       \n",
      " 29  Veículos Envolvidos - Automóvel              390437 non-null  float64       \n",
      " 30  Veículos Envolvidos - Outros                 390437 non-null  float64       \n",
      " 31  Veículos Envolvidos - Motocicleta            390437 non-null  float64       \n",
      " 32  Veículos Envolvidos - Ônibus                 390437 non-null  float64       \n",
      " 33  Veículos Envolvidos - ND                     390437 non-null  float64       \n",
      " 34  Veículos Envolvidos - Pedestre               390437 non-null  float64       \n",
      " 35  Pessoas Envolvidas - Grave                   390437 non-null  float64       \n",
      " 36  Pessoas Envolvidas - Ileso                   390437 non-null  float64       \n",
      " 37  Pessoas Envolvidas - Leve                    390437 non-null  float64       \n",
      " 38  Pessoas Envolvidas - Fatal                   390437 non-null  float64       \n",
      " 39  Pessoas Envolvidas - Feridos                 390437 non-null  float64       \n",
      " 40  Pessoas Envolvidas - ND                      390437 non-null  float64       \n",
      " 41  Serviço de Atendimento - Bombeiro            390437 non-null  object        \n",
      " 42  Serviço de Atendimento - PMRV                390437 non-null  object        \n",
      " 43  Serviço de Atendimento - PRF                 390437 non-null  object        \n",
      " 44  Serviço de Atendimento - Radio Patrulha      390437 non-null  object        \n",
      " 45  Servciço de Atendimento - CPTRAN             390437 non-null  object        \n",
      " 46  Tipo de Via                                  424375 non-null  object        \n",
      " 47  Tipo de Acidente - Atropelamento             390437 non-null  float64       \n",
      " 48  Tipo de Acidente - Choque                    390437 non-null  float64       \n",
      " 49  Tipo de Acidente - Colisão                   390437 non-null  float64       \n",
      " 50  Tipo de Acidente - Outros tipos de Acidente  390437 non-null  float64       \n",
      " 51  Tipo de Acidente - ND                        390437 non-null  float64       \n",
      " 52  Turno + Dia de Semana                        390437 non-null  object        \n",
      " 53  Tempo entre o Acidente e as Mortes           33938 non-null   object        \n",
      " 54  Acidente Fatal                               424375 non-null  int64         \n",
      " 55  Acidente Não Fatal                           424375 non-null  int64         \n",
      " 56  Id Delegacia                                 33938 non-null   float64       \n",
      " 57  Número BO                                    33938 non-null   float64       \n",
      " 58  Ano BO                                       33938 non-null   float64       \n",
      " 59  Tipo do Local do Acidente                    33938 non-null   object        \n",
      " 60  Outro Veículo Envolvido                      22548 non-null   object        \n",
      " 61  Sentido da Via (SIOPM)                       33938 non-null   object        \n",
      " 62  Limite da velocidade da via (SIOPM)          33938 non-null   object        \n",
      " 63  Quantidade de vítimas                        33938 non-null   float64       \n",
      " 64  Data do Óbito                                33938 non-null   object        \n",
      " 65  Dia do óbito                                 33938 non-null   float64       \n",
      " 66  Mês do Óbito                                 33938 non-null   float64       \n",
      " 67  Mês Óbito Descrição                          33938 non-null   object        \n",
      " 68  Ano do Óbito                                 33938 non-null   float64       \n",
      " 69  Ano/Mês do Óbito                             33938 non-null   float64       \n",
      " 70  Tipo do local da ocorrência                  33938 non-null   object        \n",
      " 71  Tipo do veículo da vítima                    33938 non-null   object        \n",
      " 72  Tipo de vítima                               33938 non-null   object        \n",
      " 73  Local do óbito                               33938 non-null   object        \n",
      " 74  Tipo de acidente                             33938 non-null   object        \n",
      " 75  Sub Tipo do Acidente                         17198 non-null   object        \n",
      " 76  Sexo                                         33938 non-null   object        \n",
      " 77  Faixa etária                                 33938 non-null   object        \n",
      " 78  Idade da vítima                              33938 non-null   object        \n",
      " 79  Tempo entre o Acidente e o Óbito             33938 non-null   object        \n",
      "dtypes: datetime64[ns](3), float64(28), int64(3), object(46)\n",
      "memory usage: 262.3+ MB\n"
     ]
    }
   ],
   "source": [
    "df_acidentes.info()"
   ]
  },
  {
   "cell_type": "code",
   "execution_count": 27,
   "metadata": {},
   "outputs": [
    {
     "name": "stdout",
     "output_type": "stream",
     "text": [
      "df_obitos (35046, 34)\n",
      "df_fatais (31796, 32)\n",
      "df_nao_fatais (390437, 56)\n",
      "df_fatais_geral (33938, 50)\n",
      "df_acidentes (424375, 80)\n"
     ]
    }
   ],
   "source": [
    "#checando sempre a quantidade de dados dos dataframes\n",
    "print('df_obitos',df_obitos.shape)\n",
    "print('df_fatais',df_fatais.shape)\n",
    "print('df_nao_fatais',df_nao_fatais.shape)\n",
    "print('df_fatais_geral',df_fatais_geral.shape)\n",
    "print('df_acidentes',df_acidentes.shape)"
   ]
  },
  {
   "cell_type": "code",
   "execution_count": 28,
   "metadata": {},
   "outputs": [],
   "source": [
    "#FILTROS\n",
    "# Filtrando por Região metropolitana de SP\n",
    "df_acidentes_sp = df_acidentes.loc[df_acidentes['Região Administrativa']=='Metropolitana de São Paulo']#\n",
    "# df_nao_fatais_sp_moto = df_nao_fatais_sp_moto.loc[df_nao_fatais_sp_moto['Data do Acidente']>='2019-01-01']\n",
    "# df_nao_fatais_sp_moto = df_nao_fatais_sp_moto.loc[df_nao_fatais_sp_moto['Data do Acidente']<='2020-12-31']"
   ]
  },
  {
   "cell_type": "code",
   "execution_count": 29,
   "metadata": {},
   "outputs": [],
   "source": [
    "#filtrando por acidentes que envolvem motocicleta\n",
    "# criando dataframes preliminares com diferentes filtros, pra depois concatenar\n",
    "df_acidentes_sp_moto1 = df_acidentes_sp.loc[df_acidentes_sp['Veículos Envolvidos - Motocicleta']==1] #dados que vem do \"não fatais\" onde temos motos envolvidas\n",
    "df_acidentes_sp_moto2 = df_acidentes_sp.loc[df_acidentes_sp['Tipo do veículo da vítima']=='MOTOCICLETA'] # dados que vem dos \"fatais\", que são os óbitos de motocicleta\n",
    "df_acidentes_sp_moto3 = df_acidentes_sp.loc[df_acidentes_sp['Outro Veículo Envolvido']=='MOTOCICLETA'] # dados que vem dos \"fatais\" , que podem ter motos como outo veículo envolvido\n",
    "#concatenando os 3 dataframes\n",
    "df_acidentes_sp_moto = pd.concat([df_acidentes_sp_moto1,df_acidentes_sp_moto2,df_acidentes_sp_moto3])\n"
   ]
  },
  {
   "cell_type": "code",
   "execution_count": null,
   "metadata": {},
   "outputs": [],
   "source": [
    "#checando duplicatas\n",
    "df_acidentes_sp_moto.duplicated().value_counts() #169 duplicatas pois tem como motocicletas o 'Tipo do veículo da vítima' e 'Outro Veículo Envolvido', do df_fatais. deletar!\n",
    "df_acidentes_sp_moto = df_acidentes_sp_moto.drop_duplicates()"
   ]
  },
  {
   "cell_type": "code",
   "execution_count": 31,
   "metadata": {},
   "outputs": [
    {
     "name": "stdout",
     "output_type": "stream",
     "text": [
      "<class 'pandas.core.frame.DataFrame'>\n",
      "Int64Index: 64621 entries, 6 to 33914\n",
      "Data columns (total 80 columns):\n",
      " #   Column                                       Non-Null Count  Dtype         \n",
      "---  ------                                       --------------  -----         \n",
      " 0   ID                                           64621 non-null  int64         \n",
      " 1   Data do Acidente                             64621 non-null  datetime64[ns]\n",
      " 2   Dia do Acidente                              64621 non-null  datetime64[ns]\n",
      " 3   Mês do Acidente                              64621 non-null  object        \n",
      " 4   Ano do Acidente                              64621 non-null  datetime64[ns]\n",
      " 5   Ano/Mês do Acidente                          64621 non-null  float64       \n",
      " 6   Dia da Semana                                64621 non-null  object        \n",
      " 7   Hora do Acidente                             64621 non-null  object        \n",
      " 8   Turno                                        64621 non-null  object        \n",
      " 9   Município                                    64621 non-null  object        \n",
      " 10  Região Administrativa                        64621 non-null  object        \n",
      " 11  Logradouro                                   64621 non-null  object        \n",
      " 12  Numero/KM                                    64621 non-null  object        \n",
      " 13  Jurisdição                                   64621 non-null  object        \n",
      " 14  Administração                                64621 non-null  object        \n",
      " 15  Conservação                                  64621 non-null  object        \n",
      " 16  Latitude                                     64621 non-null  object        \n",
      " 17  Longitude                                    64621 non-null  object        \n",
      " 18  Condições Climáticas                         64621 non-null  object        \n",
      " 19  Iluminação                                   64621 non-null  object        \n",
      " 20  Mão de direção                               60134 non-null  object        \n",
      " 21  Obras na pista                               60134 non-null  object        \n",
      " 22  Relevo                                       60134 non-null  object        \n",
      " 23  Superfície da via                            64621 non-null  object        \n",
      " 24  Tipo de pavimento                            60134 non-null  object        \n",
      " 25  Tipo de pista                                64621 non-null  object        \n",
      " 26  Traçado                                      60134 non-null  object        \n",
      " 27  Veículos Envolvidos - Bicicleta              60134 non-null  float64       \n",
      " 28  Veículos Envolvidos - Caminhão               60134 non-null  float64       \n",
      " 29  Veículos Envolvidos - Automóvel              60134 non-null  float64       \n",
      " 30  Veículos Envolvidos - Outros                 60134 non-null  float64       \n",
      " 31  Veículos Envolvidos - Motocicleta            60134 non-null  float64       \n",
      " 32  Veículos Envolvidos - Ônibus                 60134 non-null  float64       \n",
      " 33  Veículos Envolvidos - ND                     60134 non-null  float64       \n",
      " 34  Veículos Envolvidos - Pedestre               60134 non-null  float64       \n",
      " 35  Pessoas Envolvidas - Grave                   60134 non-null  float64       \n",
      " 36  Pessoas Envolvidas - Ileso                   60134 non-null  float64       \n",
      " 37  Pessoas Envolvidas - Leve                    60134 non-null  float64       \n",
      " 38  Pessoas Envolvidas - Fatal                   60134 non-null  float64       \n",
      " 39  Pessoas Envolvidas - Feridos                 60134 non-null  float64       \n",
      " 40  Pessoas Envolvidas - ND                      60134 non-null  float64       \n",
      " 41  Serviço de Atendimento - Bombeiro            60134 non-null  object        \n",
      " 42  Serviço de Atendimento - PMRV                60134 non-null  object        \n",
      " 43  Serviço de Atendimento - PRF                 60134 non-null  object        \n",
      " 44  Serviço de Atendimento - Radio Patrulha      60134 non-null  object        \n",
      " 45  Servciço de Atendimento - CPTRAN             60134 non-null  object        \n",
      " 46  Tipo de Via                                  64621 non-null  object        \n",
      " 47  Tipo de Acidente - Atropelamento             60134 non-null  float64       \n",
      " 48  Tipo de Acidente - Choque                    60134 non-null  float64       \n",
      " 49  Tipo de Acidente - Colisão                   60134 non-null  float64       \n",
      " 50  Tipo de Acidente - Outros tipos de Acidente  60134 non-null  float64       \n",
      " 51  Tipo de Acidente - ND                        60134 non-null  float64       \n",
      " 52  Turno + Dia de Semana                        60134 non-null  object        \n",
      " 53  Tempo entre o Acidente e as Mortes           4487 non-null   object        \n",
      " 54  Acidente Fatal                               64621 non-null  int64         \n",
      " 55  Acidente Não Fatal                           64621 non-null  int64         \n",
      " 56  Id Delegacia                                 4487 non-null   float64       \n",
      " 57  Número BO                                    4487 non-null   float64       \n",
      " 58  Ano BO                                       4487 non-null   float64       \n",
      " 59  Tipo do Local do Acidente                    4487 non-null   object        \n",
      " 60  Outro Veículo Envolvido                      3230 non-null   object        \n",
      " 61  Sentido da Via (SIOPM)                       4487 non-null   object        \n",
      " 62  Limite da velocidade da via (SIOPM)          4487 non-null   object        \n",
      " 63  Quantidade de vítimas                        4487 non-null   float64       \n",
      " 64  Data do Óbito                                4487 non-null   object        \n",
      " 65  Dia do óbito                                 4487 non-null   float64       \n",
      " 66  Mês do Óbito                                 4487 non-null   float64       \n",
      " 67  Mês Óbito Descrição                          4487 non-null   object        \n",
      " 68  Ano do Óbito                                 4487 non-null   float64       \n",
      " 69  Ano/Mês do Óbito                             4487 non-null   float64       \n",
      " 70  Tipo do local da ocorrência                  4487 non-null   object        \n",
      " 71  Tipo do veículo da vítima                    4487 non-null   object        \n",
      " 72  Tipo de vítima                               4487 non-null   object        \n",
      " 73  Local do óbito                               4487 non-null   object        \n",
      " 74  Tipo de acidente                             4487 non-null   object        \n",
      " 75  Sub Tipo do Acidente                         2523 non-null   object        \n",
      " 76  Sexo                                         4487 non-null   object        \n",
      " 77  Faixa etária                                 4487 non-null   object        \n",
      " 78  Idade da vítima                              4487 non-null   object        \n",
      " 79  Tempo entre o Acidente e o Óbito             4487 non-null   object        \n",
      "dtypes: datetime64[ns](3), float64(28), int64(3), object(46)\n",
      "memory usage: 39.9+ MB\n"
     ]
    }
   ],
   "source": [
    "df_acidentes_sp_moto.info()"
   ]
  },
  {
   "cell_type": "code",
   "execution_count": 32,
   "metadata": {},
   "outputs": [
    {
     "name": "stdout",
     "output_type": "stream",
     "text": [
      "df_obitos (35046, 34)\n",
      "df_fatais (31796, 32)\n",
      "df_nao_fatais (390437, 56)\n",
      "df_fatais_geral (33938, 50)\n",
      "df_acidentes (424375, 80)\n",
      "df_acidentes_sp (164957, 80)\n",
      "df_acidentes_sp_moto (64621, 80)\n"
     ]
    }
   ],
   "source": [
    "#checando sempre a quantidade de dados dos dataframes\n",
    "print('df_obitos',df_obitos.shape)\n",
    "print('df_fatais',df_fatais.shape)\n",
    "print('df_nao_fatais',df_nao_fatais.shape)\n",
    "print('df_fatais_geral',df_fatais_geral.shape)\n",
    "print('df_acidentes',df_acidentes.shape)\n",
    "print('df_acidentes_sp',df_acidentes_sp.shape)\n",
    "print('df_acidentes_sp_moto',df_acidentes_sp_moto.shape)\n"
   ]
  },
  {
   "cell_type": "code",
   "execution_count": 45,
   "metadata": {},
   "outputs": [
    {
     "ename": "KeyError",
     "evalue": "\"['Tipo do local da ocorrência'] not found in axis\"",
     "output_type": "error",
     "traceback": [
      "\u001b[0;31m---------------------------------------------------------------------------\u001b[0m",
      "\u001b[0;31mKeyError\u001b[0m                                  Traceback (most recent call last)",
      "\u001b[0;32m<ipython-input-45-7a01a998bf3d>\u001b[0m in \u001b[0;36m<module>\u001b[0;34m\u001b[0m\n\u001b[1;32m      1\u001b[0m \u001b[0;31m# dropando colunas duplicada\u001b[0m\u001b[0;34m\u001b[0m\u001b[0;34m\u001b[0m\u001b[0;34m\u001b[0m\u001b[0m\n\u001b[1;32m      2\u001b[0m \u001b[0;31m#['Tipo do local da ocorrência'] e ['Tipo do Local do Acidente'] são iguais\u001b[0m\u001b[0;34m\u001b[0m\u001b[0;34m\u001b[0m\u001b[0;34m\u001b[0m\u001b[0m\n\u001b[0;32m----> 3\u001b[0;31m \u001b[0mdf_acidentes_sp_moto\u001b[0m\u001b[0;34m.\u001b[0m\u001b[0mdrop\u001b[0m\u001b[0;34m(\u001b[0m\u001b[0;34m[\u001b[0m\u001b[0;34m'Tipo do local da ocorrência'\u001b[0m\u001b[0;34m]\u001b[0m\u001b[0;34m,\u001b[0m\u001b[0maxis\u001b[0m\u001b[0;34m=\u001b[0m\u001b[0;36m1\u001b[0m\u001b[0;34m,\u001b[0m\u001b[0minplace\u001b[0m\u001b[0;34m=\u001b[0m\u001b[0;32mTrue\u001b[0m\u001b[0;34m)\u001b[0m\u001b[0;34m\u001b[0m\u001b[0;34m\u001b[0m\u001b[0m\n\u001b[0m",
      "\u001b[0;32m~/opt/anaconda3/lib/python3.8/site-packages/pandas/core/frame.py\u001b[0m in \u001b[0;36mdrop\u001b[0;34m(self, labels, axis, index, columns, level, inplace, errors)\u001b[0m\n\u001b[1;32m   4161\u001b[0m                 \u001b[0mweight\u001b[0m  \u001b[0;36m1.0\u001b[0m     \u001b[0;36m0.8\u001b[0m\u001b[0;34m\u001b[0m\u001b[0;34m\u001b[0m\u001b[0m\n\u001b[1;32m   4162\u001b[0m         \"\"\"\n\u001b[0;32m-> 4163\u001b[0;31m         return super().drop(\n\u001b[0m\u001b[1;32m   4164\u001b[0m             \u001b[0mlabels\u001b[0m\u001b[0;34m=\u001b[0m\u001b[0mlabels\u001b[0m\u001b[0;34m,\u001b[0m\u001b[0;34m\u001b[0m\u001b[0;34m\u001b[0m\u001b[0m\n\u001b[1;32m   4165\u001b[0m             \u001b[0maxis\u001b[0m\u001b[0;34m=\u001b[0m\u001b[0maxis\u001b[0m\u001b[0;34m,\u001b[0m\u001b[0;34m\u001b[0m\u001b[0;34m\u001b[0m\u001b[0m\n",
      "\u001b[0;32m~/opt/anaconda3/lib/python3.8/site-packages/pandas/core/generic.py\u001b[0m in \u001b[0;36mdrop\u001b[0;34m(self, labels, axis, index, columns, level, inplace, errors)\u001b[0m\n\u001b[1;32m   3885\u001b[0m         \u001b[0;32mfor\u001b[0m \u001b[0maxis\u001b[0m\u001b[0;34m,\u001b[0m \u001b[0mlabels\u001b[0m \u001b[0;32min\u001b[0m \u001b[0maxes\u001b[0m\u001b[0;34m.\u001b[0m\u001b[0mitems\u001b[0m\u001b[0;34m(\u001b[0m\u001b[0;34m)\u001b[0m\u001b[0;34m:\u001b[0m\u001b[0;34m\u001b[0m\u001b[0;34m\u001b[0m\u001b[0m\n\u001b[1;32m   3886\u001b[0m             \u001b[0;32mif\u001b[0m \u001b[0mlabels\u001b[0m \u001b[0;32mis\u001b[0m \u001b[0;32mnot\u001b[0m \u001b[0;32mNone\u001b[0m\u001b[0;34m:\u001b[0m\u001b[0;34m\u001b[0m\u001b[0;34m\u001b[0m\u001b[0m\n\u001b[0;32m-> 3887\u001b[0;31m                 \u001b[0mobj\u001b[0m \u001b[0;34m=\u001b[0m \u001b[0mobj\u001b[0m\u001b[0;34m.\u001b[0m\u001b[0m_drop_axis\u001b[0m\u001b[0;34m(\u001b[0m\u001b[0mlabels\u001b[0m\u001b[0;34m,\u001b[0m \u001b[0maxis\u001b[0m\u001b[0;34m,\u001b[0m \u001b[0mlevel\u001b[0m\u001b[0;34m=\u001b[0m\u001b[0mlevel\u001b[0m\u001b[0;34m,\u001b[0m \u001b[0merrors\u001b[0m\u001b[0;34m=\u001b[0m\u001b[0merrors\u001b[0m\u001b[0;34m)\u001b[0m\u001b[0;34m\u001b[0m\u001b[0;34m\u001b[0m\u001b[0m\n\u001b[0m\u001b[1;32m   3888\u001b[0m \u001b[0;34m\u001b[0m\u001b[0m\n\u001b[1;32m   3889\u001b[0m         \u001b[0;32mif\u001b[0m \u001b[0minplace\u001b[0m\u001b[0;34m:\u001b[0m\u001b[0;34m\u001b[0m\u001b[0;34m\u001b[0m\u001b[0m\n",
      "\u001b[0;32m~/opt/anaconda3/lib/python3.8/site-packages/pandas/core/generic.py\u001b[0m in \u001b[0;36m_drop_axis\u001b[0;34m(self, labels, axis, level, errors)\u001b[0m\n\u001b[1;32m   3919\u001b[0m                 \u001b[0mnew_axis\u001b[0m \u001b[0;34m=\u001b[0m \u001b[0maxis\u001b[0m\u001b[0;34m.\u001b[0m\u001b[0mdrop\u001b[0m\u001b[0;34m(\u001b[0m\u001b[0mlabels\u001b[0m\u001b[0;34m,\u001b[0m \u001b[0mlevel\u001b[0m\u001b[0;34m=\u001b[0m\u001b[0mlevel\u001b[0m\u001b[0;34m,\u001b[0m \u001b[0merrors\u001b[0m\u001b[0;34m=\u001b[0m\u001b[0merrors\u001b[0m\u001b[0;34m)\u001b[0m\u001b[0;34m\u001b[0m\u001b[0;34m\u001b[0m\u001b[0m\n\u001b[1;32m   3920\u001b[0m             \u001b[0;32melse\u001b[0m\u001b[0;34m:\u001b[0m\u001b[0;34m\u001b[0m\u001b[0;34m\u001b[0m\u001b[0m\n\u001b[0;32m-> 3921\u001b[0;31m                 \u001b[0mnew_axis\u001b[0m \u001b[0;34m=\u001b[0m \u001b[0maxis\u001b[0m\u001b[0;34m.\u001b[0m\u001b[0mdrop\u001b[0m\u001b[0;34m(\u001b[0m\u001b[0mlabels\u001b[0m\u001b[0;34m,\u001b[0m \u001b[0merrors\u001b[0m\u001b[0;34m=\u001b[0m\u001b[0merrors\u001b[0m\u001b[0;34m)\u001b[0m\u001b[0;34m\u001b[0m\u001b[0;34m\u001b[0m\u001b[0m\n\u001b[0m\u001b[1;32m   3922\u001b[0m             \u001b[0mresult\u001b[0m \u001b[0;34m=\u001b[0m \u001b[0mself\u001b[0m\u001b[0;34m.\u001b[0m\u001b[0mreindex\u001b[0m\u001b[0;34m(\u001b[0m\u001b[0;34m**\u001b[0m\u001b[0;34m{\u001b[0m\u001b[0maxis_name\u001b[0m\u001b[0;34m:\u001b[0m \u001b[0mnew_axis\u001b[0m\u001b[0;34m}\u001b[0m\u001b[0;34m)\u001b[0m\u001b[0;34m\u001b[0m\u001b[0;34m\u001b[0m\u001b[0m\n\u001b[1;32m   3923\u001b[0m \u001b[0;34m\u001b[0m\u001b[0m\n",
      "\u001b[0;32m~/opt/anaconda3/lib/python3.8/site-packages/pandas/core/indexes/base.py\u001b[0m in \u001b[0;36mdrop\u001b[0;34m(self, labels, errors)\u001b[0m\n\u001b[1;32m   5280\u001b[0m         \u001b[0;32mif\u001b[0m \u001b[0mmask\u001b[0m\u001b[0;34m.\u001b[0m\u001b[0many\u001b[0m\u001b[0;34m(\u001b[0m\u001b[0;34m)\u001b[0m\u001b[0;34m:\u001b[0m\u001b[0;34m\u001b[0m\u001b[0;34m\u001b[0m\u001b[0m\n\u001b[1;32m   5281\u001b[0m             \u001b[0;32mif\u001b[0m \u001b[0merrors\u001b[0m \u001b[0;34m!=\u001b[0m \u001b[0;34m\"ignore\"\u001b[0m\u001b[0;34m:\u001b[0m\u001b[0;34m\u001b[0m\u001b[0;34m\u001b[0m\u001b[0m\n\u001b[0;32m-> 5282\u001b[0;31m                 \u001b[0;32mraise\u001b[0m \u001b[0mKeyError\u001b[0m\u001b[0;34m(\u001b[0m\u001b[0;34mf\"{labels[mask]} not found in axis\"\u001b[0m\u001b[0;34m)\u001b[0m\u001b[0;34m\u001b[0m\u001b[0;34m\u001b[0m\u001b[0m\n\u001b[0m\u001b[1;32m   5283\u001b[0m             \u001b[0mindexer\u001b[0m \u001b[0;34m=\u001b[0m \u001b[0mindexer\u001b[0m\u001b[0;34m[\u001b[0m\u001b[0;34m~\u001b[0m\u001b[0mmask\u001b[0m\u001b[0;34m]\u001b[0m\u001b[0;34m\u001b[0m\u001b[0;34m\u001b[0m\u001b[0m\n\u001b[1;32m   5284\u001b[0m         \u001b[0;32mreturn\u001b[0m \u001b[0mself\u001b[0m\u001b[0;34m.\u001b[0m\u001b[0mdelete\u001b[0m\u001b[0;34m(\u001b[0m\u001b[0mindexer\u001b[0m\u001b[0;34m)\u001b[0m\u001b[0;34m\u001b[0m\u001b[0;34m\u001b[0m\u001b[0m\n",
      "\u001b[0;31mKeyError\u001b[0m: \"['Tipo do local da ocorrência'] not found in axis\""
     ]
    }
   ],
   "source": [
    "# dropando colunas duplicada\n",
    "#['Tipo do local da ocorrência'] e ['Tipo do Local do Acidente'] são iguais\n",
    "df_acidentes_sp_moto.drop(['Tipo do local da ocorrência'],axis=1,inplace=True)\n"
   ]
  },
  {
   "cell_type": "code",
   "execution_count": 46,
   "metadata": {},
   "outputs": [],
   "source": [
    "##tempo acidente e mortes e acidente e obito\n",
    "df_acidentes_sp_moto.drop(['Tempo entre o Acidente e as Mortes'],axis=1,inplace=True)"
   ]
  },
  {
   "cell_type": "code",
   "execution_count": 47,
   "metadata": {},
   "outputs": [
    {
     "name": "stdout",
     "output_type": "stream",
     "text": [
      "Proporção de fatais: 6.94 %\n"
     ]
    }
   ],
   "source": [
    "# checando o balanceamento do dataset\n",
    "positive_proportion = 100*df_acidentes_sp_moto['Acidente Fatal'].value_counts()[1]/len(df_acidentes_sp_moto)\n",
    "print('Proporção de fatais:', round(positive_proportion,2),'%')"
   ]
  },
  {
   "cell_type": "code",
   "execution_count": 23,
   "metadata": {},
   "outputs": [],
   "source": [
    "#PRECISAMOS CHECAR COLUNAS ANTES DO REPLACE NAN"
   ]
  },
  {
   "cell_type": "code",
   "execution_count": 24,
   "metadata": {},
   "outputs": [],
   "source": [
    "#Substituir os nao disponiveis por nulos\n",
    "# df_acidentes_sp_moto.replace('NAO DISPONIVEL', np.nan,inplace=True)"
   ]
  },
  {
   "cell_type": "code",
   "execution_count": 25,
   "metadata": {},
   "outputs": [],
   "source": [
    "# Selecionar colunas pra exportar\n"
   ]
  },
  {
   "cell_type": "code",
   "execution_count": 49,
   "metadata": {},
   "outputs": [],
   "source": [
    "# export\n",
    "df_acidentes_sp_moto.to_csv('df_acidentes_sp_moto.csv', index=False)"
   ]
  },
  {
   "cell_type": "code",
   "execution_count": 48,
   "metadata": {},
   "outputs": [
    {
     "name": "stdout",
     "output_type": "stream",
     "text": [
      "<class 'pandas.core.frame.DataFrame'>\n",
      "Int64Index: 64621 entries, 6 to 33914\n",
      "Data columns (total 78 columns):\n",
      " #   Column                                       Non-Null Count  Dtype         \n",
      "---  ------                                       --------------  -----         \n",
      " 0   ID                                           64621 non-null  int64         \n",
      " 1   Data do Acidente                             64621 non-null  datetime64[ns]\n",
      " 2   Dia do Acidente                              64621 non-null  datetime64[ns]\n",
      " 3   Mês do Acidente                              64621 non-null  object        \n",
      " 4   Ano do Acidente                              64621 non-null  datetime64[ns]\n",
      " 5   Ano/Mês do Acidente                          64621 non-null  float64       \n",
      " 6   Dia da Semana                                64621 non-null  object        \n",
      " 7   Hora do Acidente                             64621 non-null  object        \n",
      " 8   Turno                                        64621 non-null  object        \n",
      " 9   Município                                    64621 non-null  object        \n",
      " 10  Região Administrativa                        64621 non-null  object        \n",
      " 11  Logradouro                                   64621 non-null  object        \n",
      " 12  Numero/KM                                    64621 non-null  object        \n",
      " 13  Jurisdição                                   64621 non-null  object        \n",
      " 14  Administração                                64621 non-null  object        \n",
      " 15  Conservação                                  64621 non-null  object        \n",
      " 16  Latitude                                     64621 non-null  object        \n",
      " 17  Longitude                                    64621 non-null  object        \n",
      " 18  Condições Climáticas                         64621 non-null  object        \n",
      " 19  Iluminação                                   64621 non-null  object        \n",
      " 20  Mão de direção                               60134 non-null  object        \n",
      " 21  Obras na pista                               60134 non-null  object        \n",
      " 22  Relevo                                       60134 non-null  object        \n",
      " 23  Superfície da via                            64621 non-null  object        \n",
      " 24  Tipo de pavimento                            60134 non-null  object        \n",
      " 25  Tipo de pista                                64621 non-null  object        \n",
      " 26  Traçado                                      60134 non-null  object        \n",
      " 27  Veículos Envolvidos - Bicicleta              60134 non-null  float64       \n",
      " 28  Veículos Envolvidos - Caminhão               60134 non-null  float64       \n",
      " 29  Veículos Envolvidos - Automóvel              60134 non-null  float64       \n",
      " 30  Veículos Envolvidos - Outros                 60134 non-null  float64       \n",
      " 31  Veículos Envolvidos - Motocicleta            60134 non-null  float64       \n",
      " 32  Veículos Envolvidos - Ônibus                 60134 non-null  float64       \n",
      " 33  Veículos Envolvidos - ND                     60134 non-null  float64       \n",
      " 34  Veículos Envolvidos - Pedestre               60134 non-null  float64       \n",
      " 35  Pessoas Envolvidas - Grave                   60134 non-null  float64       \n",
      " 36  Pessoas Envolvidas - Ileso                   60134 non-null  float64       \n",
      " 37  Pessoas Envolvidas - Leve                    60134 non-null  float64       \n",
      " 38  Pessoas Envolvidas - Fatal                   60134 non-null  float64       \n",
      " 39  Pessoas Envolvidas - Feridos                 60134 non-null  float64       \n",
      " 40  Pessoas Envolvidas - ND                      60134 non-null  float64       \n",
      " 41  Serviço de Atendimento - Bombeiro            60134 non-null  object        \n",
      " 42  Serviço de Atendimento - PMRV                60134 non-null  object        \n",
      " 43  Serviço de Atendimento - PRF                 60134 non-null  object        \n",
      " 44  Serviço de Atendimento - Radio Patrulha      60134 non-null  object        \n",
      " 45  Servciço de Atendimento - CPTRAN             60134 non-null  object        \n",
      " 46  Tipo de Via                                  64621 non-null  object        \n",
      " 47  Tipo de Acidente - Atropelamento             60134 non-null  float64       \n",
      " 48  Tipo de Acidente - Choque                    60134 non-null  float64       \n",
      " 49  Tipo de Acidente - Colisão                   60134 non-null  float64       \n",
      " 50  Tipo de Acidente - Outros tipos de Acidente  60134 non-null  float64       \n",
      " 51  Tipo de Acidente - ND                        60134 non-null  float64       \n",
      " 52  Turno + Dia de Semana                        60134 non-null  object        \n",
      " 53  Acidente Fatal                               64621 non-null  int64         \n",
      " 54  Acidente Não Fatal                           64621 non-null  int64         \n",
      " 55  Id Delegacia                                 4487 non-null   float64       \n",
      " 56  Número BO                                    4487 non-null   float64       \n",
      " 57  Ano BO                                       4487 non-null   float64       \n",
      " 58  Tipo do Local do Acidente                    4487 non-null   object        \n",
      " 59  Outro Veículo Envolvido                      3230 non-null   object        \n",
      " 60  Sentido da Via (SIOPM)                       4487 non-null   object        \n",
      " 61  Limite da velocidade da via (SIOPM)          4487 non-null   object        \n",
      " 62  Quantidade de vítimas                        4487 non-null   float64       \n",
      " 63  Data do Óbito                                4487 non-null   object        \n",
      " 64  Dia do óbito                                 4487 non-null   float64       \n",
      " 65  Mês do Óbito                                 4487 non-null   float64       \n",
      " 66  Mês Óbito Descrição                          4487 non-null   object        \n",
      " 67  Ano do Óbito                                 4487 non-null   float64       \n",
      " 68  Ano/Mês do Óbito                             4487 non-null   float64       \n",
      " 69  Tipo do veículo da vítima                    4487 non-null   object        \n",
      " 70  Tipo de vítima                               4487 non-null   object        \n",
      " 71  Local do óbito                               4487 non-null   object        \n",
      " 72  Tipo de acidente                             4487 non-null   object        \n",
      " 73  Sub Tipo do Acidente                         2523 non-null   object        \n",
      " 74  Sexo                                         4487 non-null   object        \n",
      " 75  Faixa etária                                 4487 non-null   object        \n",
      " 76  Idade da vítima                              4487 non-null   object        \n",
      " 77  Tempo entre o Acidente e o Óbito             4487 non-null   object        \n",
      "dtypes: datetime64[ns](3), float64(28), int64(3), object(44)\n",
      "memory usage: 38.9+ MB\n"
     ]
    }
   ],
   "source": [
    "df_acidentes_sp_moto.info()"
   ]
  },
  {
   "cell_type": "code",
   "execution_count": null,
   "metadata": {},
   "outputs": [],
   "source": []
  }
 ],
 "metadata": {
  "kernelspec": {
   "display_name": "Python 3",
   "language": "python",
   "name": "python3"
  },
  "language_info": {
   "codemirror_mode": {
    "name": "ipython",
    "version": 3
   },
   "file_extension": ".py",
   "mimetype": "text/x-python",
   "name": "python",
   "nbconvert_exporter": "python",
   "pygments_lexer": "ipython3",
   "version": "3.8.5"
  }
 },
 "nbformat": 4,
 "nbformat_minor": 2
}
