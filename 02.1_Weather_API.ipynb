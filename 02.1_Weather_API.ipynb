{
 "metadata": {
  "language_info": {
   "codemirror_mode": {
    "name": "ipython",
    "version": 3
   },
   "file_extension": ".py",
   "mimetype": "text/x-python",
   "name": "python",
   "nbconvert_exporter": "python",
   "pygments_lexer": "ipython3",
   "version": "3.8.8"
  },
  "orig_nbformat": 2,
  "kernelspec": {
   "name": "python388jvsc74a57bd054aafdb36ba7a57007c1052e291baf553a31e85cae918a266292c7469c0efefb",
   "display_name": "Python 3.8.8 64-bit ('Data_Science': conda)"
  }
 },
 "nbformat": 4,
 "nbformat_minor": 2,
 "cells": [
  {
   "cell_type": "code",
   "execution_count": 1,
   "metadata": {},
   "outputs": [],
   "source": [
    "import numpy as np\n",
    "import pandas as pd\n",
    "import json\n",
    "import urllib, json"
   ]
  },
  {
   "cell_type": "code",
   "execution_count": 2,
   "metadata": {},
   "outputs": [],
   "source": [
    "# df_API_fatais = pd.read_csv(r'C:\\\\Users\\Renato\\OneDrive\\Projeto_TERA\\Predição Acidentes Motocicleta\\Projeto-TERA-Data-Science---Acidentes-Motocicletas\\Weather_API_data\\input_API\\df_API_fatais.csv')\n",
    "df_API_fatais2 = pd.read_csv(r'C:\\\\Users\\Renato\\OneDrive\\Projeto_TERA\\Predição Acidentes Motocicleta\\Projeto-TERA-Data-Science---Acidentes-Motocicletas\\Weather_API_data\\input_API\\df_API_fatais2.csv')\n",
    "\n"
   ]
  },
  {
   "cell_type": "code",
   "execution_count": 3,
   "metadata": {},
   "outputs": [
    {
     "output_type": "execute_result",
     "data": {
      "text/plain": [
       "   Data do Acidente   Latitude  Longitude  Condições Climáticas  Hora\n",
       "0        2020-12-25 -23.342310 -46.745848                   NaN   3.0\n",
       "1        2020-12-15 -23.507455 -46.868736                   NaN   8.0\n",
       "2        2020-12-15 -23.527424 -46.864046                   NaN  13.0\n",
       "3        2020-12-04 -23.526714 -46.577830                   NaN  21.0\n",
       "4        2020-12-02 -23.438237 -46.497401                   NaN  10.0\n",
       "..              ...        ...        ...                   ...   ...\n",
       "92       2018-05-06 -23.611349 -46.591115                   NaN   2.0\n",
       "93       2018-04-14 -23.700789 -46.768782                   NaN  23.0\n",
       "94       2018-02-03 -23.477406 -46.352698                   NaN   6.0\n",
       "95       2017-10-09 -23.669418 -46.738888                   NaN   4.0\n",
       "96       2014-12-31 -23.660358 -46.459276                   NaN  17.0\n",
       "\n",
       "[97 rows x 5 columns]"
      ],
      "text/html": "<div>\n<style scoped>\n    .dataframe tbody tr th:only-of-type {\n        vertical-align: middle;\n    }\n\n    .dataframe tbody tr th {\n        vertical-align: top;\n    }\n\n    .dataframe thead th {\n        text-align: right;\n    }\n</style>\n<table border=\"1\" class=\"dataframe\">\n  <thead>\n    <tr style=\"text-align: right;\">\n      <th></th>\n      <th>Data do Acidente</th>\n      <th>Latitude</th>\n      <th>Longitude</th>\n      <th>Condições Climáticas</th>\n      <th>Hora</th>\n    </tr>\n  </thead>\n  <tbody>\n    <tr>\n      <th>0</th>\n      <td>2020-12-25</td>\n      <td>-23.342310</td>\n      <td>-46.745848</td>\n      <td>NaN</td>\n      <td>3.0</td>\n    </tr>\n    <tr>\n      <th>1</th>\n      <td>2020-12-15</td>\n      <td>-23.507455</td>\n      <td>-46.868736</td>\n      <td>NaN</td>\n      <td>8.0</td>\n    </tr>\n    <tr>\n      <th>2</th>\n      <td>2020-12-15</td>\n      <td>-23.527424</td>\n      <td>-46.864046</td>\n      <td>NaN</td>\n      <td>13.0</td>\n    </tr>\n    <tr>\n      <th>3</th>\n      <td>2020-12-04</td>\n      <td>-23.526714</td>\n      <td>-46.577830</td>\n      <td>NaN</td>\n      <td>21.0</td>\n    </tr>\n    <tr>\n      <th>4</th>\n      <td>2020-12-02</td>\n      <td>-23.438237</td>\n      <td>-46.497401</td>\n      <td>NaN</td>\n      <td>10.0</td>\n    </tr>\n    <tr>\n      <th>...</th>\n      <td>...</td>\n      <td>...</td>\n      <td>...</td>\n      <td>...</td>\n      <td>...</td>\n    </tr>\n    <tr>\n      <th>92</th>\n      <td>2018-05-06</td>\n      <td>-23.611349</td>\n      <td>-46.591115</td>\n      <td>NaN</td>\n      <td>2.0</td>\n    </tr>\n    <tr>\n      <th>93</th>\n      <td>2018-04-14</td>\n      <td>-23.700789</td>\n      <td>-46.768782</td>\n      <td>NaN</td>\n      <td>23.0</td>\n    </tr>\n    <tr>\n      <th>94</th>\n      <td>2018-02-03</td>\n      <td>-23.477406</td>\n      <td>-46.352698</td>\n      <td>NaN</td>\n      <td>6.0</td>\n    </tr>\n    <tr>\n      <th>95</th>\n      <td>2017-10-09</td>\n      <td>-23.669418</td>\n      <td>-46.738888</td>\n      <td>NaN</td>\n      <td>4.0</td>\n    </tr>\n    <tr>\n      <th>96</th>\n      <td>2014-12-31</td>\n      <td>-23.660358</td>\n      <td>-46.459276</td>\n      <td>NaN</td>\n      <td>17.0</td>\n    </tr>\n  </tbody>\n</table>\n<p>97 rows × 5 columns</p>\n</div>"
     },
     "metadata": {},
     "execution_count": 3
    }
   ],
   "source": [
    "df_API_fatais2"
   ]
  },
  {
   "cell_type": "code",
   "execution_count": 4,
   "metadata": {},
   "outputs": [
    {
     "output_type": "stream",
     "name": "stdout",
     "text": [
      "<class 'pandas.core.frame.DataFrame'>\nRangeIndex: 97 entries, 0 to 96\nData columns (total 5 columns):\n #   Column                Non-Null Count  Dtype  \n---  ------                --------------  -----  \n 0   Data do Acidente      97 non-null     object \n 1   Latitude              97 non-null     float64\n 2   Longitude             97 non-null     float64\n 3   Condições Climáticas  0 non-null      float64\n 4   Hora                  97 non-null     float64\ndtypes: float64(4), object(1)\nmemory usage: 3.9+ KB\n"
     ]
    }
   ],
   "source": [
    "df_API_fatais2.info()"
   ]
  },
  {
   "cell_type": "code",
   "execution_count": 53,
   "metadata": {},
   "outputs": [],
   "source": [
    "# criar dataset pequeno para nao exceder o limite do API\n",
    "#normalmente limite é 41 linhas diárias\n",
    "\n",
    "# df1 = df_API_fatais.iloc[:11,:] #DONE checado\n",
    "# df2 = df_API_fatais.iloc[11:39,:] #DONE checado\n",
    "# df3 = df_API_fatais.iloc[39:78,:] #Done checago\n",
    "# df4 = df_API_fatais.iloc[78:178,:] DONE checado\n",
    "# df5 = df_API_fatais.iloc[178:300,:] DONE checado\n",
    "# df6 = df_API_fatais.iloc[300:460,:] DONE checado\n",
    "# df7 = df_API_fatais.iloc[460:501,:] DONE checado\n",
    "# df8 = df_API_fatais.iloc[501:542,:] DONE checado\n",
    "# df9 = df_API_fatais.iloc[542:583,:] DONE checado\n",
    "# df10 = df_API_fatais.iloc[583:624,:] done checado\n",
    "# df11 = df_API_fatais.iloc[624:665,:] #DONE\n",
    "# df12 = df_API_fatais.iloc[665:706,:] #DONE\n",
    "# df13 = df_API_fatais.iloc[706:747,:] #DONE\n",
    "# df14 = df_API_fatais.iloc[747:788,:] #DONE\n",
    "# df15 = df_API_fatais.iloc[788:829,:] #DONE\n",
    "# df16 = df_API_fatais.iloc[829:870,:] #DONE\n",
    "# df17 = df_API_fatais.iloc[870:911,:] #DONE\n",
    "# df18 = df_API_fatais.iloc[911:952,:] #DONE\n",
    "# df19 = df_API_fatais.iloc[952:993,:] #DONE\n",
    "#a partir daqui tem precipitação\n",
    "# df20 = df_API_fatais.iloc[993:1033,:]\n",
    "# df21 = df_API_fatais.iloc[1033:1074,:]\n",
    "# df22 = df_API_fatais.iloc[1074:1115,:]\n",
    "# df23 = df_API_fatais.iloc[1115:1156,:]\n",
    "# df24 = df_API_fatais.iloc[1156:1197,:]\n",
    "# df25 = df_API_fatais.iloc[1197:1238,:]\n",
    "# df26 = df_API_fatais.iloc[1238:1279,:]\n",
    "# df27 = df_API_fatais.iloc[1279:1320,:]\n",
    "# df28 = df_API_fatais.iloc[1320:1361,:]\n",
    "# df29 = df_API_fatais.iloc[1361:1402,:]\n",
    "# df30 = df_API_fatais.iloc[1402:1443,:]\n",
    "# df31 = df_API_fatais.iloc[1443:1484,:]\n",
    "# df32 = df_API_fatais.iloc[1484:1525,:]\n",
    "# df33 = df_API_fatais.iloc[1525:1566,:]\n",
    "# df34 = df_API_fatais.iloc[1566:1607,:]\n",
    "# df35 = df_API_fatais.iloc[1607:1648,:]\n",
    "# df36 = df_API_fatais.iloc[1648:1689,:]\n",
    "# df37 = df_API_fatais.iloc[1689:1730,:]\n",
    "# df38 = df_API_fatais.iloc[1730:1771,:]\n",
    "# df39 = df_API_fatais.iloc[1771:1812,:]\n",
    "# df40 = df_API_fatais.iloc[1812:1853,:]\n",
    "# df41 = df_API_fatais.iloc[1853:1894,:]\n",
    "# df42 = df_API_fatais.iloc[1894:1935,:]\n",
    "# df43 = df_API_fatais.iloc[1935:1976,:]\n",
    "# df44 = df_API_fatais.iloc[1976:2017,:]\n",
    "# df45 = df_API_fatais.iloc[2017:2058,:]\n",
    "# df46 = df_API_fatais.iloc[2058:2099,:]\n",
    "# df47 = df_API_fatais.iloc[2099:2140,:]\n",
    "# df48 = df_API_fatais.iloc[2140:2181,:]\n",
    "# df49 = df_API_fatais.iloc[2181:2222,:]\n",
    "# df50 = df_API_fatais.iloc[2222:2263,:]\n",
    "# df51 = df_API_fatais.iloc[2263:2304,:]\n",
    "# df52 = df_API_fatais.iloc[2304:2345,:]\n",
    "# df53 = df_API_fatais.iloc[2345:2386,:]\n",
    "# df54 = df_API_fatais.iloc[2386:2427,:]\n",
    "# df55 = df_API_fatais.iloc[2427:2468,:]\n",
    "# df56 = df_API_fatais.iloc[2468:2509,:]\n",
    "# df57 = df_API_fatais.iloc[2509:2550,:]\n",
    "# df58 = df_API_fatais.iloc[2550:2591,:]\n",
    "# df59 = df_API_fatais.iloc[2591:2632,:]\n",
    "# df60 = df_API_fatais.iloc[2632:2673,:]\n",
    "# df61 = df_API_fatais.iloc[2673:2714,:]\n",
    "# df62 = df_API_fatais.iloc[2714:2755,:]\n",
    "# df63 = df_API_fatais.iloc[2755:2796,:]# deletado..igual ao 64\n",
    "# df64 = df_API_fatais.iloc[2755:2796,:]\n",
    "# df65 = df_API_fatais.iloc[2796:2837,:]\n",
    "# df66 = df_API_fatais.iloc[2837:2878,:]\n",
    "# df67 = df_API_fatais.iloc[2878:2919,:]\n",
    "# df68 = df_API_fatais.iloc[2919:2960,:]\n",
    "# df69 = df_API_fatais.iloc[2960:3001,:]\n",
    "# df70 = df_API_fatais.iloc[3001:3042,:]\n",
    "# df71 = df_API_fatais.iloc[3042:3083,:]\n",
    "# df72 = df_API_fatais.iloc[3083:3124,:]\n",
    "# df73 = df_API_fatais.iloc[3124:3165,:]\n",
    "# df74 = df_API_fatais.iloc[3165:3200,:]\n",
    "\n",
    "# faltou706 = df_API_fatais.iloc[706:707,:]\n",
    "\n"
   ]
  },
  {
   "cell_type": "code",
   "execution_count": 52,
   "metadata": {},
   "outputs": [],
   "source": [
    "# criar dataset pequeno para nao exceder o limite do API\n",
    "#normalmente limite é 41 linhas diárias\n",
    "df101 = df_API_fatais2.iloc[:41,:] #DONE\n",
    "df102 = df_API_fatais2.iloc[41:82,:] #DONE \n",
    "df103 = df_API_fatais2.iloc[82:100,:] #DONE "
   ]
  },
  {
   "cell_type": "code",
   "execution_count": 53,
   "metadata": {},
   "outputs": [
    {
     "output_type": "stream",
     "name": "stdout",
     "text": [
      "-Serão consumido 360 créditos\n\n-Capacidade de 255 linhas por dia\n\n-Demorará mais 3.0313725490196077 dias\n"
     ]
    }
   ],
   "source": [
    "#CRÉDTIOS QUE SERÃO CONSUMIDOS POR CADA DF\n",
    "df_de_hoje=df103\n",
    "print('-Serão consumido',df_de_hoje.shape[0]*24,'créditos')\n",
    "print()\n",
    "\n",
    "n_chaves=17\n",
    "capacidade_dia=n_chaves*df_de_hoje.shape[0]\n",
    "print('-Capacidade de',capacidade_dia,'linhas por dia')\n",
    "print()\n",
    "\n",
    "prev_dias= (3200-2427)/capacidade_dia\n",
    "print('-Demorará mais',prev_dias,'dias')\n",
    "\n"
   ]
  },
  {
   "cell_type": "code",
   "execution_count": 54,
   "metadata": {},
   "outputs": [],
   "source": [
    "# ESCOLHER DF AQUI E RODAR DAQUI PRA BAIXO\n",
    "key1='B8JYA2DGP8JEMDN3SH4N4XGTT' #meu hotmail, usei\n",
    "key2='A6USW7ZJVKXS796M85TUD5JB7' #Jobanegas@gmail.com, projetoTERA, usei\n",
    "key3='SM2SEHMQ5C293FLZ5QBABUNUB'#meu gmail,,usei\n",
    "key4='YEW24DH9DQC8K5PV9V4G6JDUE'#scania\n",
    "key5='L8W8YG6RD4JZ8E2V9NRYFBNCQ'#globo\n",
    "key6='9HS474ZGKWUFCC2CLE8SJ2GN8'#josybanegas@hotmail.com, projetoTERA2\n",
    "key7='PMFULACV4XSBP4LM2DGMRZA6S'#mi\n",
    "key8='NP47JLCE98FFHNGS5A69CFPGQ'#regi\n",
    "key9='S3Q3HW8B7AH2YEGCHUZ83WNNY'#pai\n",
    "key10='6M6F3HXMZMZJY6RUGX9EY9PLJ'#felipe1\n",
    "key11='CL5AYD4WYK4VCLPVJMXUJ7NDR'#felipe2\n",
    "key12='VSZRSD8JR53V7MS3R48U8Y79F'#felipe3\n",
    "key13='C58YE5ERBL5KNAXNU4QC3RZG6'#felipe4\n",
    "key14='GHYD5YGL7BZPPCNYNJMH6EYSE'#mi trab\n",
    "key15='7GSMXKHZV5XXGP9SH7W5S6VYC'#josy tra\n",
    "key16='HCTGMSJGY4YXTR7XT2RCFNEAL'#ivan1\n",
    "key17='ZBKHCV5PXP687E9JVPXUGGTY7'#ivan2\n",
    "\n",
    "key_escolhida = key3\n",
    "df_escolhido = df103 ##### ATENÇÃO NO NOME....SE NÃO ATUALIZAR VAI SOBRESCREVER OS DFS JÁ SALVOS\n",
    "nome_df = 'df103'\n",
    "\n"
   ]
  },
  {
   "cell_type": "code",
   "execution_count": 55,
   "metadata": {},
   "outputs": [],
   "source": [
    "def create_URL_column(df):\n",
    "    if pd.isnull(df['Condições Climáticas']):\n",
    "        return \"https://weather.visualcrossing.com/VisualCrossingWebServices/rest/services/timeline/{},{}/{}?key={}\".format(df['Latitude'].replace(',','.'),df['Longitude'].replace(',','.'),df['Data do Acidente'][0:10],key_escolhida)\n",
    "    else:\n",
    "        return 'Já temos'"
   ]
  },
  {
   "cell_type": "code",
   "execution_count": 56,
   "metadata": {},
   "outputs": [
    {
     "output_type": "stream",
     "name": "stderr",
     "text": [
      "<ipython-input-56-401a44cd7638>:1: SettingWithCopyWarning: \nA value is trying to be set on a copy of a slice from a DataFrame.\nTry using .loc[row_indexer,col_indexer] = value instead\n\nSee the caveats in the documentation: https://pandas.pydata.org/pandas-docs/stable/user_guide/indexing.html#returning-a-view-versus-a-copy\n  df_escolhido['API_url']= 'zero'\n<ipython-input-56-401a44cd7638>:2: SettingWithCopyWarning: \nA value is trying to be set on a copy of a slice from a DataFrame.\nTry using .loc[row_indexer,col_indexer] = value instead\n\nSee the caveats in the documentation: https://pandas.pydata.org/pandas-docs/stable/user_guide/indexing.html#returning-a-view-versus-a-copy\n  df_escolhido['Hora'] = df_escolhido['Hora'].astype(int)\n<ipython-input-56-401a44cd7638>:3: SettingWithCopyWarning: \nA value is trying to be set on a copy of a slice from a DataFrame.\nTry using .loc[row_indexer,col_indexer] = value instead\n\nSee the caveats in the documentation: https://pandas.pydata.org/pandas-docs/stable/user_guide/indexing.html#returning-a-view-versus-a-copy\n  df_escolhido['Latitude'] = df_escolhido['Latitude'].astype(str)\n<ipython-input-56-401a44cd7638>:4: SettingWithCopyWarning: \nA value is trying to be set on a copy of a slice from a DataFrame.\nTry using .loc[row_indexer,col_indexer] = value instead\n\nSee the caveats in the documentation: https://pandas.pydata.org/pandas-docs/stable/user_guide/indexing.html#returning-a-view-versus-a-copy\n  df_escolhido['Longitude'] = df_escolhido['Longitude'].astype(str)\n<ipython-input-56-401a44cd7638>:5: SettingWithCopyWarning: \nA value is trying to be set on a copy of a slice from a DataFrame.\nTry using .loc[row_indexer,col_indexer] = value instead\n\nSee the caveats in the documentation: https://pandas.pydata.org/pandas-docs/stable/user_guide/indexing.html#returning-a-view-versus-a-copy\n  df_escolhido['API_url'] = df_escolhido.apply(lambda df: create_URL_column(df),axis=1)\n"
     ]
    }
   ],
   "source": [
    "df_escolhido['API_url']= 'zero'\n",
    "df_escolhido['Hora'] = df_escolhido['Hora'].astype(int)\n",
    "df_escolhido['Latitude'] = df_escolhido['Latitude'].astype(str)\n",
    "df_escolhido['Longitude'] = df_escolhido['Longitude'].astype(str)\n",
    "df_escolhido['API_url'] = df_escolhido.apply(lambda df: create_URL_column(df),axis=1)"
   ]
  },
  {
   "cell_type": "code",
   "execution_count": 57,
   "metadata": {},
   "outputs": [
    {
     "output_type": "stream",
     "name": "stdout",
     "text": [
      "<class 'pandas.core.frame.DataFrame'>\nRangeIndex: 15 entries, 82 to 96\nData columns (total 6 columns):\n #   Column                Non-Null Count  Dtype  \n---  ------                --------------  -----  \n 0   Data do Acidente      15 non-null     object \n 1   Latitude              15 non-null     object \n 2   Longitude             15 non-null     object \n 3   Condições Climáticas  0 non-null      float64\n 4   Hora                  15 non-null     int32  \n 5   API_url               15 non-null     object \ndtypes: float64(1), int32(1), object(4)\nmemory usage: 792.0+ bytes\n"
     ]
    }
   ],
   "source": [
    "df_escolhido.info()"
   ]
  },
  {
   "cell_type": "code",
   "execution_count": 58,
   "metadata": {},
   "outputs": [
    {
     "output_type": "execute_result",
     "data": {
      "text/plain": [
       "['https://weather.visualcrossing.com/VisualCrossingWebServices/rest/services/timeline/-23.5274496802915,-46.6961104802915/2020-02-09?key=SM2SEHMQ5C293FLZ5QBABUNUB',\n",
       " 'https://weather.visualcrossing.com/VisualCrossingWebServices/rest/services/timeline/-23.5993108802915,-46.4697313802915/2019-09-25?key=SM2SEHMQ5C293FLZ5QBABUNUB',\n",
       " 'https://weather.visualcrossing.com/VisualCrossingWebServices/rest/services/timeline/-23.7039689802915,-46.5548379802915/2019-08-17?key=SM2SEHMQ5C293FLZ5QBABUNUB',\n",
       " 'https://weather.visualcrossing.com/VisualCrossingWebServices/rest/services/timeline/-23.5522725802915,-46.46503928029149/2019-08-16?key=SM2SEHMQ5C293FLZ5QBABUNUB',\n",
       " 'https://weather.visualcrossing.com/VisualCrossingWebServices/rest/services/timeline/-23.5081859802915,-46.5598829802915/2019-06-29?key=SM2SEHMQ5C293FLZ5QBABUNUB',\n",
       " 'https://weather.visualcrossing.com/VisualCrossingWebServices/rest/services/timeline/-23.6716335802915,-46.5121250802915/2019-02-28?key=SM2SEHMQ5C293FLZ5QBABUNUB',\n",
       " 'https://weather.visualcrossing.com/VisualCrossingWebServices/rest/services/timeline/-23.5459751802915,-46.83243548029149/2019-02-23?key=SM2SEHMQ5C293FLZ5QBABUNUB',\n",
       " 'https://weather.visualcrossing.com/VisualCrossingWebServices/rest/services/timeline/-23.5509001802915,-46.9424737802915/2018-10-09?key=SM2SEHMQ5C293FLZ5QBABUNUB',\n",
       " 'https://weather.visualcrossing.com/VisualCrossingWebServices/rest/services/timeline/-23.5035828802915,-46.3502028802915/2018-06-22?key=SM2SEHMQ5C293FLZ5QBABUNUB',\n",
       " 'https://weather.visualcrossing.com/VisualCrossingWebServices/rest/services/timeline/-23.5283132802915,-46.61963798029149/2018-05-28?key=SM2SEHMQ5C293FLZ5QBABUNUB',\n",
       " 'https://weather.visualcrossing.com/VisualCrossingWebServices/rest/services/timeline/-23.6113486802915,-46.59111488029149/2018-05-06?key=SM2SEHMQ5C293FLZ5QBABUNUB',\n",
       " 'https://weather.visualcrossing.com/VisualCrossingWebServices/rest/services/timeline/-23.7007885802915,-46.7687816802915/2018-04-14?key=SM2SEHMQ5C293FLZ5QBABUNUB',\n",
       " 'https://weather.visualcrossing.com/VisualCrossingWebServices/rest/services/timeline/-23.4774056802915,-46.35269768029149/2018-02-03?key=SM2SEHMQ5C293FLZ5QBABUNUB',\n",
       " 'https://weather.visualcrossing.com/VisualCrossingWebServices/rest/services/timeline/-23.6694175802915,-46.73888828029149/2017-10-09?key=SM2SEHMQ5C293FLZ5QBABUNUB',\n",
       " 'https://weather.visualcrossing.com/VisualCrossingWebServices/rest/services/timeline/-23.6603582802915,-46.4592759802915/2014-12-31?key=SM2SEHMQ5C293FLZ5QBABUNUB']"
      ]
     },
     "metadata": {},
     "execution_count": 58
    }
   ],
   "source": [
    "list(df_escolhido['API_url'])"
   ]
  },
  {
   "cell_type": "code",
   "execution_count": 59,
   "metadata": {},
   "outputs": [
    {
     "output_type": "execute_result",
     "data": {
      "text/plain": [
       "             Latitude           Longitude  \\\n",
       "82  -23.5274496802915   -46.6961104802915   \n",
       "83  -23.5993108802915   -46.4697313802915   \n",
       "84  -23.7039689802915   -46.5548379802915   \n",
       "85  -23.5522725802915  -46.46503928029149   \n",
       "86  -23.5081859802915   -46.5598829802915   \n",
       "87  -23.6716335802915   -46.5121250802915   \n",
       "88  -23.5459751802915  -46.83243548029149   \n",
       "89  -23.5509001802915   -46.9424737802915   \n",
       "90  -23.5035828802915   -46.3502028802915   \n",
       "91  -23.5283132802915  -46.61963798029149   \n",
       "92  -23.6113486802915  -46.59111488029149   \n",
       "93  -23.7007885802915   -46.7687816802915   \n",
       "94  -23.4774056802915  -46.35269768029149   \n",
       "95  -23.6694175802915  -46.73888828029149   \n",
       "96  -23.6603582802915   -46.4592759802915   \n",
       "\n",
       "                                              API_url  Condições Climáticas  \n",
       "82  https://weather.visualcrossing.com/VisualCross...                   NaN  \n",
       "83  https://weather.visualcrossing.com/VisualCross...                   NaN  \n",
       "84  https://weather.visualcrossing.com/VisualCross...                   NaN  \n",
       "85  https://weather.visualcrossing.com/VisualCross...                   NaN  \n",
       "86  https://weather.visualcrossing.com/VisualCross...                   NaN  \n",
       "87  https://weather.visualcrossing.com/VisualCross...                   NaN  \n",
       "88  https://weather.visualcrossing.com/VisualCross...                   NaN  \n",
       "89  https://weather.visualcrossing.com/VisualCross...                   NaN  \n",
       "90  https://weather.visualcrossing.com/VisualCross...                   NaN  \n",
       "91  https://weather.visualcrossing.com/VisualCross...                   NaN  \n",
       "92  https://weather.visualcrossing.com/VisualCross...                   NaN  \n",
       "93  https://weather.visualcrossing.com/VisualCross...                   NaN  \n",
       "94  https://weather.visualcrossing.com/VisualCross...                   NaN  \n",
       "95  https://weather.visualcrossing.com/VisualCross...                   NaN  \n",
       "96  https://weather.visualcrossing.com/VisualCross...                   NaN  "
      ],
      "text/html": "<div>\n<style scoped>\n    .dataframe tbody tr th:only-of-type {\n        vertical-align: middle;\n    }\n\n    .dataframe tbody tr th {\n        vertical-align: top;\n    }\n\n    .dataframe thead th {\n        text-align: right;\n    }\n</style>\n<table border=\"1\" class=\"dataframe\">\n  <thead>\n    <tr style=\"text-align: right;\">\n      <th></th>\n      <th>Latitude</th>\n      <th>Longitude</th>\n      <th>API_url</th>\n      <th>Condições Climáticas</th>\n    </tr>\n  </thead>\n  <tbody>\n    <tr>\n      <th>82</th>\n      <td>-23.5274496802915</td>\n      <td>-46.6961104802915</td>\n      <td>https://weather.visualcrossing.com/VisualCross...</td>\n      <td>NaN</td>\n    </tr>\n    <tr>\n      <th>83</th>\n      <td>-23.5993108802915</td>\n      <td>-46.4697313802915</td>\n      <td>https://weather.visualcrossing.com/VisualCross...</td>\n      <td>NaN</td>\n    </tr>\n    <tr>\n      <th>84</th>\n      <td>-23.7039689802915</td>\n      <td>-46.5548379802915</td>\n      <td>https://weather.visualcrossing.com/VisualCross...</td>\n      <td>NaN</td>\n    </tr>\n    <tr>\n      <th>85</th>\n      <td>-23.5522725802915</td>\n      <td>-46.46503928029149</td>\n      <td>https://weather.visualcrossing.com/VisualCross...</td>\n      <td>NaN</td>\n    </tr>\n    <tr>\n      <th>86</th>\n      <td>-23.5081859802915</td>\n      <td>-46.5598829802915</td>\n      <td>https://weather.visualcrossing.com/VisualCross...</td>\n      <td>NaN</td>\n    </tr>\n    <tr>\n      <th>87</th>\n      <td>-23.6716335802915</td>\n      <td>-46.5121250802915</td>\n      <td>https://weather.visualcrossing.com/VisualCross...</td>\n      <td>NaN</td>\n    </tr>\n    <tr>\n      <th>88</th>\n      <td>-23.5459751802915</td>\n      <td>-46.83243548029149</td>\n      <td>https://weather.visualcrossing.com/VisualCross...</td>\n      <td>NaN</td>\n    </tr>\n    <tr>\n      <th>89</th>\n      <td>-23.5509001802915</td>\n      <td>-46.9424737802915</td>\n      <td>https://weather.visualcrossing.com/VisualCross...</td>\n      <td>NaN</td>\n    </tr>\n    <tr>\n      <th>90</th>\n      <td>-23.5035828802915</td>\n      <td>-46.3502028802915</td>\n      <td>https://weather.visualcrossing.com/VisualCross...</td>\n      <td>NaN</td>\n    </tr>\n    <tr>\n      <th>91</th>\n      <td>-23.5283132802915</td>\n      <td>-46.61963798029149</td>\n      <td>https://weather.visualcrossing.com/VisualCross...</td>\n      <td>NaN</td>\n    </tr>\n    <tr>\n      <th>92</th>\n      <td>-23.6113486802915</td>\n      <td>-46.59111488029149</td>\n      <td>https://weather.visualcrossing.com/VisualCross...</td>\n      <td>NaN</td>\n    </tr>\n    <tr>\n      <th>93</th>\n      <td>-23.7007885802915</td>\n      <td>-46.7687816802915</td>\n      <td>https://weather.visualcrossing.com/VisualCross...</td>\n      <td>NaN</td>\n    </tr>\n    <tr>\n      <th>94</th>\n      <td>-23.4774056802915</td>\n      <td>-46.35269768029149</td>\n      <td>https://weather.visualcrossing.com/VisualCross...</td>\n      <td>NaN</td>\n    </tr>\n    <tr>\n      <th>95</th>\n      <td>-23.6694175802915</td>\n      <td>-46.73888828029149</td>\n      <td>https://weather.visualcrossing.com/VisualCross...</td>\n      <td>NaN</td>\n    </tr>\n    <tr>\n      <th>96</th>\n      <td>-23.6603582802915</td>\n      <td>-46.4592759802915</td>\n      <td>https://weather.visualcrossing.com/VisualCross...</td>\n      <td>NaN</td>\n    </tr>\n  </tbody>\n</table>\n</div>"
     },
     "metadata": {},
     "execution_count": 59
    }
   ],
   "source": [
    "df_escolhido[['Latitude','Longitude','API_url','Condições Climáticas']]"
   ]
  },
  {
   "cell_type": "code",
   "execution_count": 60,
   "metadata": {},
   "outputs": [],
   "source": [
    "#criando função def para buscar na API e incluir no df\n",
    "def get_API_value(df):\n",
    "    response = urllib.request.urlopen(df['API_url'])\n",
    "    data = json.loads(response.read())\n",
    "    condition = data.get('days')[0].get('hours')[df['Hora']].get('conditions')\n",
    "    precip = data.get('days')[0].get('hours')[df['Hora']].get('precip')\n",
    "    return condition,precip"
   ]
  },
  {
   "cell_type": "code",
   "execution_count": 61,
   "metadata": {},
   "outputs": [
    {
     "output_type": "stream",
     "name": "stderr",
     "text": [
      "<ipython-input-61-a6cba688e84f>:2: SettingWithCopyWarning: \nA value is trying to be set on a copy of a slice from a DataFrame.\nTry using .loc[row_indexer,col_indexer] = value instead\n\nSee the caveats in the documentation: https://pandas.pydata.org/pandas-docs/stable/user_guide/indexing.html#returning-a-view-versus-a-copy\n  df_escolhido['Condições Climáticas'] =df_escolhido.apply(lambda df: get_API_value(df),axis=1)\n"
     ]
    }
   ],
   "source": [
    "#   AQUI A FUNÇÃO IRÁ CONSUMIR CRÉDITOS....CHECAR NA CONTA DO VISUAL CROSSING\n",
    "df_escolhido['Condições Climáticas'] =df_escolhido.apply(lambda df: get_API_value(df),axis=1)"
   ]
  },
  {
   "cell_type": "code",
   "execution_count": 62,
   "metadata": {},
   "outputs": [
    {
     "output_type": "execute_result",
     "data": {
      "text/plain": [
       "             Latitude           Longitude  \\\n",
       "82  -23.5274496802915   -46.6961104802915   \n",
       "83  -23.5993108802915   -46.4697313802915   \n",
       "84  -23.7039689802915   -46.5548379802915   \n",
       "85  -23.5522725802915  -46.46503928029149   \n",
       "86  -23.5081859802915   -46.5598829802915   \n",
       "87  -23.6716335802915   -46.5121250802915   \n",
       "88  -23.5459751802915  -46.83243548029149   \n",
       "89  -23.5509001802915   -46.9424737802915   \n",
       "90  -23.5035828802915   -46.3502028802915   \n",
       "91  -23.5283132802915  -46.61963798029149   \n",
       "92  -23.6113486802915  -46.59111488029149   \n",
       "93  -23.7007885802915   -46.7687816802915   \n",
       "94  -23.4774056802915  -46.35269768029149   \n",
       "95  -23.6694175802915  -46.73888828029149   \n",
       "96  -23.6603582802915   -46.4592759802915   \n",
       "\n",
       "                                              API_url  \\\n",
       "82  https://weather.visualcrossing.com/VisualCross...   \n",
       "83  https://weather.visualcrossing.com/VisualCross...   \n",
       "84  https://weather.visualcrossing.com/VisualCross...   \n",
       "85  https://weather.visualcrossing.com/VisualCross...   \n",
       "86  https://weather.visualcrossing.com/VisualCross...   \n",
       "87  https://weather.visualcrossing.com/VisualCross...   \n",
       "88  https://weather.visualcrossing.com/VisualCross...   \n",
       "89  https://weather.visualcrossing.com/VisualCross...   \n",
       "90  https://weather.visualcrossing.com/VisualCross...   \n",
       "91  https://weather.visualcrossing.com/VisualCross...   \n",
       "92  https://weather.visualcrossing.com/VisualCross...   \n",
       "93  https://weather.visualcrossing.com/VisualCross...   \n",
       "94  https://weather.visualcrossing.com/VisualCross...   \n",
       "95  https://weather.visualcrossing.com/VisualCross...   \n",
       "96  https://weather.visualcrossing.com/VisualCross...   \n",
       "\n",
       "        Condições Climáticas  \n",
       "82             (Clear, None)  \n",
       "83          (Overcast, None)  \n",
       "84             (Clear, None)  \n",
       "85          (Overcast, None)  \n",
       "86             (Clear, None)  \n",
       "87  (Partially cloudy, None)  \n",
       "88  (Partially cloudy, None)  \n",
       "89  (Partially cloudy, None)  \n",
       "90             (Clear, None)  \n",
       "91             (Clear, None)  \n",
       "92  (Partially cloudy, None)  \n",
       "93  (Partially cloudy, None)  \n",
       "94  (Partially cloudy, None)  \n",
       "95             (Clear, None)  \n",
       "96  (Partially cloudy, None)  "
      ],
      "text/html": "<div>\n<style scoped>\n    .dataframe tbody tr th:only-of-type {\n        vertical-align: middle;\n    }\n\n    .dataframe tbody tr th {\n        vertical-align: top;\n    }\n\n    .dataframe thead th {\n        text-align: right;\n    }\n</style>\n<table border=\"1\" class=\"dataframe\">\n  <thead>\n    <tr style=\"text-align: right;\">\n      <th></th>\n      <th>Latitude</th>\n      <th>Longitude</th>\n      <th>API_url</th>\n      <th>Condições Climáticas</th>\n    </tr>\n  </thead>\n  <tbody>\n    <tr>\n      <th>82</th>\n      <td>-23.5274496802915</td>\n      <td>-46.6961104802915</td>\n      <td>https://weather.visualcrossing.com/VisualCross...</td>\n      <td>(Clear, None)</td>\n    </tr>\n    <tr>\n      <th>83</th>\n      <td>-23.5993108802915</td>\n      <td>-46.4697313802915</td>\n      <td>https://weather.visualcrossing.com/VisualCross...</td>\n      <td>(Overcast, None)</td>\n    </tr>\n    <tr>\n      <th>84</th>\n      <td>-23.7039689802915</td>\n      <td>-46.5548379802915</td>\n      <td>https://weather.visualcrossing.com/VisualCross...</td>\n      <td>(Clear, None)</td>\n    </tr>\n    <tr>\n      <th>85</th>\n      <td>-23.5522725802915</td>\n      <td>-46.46503928029149</td>\n      <td>https://weather.visualcrossing.com/VisualCross...</td>\n      <td>(Overcast, None)</td>\n    </tr>\n    <tr>\n      <th>86</th>\n      <td>-23.5081859802915</td>\n      <td>-46.5598829802915</td>\n      <td>https://weather.visualcrossing.com/VisualCross...</td>\n      <td>(Clear, None)</td>\n    </tr>\n    <tr>\n      <th>87</th>\n      <td>-23.6716335802915</td>\n      <td>-46.5121250802915</td>\n      <td>https://weather.visualcrossing.com/VisualCross...</td>\n      <td>(Partially cloudy, None)</td>\n    </tr>\n    <tr>\n      <th>88</th>\n      <td>-23.5459751802915</td>\n      <td>-46.83243548029149</td>\n      <td>https://weather.visualcrossing.com/VisualCross...</td>\n      <td>(Partially cloudy, None)</td>\n    </tr>\n    <tr>\n      <th>89</th>\n      <td>-23.5509001802915</td>\n      <td>-46.9424737802915</td>\n      <td>https://weather.visualcrossing.com/VisualCross...</td>\n      <td>(Partially cloudy, None)</td>\n    </tr>\n    <tr>\n      <th>90</th>\n      <td>-23.5035828802915</td>\n      <td>-46.3502028802915</td>\n      <td>https://weather.visualcrossing.com/VisualCross...</td>\n      <td>(Clear, None)</td>\n    </tr>\n    <tr>\n      <th>91</th>\n      <td>-23.5283132802915</td>\n      <td>-46.61963798029149</td>\n      <td>https://weather.visualcrossing.com/VisualCross...</td>\n      <td>(Clear, None)</td>\n    </tr>\n    <tr>\n      <th>92</th>\n      <td>-23.6113486802915</td>\n      <td>-46.59111488029149</td>\n      <td>https://weather.visualcrossing.com/VisualCross...</td>\n      <td>(Partially cloudy, None)</td>\n    </tr>\n    <tr>\n      <th>93</th>\n      <td>-23.7007885802915</td>\n      <td>-46.7687816802915</td>\n      <td>https://weather.visualcrossing.com/VisualCross...</td>\n      <td>(Partially cloudy, None)</td>\n    </tr>\n    <tr>\n      <th>94</th>\n      <td>-23.4774056802915</td>\n      <td>-46.35269768029149</td>\n      <td>https://weather.visualcrossing.com/VisualCross...</td>\n      <td>(Partially cloudy, None)</td>\n    </tr>\n    <tr>\n      <th>95</th>\n      <td>-23.6694175802915</td>\n      <td>-46.73888828029149</td>\n      <td>https://weather.visualcrossing.com/VisualCross...</td>\n      <td>(Clear, None)</td>\n    </tr>\n    <tr>\n      <th>96</th>\n      <td>-23.6603582802915</td>\n      <td>-46.4592759802915</td>\n      <td>https://weather.visualcrossing.com/VisualCross...</td>\n      <td>(Partially cloudy, None)</td>\n    </tr>\n  </tbody>\n</table>\n</div>"
     },
     "metadata": {},
     "execution_count": 62
    }
   ],
   "source": [
    "df_escolhido[['Latitude','Longitude','API_url','Condições Climáticas']]"
   ]
  },
  {
   "cell_type": "code",
   "execution_count": 63,
   "metadata": {},
   "outputs": [
    {
     "output_type": "stream",
     "name": "stderr",
     "text": [
      "C:\\Users\\Renato\\anaconda3\\envs\\Data_Science\\lib\\site-packages\\pandas\\core\\frame.py:4308: SettingWithCopyWarning: \nA value is trying to be set on a copy of a slice from a DataFrame\n\nSee the caveats in the documentation: https://pandas.pydata.org/pandas-docs/stable/user_guide/indexing.html#returning-a-view-versus-a-copy\n  return super().drop(\n"
     ]
    }
   ],
   "source": [
    "# dropando coluna URL\n",
    "df_escolhido.drop(columns='API_url',axis=1,inplace=True)"
   ]
  },
  {
   "cell_type": "code",
   "execution_count": 64,
   "metadata": {},
   "outputs": [],
   "source": [
    "#exportando cada df escolhido na pasta weather API\n",
    "df_escolhido.to_csv(r'C:\\\\Users\\Renato\\OneDrive\\Projeto_TERA\\Predição Acidentes Motocicleta\\Projeto-TERA-Data-Science---Acidentes-Motocicletas\\Weather_API_data\\combine2\\{}.csv'.format(nome_df))"
   ]
  },
  {
   "cell_type": "code",
   "execution_count": null,
   "metadata": {},
   "outputs": [],
   "source": []
  }
 ]
}