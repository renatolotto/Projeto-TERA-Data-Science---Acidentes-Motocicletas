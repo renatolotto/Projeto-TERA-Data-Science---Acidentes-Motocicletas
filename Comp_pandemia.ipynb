{
 "metadata": {
  "language_info": {
   "codemirror_mode": {
    "name": "ipython",
    "version": 3
   },
   "file_extension": ".py",
   "mimetype": "text/x-python",
   "name": "python",
   "nbconvert_exporter": "python",
   "pygments_lexer": "ipython3",
   "version": "3.8.8"
  },
  "orig_nbformat": 2,
  "kernelspec": {
   "name": "python388jvsc74a57bd054aafdb36ba7a57007c1052e291baf553a31e85cae918a266292c7469c0efefb",
   "display_name": "Python 3.8.8 64-bit ('Data_Science': conda)"
  }
 },
 "nbformat": 4,
 "nbformat_minor": 2,
 "cells": [
  {
   "cell_type": "code",
   "execution_count": 1,
   "metadata": {},
   "outputs": [],
   "source": [
    "import pandas as pd\n",
    "import numpy as np\n",
    "import matplotlib.pyplot as plt \n",
    "import seaborn as sns"
   ]
  },
  {
   "cell_type": "code",
   "execution_count": 3,
   "metadata": {},
   "outputs": [],
   "source": [
    "df_acidentes_sp_moto = pd.read_csv('df_acidentes_sp_moto.csv',dtype='unicode')\n",
    "df_acidentes_sp_moto['Data do Acidente'] = pd.to_datetime(df_acidentes_sp_moto['Data do Acidente'],format='%Y-%m-%d')"
   ]
  },
  {
   "cell_type": "code",
   "execution_count": 5,
   "metadata": {},
   "outputs": [
    {
     "output_type": "stream",
     "name": "stdout",
     "text": [
      "<class 'pandas.core.frame.DataFrame'>\nRangeIndex: 62479 entries, 0 to 62478\nData columns (total 81 columns):\n #   Column                                       Non-Null Count  Dtype         \n---  ------                                       --------------  -----         \n 0   Unnamed: 0                                   62479 non-null  object        \n 1   ID                                           62479 non-null  object        \n 2   Data do Acidente                             62479 non-null  datetime64[ns]\n 3   Dia do Acidente                              62479 non-null  object        \n 4   Mês do Acidente                              62479 non-null  object        \n 5   Ano do Acidente                              62479 non-null  object        \n 6   Ano/Mês do Acidente                          62479 non-null  object        \n 7   Dia da Semana                                62479 non-null  object        \n 8   Hora do Acidente                             62479 non-null  object        \n 9   Turno                                        62479 non-null  object        \n 10  Município                                    62479 non-null  object        \n 11  Região Administrativa                        62479 non-null  object        \n 12  Logradouro                                   62479 non-null  object        \n 13  Numero/KM                                    62479 non-null  object        \n 14  Jurisdição                                   62479 non-null  object        \n 15  Administração                                62479 non-null  object        \n 16  Conservação                                  62479 non-null  object        \n 17  Latitude                                     62479 non-null  object        \n 18  Longitude                                    62479 non-null  object        \n 19  Condições Climáticas                         62479 non-null  object        \n 20  Iluminação                                   62479 non-null  object        \n 21  Mão de direção                               58161 non-null  object        \n 22  Obras na pista                               58161 non-null  object        \n 23  Relevo                                       58161 non-null  object        \n 24  Superfície da via                            62479 non-null  object        \n 25  Tipo de pavimento                            58161 non-null  object        \n 26  Tipo de pista                                62479 non-null  object        \n 27  Traçado                                      58161 non-null  object        \n 28  Veículos Envolvidos - Bicicleta              58161 non-null  object        \n 29  Veículos Envolvidos - Caminhão               58161 non-null  object        \n 30  Veículos Envolvidos - Automóvel              58161 non-null  object        \n 31  Veículos Envolvidos - Outros                 58161 non-null  object        \n 32  Veículos Envolvidos - Motocicleta            58161 non-null  object        \n 33  Veículos Envolvidos - Ônibus                 58161 non-null  object        \n 34  Veículos Envolvidos - ND                     58161 non-null  object        \n 35  Veículos Envolvidos - Pedestre               58161 non-null  object        \n 36  Pessoas Envolvidas - Grave                   58161 non-null  object        \n 37  Pessoas Envolvidas - Ileso                   58161 non-null  object        \n 38  Pessoas Envolvidas - Leve                    58161 non-null  object        \n 39  Pessoas Envolvidas - Fatal                   58161 non-null  object        \n 40  Pessoas Envolvidas - Feridos                 58161 non-null  object        \n 41  Pessoas Envolvidas - ND                      58161 non-null  object        \n 42  Serviço de Atendimento - Bombeiro            58161 non-null  object        \n 43  Serviço de Atendimento - PMRV                58161 non-null  object        \n 44  Serviço de Atendimento - PRF                 58161 non-null  object        \n 45  Serviço de Atendimento - Radio Patrulha      58161 non-null  object        \n 46  Servciço de Atendimento - CPTRAN             58161 non-null  object        \n 47  Tipo de Via                                  62479 non-null  object        \n 48  Tipo de Acidente - Atropelamento             58161 non-null  object        \n 49  Tipo de Acidente - Choque                    58161 non-null  object        \n 50  Tipo de Acidente - Colisão                   58161 non-null  object        \n 51  Tipo de Acidente - Outros tipos de Acidente  58161 non-null  object        \n 52  Tipo de Acidente - ND                        58161 non-null  object        \n 53  Turno + Dia de Semana                        58161 non-null  object        \n 54  Tempo entre o Acidente e as Mortes           4318 non-null   object        \n 55  Acidente Fatal                               62479 non-null  object        \n 56  Acidente Não Fatal                           62479 non-null  object        \n 57  Id Delegacia                                 4318 non-null   object        \n 58  Número BO                                    4318 non-null   object        \n 59  Ano BO                                       4318 non-null   object        \n 60  Tipo do Local do Acidente                    4318 non-null   object        \n 61  Outro Veículo Envolvido                      3061 non-null   object        \n 62  Sentido da Via (SIOPM)                       4318 non-null   object        \n 63  Limite da velocidade da via (SIOPM)          4318 non-null   object        \n 64  Quantidade de vítimas                        4318 non-null   object        \n 65  Data do Óbito                                4318 non-null   object        \n 66  Dia do óbito                                 4318 non-null   object        \n 67  Mês do Óbito                                 4318 non-null   object        \n 68  Mês Óbito Descrição                          4318 non-null   object        \n 69  Ano do Óbito                                 4318 non-null   object        \n 70  Ano/Mês do Óbito                             4318 non-null   object        \n 71  Tipo do local da ocorrência                  4318 non-null   object        \n 72  Tipo do veículo da vítima                    4318 non-null   object        \n 73  Tipo de vítima                               4318 non-null   object        \n 74  Local do óbito                               4318 non-null   object        \n 75  Tipo de acidente                             4318 non-null   object        \n 76  Sub Tipo do Acidente                         2397 non-null   object        \n 77  Sexo                                         4318 non-null   object        \n 78  Faixa etária                                 4318 non-null   object        \n 79  Idade da vítima                              4318 non-null   object        \n 80  Tempo entre o Acidente e o Óbito             4318 non-null   object        \ndtypes: datetime64[ns](1), object(80)\nmemory usage: 38.6+ MB\n"
     ]
    }
   ],
   "source": [
    "df_acidentes_sp_moto.info()"
   ]
  },
  {
   "cell_type": "code",
   "execution_count": 6,
   "metadata": {},
   "outputs": [],
   "source": [
    "# Filtros\n",
    "df_2019 = df_acidentes_sp_moto.loc[df_acidentes_sp_moto['Data do Acidente']>='2019-01-01']\n",
    "df_2019 = df_2019.loc[df_2019['Data do Acidente']<='2019-12-31']\n",
    "\n",
    "df_2020 = df_acidentes_sp_moto.loc[df_acidentes_sp_moto['Data do Acidente']>='2020-01-01']\n",
    "df_2020 = df_2020.loc[df_2020['Data do Acidente']<='2020-12-31']"
   ]
  },
  {
   "cell_type": "code",
   "execution_count": 9,
   "metadata": {},
   "outputs": [
    {
     "output_type": "stream",
     "name": "stdout",
     "text": [
      "<class 'pandas.core.frame.DataFrame'>\nInt64Index: 28990 entries, 29930 to 62224\nData columns (total 81 columns):\n #   Column                                       Non-Null Count  Dtype         \n---  ------                                       --------------  -----         \n 0   Unnamed: 0                                   28990 non-null  object        \n 1   ID                                           28990 non-null  object        \n 2   Data do Acidente                             28990 non-null  datetime64[ns]\n 3   Dia do Acidente                              28990 non-null  object        \n 4   Mês do Acidente                              28990 non-null  object        \n 5   Ano do Acidente                              28990 non-null  object        \n 6   Ano/Mês do Acidente                          28990 non-null  object        \n 7   Dia da Semana                                28990 non-null  object        \n 8   Hora do Acidente                             28990 non-null  object        \n 9   Turno                                        28990 non-null  object        \n 10  Município                                    28990 non-null  object        \n 11  Região Administrativa                        28990 non-null  object        \n 12  Logradouro                                   28990 non-null  object        \n 13  Numero/KM                                    28990 non-null  object        \n 14  Jurisdição                                   28990 non-null  object        \n 15  Administração                                28990 non-null  object        \n 16  Conservação                                  28990 non-null  object        \n 17  Latitude                                     28990 non-null  object        \n 18  Longitude                                    28990 non-null  object        \n 19  Condições Climáticas                         28990 non-null  object        \n 20  Iluminação                                   28990 non-null  object        \n 21  Mão de direção                               28231 non-null  object        \n 22  Obras na pista                               28231 non-null  object        \n 23  Relevo                                       28231 non-null  object        \n 24  Superfície da via                            28990 non-null  object        \n 25  Tipo de pavimento                            28231 non-null  object        \n 26  Tipo de pista                                28990 non-null  object        \n 27  Traçado                                      28231 non-null  object        \n 28  Veículos Envolvidos - Bicicleta              28231 non-null  object        \n 29  Veículos Envolvidos - Caminhão               28231 non-null  object        \n 30  Veículos Envolvidos - Automóvel              28231 non-null  object        \n 31  Veículos Envolvidos - Outros                 28231 non-null  object        \n 32  Veículos Envolvidos - Motocicleta            28231 non-null  object        \n 33  Veículos Envolvidos - Ônibus                 28231 non-null  object        \n 34  Veículos Envolvidos - ND                     28231 non-null  object        \n 35  Veículos Envolvidos - Pedestre               28231 non-null  object        \n 36  Pessoas Envolvidas - Grave                   28231 non-null  object        \n 37  Pessoas Envolvidas - Ileso                   28231 non-null  object        \n 38  Pessoas Envolvidas - Leve                    28231 non-null  object        \n 39  Pessoas Envolvidas - Fatal                   28231 non-null  object        \n 40  Pessoas Envolvidas - Feridos                 28231 non-null  object        \n 41  Pessoas Envolvidas - ND                      28231 non-null  object        \n 42  Serviço de Atendimento - Bombeiro            28231 non-null  object        \n 43  Serviço de Atendimento - PMRV                28231 non-null  object        \n 44  Serviço de Atendimento - PRF                 28231 non-null  object        \n 45  Serviço de Atendimento - Radio Patrulha      28231 non-null  object        \n 46  Servciço de Atendimento - CPTRAN             28231 non-null  object        \n 47  Tipo de Via                                  28990 non-null  object        \n 48  Tipo de Acidente - Atropelamento             28231 non-null  object        \n 49  Tipo de Acidente - Choque                    28231 non-null  object        \n 50  Tipo de Acidente - Colisão                   28231 non-null  object        \n 51  Tipo de Acidente - Outros tipos de Acidente  28231 non-null  object        \n 52  Tipo de Acidente - ND                        28231 non-null  object        \n 53  Turno + Dia de Semana                        28231 non-null  object        \n 54  Tempo entre o Acidente e as Mortes           759 non-null    object        \n 55  Acidente Fatal                               28990 non-null  object        \n 56  Acidente Não Fatal                           28990 non-null  object        \n 57  Id Delegacia                                 759 non-null    object        \n 58  Número BO                                    759 non-null    object        \n 59  Ano BO                                       759 non-null    object        \n 60  Tipo do Local do Acidente                    759 non-null    object        \n 61  Outro Veículo Envolvido                      759 non-null    object        \n 62  Sentido da Via (SIOPM)                       759 non-null    object        \n 63  Limite da velocidade da via (SIOPM)          759 non-null    object        \n 64  Quantidade de vítimas                        759 non-null    object        \n 65  Data do Óbito                                759 non-null    object        \n 66  Dia do óbito                                 759 non-null    object        \n 67  Mês do Óbito                                 759 non-null    object        \n 68  Mês Óbito Descrição                          759 non-null    object        \n 69  Ano do Óbito                                 759 non-null    object        \n 70  Ano/Mês do Óbito                             759 non-null    object        \n 71  Tipo do local da ocorrência                  759 non-null    object        \n 72  Tipo do veículo da vítima                    759 non-null    object        \n 73  Tipo de vítima                               759 non-null    object        \n 74  Local do óbito                               759 non-null    object        \n 75  Tipo de acidente                             759 non-null    object        \n 76  Sub Tipo do Acidente                         759 non-null    object        \n 77  Sexo                                         759 non-null    object        \n 78  Faixa etária                                 759 non-null    object        \n 79  Idade da vítima                              759 non-null    object        \n 80  Tempo entre o Acidente e o Óbito             759 non-null    object        \ndtypes: datetime64[ns](1), object(80)\nmemory usage: 18.1+ MB\n"
     ]
    }
   ],
   "source": [
    "df_2019.info()"
   ]
  },
  {
   "cell_type": "code",
   "execution_count": 13,
   "metadata": {},
   "outputs": [
    {
     "output_type": "execute_result",
     "data": {
      "text/plain": [
       "0    28231\n",
       "1      759\n",
       "Name: Acidente Fatal, dtype: int64"
      ]
     },
     "metadata": {},
     "execution_count": 13
    }
   ],
   "source": [
    "df_2019['Acidente Fatal'].value_counts()"
   ]
  },
  {
   "cell_type": "code",
   "execution_count": 16,
   "metadata": {
    "tags": []
   },
   "outputs": [
    {
     "output_type": "stream",
     "name": "stdout",
     "text": [
      "2019 28990 28231 759\n\n2020 26735 26017 718\n"
     ]
    }
   ],
   "source": [
    "total_acidentes_2019 = len(df_2019)\n",
    "total_nao_fatais_2019 = df_2019['Acidente Fatal'].value_counts()[0]\n",
    "total_fatais_2019 = df_2019['Acidente Fatal'].value_counts()[1]\n",
    "\n",
    "total_acidentes_2020 = len(df_2020)\n",
    "total_nao_fatais_2020 = df_2020['Acidente Fatal'].value_counts()[0]\n",
    "total_fatais_2020 = df_2020['Acidente Fatal'].value_counts()[1]\n",
    "\n",
    "print('2019',total_acidentes_2019,total_nao_fatais_2019,total_fatais_2019)\n",
    "print()\n",
    "print('2020',total_acidentes_2020,total_nao_fatais_2020,total_fatais_2020)"
   ]
  },
  {
   "cell_type": "code",
   "execution_count": null,
   "metadata": {},
   "outputs": [],
   "source": []
  }
 ]
}