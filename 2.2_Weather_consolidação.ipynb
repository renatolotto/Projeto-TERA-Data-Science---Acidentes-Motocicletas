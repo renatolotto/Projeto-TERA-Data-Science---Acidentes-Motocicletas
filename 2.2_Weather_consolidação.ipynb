{
 "metadata": {
  "language_info": {
   "codemirror_mode": {
    "name": "ipython",
    "version": 3
   },
   "file_extension": ".py",
   "mimetype": "text/x-python",
   "name": "python",
   "nbconvert_exporter": "python",
   "pygments_lexer": "ipython3",
   "version": "3.8.8"
  },
  "orig_nbformat": 2,
  "kernelspec": {
   "name": "python3",
   "display_name": "Python 3.8.8 64-bit ('Data_Science': conda)"
  },
  "interpreter": {
   "hash": "54aafdb36ba7a57007c1052e291baf553a31e85cae918a266292c7469c0efefb"
  }
 },
 "nbformat": 4,
 "nbformat_minor": 2,
 "cells": [
  {
   "cell_type": "code",
   "execution_count": 1,
   "metadata": {},
   "outputs": [],
   "source": [
    "import pandas as pd\n",
    "import os\n",
    "import glob\n",
    "os.chdir(\"C:\\\\Users\\Renato\\OneDrive\\Projeto_TERA\\Predição Acidentes Motocicleta\\Projeto-TERA-Data-Science---Acidentes-Motocicletas\\Weather_API_data\\combine2\")"
   ]
  },
  {
   "cell_type": "code",
   "execution_count": 2,
   "metadata": {},
   "outputs": [],
   "source": [
    "extension = 'csv'\n",
    "all_filenames = [i for i in glob.glob('*.{}'.format(extension))]"
   ]
  },
  {
   "cell_type": "code",
   "execution_count": 3,
   "metadata": {},
   "outputs": [
    {
     "output_type": "execute_result",
     "data": {
      "text/plain": [
       "['df101.csv', 'df102.csv', 'df103.csv']"
      ]
     },
     "metadata": {},
     "execution_count": 3
    }
   ],
   "source": [
    "all_filenames"
   ]
  },
  {
   "cell_type": "code",
   "execution_count": 4,
   "metadata": {},
   "outputs": [],
   "source": [
    "#combine all files in the list\n",
    "combined_csv = pd.concat([pd.read_csv(f) for f in all_filenames ])\n",
    "#export to csv\n",
    "# combined_csv.to_csv( \"combined_csv.csv\", index=False, encoding='utf-8-sig')"
   ]
  },
  {
   "cell_type": "code",
   "execution_count": 5,
   "metadata": {},
   "outputs": [],
   "source": [
    "combined_csv.set_index('Unnamed: 0',inplace=True)"
   ]
  },
  {
   "cell_type": "code",
   "execution_count": 6,
   "metadata": {},
   "outputs": [],
   "source": [
    "combined_csv.sort_index(inplace=True)"
   ]
  },
  {
   "cell_type": "code",
   "execution_count": 7,
   "metadata": {},
   "outputs": [
    {
     "output_type": "execute_result",
     "data": {
      "text/plain": [
       "('Partially cloudy', None)          41\n",
       "('Clear', None)                     38\n",
       "('Overcast', None)                  17\n",
       "('Rain, Partially cloudy', 0.04)     1\n",
       "Name: Condições Climáticas, dtype: int64"
      ]
     },
     "metadata": {},
     "execution_count": 7
    }
   ],
   "source": [
    "combined_csv['Condições Climáticas'].value_counts()"
   ]
  },
  {
   "cell_type": "code",
   "execution_count": 13,
   "metadata": {},
   "outputs": [
    {
     "output_type": "execute_result",
     "data": {
      "text/plain": [
       "Index(['Data do Acidente', 'Latitude', 'Longitude', 'Condições Climáticas',\n",
       "       'Hora'],\n",
       "      dtype='object')"
      ]
     },
     "metadata": {},
     "execution_count": 13
    }
   ],
   "source": [
    "combined_csv.columns"
   ]
  },
  {
   "cell_type": "code",
   "execution_count": 14,
   "metadata": {},
   "outputs": [
    {
     "output_type": "execute_result",
     "data": {
      "text/plain": [
       "           Data do Acidente   Latitude  Longitude  \\\n",
       "Unnamed: 0                                          \n",
       "12               2020-09-21 -23.776356 -46.600611   \n",
       "\n",
       "                        Condições Climáticas  Hora  \n",
       "Unnamed: 0                                          \n",
       "12          ('Rain, Partially cloudy', 0.04)    15  "
      ],
      "text/html": "<div>\n<style scoped>\n    .dataframe tbody tr th:only-of-type {\n        vertical-align: middle;\n    }\n\n    .dataframe tbody tr th {\n        vertical-align: top;\n    }\n\n    .dataframe thead th {\n        text-align: right;\n    }\n</style>\n<table border=\"1\" class=\"dataframe\">\n  <thead>\n    <tr style=\"text-align: right;\">\n      <th></th>\n      <th>Data do Acidente</th>\n      <th>Latitude</th>\n      <th>Longitude</th>\n      <th>Condições Climáticas</th>\n      <th>Hora</th>\n    </tr>\n    <tr>\n      <th>Unnamed: 0</th>\n      <th></th>\n      <th></th>\n      <th></th>\n      <th></th>\n      <th></th>\n    </tr>\n  </thead>\n  <tbody>\n    <tr>\n      <th>12</th>\n      <td>2020-09-21</td>\n      <td>-23.776356</td>\n      <td>-46.600611</td>\n      <td>('Rain, Partially cloudy', 0.04)</td>\n      <td>15</td>\n    </tr>\n  </tbody>\n</table>\n</div>"
     },
     "metadata": {},
     "execution_count": 14
    }
   ],
   "source": [
    "combined_csv.loc[combined_csv['Condições Climáticas']=='(\\'Rain, Partially cloudy\\', 0.04)']"
   ]
  },
  {
   "cell_type": "code",
   "execution_count": 9,
   "metadata": {},
   "outputs": [],
   "source": [
    "# combined_csv.drop(columns='API_url',axis=1,inplace=True)\n",
    "combined_csv = combined_csv.dropna()\n"
   ]
  },
  {
   "cell_type": "code",
   "execution_count": 10,
   "metadata": {},
   "outputs": [
    {
     "output_type": "execute_result",
     "data": {
      "text/plain": [
       "Unnamed: 0\n",
       "0     Partially cloudy\n",
       "1                Clear\n",
       "2     Partially cloudy\n",
       "3             Overcast\n",
       "4     Partially cloudy\n",
       "            ...       \n",
       "92    Partially cloudy\n",
       "93    Partially cloudy\n",
       "94    Partially cloudy\n",
       "95               Clear\n",
       "96    Partially cloudy\n",
       "Name: Condições Climáticas, Length: 97, dtype: object"
      ]
     },
     "metadata": {},
     "execution_count": 10
    }
   ],
   "source": [
    "\n",
    "#replace\n",
    "dict={'(\\'Clear\\', None)': 'Clear','(\\'Partially cloudy\\', None)':'Partially cloudy','(\\'Overcast\\', None)':'Overcast','(\\'Rain, Partially cloudy\\', 0.08)':'Rain','(\\'\\', None)':'Clear','(\\'Partially cloudy\\', 0.0)':'Partially cloudy','(\\'Rain, Overcast\\', 0.01)':'Rain','Rain, Partially cloudy':'Rain','(\\'Overcast\\', 0.0)':'Overcast','(\\'Rain, Partially cloudy\\', 0.24)':'Rain','(\\'Rain, Partially cloudy\\', 0.12)':'Rain','Rain, Overcast':'Rain','(\\'Rain, Partially cloudy\\', 0.28)':'Rain','(\\'Rain, Overcast\\', 0.12)':'Rain','(\\'Rain, Overcast\\', 0.04)':'Rain','(\\'Rain, Overcast\\', 0.02)':'Rain','(\\'Rain, Overcast\\', 0.43)':'Rain','(\\'Rain, Partially cloudy\\', 0.02)':'Rain','(\\'Rain, Partially cloudy\\', 0.04)':'Rain','(\\'Rain, Partially cloudy\\', 0.39)':'Rain','(\\'Rain, Partially cloudy\\', 0.01)':'Rain','(\\'Rain, Partially cloudy\\', 0.63)':'Rain','(\\'Rain, Overcast\\', 0.16)':'Rain','(\\'Rain, Overcast\\', 0.55)':'Rain','(\\'Rain, Overcast\\', 0.87)':'Rain'  }\n",
    "combined_csv['Condições Climáticas']=combined_csv['Condições Climáticas'].replace(dict)\n",
    "combined_csv['Condições Climáticas']"
   ]
  },
  {
   "cell_type": "code",
   "execution_count": 11,
   "metadata": {},
   "outputs": [
    {
     "output_type": "execute_result",
     "data": {
      "text/plain": [
       "Partially cloudy    41\n",
       "Clear               38\n",
       "Overcast            17\n",
       "Rain                 1\n",
       "Name: Condições Climáticas, dtype: int64"
      ]
     },
     "metadata": {},
     "execution_count": 11
    }
   ],
   "source": [
    "combined_csv['Condições Climáticas'].value_counts()"
   ]
  },
  {
   "cell_type": "code",
   "execution_count": 12,
   "metadata": {},
   "outputs": [
    {
     "output_type": "execute_result",
     "data": {
      "text/plain": [
       "NUBLADO    58\n",
       "BOM        38\n",
       "CHUVA       1\n",
       "Name: Condições Climáticas, dtype: int64"
      ]
     },
     "metadata": {},
     "execution_count": 12
    }
   ],
   "source": [
    "# categorias no dataset original\n",
    "# BOM                 43529\n",
    "# CHUVA                4081\n",
    "# NUBLADO               365\n",
    "# NEVOEIRO/NEBLINA      242\n",
    "# VENTO                   1\n",
    "# URBANA                  1\n",
    "dict2={'Clear':'BOM','Partially cloudy':'NUBLADO','Overcast':'NUBLADO','Rain':'CHUVA'}\n",
    "combined_csv['Condições Climáticas']=combined_csv['Condições Climáticas'].replace(dict2)\n",
    "combined_csv['Condições Climáticas'].value_counts()"
   ]
  },
  {
   "cell_type": "code",
   "execution_count": 13,
   "metadata": {},
   "outputs": [
    {
     "output_type": "stream",
     "name": "stdout",
     "text": [
      "<class 'pandas.core.frame.DataFrame'>\nInt64Index: 97 entries, 0 to 96\nData columns (total 5 columns):\n #   Column                Non-Null Count  Dtype  \n---  ------                --------------  -----  \n 0   Data do Acidente      97 non-null     object \n 1   Latitude              97 non-null     float64\n 2   Longitude             97 non-null     float64\n 3   Condições Climáticas  97 non-null     object \n 4   Hora                  97 non-null     int64  \ndtypes: float64(2), int64(1), object(2)\nmemory usage: 4.5+ KB\n"
     ]
    }
   ],
   "source": [
    "combined_csv.info()"
   ]
  },
  {
   "cell_type": "code",
   "execution_count": 14,
   "metadata": {},
   "outputs": [],
   "source": [
    "combined_csv.to_csv(\"C:\\\\Users\\Renato\\OneDrive\\Projeto_TERA\\Predição Acidentes Motocicleta\\Projeto-TERA-Data-Science---Acidentes-Motocicletas\\Weather_API_data\\df_dados_API2.csv\",index=False)"
   ]
  },
  {
   "cell_type": "code",
   "execution_count": null,
   "metadata": {},
   "outputs": [],
   "source": []
  }
 ]
}