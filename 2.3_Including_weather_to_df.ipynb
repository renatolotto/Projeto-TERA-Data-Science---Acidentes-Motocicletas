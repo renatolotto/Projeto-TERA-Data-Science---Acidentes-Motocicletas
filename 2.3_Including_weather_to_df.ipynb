{
 "metadata": {
  "language_info": {
   "codemirror_mode": {
    "name": "ipython",
    "version": 3
   },
   "file_extension": ".py",
   "mimetype": "text/x-python",
   "name": "python",
   "nbconvert_exporter": "python",
   "pygments_lexer": "ipython3",
   "version": "3.8.8"
  },
  "orig_nbformat": 2,
  "kernelspec": {
   "name": "python388jvsc74a57bd054aafdb36ba7a57007c1052e291baf553a31e85cae918a266292c7469c0efefb",
   "display_name": "Python 3.8.8 64-bit ('Data_Science': conda)"
  }
 },
 "nbformat": 4,
 "nbformat_minor": 2,
 "cells": [
  {
   "cell_type": "code",
   "execution_count": 2,
   "metadata": {},
   "outputs": [],
   "source": [
    "import pandas as pd"
   ]
  },
  {
   "cell_type": "code",
   "execution_count": 3,
   "metadata": {},
   "outputs": [],
   "source": [
    "df_from_API = pd.read_csv(\"C:\\\\Users\\Renato\\OneDrive\\Projeto_TERA\\Predição Acidentes Motocicleta\\Projeto-TERA-Data-Science---Acidentes-Motocicletas\\Weather_API_data\\df_dados_API.csv\")\n",
    "df1=pd.read_csv('df_acidentes_sp_moto_Cyclical.csv')"
   ]
  },
  {
   "cell_type": "code",
   "execution_count": 4,
   "metadata": {},
   "outputs": [
    {
     "output_type": "stream",
     "name": "stdout",
     "text": [
      "<class 'pandas.core.frame.DataFrame'>\nRangeIndex: 3200 entries, 0 to 3199\nData columns (total 5 columns):\n #   Column                Non-Null Count  Dtype \n---  ------                --------------  ----- \n 0   Data do Acidente      3200 non-null   object\n 1   Latitude              3200 non-null   object\n 2   Longitude             3200 non-null   object\n 3   Condições Climáticas  3200 non-null   object\n 4   Hora                  3200 non-null   int64 \ndtypes: int64(1), object(4)\nmemory usage: 125.1+ KB\n"
     ]
    }
   ],
   "source": [
    "df_from_API.info()#checando se os 3200 dados da api estão ok"
   ]
  },
  {
   "cell_type": "code",
   "execution_count": 5,
   "metadata": {},
   "outputs": [
    {
     "output_type": "stream",
     "name": "stdout",
     "text": [
      "<class 'pandas.core.frame.DataFrame'>\nRangeIndex: 58740 entries, 0 to 58739\nData columns (total 35 columns):\n #   Column                Non-Null Count  Dtype  \n---  ------                --------------  -----  \n 0   Data do Acidente      58740 non-null  object \n 1   Dia                   58740 non-null  int64  \n 2   Mes                   58740 non-null  int64  \n 3   Ano                   58740 non-null  int64  \n 4   Dia da Semana         58740 non-null  object \n 5   Hora do Acidente      58573 non-null  object \n 6   Turno                 58573 non-null  object \n 7   Município             58740 non-null  object \n 8   Jurisdição            58648 non-null  object \n 9   Administração         58198 non-null  object \n 10  Conservação           58197 non-null  object \n 11  Latitude              58740 non-null  object \n 12  Longitude             58740 non-null  object \n 13  Condições Climáticas  48219 non-null  object \n 14  Iluminação            47238 non-null  object \n 15  Mão de direção        46452 non-null  object \n 16  Relevo                46453 non-null  object \n 17  Superfície da via     47178 non-null  object \n 18  Tipo de pavimento     46453 non-null  object \n 19  Tipo de pista         48460 non-null  object \n 20  Traçado               46453 non-null  object \n 21  Tipo de Via           58726 non-null  object \n 22  Acidente Fatal        58740 non-null  int64  \n 23  Mes_sin               58740 non-null  float64\n 24  Mes_cos               58740 non-null  float64\n 25  dias_semana_num       58740 non-null  int64  \n 26  dias_semana_norm      58740 non-null  float64\n 27  dias_semana_sin       58740 non-null  float64\n 28  dias_semana_cos       58740 non-null  float64\n 29  Hora                  58740 non-null  float64\n 30  Minuto                58740 non-null  float64\n 31  Segundo               58740 non-null  float64\n 32  horario_float         58740 non-null  float64\n 33  horario_sin           58740 non-null  float64\n 34  horario_cos           58740 non-null  float64\ndtypes: float64(11), int64(5), object(19)\nmemory usage: 15.7+ MB\n"
     ]
    }
   ],
   "source": [
    "df1.info()#cond climáticas 48219, juntando espera-se ter 48219+3200+127 dropadas =51546"
   ]
  },
  {
   "cell_type": "code",
   "execution_count": 6,
   "metadata": {},
   "outputs": [
    {
     "output_type": "execute_result",
     "data": {
      "text/plain": [
       "0              2020-12-29-23,7464627689999-46,803836335\n",
       "1       2020-12-26-23,458778790416762-46,48209129083817\n",
       "2       2020-12-26-23,418102298841816-46,37791152937248\n",
       "3        2020-12-26-23,54191853681889-47,01329391534144\n",
       "4       2020-12-25-23,487367560249513-46,75690361349391\n",
       "                             ...                       \n",
       "3195    2015-02-18-23,404111592317488-46,57599535696205\n",
       "3196                     2015-01-15-23,632392-46,472206\n",
       "3197                     2014-12-28-23,555237-46,849214\n",
       "3198                     2014-11-05-23,644498-46,538558\n",
       "3199                     2012-06-15-23,647306-46,778984\n",
       "Name: Index_BALA, Length: 3200, dtype: object"
      ]
     },
     "metadata": {},
     "execution_count": 6
    }
   ],
   "source": [
    "#criando indice dummy no df do api\n",
    "df_from_API['Index_BALA']= df_from_API['Data do Acidente']+df_from_API['Latitude']+df_from_API['Longitude']\n",
    "df_from_API['Index_BALA']"
   ]
  },
  {
   "cell_type": "code",
   "execution_count": 7,
   "metadata": {},
   "outputs": [
    {
     "output_type": "execute_result",
     "data": {
      "text/plain": [
       "0                             2021-02-28-23,5059-46,3962\n",
       "1                             2021-02-28-23,4831-46,4906\n",
       "2                             2021-02-28-23,5183-46,6263\n",
       "3            2021-02-28-23,5823389920506-46,672821094962\n",
       "4                       2021-02-28-23,5281017-46,3965517\n",
       "                              ...                       \n",
       "58735    2015-02-18-23,404111592317488-46,57599535696205\n",
       "58736                     2015-01-15-23,632392-46,472206\n",
       "58737                     2014-12-28-23,555237-46,849214\n",
       "58738                     2014-11-05-23,644498-46,538558\n",
       "58739                     2012-06-15-23,647306-46,778984\n",
       "Name: Index_BALA, Length: 58740, dtype: object"
      ]
     },
     "metadata": {},
     "execution_count": 7
    }
   ],
   "source": [
    "#criando indice dummy no df original\n",
    "df1['Index_BALA']= df1['Data do Acidente']+df1['Latitude']+df1['Longitude']\n",
    "df1['Index_BALA']"
   ]
  },
  {
   "cell_type": "code",
   "execution_count": 8,
   "metadata": {},
   "outputs": [
    {
     "output_type": "stream",
     "name": "stdout",
     "text": [
      "<class 'pandas.core.frame.DataFrame'>\nRangeIndex: 58740 entries, 0 to 58739\nData columns (total 36 columns):\n #   Column                Non-Null Count  Dtype  \n---  ------                --------------  -----  \n 0   Data do Acidente      58740 non-null  object \n 1   Dia                   58740 non-null  int64  \n 2   Mes                   58740 non-null  int64  \n 3   Ano                   58740 non-null  int64  \n 4   Dia da Semana         58740 non-null  object \n 5   Hora do Acidente      58573 non-null  object \n 6   Turno                 58573 non-null  object \n 7   Município             58740 non-null  object \n 8   Jurisdição            58648 non-null  object \n 9   Administração         58198 non-null  object \n 10  Conservação           58197 non-null  object \n 11  Latitude              58740 non-null  object \n 12  Longitude             58740 non-null  object \n 13  Condições Climáticas  48219 non-null  object \n 14  Iluminação            47238 non-null  object \n 15  Mão de direção        46452 non-null  object \n 16  Relevo                46453 non-null  object \n 17  Superfície da via     47178 non-null  object \n 18  Tipo de pavimento     46453 non-null  object \n 19  Tipo de pista         48460 non-null  object \n 20  Traçado               46453 non-null  object \n 21  Tipo de Via           58726 non-null  object \n 22  Acidente Fatal        58740 non-null  int64  \n 23  Mes_sin               58740 non-null  float64\n 24  Mes_cos               58740 non-null  float64\n 25  dias_semana_num       58740 non-null  int64  \n 26  dias_semana_norm      58740 non-null  float64\n 27  dias_semana_sin       58740 non-null  float64\n 28  dias_semana_cos       58740 non-null  float64\n 29  Hora                  58740 non-null  float64\n 30  Minuto                58740 non-null  float64\n 31  Segundo               58740 non-null  float64\n 32  horario_float         58740 non-null  float64\n 33  horario_sin           58740 non-null  float64\n 34  horario_cos           58740 non-null  float64\n 35  Index_BALA            58740 non-null  object \ndtypes: float64(11), int64(5), object(20)\nmemory usage: 16.1+ MB\n"
     ]
    }
   ],
   "source": [
    "df1.info()"
   ]
  },
  {
   "cell_type": "code",
   "execution_count": 7,
   "metadata": {},
   "outputs": [],
   "source": [
    "#criando dict para preencher no df\n",
    "fill_dict = df_from_API.set_index('Index_BALA')['Condições Climáticas'].to_dict()"
   ]
  },
  {
   "cell_type": "code",
   "execution_count": 9,
   "metadata": {},
   "outputs": [],
   "source": [
    "# fill_dict"
   ]
  },
  {
   "cell_type": "code",
   "execution_count": 9,
   "metadata": {},
   "outputs": [],
   "source": [
    "#usando dict map\n",
    "df1.loc[df1['Condições Climáticas'].isnull(), 'Condições Climáticas'] = df1['Index_BALA'].map(fill_dict)"
   ]
  },
  {
   "cell_type": "code",
   "execution_count": 10,
   "metadata": {},
   "outputs": [
    {
     "output_type": "stream",
     "name": "stdout",
     "text": [
      "<class 'pandas.core.frame.DataFrame'>\nRangeIndex: 58740 entries, 0 to 58739\nData columns (total 36 columns):\n #   Column                Non-Null Count  Dtype  \n---  ------                --------------  -----  \n 0   Data do Acidente      58740 non-null  object \n 1   Dia                   58740 non-null  int64  \n 2   Mes                   58740 non-null  int64  \n 3   Ano                   58740 non-null  int64  \n 4   Dia da Semana         58740 non-null  object \n 5   Hora do Acidente      58573 non-null  object \n 6   Turno                 58573 non-null  object \n 7   Município             58740 non-null  object \n 8   Jurisdição            58648 non-null  object \n 9   Administração         58198 non-null  object \n 10  Conservação           58197 non-null  object \n 11  Latitude              58740 non-null  object \n 12  Longitude             58740 non-null  object \n 13  Condições Climáticas  51546 non-null  object \n 14  Iluminação            47238 non-null  object \n 15  Mão de direção        46452 non-null  object \n 16  Relevo                46453 non-null  object \n 17  Superfície da via     47178 non-null  object \n 18  Tipo de pavimento     46453 non-null  object \n 19  Tipo de pista         48460 non-null  object \n 20  Traçado               46453 non-null  object \n 21  Tipo de Via           58726 non-null  object \n 22  Acidente Fatal        58740 non-null  int64  \n 23  Mes_sin               58740 non-null  float64\n 24  Mes_cos               58740 non-null  float64\n 25  dias_semana_num       58740 non-null  int64  \n 26  dias_semana_norm      58740 non-null  float64\n 27  dias_semana_sin       58740 non-null  float64\n 28  dias_semana_cos       58740 non-null  float64\n 29  Hora                  58740 non-null  float64\n 30  Minuto                58740 non-null  float64\n 31  Segundo               58740 non-null  float64\n 32  horario_float         58740 non-null  float64\n 33  horario_sin           58740 non-null  float64\n 34  horario_cos           58740 non-null  float64\n 35  Index_BALA            58740 non-null  object \ndtypes: float64(11), int64(5), object(20)\nmemory usage: 16.1+ MB\n"
     ]
    }
   ],
   "source": [
    "df1.info() #Boa os 3200 dados foram incluidos"
   ]
  },
  {
   "cell_type": "code",
   "execution_count": 20,
   "metadata": {},
   "outputs": [],
   "source": [
    "#dropando colunas que não precisaremos mais\n",
    "df1.drop(columns=['Data do Acidente','Hora do Acidente','Index_BALA'],axis=1,inplace=True)"
   ]
  },
  {
   "cell_type": "code",
   "execution_count": 21,
   "metadata": {},
   "outputs": [
    {
     "output_type": "stream",
     "name": "stdout",
     "text": [
      "<class 'pandas.core.frame.DataFrame'>\nRangeIndex: 58740 entries, 0 to 58739\nData columns (total 33 columns):\n #   Column                Non-Null Count  Dtype  \n---  ------                --------------  -----  \n 0   Dia                   58740 non-null  int64  \n 1   Mes                   58740 non-null  int64  \n 2   Ano                   58740 non-null  int64  \n 3   Dia da Semana         58740 non-null  object \n 4   Turno                 58573 non-null  object \n 5   Município             58740 non-null  object \n 6   Jurisdição            58648 non-null  object \n 7   Administração         58198 non-null  object \n 8   Conservação           58197 non-null  object \n 9   Latitude              58740 non-null  object \n 10  Longitude             58740 non-null  object \n 11  Condições Climáticas  51546 non-null  object \n 12  Iluminação            47238 non-null  object \n 13  Mão de direção        46452 non-null  object \n 14  Relevo                46453 non-null  object \n 15  Superfície da via     47178 non-null  object \n 16  Tipo de pavimento     46453 non-null  object \n 17  Tipo de pista         48460 non-null  object \n 18  Traçado               46453 non-null  object \n 19  Tipo de Via           58726 non-null  object \n 20  Acidente Fatal        58740 non-null  int64  \n 21  Mes_sin               58740 non-null  float64\n 22  Mes_cos               58740 non-null  float64\n 23  dias_semana_num       58740 non-null  int64  \n 24  dias_semana_norm      58740 non-null  float64\n 25  dias_semana_sin       58740 non-null  float64\n 26  dias_semana_cos       58740 non-null  float64\n 27  Hora                  58740 non-null  float64\n 28  Minuto                58740 non-null  float64\n 29  Segundo               58740 non-null  float64\n 30  horario_float         58740 non-null  float64\n 31  horario_sin           58740 non-null  float64\n 32  horario_cos           58740 non-null  float64\ndtypes: float64(11), int64(5), object(17)\nmemory usage: 14.8+ MB\n"
     ]
    }
   ],
   "source": [
    "df1.info()"
   ]
  },
  {
   "source": [
    "PREENCHEDO SUPERFICIE DA VIA"
   ],
   "cell_type": "markdown",
   "metadata": {}
  },
  {
   "cell_type": "code",
   "execution_count": 15,
   "metadata": {},
   "outputs": [
    {
     "output_type": "execute_result",
     "data": {
      "text/plain": [
       "array([nan, 'MOLHADA', 'SECA', 'OLEOSA', 'OUTRAS', 'INUNDADA',\n",
       "       'ENLAMEADA'], dtype=object)"
      ]
     },
     "metadata": {},
     "execution_count": 15
    }
   ],
   "source": [
    "df1['Superfície da via'].unique()"
   ]
  },
  {
   "cell_type": "code",
   "execution_count": 13,
   "metadata": {},
   "outputs": [
    {
     "output_type": "execute_result",
     "data": {
      "text/plain": [
       "      Superfície da via Condições Climáticas\n",
       "0                   NaN                  NaN\n",
       "1                   NaN                  NaN\n",
       "2                   NaN                  NaN\n",
       "3               MOLHADA                  BOM\n",
       "4                  SECA                  BOM\n",
       "...                 ...                  ...\n",
       "58735               NaN              NUBLADO\n",
       "58736               NaN              NUBLADO\n",
       "58737               NaN                  BOM\n",
       "58738               NaN              NUBLADO\n",
       "58739               NaN              NUBLADO\n",
       "\n",
       "[58740 rows x 2 columns]"
      ],
      "text/html": "<div>\n<style scoped>\n    .dataframe tbody tr th:only-of-type {\n        vertical-align: middle;\n    }\n\n    .dataframe tbody tr th {\n        vertical-align: top;\n    }\n\n    .dataframe thead th {\n        text-align: right;\n    }\n</style>\n<table border=\"1\" class=\"dataframe\">\n  <thead>\n    <tr style=\"text-align: right;\">\n      <th></th>\n      <th>Superfície da via</th>\n      <th>Condições Climáticas</th>\n    </tr>\n  </thead>\n  <tbody>\n    <tr>\n      <th>0</th>\n      <td>NaN</td>\n      <td>NaN</td>\n    </tr>\n    <tr>\n      <th>1</th>\n      <td>NaN</td>\n      <td>NaN</td>\n    </tr>\n    <tr>\n      <th>2</th>\n      <td>NaN</td>\n      <td>NaN</td>\n    </tr>\n    <tr>\n      <th>3</th>\n      <td>MOLHADA</td>\n      <td>BOM</td>\n    </tr>\n    <tr>\n      <th>4</th>\n      <td>SECA</td>\n      <td>BOM</td>\n    </tr>\n    <tr>\n      <th>...</th>\n      <td>...</td>\n      <td>...</td>\n    </tr>\n    <tr>\n      <th>58735</th>\n      <td>NaN</td>\n      <td>NUBLADO</td>\n    </tr>\n    <tr>\n      <th>58736</th>\n      <td>NaN</td>\n      <td>NUBLADO</td>\n    </tr>\n    <tr>\n      <th>58737</th>\n      <td>NaN</td>\n      <td>BOM</td>\n    </tr>\n    <tr>\n      <th>58738</th>\n      <td>NaN</td>\n      <td>NUBLADO</td>\n    </tr>\n    <tr>\n      <th>58739</th>\n      <td>NaN</td>\n      <td>NUBLADO</td>\n    </tr>\n  </tbody>\n</table>\n<p>58740 rows × 2 columns</p>\n</div>"
     },
     "metadata": {},
     "execution_count": 13
    }
   ],
   "source": [
    "df1[['Superfície da via','Condições Climáticas']]"
   ]
  },
  {
   "cell_type": "code",
   "execution_count": 14,
   "metadata": {},
   "outputs": [
    {
     "output_type": "execute_result",
     "data": {
      "text/plain": [
       "array([nan, 'BOM', 'CHUVA', 'NUBLADO', 'NEVOEIRO/NEBLINA', 'URBANA',\n",
       "       'VENTO'], dtype=object)"
      ]
     },
     "metadata": {},
     "execution_count": 14
    }
   ],
   "source": [
    "df1['Condições Climáticas'].unique()"
   ]
  },
  {
   "cell_type": "code",
   "execution_count": 16,
   "metadata": {},
   "outputs": [],
   "source": [
    "def fill_sup(sup,clima):\n",
    "    if sup.isnull():\n",
    "        if clima=='BOM':\n",
    "            sup='SECA'\n",
    "        if clima=='NUBLADO':\n",
    "            sup='SECA'\n",
    "        if clima=='NEVOEIRO/NEBLINA':\n",
    "            sup='SECA'\n",
    "        if clima=='CHUVA':\n",
    "            sup='MOLHADA'\n",
    "    return sup"
   ]
  },
  {
   "cell_type": "code",
   "execution_count": null,
   "metadata": {},
   "outputs": [],
   "source": [
    "df1=df1.apply()"
   ]
  }
 ]
}