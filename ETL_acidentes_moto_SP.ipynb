{
 "metadata": {
  "language_info": {
   "codemirror_mode": {
    "name": "ipython",
    "version": 3
   },
   "file_extension": ".py",
   "mimetype": "text/x-python",
   "name": "python",
   "nbconvert_exporter": "python",
   "pygments_lexer": "ipython3",
   "version": "3.8.8"
  },
  "orig_nbformat": 2,
  "kernelspec": {
   "name": "python388jvsc74a57bd054aafdb36ba7a57007c1052e291baf553a31e85cae918a266292c7469c0efefb",
   "display_name": "Python 3.8.8 64-bit ('Data_Science': conda)"
  },
  "metadata": {
   "interpreter": {
    "hash": "2a9f720e6a62a7259ca32e3408fa975e050820b0948c8c8b8911a33c10066d03"
   }
  }
 },
 "nbformat": 4,
 "nbformat_minor": 2,
 "cells": [
  {
   "source": [
    "import pandas as pd\n",
    "import numpy as np\n",
    "import matplotlib.pyplot as plt \n",
    "import seaborn as sns"
   ],
   "cell_type": "code",
   "metadata": {},
   "execution_count": 1,
   "outputs": []
  },
  {
   "cell_type": "code",
   "execution_count": 2,
   "metadata": {},
   "outputs": [
    {
     "output_type": "stream",
     "name": "stderr",
     "text": [
      "C:\\Users\\Renato\\anaconda3\\envs\\Data_Science\\lib\\site-packages\\openpyxl\\styles\\stylesheet.py:221: UserWarning: Workbook contains no default style, apply openpyxl's default\n  warn(\"Workbook contains no default style, apply openpyxl's default\")\n"
     ]
    }
   ],
   "source": [
    "#importando datasets http://www.respeitoavida.sp.gov.br/relatorios/\n",
    "df_obitos_raw=pd.read_csv(r'C:\\Users\\Renato\\OneDrive\\Projeto_TERA\\Predição Acidentes Motocicleta\\Datasets\\obitos_publico.csv',encoding='unicode_escape',sep=';')\n",
    "df_nao_fatais_raw = pd.read_csv(r'C:\\Users\\Renato\\OneDrive\\Projeto_TERA\\Predição Acidentes Motocicleta\\Datasets\\acidentes_naofatais.csv',encoding='unicode_escape',sep=';')\n",
    "df_fatais_raw = pd.read_excel(r'C:\\Users\\Renato\\OneDrive\\Projeto_TERA\\Predição Acidentes Motocicleta\\Datasets\\acidentes_fatais.xlsx')\n",
    "# df_fatais_rod_raw = pd.read_excel('acidentes_fatais_rodovias.xlsx') # Este df já está incluso no de cima"
   ]
  },
  {
   "cell_type": "code",
   "execution_count": 28,
   "metadata": {},
   "outputs": [
    {
     "output_type": "execute_result",
     "data": {
      "text/plain": [
       "(34657, 34)"
      ]
     },
     "metadata": {},
     "execution_count": 28
    }
   ],
   "source": [
    "df_obitos_raw.shape"
   ]
  },
  {
   "cell_type": "code",
   "execution_count": 3,
   "metadata": {},
   "outputs": [],
   "source": [
    "#checando duplicatas\n",
    "df_obitos_raw.duplicated().value_counts() #achado 97 linhas duplicadas (os outros df's não tem duplicatas)\n",
    "df_obitos_raw = df_obitos_raw.drop_duplicates()#dropando as 97 duplicatas, temos 34657 linhas"
   ]
  },
  {
   "cell_type": "code",
   "execution_count": null,
   "metadata": {},
   "outputs": [],
   "source": []
  },
  {
   "cell_type": "code",
   "execution_count": 4,
   "metadata": {},
   "outputs": [],
   "source": [
    "#SABENDO QUE TEMOS 3 DATAFRAMES, A IDEIA É JUNTAR TODOS E TER UMA COLUNA QUE CLASSIFICA SE O ACIDENTE FOI LETAL OU NÃO."
   ]
  },
  {
   "cell_type": "code",
   "execution_count": 5,
   "metadata": {},
   "outputs": [],
   "source": [
    "# Criando Dataframes para trabalhar\n",
    "df_nao_fatais = df_nao_fatais_raw.copy()\n",
    "\n",
    "df_fatais = df_fatais_raw.copy()#NAO TEMOS COMO FILTRAR POR MOTOCILCETA POIS NAO TEM ESSA COLUNA!!!!\n",
    "\n",
    "df_obitos = df_obitos_raw.copy()#AQUI CONSEGUIMOS FILTRAR POR MOTOCICLETA"
   ]
  },
  {
   "cell_type": "code",
   "execution_count": 6,
   "metadata": {},
   "outputs": [
    {
     "output_type": "execute_result",
     "data": {
      "text/plain": [
       "Index(['ID', 'Id Delegacia (RDO)', 'Número BO (RDO)', 'Ano BO (RDO)',\n",
       "       'Data do Acidente', 'Dia do Acidente', 'Mês do Acidente',\n",
       "       'Ano do Acidente', 'Ano/Mês do Acidente', 'Dia da semana',\n",
       "       'Hora do Acidente', 'Turno', 'Município', 'Região Administrativa',\n",
       "       'Logradouro', 'Numeral / KM', 'Jurisdição', 'Administração',\n",
       "       'Conservação', 'Tipo do Local do Acidente', 'Lat (GEO)', 'Long (GEO)',\n",
       "       'Iluminação da via (SIOPM)', 'Superfície da Via (SIOPM)',\n",
       "       'Tipo de pista (SIOPM)', 'Outro Veículo Envolvido', 'Tipo de via',\n",
       "       'Condições Climáticas (SIOPM)', 'Sentido da Via (SIOPM)',\n",
       "       'Limite da velocidade da via (SIOPM)', 'Quantidade de vítimas',\n",
       "       'Tempo entre o Acidente e as Mortes'],\n",
       "      dtype='object')"
      ]
     },
     "metadata": {},
     "execution_count": 6
    }
   ],
   "source": [
    "df_fatais.columns"
   ]
  },
  {
   "cell_type": "code",
   "execution_count": 7,
   "metadata": {},
   "outputs": [
    {
     "output_type": "execute_result",
     "data": {
      "text/plain": [
       "Index(['ID', 'Data do Acidente', 'Dia do Acidente', 'Mês do Acidente',\n",
       "       'Ano do Acidente', 'Ano/Mês do Acidente', 'Dia da Semana',\n",
       "       'Hora do Acidente', 'Turno', 'Município', 'Região Administrativa',\n",
       "       'Logradouro', 'Numero/KM', 'Jurisdição', 'Administração', 'Conservação',\n",
       "       'LAT_(GEO)', 'LONG_(GEO)', 'Condições da pista', 'Condições Climáticas',\n",
       "       'Iluminação', 'Mão de direção', 'Obras na pista', 'Relevo',\n",
       "       'Superfície da via', 'Tipo de pavimento', 'Tipo de pista', 'Traçado',\n",
       "       'Veículos Envolvidos - Bicicleta', 'Veículos Envolvidos - Caminhão',\n",
       "       'Veículos Envolvidos - Automóvel', 'Veículos Envolvidos - Outros',\n",
       "       'Veículos Envolvidos - Motocicleta', 'Veículos Envolvidos - Ônibus',\n",
       "       'Veículos Envolvidos - ND', 'Veículos Envolvidos - Pedestre',\n",
       "       'Pessoas Envolvidas - Grave', 'Pessoas Envolvidas - Ileso',\n",
       "       'Pessoas Envolvidas - Leve', 'Pessoas Envolvidas - Fatal',\n",
       "       'Pessoas Envolvidas - Feridos', 'Pessoas Envolvidas - ND',\n",
       "       'Serviço de Atendimento - Bombeiro', 'Serviço de Atendimento - PMRV',\n",
       "       'Serviço de Atendimento - PRF',\n",
       "       'Serviço de Atendimento - Radio Patrulha',\n",
       "       'Servciço de Atendimento - CPTRAN', 'Tipo de Via',\n",
       "       'Tipo de Acidente - Atropelamento', 'Tipo de Acidente - Choque',\n",
       "       'Tipo de Acidente - Colisão',\n",
       "       'Tipo de Acidente - Outros tipos de Acidente', 'Tipo de Acidente - ND',\n",
       "       'Turno + Dia de Semana', 'Tempo entre o Acidente e as Mortes'],\n",
       "      dtype='object')"
      ]
     },
     "metadata": {},
     "execution_count": 7
    }
   ],
   "source": [
    "df_nao_fatais.columns"
   ]
  },
  {
   "cell_type": "code",
   "execution_count": 8,
   "metadata": {},
   "outputs": [
    {
     "output_type": "execute_result",
     "data": {
      "text/plain": [
       "Index(['Id da Delegacia (RDO)', 'Número do Bo (RDO)', 'Ano do BO (RDO)',\n",
       "       'Data do Óbito', 'Data do Acidente', 'Tipo de via', 'Dia do óbito',\n",
       "       'Mês do Óbito', 'Mês Óbito Descrição', 'Ano do Óbito',\n",
       "       'Ano/Mês do Óbito', 'Dia da Semana', 'Hora do Acidente', 'Turno',\n",
       "       'Município', 'Região Administrativa', 'Logradouro', 'Númeral / KM',\n",
       "       'Jurisdição', 'Administração', 'Conservação',\n",
       "       'Tipo do local da ocorrência', 'LAT_(GEO)', 'LONG_(GEO)',\n",
       "       'Tipo do veículo da vítima', 'Tipo de vítima', 'Local do óbito',\n",
       "       'Tipo de acidente', 'Sub Tipo do Acidente', 'Sexo', 'Faixa etária',\n",
       "       'Idade da vítima', 'Outro Veículo Envolvido',\n",
       "       'Tempo entre o Acidente e o Óbito'],\n",
       "      dtype='object')"
      ]
     },
     "metadata": {},
     "execution_count": 8
    }
   ],
   "source": [
    "df_obitos.columns"
   ]
  },
  {
   "cell_type": "code",
   "execution_count": 9,
   "metadata": {},
   "outputs": [],
   "source": [
    "# NAO FATAIS\n",
    "#tratando as coordenadas geográficas\n",
    "df_nao_fatais = df_nao_fatais[df_nao_fatais['LAT_(GEO)']!='NAO DISPONIVEL']  #dropando mais de 35k linhas sem latitude e longitude de 377k, DISCUTIR ISSO!\n",
    "df_nao_fatais = df_nao_fatais[df_nao_fatais['LONG_(GEO)']!='NAO DISPONIVEL'] \n",
    "df_nao_fatais['LAT_(GEO)'] = df_nao_fatais['LAT_(GEO)'].str.replace(',','.') #susbstituindo ',' por '.' \n",
    "df_nao_fatais['LAT_(GEO)'] = df_nao_fatais['LAT_(GEO)'].astype(float)#transformando pra float\n",
    "df_nao_fatais['LONG_(GEO)'] = df_nao_fatais['LONG_(GEO)'].str.replace(',','.') #susbstituindo ',' por '.'\n",
    "df_nao_fatais['LONG_(GEO)'] = df_nao_fatais['LONG_(GEO)'].astype(float)#transformando pra float\n",
    "\n",
    "#alterando nomes de colunas\n",
    "df_nao_fatais.rename(columns={'LAT_(GEO)':'LATITUDE','LONG_(GEO)':'LONGITUDE','Condições da pista':'Tipo de pista (SIOPM)','Iluminação':'Iluminação da via','Superfície da via':'Superfície da Via'}, inplace=True)\n",
    "\n",
    "#alterando tipos de variáveis\n",
    "df_nao_fatais['Data do Acidente'] = pd.to_datetime(df_nao_fatais['Data do Acidente'],format='%Y-%m-%d')#,errors='coerce'\n",
    "df_nao_fatais['Ano do Acidente'] = pd.to_datetime(df_nao_fatais['Ano do Acidente'],format='%Y')\n",
    "df_nao_fatais['Dia do Acidente'] = pd.to_datetime(df_nao_fatais['Dia do Acidente'],format='%d')\n"
   ]
  },
  {
   "cell_type": "code",
   "execution_count": 10,
   "metadata": {},
   "outputs": [],
   "source": [
    "# Filtros: Motocicleta, Metropolitana São Paulo, Entre 2019 e 2020\n",
    "df_nao_fatais_sp_moto = df_nao_fatais.loc[df_nao_fatais['Veículos Envolvidos - Motocicleta']==1] #de 377k, 153k é moto\n",
    "df_nao_fatais_sp_moto = df_nao_fatais_sp_moto.loc[df_nao_fatais_sp_moto['Região Administrativa']=='Metropolitana de São Paulo']# dos 153k, 54692 é SP\n",
    "df_nao_fatais_sp_moto = df_nao_fatais_sp_moto.loc[df_nao_fatais_sp_moto['Data do Acidente']>='2019-01-01']\n",
    "df_nao_fatais_sp_moto = df_nao_fatais_sp_moto.loc[df_nao_fatais_sp_moto['Data do Acidente']<='2020-12-31']"
   ]
  },
  {
   "cell_type": "code",
   "execution_count": 11,
   "metadata": {},
   "outputs": [],
   "source": [
    "#FATAIS\n",
    "#tratando as coordenadas geográficas\n",
    "df_fatais = df_fatais[df_fatais['Lat (GEO)']!='NAO DISPONIVEL'] #dropando mais de 3k linhas sem latitude e longitude, DISCUTIR ISSO!\n",
    "df_fatais = df_fatais[df_fatais['Long (GEO)']!='NAO DISPONIVEL']\n",
    "df_fatais['Lat (GEO)'] = df_fatais['Lat (GEO)'].str.replace(',','.') #susbstituindo ',' por '.' \n",
    "df_fatais['Lat (GEO)'] = df_fatais['Lat (GEO)'].astype(float)#transformando pra float\n",
    "df_fatais['Long (GEO)'] = df_fatais['Long (GEO)'].str.replace(',','.') #susbstituindo ',' por '.' \n",
    "df_fatais['Long (GEO)'] = df_fatais['Long (GEO)'].astype(float)#transformando pra float\n",
    "\n",
    "#alterando nomes de colunas\n",
    "df_fatais.rename(columns={'Lat (GEO)':'LATITUDE','Long (GEO)':'LONGITUDE','Id Delegacia (RDO)':'ID Delegacia','Número BO (RDO)':'Número BO','Ano BO (RDO)':'Ano BO','Tipo de via':'Tipo de Via','Dia da semana':'Dia da Semana','Condições Climáticas (SIOPM)':'Condições Climáticas','Iluminação da via (SIOPM)':'Iluminação da via','Superfície da Via (SIOPM)':'Superfície da Via'}, inplace=True)\n",
    "\n",
    "#alterando tipos de variáveis\n",
    "df_fatais.loc[31790,'Data do Acidente']='2020-02-27'\n",
    "df_fatais['Data do Acidente'] = pd.to_datetime(df_fatais['Data do Acidente'],format='%Y-%m-%d')#,errors='coerce'\n",
    "df_fatais.loc[31790, 'Ano do Acidente']='2020'\n",
    "df_fatais['Ano do Acidente'] = pd.to_datetime(df_fatais['Ano do Acidente'],format='%Y')\n",
    "df_fatais['Dia do Acidente'] = pd.to_datetime(df_fatais['Dia do Acidente'],format='%d')"
   ]
  },
  {
   "cell_type": "code",
   "execution_count": 12,
   "metadata": {},
   "outputs": [],
   "source": [
    "# Filtros: Metropolitana São Paulo, Entre 2019 e 2020\n",
    "df_fatais_sp = df_fatais.loc[df_fatais['Região Administrativa']=='Metropolitana de São Paulo']\n",
    "df_fatais_sp = df_fatais_sp.loc[df_fatais_sp['Data do Acidente']>='2019-01-01']#dos 9k na regiado de SP, ficamos com 2,7k >=2019\n",
    "df_fatais_sp = df_fatais_sp.loc[df_fatais_sp['Data do Acidente']<='2020-12-31']# parece que nao tem dados >31-dez-2020, estranho"
   ]
  },
  {
   "cell_type": "code",
   "execution_count": 13,
   "metadata": {},
   "outputs": [],
   "source": [
    "#ÓBITOS PUBLICO\n",
    "#tratando as coordenadas geográficas\n",
    "df_obitos = df_obitos[df_obitos['LAT_(GEO)']!='NAO DISPONIVEL'] #dropando mais de 3k linhas sem latitude e longitude, DISCUTIR ISSO!\n",
    "df_obitos = df_obitos[df_obitos['LONG_(GEO)']!='NAO DISPONIVEL']\n",
    "df_obitos['LAT_(GEO)'] = df_obitos['LAT_(GEO)'].str.replace(',','.') #susbstituindo ',' por '.' \n",
    "df_obitos['LAT_(GEO)'] = df_obitos['LAT_(GEO)'].astype(float)#transformando pra float\n",
    "df_obitos['LONG_(GEO)'] = df_obitos['LONG_(GEO)'].str.replace(',','.') #susbstituindo ',' por '.' \n",
    "df_obitos['LONG_(GEO)'] = df_obitos['LONG_(GEO)'].astype(float)#transformando pra float\n",
    "\n",
    "#alterando nomes de colunas\n",
    "df_obitos.rename(columns={'LAT_(GEO)':'LATITUDE','LONG_(GEO)':'LONGITUDE','Id da Delegacia (RDO)':'ID Delegacia','Número do Bo (RDO)':'Número BO','Ano do BO (RDO)':'Ano BO','Tipo de via':'Tipo de Via'}, inplace=True)\n",
    "\n",
    "#alterando tipos de variáveis\n",
    "df_obitos['Data do Acidente'] = pd.to_datetime(df_obitos['Data do Acidente'],errors='coerce')"
   ]
  },
  {
   "cell_type": "code",
   "execution_count": 14,
   "metadata": {},
   "outputs": [
    {
     "output_type": "execute_result",
     "data": {
      "text/plain": [
       "Index(['ID Delegacia', 'Número BO', 'Ano BO', 'Data do Óbito',\n",
       "       'Data do Acidente', 'Tipo de Via', 'Dia do óbito', 'Mês do Óbito',\n",
       "       'Mês Óbito Descrição', 'Ano do Óbito', 'Ano/Mês do Óbito',\n",
       "       'Dia da Semana', 'Hora do Acidente', 'Turno', 'Município',\n",
       "       'Região Administrativa', 'Logradouro', 'Númeral / KM', 'Jurisdição',\n",
       "       'Administração', 'Conservação', 'Tipo do local da ocorrência',\n",
       "       'LATITUDE', 'LONGITUDE', 'Tipo do veículo da vítima', 'Tipo de vítima',\n",
       "       'Local do óbito', 'Tipo de acidente', 'Sub Tipo do Acidente', 'Sexo',\n",
       "       'Faixa etária', 'Idade da vítima', 'Outro Veículo Envolvido',\n",
       "       'Tempo entre o Acidente e o Óbito'],\n",
       "      dtype='object')"
      ]
     },
     "metadata": {},
     "execution_count": 14
    }
   ],
   "source": [
    "df_obitos.columns"
   ]
  },
  {
   "cell_type": "code",
   "execution_count": 15,
   "metadata": {},
   "outputs": [],
   "source": [
    "# Filtrando região metropolitana de SP\n",
    "df_obitos_sp = df_obitos.loc[df_obitos['Região Administrativa']=='Metropolitana de São Paulo']\n",
    "df_obitos_sp = df_obitos_sp.loc[df_obitos_sp['Data do Acidente']>='2019-01-01']\n",
    "df_obitos_sp = df_obitos_sp.loc[df_obitos_sp['Data do Acidente']<='2020-12-31']"
   ]
  },
  {
   "cell_type": "code",
   "execution_count": 16,
   "metadata": {},
   "outputs": [],
   "source": [
    "#objetivo é saber quais acidentes fatais foram de motociclistas!!"
   ]
  },
  {
   "cell_type": "code",
   "execution_count": 17,
   "metadata": {},
   "outputs": [],
   "source": [
    "df_fatais_sp_merged = df_fatais_sp.merge(df_obitos_sp,\n",
    "left_on=['Número BO','Data do Acidente','LATITUDE','ID Delegacia','Ano BO','Hora do Acidente','Turno','Município','Região Administrativa','LONGITUDE','Jurisdição','Administração','Conservação','Outro Veículo Envolvido','Tipo de Via','Logradouro','Dia da Semana'],\n",
    "right_on=['Número BO','Data do Acidente','LATITUDE','ID Delegacia','Ano BO','Hora do Acidente','Turno','Município','Região Administrativa','LONGITUDE','Jurisdição','Administração','Conservação','Outro Veículo Envolvido','Tipo de Via','Logradouro','Dia da Semana']) \n",
    "#com as 3 primeiras condições temos um novo df do mesmo tamanho do df obitos...porém coloquei mais condições para as colunas nao sairem duplicadas"
   ]
  },
  {
   "cell_type": "code",
   "execution_count": 18,
   "metadata": {},
   "outputs": [
    {
     "output_type": "stream",
     "name": "stdout",
     "text": [
      "<class 'pandas.core.frame.DataFrame'>\nInt64Index: 2888 entries, 0 to 2887\nData columns (total 49 columns):\n #   Column                               Non-Null Count  Dtype         \n---  ------                               --------------  -----         \n 0   ID                                   2888 non-null   int64         \n 1   ID Delegacia                         2888 non-null   int64         \n 2   Número BO                            2888 non-null   int64         \n 3   Ano BO                               2888 non-null   int64         \n 4   Data do Acidente                     2888 non-null   datetime64[ns]\n 5   Dia do Acidente                      2888 non-null   datetime64[ns]\n 6   Mês do Acidente                      2888 non-null   object        \n 7   Ano do Acidente                      2888 non-null   datetime64[ns]\n 8   Ano/Mês do Acidente                  2888 non-null   float64       \n 9   Dia da Semana                        2888 non-null   object        \n 10  Hora do Acidente                     2888 non-null   object        \n 11  Turno                                2888 non-null   object        \n 12  Município                            2888 non-null   object        \n 13  Região Administrativa                2888 non-null   object        \n 14  Logradouro                           2888 non-null   object        \n 15  Numeral / KM                         2888 non-null   object        \n 16  Jurisdição                           2888 non-null   object        \n 17  Administração                        2888 non-null   object        \n 18  Conservação                          2888 non-null   object        \n 19  Tipo do Local do Acidente            2888 non-null   object        \n 20  LATITUDE                             2888 non-null   float64       \n 21  LONGITUDE                            2888 non-null   float64       \n 22  Iluminação da via                    2888 non-null   object        \n 23  Superfície da Via                    2888 non-null   object        \n 24  Tipo de pista (SIOPM)                2888 non-null   object        \n 25  Outro Veículo Envolvido              2888 non-null   object        \n 26  Tipo de Via                          2888 non-null   object        \n 27  Condições Climáticas                 2888 non-null   object        \n 28  Sentido da Via (SIOPM)               2888 non-null   object        \n 29  Limite da velocidade da via (SIOPM)  2888 non-null   object        \n 30  Quantidade de vítimas                2888 non-null   int64         \n 31  Tempo entre o Acidente e as Mortes   2888 non-null   object        \n 32  Data do Óbito                        2888 non-null   object        \n 33  Dia do óbito                         2888 non-null   int64         \n 34  Mês do Óbito                         2888 non-null   int64         \n 35  Mês Óbito Descrição                  2888 non-null   object        \n 36  Ano do Óbito                         2888 non-null   int64         \n 37  Ano/Mês do Óbito                     2888 non-null   float64       \n 38  Númeral / KM                         2888 non-null   object        \n 39  Tipo do local da ocorrência          2888 non-null   object        \n 40  Tipo do veículo da vítima            2888 non-null   object        \n 41  Tipo de vítima                       2888 non-null   object        \n 42  Local do óbito                       2888 non-null   object        \n 43  Tipo de acidente                     2888 non-null   object        \n 44  Sub Tipo do Acidente                 2888 non-null   object        \n 45  Sexo                                 2888 non-null   object        \n 46  Faixa etária                         2888 non-null   object        \n 47  Idade da vítima                      2888 non-null   object        \n 48  Tempo entre o Acidente e o Óbito     2888 non-null   object        \ndtypes: datetime64[ns](3), float64(4), int64(8), object(34)\nmemory usage: 1.1+ MB\n"
     ]
    }
   ],
   "source": [
    "df_fatais_sp_merged.info()"
   ]
  },
  {
   "cell_type": "code",
   "execution_count": 19,
   "metadata": {},
   "outputs": [],
   "source": [
    "#FILTRANDO O NOVO DF POR MOTOCICLETA\n",
    "df_fatais_sp_moto_merged = df_fatais_sp_merged[df_fatais_sp_merged['Tipo do veículo da vítima']=='MOTOCICLETA']"
   ]
  },
  {
   "cell_type": "code",
   "execution_count": 20,
   "metadata": {},
   "outputs": [],
   "source": [
    "#agora precisamos dropar as colunas que não iremos usar na junção dos DF's fatais e não fatais.\n",
    "df_nao_fatais_sp_moto = df_nao_fatais_sp_moto.drop(columns=\n",
    "['ID','Ano/Mês do Acidente','Região Administrativa',\n",
    "       'Logradouro', 'Numero/KM', 'Jurisdição', 'Administração', \n",
    "       'Mão de direção', 'Obras na pista', 'Relevo', 'Tipo de pavimento', 'Traçado','Tipo de pista',\n",
    "       'Veículos Envolvidos - Bicicleta', 'Veículos Envolvidos - Caminhão',\n",
    "       'Veículos Envolvidos - Automóvel', 'Veículos Envolvidos - Outros',\n",
    "       'Veículos Envolvidos - Motocicleta', 'Veículos Envolvidos - Ônibus',\n",
    "       'Veículos Envolvidos - ND', 'Veículos Envolvidos - Pedestre',\n",
    "       'Serviço de Atendimento - Bombeiro', 'Serviço de Atendimento - PMRV',\n",
    "       'Serviço de Atendimento - PRF','Pessoas Envolvidas - Fatal',\n",
    "       'Serviço de Atendimento - Radio Patrulha',\n",
    "       'Servciço de Atendimento - CPTRAN',\n",
    "       'Tipo de Acidente - Atropelamento', 'Tipo de Acidente - Choque',\n",
    "       'Tipo de Acidente - Colisão',\n",
    "       'Tipo de Acidente - Outros tipos de Acidente', 'Tipo de Acidente - ND',\n",
    "       'Turno + Dia de Semana', 'Tempo entre o Acidente e as Mortes'])"
   ]
  },
  {
   "cell_type": "code",
   "execution_count": 21,
   "metadata": {},
   "outputs": [],
   "source": [
    "df_fatais_sp_moto_merged = df_fatais_sp_moto_merged.drop(columns=[\n",
    "    'ID', 'ID Delegacia', 'Número BO', 'Ano BO',\n",
    "       'Ano/Mês do Acidente',\n",
    "       'Região Administrativa', 'Logradouro', 'Numeral / KM',\n",
    "       'Jurisdição', 'Administração','Tipo do Local do Acidente', 'Outro Veículo Envolvido', 'Sentido da Via (SIOPM)',\n",
    "       'Limite da velocidade da via (SIOPM)', 'Quantidade de vítimas',\n",
    "       'Tempo entre o Acidente e as Mortes', 'Data do Óbito', 'Dia do óbito',\n",
    "       'Mês do Óbito', 'Mês Óbito Descrição', 'Ano do Óbito',\n",
    "       'Ano/Mês do Óbito', 'Númeral / KM',\n",
    "       'Tipo do local da ocorrência', 'Tipo do veículo da vítima',\n",
    "       'Tipo de vítima', 'Local do óbito', 'Tipo de acidente',\n",
    "       'Sub Tipo do Acidente', 'Sexo', 'Faixa etária', 'Idade da vítima',\n",
    "       'Tempo entre o Acidente e o Óbito'])"
   ]
  },
  {
   "cell_type": "code",
   "execution_count": 22,
   "metadata": {},
   "outputs": [],
   "source": [
    "#criando o label fatal e não fatal e concatenando\n",
    "df_fatais_sp_moto_merged['Acidente Fatal']=1\n",
    "df_fatais_sp_moto_merged['Acidente Não Fatal']=0\n",
    "df_nao_fatais_sp_moto['Acidente Fatal']=0\n",
    "df_nao_fatais_sp_moto['Acidente Não Fatal']=1\n",
    "\n",
    "#concat\n",
    "df_acidentes_sp_moto = pd.concat([df_nao_fatais_sp_moto,df_fatais_sp_moto_merged])\n",
    "\n",
    "#fillna\n",
    "df_acidentes_sp_moto[['Pessoas Envolvidas - Grave','Pessoas Envolvidas - Ileso','Pessoas Envolvidas - Leve','Pessoas Envolvidas - Feridos','Pessoas Envolvidas - ND']] = df_acidentes_sp_moto[['Pessoas Envolvidas - Grave','Pessoas Envolvidas - Ileso','Pessoas Envolvidas - Leve','Pessoas Envolvidas - Feridos','Pessoas Envolvidas - ND']].fillna(value=0)\n"
   ]
  },
  {
   "cell_type": "code",
   "execution_count": 23,
   "metadata": {},
   "outputs": [
    {
     "output_type": "stream",
     "name": "stdout",
     "text": [
      "<class 'pandas.core.frame.DataFrame'>\nInt64Index: 52130 entries, 27347 to 2887\nData columns (total 23 columns):\n #   Column                        Non-Null Count  Dtype         \n---  ------                        --------------  -----         \n 0   Data do Acidente              52130 non-null  datetime64[ns]\n 1   Dia do Acidente               52130 non-null  datetime64[ns]\n 2   Mês do Acidente               52130 non-null  object        \n 3   Ano do Acidente               52130 non-null  datetime64[ns]\n 4   Dia da Semana                 52130 non-null  object        \n 5   Hora do Acidente              52130 non-null  object        \n 6   Turno                         52130 non-null  object        \n 7   Município                     52130 non-null  object        \n 8   Conservação                   52130 non-null  object        \n 9   LATITUDE                      52130 non-null  float64       \n 10  LONGITUDE                     52130 non-null  float64       \n 11  Tipo de pista (SIOPM)         52130 non-null  object        \n 12  Condições Climáticas          52130 non-null  object        \n 13  Iluminação da via             52130 non-null  object        \n 14  Superfície da Via             52130 non-null  object        \n 15  Pessoas Envolvidas - Grave    52130 non-null  float64       \n 16  Pessoas Envolvidas - Ileso    52130 non-null  float64       \n 17  Pessoas Envolvidas - Leve     52130 non-null  float64       \n 18  Pessoas Envolvidas - Feridos  52130 non-null  float64       \n 19  Pessoas Envolvidas - ND       52130 non-null  float64       \n 20  Tipo de Via                   52130 non-null  object        \n 21  Acidente Fatal                52130 non-null  int64         \n 22  Acidente Não Fatal            52130 non-null  int64         \ndtypes: datetime64[ns](3), float64(7), int64(2), object(11)\nmemory usage: 9.5+ MB\n"
     ]
    }
   ],
   "source": [
    "df_acidentes_sp_moto.info()"
   ]
  },
  {
   "cell_type": "code",
   "execution_count": 24,
   "metadata": {},
   "outputs": [
    {
     "output_type": "execute_result",
     "data": {
      "text/plain": [
       "(52130, 23)"
      ]
     },
     "metadata": {},
     "execution_count": 24
    }
   ],
   "source": [
    "df_acidentes_sp_moto.shape"
   ]
  },
  {
   "cell_type": "code",
   "execution_count": 25,
   "metadata": {},
   "outputs": [
    {
     "output_type": "execute_result",
     "data": {
      "text/plain": [
       "Vias Municipais    44505\n",
       "Rodovias            7611\n",
       "NAO DISPONIVEL        14\n",
       "Name: Tipo de Via, dtype: int64"
      ]
     },
     "metadata": {},
     "execution_count": 25
    }
   ],
   "source": [
    "df_acidentes_sp_moto['Tipo de Via'].value_counts()#.sort_values(ascending=False)"
   ]
  },
  {
   "cell_type": "code",
   "execution_count": 26,
   "metadata": {},
   "outputs": [],
   "source": [
    "#incluir mais colunas"
   ]
  },
  {
   "cell_type": "code",
   "execution_count": null,
   "metadata": {},
   "outputs": [],
   "source": []
  },
  {
   "cell_type": "code",
   "execution_count": 27,
   "metadata": {},
   "outputs": [],
   "source": [
    "# export\n",
    "df_acidentes_sp_moto.to_csv('df_acidentes_sp_moto.csv')"
   ]
  }
 ]
}