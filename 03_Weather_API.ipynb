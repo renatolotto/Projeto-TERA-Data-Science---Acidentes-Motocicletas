{
 "metadata": {
  "language_info": {
   "codemirror_mode": {
    "name": "ipython",
    "version": 3
   },
   "file_extension": ".py",
   "mimetype": "text/x-python",
   "name": "python",
   "nbconvert_exporter": "python",
   "pygments_lexer": "ipython3",
   "version": "3.8.8"
  },
  "orig_nbformat": 2,
  "kernelspec": {
   "name": "python388jvsc74a57bd054aafdb36ba7a57007c1052e291baf553a31e85cae918a266292c7469c0efefb",
   "display_name": "Python 3.8.8 64-bit ('Data_Science': conda)"
  }
 },
 "nbformat": 4,
 "nbformat_minor": 2,
 "cells": [
  {
   "cell_type": "code",
   "execution_count": 1,
   "metadata": {},
   "outputs": [],
   "source": [
    "import numpy as np\n",
    "import pandas as pd\n",
    "import json\n",
    "import urllib, json"
   ]
  },
  {
   "cell_type": "code",
   "execution_count": 2,
   "metadata": {},
   "outputs": [],
   "source": [
    "df_API_fatais = pd.read_csv('df_API_fatais.csv')\n",
    "\n"
   ]
  },
  {
   "cell_type": "code",
   "execution_count": 3,
   "metadata": {},
   "outputs": [
    {
     "output_type": "stream",
     "name": "stdout",
     "text": [
      "<class 'pandas.core.frame.DataFrame'>\nRangeIndex: 3200 entries, 0 to 3199\nData columns (total 5 columns):\n #   Column                Non-Null Count  Dtype  \n---  ------                --------------  -----  \n 0   Data do Acidente      3200 non-null   object \n 1   Latitude              3200 non-null   object \n 2   Longitude             3200 non-null   object \n 3   Condições Climáticas  0 non-null      float64\n 4   Hora                  3200 non-null   float64\ndtypes: float64(2), object(3)\nmemory usage: 125.1+ KB\n"
     ]
    }
   ],
   "source": [
    "df_API_fatais.info()"
   ]
  },
  {
   "cell_type": "code",
   "execution_count": 5,
   "metadata": {},
   "outputs": [],
   "source": [
    "# criar dataset pequeno para nao exceder o limite do API\n",
    "#normalmente limite é 41 linhas diárias\n",
    "\n",
    "# df1 = df_API_fatais.iloc[:11,:] #DONE checado\n",
    "# df2 = df_API_fatais.iloc[11:39,:] #DONE checado\n",
    "# df3 = df_API_fatais.iloc[39:78,:] #Done checago\n",
    "# df4 = df_API_fatais.iloc[78:178,:] DONE checado\n",
    "# df5 = df_API_fatais.iloc[178:300,:] DONE checado\n",
    "# df6 = df_API_fatais.iloc[300:460,:] DONE checado\n",
    "# df7 = df_API_fatais.iloc[460:501,:] DONE checado\n",
    "# df8 = df_API_fatais.iloc[501:542,:] DONE checado\n",
    "# df9 = df_API_fatais.iloc[542:583,:] DONE checado\n",
    "# df10 = df_API_fatais.iloc[583:624,:] done checado\n",
    "df11 = df_API_fatais.iloc[624:665,:]\n",
    "# df12 = df_API_fatais.iloc[665:706,:]\n",
    "# df13 = df_API_fatais.iloc[706:747,:]\n",
    "# df14 = df_API_fatais.iloc[747:788,:]\n",
    "# df15 = df_API_fatais.iloc[561:601,:]\n",
    "# df16 = df_API_fatais.iloc[601:641,:]\n",
    "# df17 = df_API_fatais.iloc[641:681,:]\n",
    "# df18 = df_API_fatais.iloc[681:721,:]\n"
   ]
  },
  {
   "cell_type": "code",
   "execution_count": 18,
   "metadata": {},
   "outputs": [
    {
     "output_type": "stream",
     "name": "stdout",
     "text": [
      "-Serão consumido 984 créditos\n\n-Capacidade de 287 linhas por dia\n\n-Demorará mais 8.832752613240418 dias\n"
     ]
    }
   ],
   "source": [
    "#CRÉDTIOS QUE SERÃO CONSUMIDOS POR CADA DF\n",
    "df_de_hoje=df11\n",
    "print('-Serão consumido',df_de_hoje.shape[0]*24,'créditos')\n",
    "print()\n",
    "\n",
    "n_chaves=7\n",
    "capacidade_dia=n_chaves*df_de_hoje.shape[0]\n",
    "print('-Capacidade de',capacidade_dia,'linhas por dia')\n",
    "print()\n",
    "\n",
    "prev_dias= (3200-665)/capacidade_dia\n",
    "print('-Demorará mais',prev_dias,'dias')\n",
    "\n"
   ]
  },
  {
   "cell_type": "code",
   "execution_count": 11,
   "metadata": {},
   "outputs": [],
   "source": [
    "# ESCOLHER DF AQUI E RODAR DAQUI PRA BAIXO\n",
    "key='B8JYA2DGP8JEMDN3SH4N4XGTT' #meu hotmail\n",
    "key2='A6USW7ZJVKXS796M85TUD5JB7' #Jobanegas@gmail.com, projetoTERA\n",
    "key3='SM2SEHMQ5C293FLZ5QBABUNUB'#meu gmail, waiting credits, card\n",
    "key4='YEW24DH9DQC8K5PV9V4G6JDUE'#scania\n",
    "key5='L8W8YG6RD4JZ8E2V9NRYFBNCQ'#globo\n",
    "key6='9HS474ZGKWUFCC2CLE8SJ2GN8'#josybanegas@hotmail.com, projetoTERA2\n",
    "key7='PMFULACV4XSBP4LM2DGMRZA6S'#mi\n",
    "\n",
    "key_escolhida = key7\n",
    "df_escolhido = df11 ##### ATENÇÃO NO NOME....SE NÃO ATUALIZAR VAI SOBRESCREVER OS DFS JÁ SALVOS\n",
    "nome_df = 'df11'\n",
    "\n"
   ]
  },
  {
   "cell_type": "code",
   "execution_count": 30,
   "metadata": {},
   "outputs": [],
   "source": [
    "def create_URL_column(df):\n",
    "    if pd.isnull(df['Condições Climáticas']):\n",
    "        return \"https://weather.visualcrossing.com/VisualCrossingWebServices/rest/services/timeline/{},{}/{}?key={}\".format(df['Latitude'].replace(',','.'),df['Longitude'].replace(',','.'),df['Data do Acidente'][0:10],key_escolhida)\n",
    "    else:\n",
    "        return 'Já temos'"
   ]
  },
  {
   "cell_type": "code",
   "execution_count": 31,
   "metadata": {},
   "outputs": [
    {
     "output_type": "stream",
     "name": "stderr",
     "text": [
      "<ipython-input-31-753ec4956c79>:1: SettingWithCopyWarning: \nA value is trying to be set on a copy of a slice from a DataFrame.\nTry using .loc[row_indexer,col_indexer] = value instead\n\nSee the caveats in the documentation: https://pandas.pydata.org/pandas-docs/stable/user_guide/indexing.html#returning-a-view-versus-a-copy\n  df_escolhido['API_url']= 'zero'\n<ipython-input-31-753ec4956c79>:2: SettingWithCopyWarning: \nA value is trying to be set on a copy of a slice from a DataFrame.\nTry using .loc[row_indexer,col_indexer] = value instead\n\nSee the caveats in the documentation: https://pandas.pydata.org/pandas-docs/stable/user_guide/indexing.html#returning-a-view-versus-a-copy\n  df_escolhido['Hora'] = df_escolhido['Hora'].astype(int)\n<ipython-input-31-753ec4956c79>:3: SettingWithCopyWarning: \nA value is trying to be set on a copy of a slice from a DataFrame.\nTry using .loc[row_indexer,col_indexer] = value instead\n\nSee the caveats in the documentation: https://pandas.pydata.org/pandas-docs/stable/user_guide/indexing.html#returning-a-view-versus-a-copy\n  df_escolhido['API_url'] = df_escolhido.apply(lambda df: create_URL_column(df),axis=1)\n"
     ]
    }
   ],
   "source": [
    "df_escolhido['API_url']= 'zero'\n",
    "df_escolhido['Hora'] = df_escolhido['Hora'].astype(int)\n",
    "df_escolhido['API_url'] = df_escolhido.apply(lambda df: create_URL_column(df),axis=1)"
   ]
  },
  {
   "cell_type": "code",
   "execution_count": 32,
   "metadata": {},
   "outputs": [
    {
     "output_type": "execute_result",
     "data": {
      "text/plain": [
       "['https://weather.visualcrossing.com/VisualCrossingWebServices/rest/services/timeline/-23.551139016382372,-45.963768606516076/2020-11-08?key=PMFULACV4XSBP4LM2DGMRZA6S',\n",
       " 'https://weather.visualcrossing.com/VisualCrossingWebServices/rest/services/timeline/-23.460528098456592,-46.78155444520064/2020-11-07?key=PMFULACV4XSBP4LM2DGMRZA6S',\n",
       " 'https://weather.visualcrossing.com/VisualCrossingWebServices/rest/services/timeline/-23.5316790279999,-46.522731426/2020-11-07?key=PMFULACV4XSBP4LM2DGMRZA6S',\n",
       " 'https://weather.visualcrossing.com/VisualCrossingWebServices/rest/services/timeline/-23.580413,-46.410842/2020-11-07?key=PMFULACV4XSBP4LM2DGMRZA6S',\n",
       " 'https://weather.visualcrossing.com/VisualCrossingWebServices/rest/services/timeline/-23.594144,-46.406052/2020-11-07?key=PMFULACV4XSBP4LM2DGMRZA6S',\n",
       " 'https://weather.visualcrossing.com/VisualCrossingWebServices/rest/services/timeline/-23.7055050701374,-46.5885778644806/2020-11-07?key=PMFULACV4XSBP4LM2DGMRZA6S',\n",
       " 'https://weather.visualcrossing.com/VisualCrossingWebServices/rest/services/timeline/-23.691531294111083,-46.81810740401574/2020-11-06?key=PMFULACV4XSBP4LM2DGMRZA6S',\n",
       " 'https://weather.visualcrossing.com/VisualCrossingWebServices/rest/services/timeline/-23.408938439795886,-46.675254686509284/2020-11-05?key=PMFULACV4XSBP4LM2DGMRZA6S',\n",
       " 'https://weather.visualcrossing.com/VisualCrossingWebServices/rest/services/timeline/-23.612613072459055,-46.77887607028904/2020-11-05?key=PMFULACV4XSBP4LM2DGMRZA6S',\n",
       " 'https://weather.visualcrossing.com/VisualCrossingWebServices/rest/services/timeline/-23.582905,-46.702741/2020-11-03?key=PMFULACV4XSBP4LM2DGMRZA6S',\n",
       " 'https://weather.visualcrossing.com/VisualCrossingWebServices/rest/services/timeline/-23.656679,-46.506779/2020-11-03?key=PMFULACV4XSBP4LM2DGMRZA6S',\n",
       " 'https://weather.visualcrossing.com/VisualCrossingWebServices/rest/services/timeline/-23.599841893287387,-46.88231357497849/2020-11-02?key=PMFULACV4XSBP4LM2DGMRZA6S',\n",
       " 'https://weather.visualcrossing.com/VisualCrossingWebServices/rest/services/timeline/-23.486675703145725,-46.55949278381248/2020-11-01?key=PMFULACV4XSBP4LM2DGMRZA6S',\n",
       " 'https://weather.visualcrossing.com/VisualCrossingWebServices/rest/services/timeline/-23.691581,-46.587131/2020-10-28?key=PMFULACV4XSBP4LM2DGMRZA6S',\n",
       " 'https://weather.visualcrossing.com/VisualCrossingWebServices/rest/services/timeline/-23.44309116907146,-46.44463413584089/2020-10-28?key=PMFULACV4XSBP4LM2DGMRZA6S',\n",
       " 'https://weather.visualcrossing.com/VisualCrossingWebServices/rest/services/timeline/-23.608811,-46.637951/2020-10-27?key=PMFULACV4XSBP4LM2DGMRZA6S',\n",
       " 'https://weather.visualcrossing.com/VisualCrossingWebServices/rest/services/timeline/-23.477128930919772,-46.52748343317096/2020-10-27?key=PMFULACV4XSBP4LM2DGMRZA6S',\n",
       " 'https://weather.visualcrossing.com/VisualCrossingWebServices/rest/services/timeline/-23.4538,-46.675284/2020-10-26?key=PMFULACV4XSBP4LM2DGMRZA6S',\n",
       " 'https://weather.visualcrossing.com/VisualCrossingWebServices/rest/services/timeline/-23.458365,-46.488871/2020-10-26?key=PMFULACV4XSBP4LM2DGMRZA6S',\n",
       " 'https://weather.visualcrossing.com/VisualCrossingWebServices/rest/services/timeline/-23.7325450477795,-46.697253565706/2020-10-25?key=PMFULACV4XSBP4LM2DGMRZA6S',\n",
       " 'https://weather.visualcrossing.com/VisualCrossingWebServices/rest/services/timeline/-23.703733731978453,-46.38271946224993/2020-10-25?key=PMFULACV4XSBP4LM2DGMRZA6S',\n",
       " 'https://weather.visualcrossing.com/VisualCrossingWebServices/rest/services/timeline/-23.566461,-46.850953/2020-10-25?key=PMFULACV4XSBP4LM2DGMRZA6S',\n",
       " 'https://weather.visualcrossing.com/VisualCrossingWebServices/rest/services/timeline/-23.388257,-46.712859/2020-10-24?key=PMFULACV4XSBP4LM2DGMRZA6S',\n",
       " 'https://weather.visualcrossing.com/VisualCrossingWebServices/rest/services/timeline/-23.640588,-46.804807/2020-10-24?key=PMFULACV4XSBP4LM2DGMRZA6S',\n",
       " 'https://weather.visualcrossing.com/VisualCrossingWebServices/rest/services/timeline/-23.852192972,-46.841419357/2020-10-18?key=PMFULACV4XSBP4LM2DGMRZA6S',\n",
       " 'https://weather.visualcrossing.com/VisualCrossingWebServices/rest/services/timeline/-23.34010700586835,-46.73849467636673/2020-10-17?key=PMFULACV4XSBP4LM2DGMRZA6S',\n",
       " 'https://weather.visualcrossing.com/VisualCrossingWebServices/rest/services/timeline/-23.3999416099999,-46.399276922/2020-10-16?key=PMFULACV4XSBP4LM2DGMRZA6S',\n",
       " 'https://weather.visualcrossing.com/VisualCrossingWebServices/rest/services/timeline/-23.569461,-46.547896/2020-10-15?key=PMFULACV4XSBP4LM2DGMRZA6S',\n",
       " 'https://weather.visualcrossing.com/VisualCrossingWebServices/rest/services/timeline/-23.47034964531011,-46.894068301821065/2020-10-15?key=PMFULACV4XSBP4LM2DGMRZA6S',\n",
       " 'https://weather.visualcrossing.com/VisualCrossingWebServices/rest/services/timeline/-23.5072935078528,-46.482846122852/2020-10-14?key=PMFULACV4XSBP4LM2DGMRZA6S',\n",
       " 'https://weather.visualcrossing.com/VisualCrossingWebServices/rest/services/timeline/-23.338905174851604,-46.7437990134228/2020-10-14?key=PMFULACV4XSBP4LM2DGMRZA6S',\n",
       " 'https://weather.visualcrossing.com/VisualCrossingWebServices/rest/services/timeline/-23.499118,-46.351258/2020-10-13?key=PMFULACV4XSBP4LM2DGMRZA6S',\n",
       " 'https://weather.visualcrossing.com/VisualCrossingWebServices/rest/services/timeline/-23.52278458,-46.659077064/2020-10-12?key=PMFULACV4XSBP4LM2DGMRZA6S',\n",
       " 'https://weather.visualcrossing.com/VisualCrossingWebServices/rest/services/timeline/-23.71969379026731,-46.557009256564214/2020-10-12?key=PMFULACV4XSBP4LM2DGMRZA6S',\n",
       " 'https://weather.visualcrossing.com/VisualCrossingWebServices/rest/services/timeline/-23.506997606950733,-46.837929804587105/2020-10-12?key=PMFULACV4XSBP4LM2DGMRZA6S',\n",
       " 'https://weather.visualcrossing.com/VisualCrossingWebServices/rest/services/timeline/-23.595097,-46.486777/2020-10-11?key=PMFULACV4XSBP4LM2DGMRZA6S',\n",
       " 'https://weather.visualcrossing.com/VisualCrossingWebServices/rest/services/timeline/-23.62620998133874,-46.371328411605724/2020-10-10?key=PMFULACV4XSBP4LM2DGMRZA6S',\n",
       " 'https://weather.visualcrossing.com/VisualCrossingWebServices/rest/services/timeline/-23.4228809839578,-46.8771364962445/2020-10-10?key=PMFULACV4XSBP4LM2DGMRZA6S',\n",
       " 'https://weather.visualcrossing.com/VisualCrossingWebServices/rest/services/timeline/-23.629285,-46.647897/2020-10-07?key=PMFULACV4XSBP4LM2DGMRZA6S']"
      ]
     },
     "metadata": {},
     "execution_count": 32
    }
   ],
   "source": [
    "list(df_escolhido['API_url'])"
   ]
  },
  {
   "cell_type": "code",
   "execution_count": 33,
   "metadata": {},
   "outputs": [
    {
     "output_type": "execute_result",
     "data": {
      "text/plain": [
       "               Latitude            Longitude  \\\n",
       "39  -23,551139016382372  -45,963768606516076   \n",
       "40  -23,460528098456592   -46,78155444520064   \n",
       "41    -23,5316790279999        -46,522731426   \n",
       "42           -23,580413           -46,410842   \n",
       "43           -23,594144           -46,406052   \n",
       "44    -23,7055050701374    -46,5885778644806   \n",
       "45  -23,691531294111083   -46,81810740401574   \n",
       "46  -23,408938439795886  -46,675254686509284   \n",
       "47  -23,612613072459055   -46,77887607028904   \n",
       "48           -23,582905           -46,702741   \n",
       "49           -23,656679           -46,506779   \n",
       "50  -23,599841893287387   -46,88231357497849   \n",
       "51  -23,486675703145725   -46,55949278381248   \n",
       "52           -23,691581           -46,587131   \n",
       "53   -23,44309116907146   -46,44463413584089   \n",
       "54           -23,608811           -46,637951   \n",
       "55  -23,477128930919772   -46,52748343317096   \n",
       "56             -23,4538           -46,675284   \n",
       "57           -23,458365           -46,488871   \n",
       "58    -23,7325450477795     -46,697253565706   \n",
       "59  -23,703733731978453   -46,38271946224993   \n",
       "60           -23,566461           -46,850953   \n",
       "61           -23,388257           -46,712859   \n",
       "62           -23,640588           -46,804807   \n",
       "63        -23,852192972        -46,841419357   \n",
       "64   -23,34010700586835   -46,73849467636673   \n",
       "65    -23,3999416099999        -46,399276922   \n",
       "66           -23,569461           -46,547896   \n",
       "67   -23,47034964531011  -46,894068301821065   \n",
       "68    -23,5072935078528     -46,482846122852   \n",
       "69  -23,338905174851604    -46,7437990134228   \n",
       "70           -23,499118           -46,351258   \n",
       "71         -23,52278458        -46,659077064   \n",
       "72   -23,71969379026731  -46,557009256564214   \n",
       "73  -23,506997606950733  -46,837929804587105   \n",
       "74           -23,595097           -46,486777   \n",
       "75   -23,62620998133874  -46,371328411605724   \n",
       "76    -23,4228809839578    -46,8771364962445   \n",
       "77           -23,629285           -46,647897   \n",
       "\n",
       "                                              API_url  Condições Climáticas  \n",
       "39  https://weather.visualcrossing.com/VisualCross...                   NaN  \n",
       "40  https://weather.visualcrossing.com/VisualCross...                   NaN  \n",
       "41  https://weather.visualcrossing.com/VisualCross...                   NaN  \n",
       "42  https://weather.visualcrossing.com/VisualCross...                   NaN  \n",
       "43  https://weather.visualcrossing.com/VisualCross...                   NaN  \n",
       "44  https://weather.visualcrossing.com/VisualCross...                   NaN  \n",
       "45  https://weather.visualcrossing.com/VisualCross...                   NaN  \n",
       "46  https://weather.visualcrossing.com/VisualCross...                   NaN  \n",
       "47  https://weather.visualcrossing.com/VisualCross...                   NaN  \n",
       "48  https://weather.visualcrossing.com/VisualCross...                   NaN  \n",
       "49  https://weather.visualcrossing.com/VisualCross...                   NaN  \n",
       "50  https://weather.visualcrossing.com/VisualCross...                   NaN  \n",
       "51  https://weather.visualcrossing.com/VisualCross...                   NaN  \n",
       "52  https://weather.visualcrossing.com/VisualCross...                   NaN  \n",
       "53  https://weather.visualcrossing.com/VisualCross...                   NaN  \n",
       "54  https://weather.visualcrossing.com/VisualCross...                   NaN  \n",
       "55  https://weather.visualcrossing.com/VisualCross...                   NaN  \n",
       "56  https://weather.visualcrossing.com/VisualCross...                   NaN  \n",
       "57  https://weather.visualcrossing.com/VisualCross...                   NaN  \n",
       "58  https://weather.visualcrossing.com/VisualCross...                   NaN  \n",
       "59  https://weather.visualcrossing.com/VisualCross...                   NaN  \n",
       "60  https://weather.visualcrossing.com/VisualCross...                   NaN  \n",
       "61  https://weather.visualcrossing.com/VisualCross...                   NaN  \n",
       "62  https://weather.visualcrossing.com/VisualCross...                   NaN  \n",
       "63  https://weather.visualcrossing.com/VisualCross...                   NaN  \n",
       "64  https://weather.visualcrossing.com/VisualCross...                   NaN  \n",
       "65  https://weather.visualcrossing.com/VisualCross...                   NaN  \n",
       "66  https://weather.visualcrossing.com/VisualCross...                   NaN  \n",
       "67  https://weather.visualcrossing.com/VisualCross...                   NaN  \n",
       "68  https://weather.visualcrossing.com/VisualCross...                   NaN  \n",
       "69  https://weather.visualcrossing.com/VisualCross...                   NaN  \n",
       "70  https://weather.visualcrossing.com/VisualCross...                   NaN  \n",
       "71  https://weather.visualcrossing.com/VisualCross...                   NaN  \n",
       "72  https://weather.visualcrossing.com/VisualCross...                   NaN  \n",
       "73  https://weather.visualcrossing.com/VisualCross...                   NaN  \n",
       "74  https://weather.visualcrossing.com/VisualCross...                   NaN  \n",
       "75  https://weather.visualcrossing.com/VisualCross...                   NaN  \n",
       "76  https://weather.visualcrossing.com/VisualCross...                   NaN  \n",
       "77  https://weather.visualcrossing.com/VisualCross...                   NaN  "
      ],
      "text/html": "<div>\n<style scoped>\n    .dataframe tbody tr th:only-of-type {\n        vertical-align: middle;\n    }\n\n    .dataframe tbody tr th {\n        vertical-align: top;\n    }\n\n    .dataframe thead th {\n        text-align: right;\n    }\n</style>\n<table border=\"1\" class=\"dataframe\">\n  <thead>\n    <tr style=\"text-align: right;\">\n      <th></th>\n      <th>Latitude</th>\n      <th>Longitude</th>\n      <th>API_url</th>\n      <th>Condições Climáticas</th>\n    </tr>\n  </thead>\n  <tbody>\n    <tr>\n      <th>39</th>\n      <td>-23,551139016382372</td>\n      <td>-45,963768606516076</td>\n      <td>https://weather.visualcrossing.com/VisualCross...</td>\n      <td>NaN</td>\n    </tr>\n    <tr>\n      <th>40</th>\n      <td>-23,460528098456592</td>\n      <td>-46,78155444520064</td>\n      <td>https://weather.visualcrossing.com/VisualCross...</td>\n      <td>NaN</td>\n    </tr>\n    <tr>\n      <th>41</th>\n      <td>-23,5316790279999</td>\n      <td>-46,522731426</td>\n      <td>https://weather.visualcrossing.com/VisualCross...</td>\n      <td>NaN</td>\n    </tr>\n    <tr>\n      <th>42</th>\n      <td>-23,580413</td>\n      <td>-46,410842</td>\n      <td>https://weather.visualcrossing.com/VisualCross...</td>\n      <td>NaN</td>\n    </tr>\n    <tr>\n      <th>43</th>\n      <td>-23,594144</td>\n      <td>-46,406052</td>\n      <td>https://weather.visualcrossing.com/VisualCross...</td>\n      <td>NaN</td>\n    </tr>\n    <tr>\n      <th>44</th>\n      <td>-23,7055050701374</td>\n      <td>-46,5885778644806</td>\n      <td>https://weather.visualcrossing.com/VisualCross...</td>\n      <td>NaN</td>\n    </tr>\n    <tr>\n      <th>45</th>\n      <td>-23,691531294111083</td>\n      <td>-46,81810740401574</td>\n      <td>https://weather.visualcrossing.com/VisualCross...</td>\n      <td>NaN</td>\n    </tr>\n    <tr>\n      <th>46</th>\n      <td>-23,408938439795886</td>\n      <td>-46,675254686509284</td>\n      <td>https://weather.visualcrossing.com/VisualCross...</td>\n      <td>NaN</td>\n    </tr>\n    <tr>\n      <th>47</th>\n      <td>-23,612613072459055</td>\n      <td>-46,77887607028904</td>\n      <td>https://weather.visualcrossing.com/VisualCross...</td>\n      <td>NaN</td>\n    </tr>\n    <tr>\n      <th>48</th>\n      <td>-23,582905</td>\n      <td>-46,702741</td>\n      <td>https://weather.visualcrossing.com/VisualCross...</td>\n      <td>NaN</td>\n    </tr>\n    <tr>\n      <th>49</th>\n      <td>-23,656679</td>\n      <td>-46,506779</td>\n      <td>https://weather.visualcrossing.com/VisualCross...</td>\n      <td>NaN</td>\n    </tr>\n    <tr>\n      <th>50</th>\n      <td>-23,599841893287387</td>\n      <td>-46,88231357497849</td>\n      <td>https://weather.visualcrossing.com/VisualCross...</td>\n      <td>NaN</td>\n    </tr>\n    <tr>\n      <th>51</th>\n      <td>-23,486675703145725</td>\n      <td>-46,55949278381248</td>\n      <td>https://weather.visualcrossing.com/VisualCross...</td>\n      <td>NaN</td>\n    </tr>\n    <tr>\n      <th>52</th>\n      <td>-23,691581</td>\n      <td>-46,587131</td>\n      <td>https://weather.visualcrossing.com/VisualCross...</td>\n      <td>NaN</td>\n    </tr>\n    <tr>\n      <th>53</th>\n      <td>-23,44309116907146</td>\n      <td>-46,44463413584089</td>\n      <td>https://weather.visualcrossing.com/VisualCross...</td>\n      <td>NaN</td>\n    </tr>\n    <tr>\n      <th>54</th>\n      <td>-23,608811</td>\n      <td>-46,637951</td>\n      <td>https://weather.visualcrossing.com/VisualCross...</td>\n      <td>NaN</td>\n    </tr>\n    <tr>\n      <th>55</th>\n      <td>-23,477128930919772</td>\n      <td>-46,52748343317096</td>\n      <td>https://weather.visualcrossing.com/VisualCross...</td>\n      <td>NaN</td>\n    </tr>\n    <tr>\n      <th>56</th>\n      <td>-23,4538</td>\n      <td>-46,675284</td>\n      <td>https://weather.visualcrossing.com/VisualCross...</td>\n      <td>NaN</td>\n    </tr>\n    <tr>\n      <th>57</th>\n      <td>-23,458365</td>\n      <td>-46,488871</td>\n      <td>https://weather.visualcrossing.com/VisualCross...</td>\n      <td>NaN</td>\n    </tr>\n    <tr>\n      <th>58</th>\n      <td>-23,7325450477795</td>\n      <td>-46,697253565706</td>\n      <td>https://weather.visualcrossing.com/VisualCross...</td>\n      <td>NaN</td>\n    </tr>\n    <tr>\n      <th>59</th>\n      <td>-23,703733731978453</td>\n      <td>-46,38271946224993</td>\n      <td>https://weather.visualcrossing.com/VisualCross...</td>\n      <td>NaN</td>\n    </tr>\n    <tr>\n      <th>60</th>\n      <td>-23,566461</td>\n      <td>-46,850953</td>\n      <td>https://weather.visualcrossing.com/VisualCross...</td>\n      <td>NaN</td>\n    </tr>\n    <tr>\n      <th>61</th>\n      <td>-23,388257</td>\n      <td>-46,712859</td>\n      <td>https://weather.visualcrossing.com/VisualCross...</td>\n      <td>NaN</td>\n    </tr>\n    <tr>\n      <th>62</th>\n      <td>-23,640588</td>\n      <td>-46,804807</td>\n      <td>https://weather.visualcrossing.com/VisualCross...</td>\n      <td>NaN</td>\n    </tr>\n    <tr>\n      <th>63</th>\n      <td>-23,852192972</td>\n      <td>-46,841419357</td>\n      <td>https://weather.visualcrossing.com/VisualCross...</td>\n      <td>NaN</td>\n    </tr>\n    <tr>\n      <th>64</th>\n      <td>-23,34010700586835</td>\n      <td>-46,73849467636673</td>\n      <td>https://weather.visualcrossing.com/VisualCross...</td>\n      <td>NaN</td>\n    </tr>\n    <tr>\n      <th>65</th>\n      <td>-23,3999416099999</td>\n      <td>-46,399276922</td>\n      <td>https://weather.visualcrossing.com/VisualCross...</td>\n      <td>NaN</td>\n    </tr>\n    <tr>\n      <th>66</th>\n      <td>-23,569461</td>\n      <td>-46,547896</td>\n      <td>https://weather.visualcrossing.com/VisualCross...</td>\n      <td>NaN</td>\n    </tr>\n    <tr>\n      <th>67</th>\n      <td>-23,47034964531011</td>\n      <td>-46,894068301821065</td>\n      <td>https://weather.visualcrossing.com/VisualCross...</td>\n      <td>NaN</td>\n    </tr>\n    <tr>\n      <th>68</th>\n      <td>-23,5072935078528</td>\n      <td>-46,482846122852</td>\n      <td>https://weather.visualcrossing.com/VisualCross...</td>\n      <td>NaN</td>\n    </tr>\n    <tr>\n      <th>69</th>\n      <td>-23,338905174851604</td>\n      <td>-46,7437990134228</td>\n      <td>https://weather.visualcrossing.com/VisualCross...</td>\n      <td>NaN</td>\n    </tr>\n    <tr>\n      <th>70</th>\n      <td>-23,499118</td>\n      <td>-46,351258</td>\n      <td>https://weather.visualcrossing.com/VisualCross...</td>\n      <td>NaN</td>\n    </tr>\n    <tr>\n      <th>71</th>\n      <td>-23,52278458</td>\n      <td>-46,659077064</td>\n      <td>https://weather.visualcrossing.com/VisualCross...</td>\n      <td>NaN</td>\n    </tr>\n    <tr>\n      <th>72</th>\n      <td>-23,71969379026731</td>\n      <td>-46,557009256564214</td>\n      <td>https://weather.visualcrossing.com/VisualCross...</td>\n      <td>NaN</td>\n    </tr>\n    <tr>\n      <th>73</th>\n      <td>-23,506997606950733</td>\n      <td>-46,837929804587105</td>\n      <td>https://weather.visualcrossing.com/VisualCross...</td>\n      <td>NaN</td>\n    </tr>\n    <tr>\n      <th>74</th>\n      <td>-23,595097</td>\n      <td>-46,486777</td>\n      <td>https://weather.visualcrossing.com/VisualCross...</td>\n      <td>NaN</td>\n    </tr>\n    <tr>\n      <th>75</th>\n      <td>-23,62620998133874</td>\n      <td>-46,371328411605724</td>\n      <td>https://weather.visualcrossing.com/VisualCross...</td>\n      <td>NaN</td>\n    </tr>\n    <tr>\n      <th>76</th>\n      <td>-23,4228809839578</td>\n      <td>-46,8771364962445</td>\n      <td>https://weather.visualcrossing.com/VisualCross...</td>\n      <td>NaN</td>\n    </tr>\n    <tr>\n      <th>77</th>\n      <td>-23,629285</td>\n      <td>-46,647897</td>\n      <td>https://weather.visualcrossing.com/VisualCross...</td>\n      <td>NaN</td>\n    </tr>\n  </tbody>\n</table>\n</div>"
     },
     "metadata": {},
     "execution_count": 33
    }
   ],
   "source": [
    "df_escolhido[['Latitude','Longitude','API_url','Condições Climáticas']]"
   ]
  },
  {
   "cell_type": "code",
   "execution_count": 34,
   "metadata": {},
   "outputs": [],
   "source": [
    "#criando função def para buscar na API e incluir no df\n",
    "def get_API_value(df):\n",
    "    response = urllib.request.urlopen(df['API_url'])\n",
    "    data = json.loads(response.read())\n",
    "    condition = data.get('days')[0].get('hours')[df['Hora']].get('conditions')\n",
    "    return condition"
   ]
  },
  {
   "cell_type": "code",
   "execution_count": 35,
   "metadata": {},
   "outputs": [
    {
     "output_type": "stream",
     "name": "stderr",
     "text": [
      "<ipython-input-35-a6cba688e84f>:2: SettingWithCopyWarning: \nA value is trying to be set on a copy of a slice from a DataFrame.\nTry using .loc[row_indexer,col_indexer] = value instead\n\nSee the caveats in the documentation: https://pandas.pydata.org/pandas-docs/stable/user_guide/indexing.html#returning-a-view-versus-a-copy\n  df_escolhido['Condições Climáticas'] =df_escolhido.apply(lambda df: get_API_value(df),axis=1)\n"
     ]
    }
   ],
   "source": [
    "#   AQUI A FUNÇÃO IRÁ CONSUMIR CRÉDITOS....CHECAR NA CONTA DO VISUAL CROSSING\n",
    "df_escolhido['Condições Climáticas'] =df_escolhido.apply(lambda df: get_API_value(df),axis=1)"
   ]
  },
  {
   "cell_type": "code",
   "execution_count": 36,
   "metadata": {},
   "outputs": [
    {
     "output_type": "execute_result",
     "data": {
      "text/plain": [
       "               Latitude            Longitude  \\\n",
       "39  -23,551139016382372  -45,963768606516076   \n",
       "40  -23,460528098456592   -46,78155444520064   \n",
       "41    -23,5316790279999        -46,522731426   \n",
       "42           -23,580413           -46,410842   \n",
       "43           -23,594144           -46,406052   \n",
       "44    -23,7055050701374    -46,5885778644806   \n",
       "45  -23,691531294111083   -46,81810740401574   \n",
       "46  -23,408938439795886  -46,675254686509284   \n",
       "47  -23,612613072459055   -46,77887607028904   \n",
       "48           -23,582905           -46,702741   \n",
       "49           -23,656679           -46,506779   \n",
       "50  -23,599841893287387   -46,88231357497849   \n",
       "51  -23,486675703145725   -46,55949278381248   \n",
       "52           -23,691581           -46,587131   \n",
       "53   -23,44309116907146   -46,44463413584089   \n",
       "54           -23,608811           -46,637951   \n",
       "55  -23,477128930919772   -46,52748343317096   \n",
       "56             -23,4538           -46,675284   \n",
       "57           -23,458365           -46,488871   \n",
       "58    -23,7325450477795     -46,697253565706   \n",
       "59  -23,703733731978453   -46,38271946224993   \n",
       "60           -23,566461           -46,850953   \n",
       "61           -23,388257           -46,712859   \n",
       "62           -23,640588           -46,804807   \n",
       "63        -23,852192972        -46,841419357   \n",
       "64   -23,34010700586835   -46,73849467636673   \n",
       "65    -23,3999416099999        -46,399276922   \n",
       "66           -23,569461           -46,547896   \n",
       "67   -23,47034964531011  -46,894068301821065   \n",
       "68    -23,5072935078528     -46,482846122852   \n",
       "69  -23,338905174851604    -46,7437990134228   \n",
       "70           -23,499118           -46,351258   \n",
       "71         -23,52278458        -46,659077064   \n",
       "72   -23,71969379026731  -46,557009256564214   \n",
       "73  -23,506997606950733  -46,837929804587105   \n",
       "74           -23,595097           -46,486777   \n",
       "75   -23,62620998133874  -46,371328411605724   \n",
       "76    -23,4228809839578    -46,8771364962445   \n",
       "77           -23,629285           -46,647897   \n",
       "\n",
       "                                              API_url Condições Climáticas  \n",
       "39  https://weather.visualcrossing.com/VisualCross...                Clear  \n",
       "40  https://weather.visualcrossing.com/VisualCross...     Partially cloudy  \n",
       "41  https://weather.visualcrossing.com/VisualCross...     Partially cloudy  \n",
       "42  https://weather.visualcrossing.com/VisualCross...     Partially cloudy  \n",
       "43  https://weather.visualcrossing.com/VisualCross...                Clear  \n",
       "44  https://weather.visualcrossing.com/VisualCross...     Partially cloudy  \n",
       "45  https://weather.visualcrossing.com/VisualCross...     Partially cloudy  \n",
       "46  https://weather.visualcrossing.com/VisualCross...     Partially cloudy  \n",
       "47  https://weather.visualcrossing.com/VisualCross...     Partially cloudy  \n",
       "48  https://weather.visualcrossing.com/VisualCross...     Partially cloudy  \n",
       "49  https://weather.visualcrossing.com/VisualCross...                Clear  \n",
       "50  https://weather.visualcrossing.com/VisualCross...                Clear  \n",
       "51  https://weather.visualcrossing.com/VisualCross...     Partially cloudy  \n",
       "52  https://weather.visualcrossing.com/VisualCross...                Clear  \n",
       "53  https://weather.visualcrossing.com/VisualCross...                Clear  \n",
       "54  https://weather.visualcrossing.com/VisualCross...                Clear  \n",
       "55  https://weather.visualcrossing.com/VisualCross...     Partially cloudy  \n",
       "56  https://weather.visualcrossing.com/VisualCross...             Overcast  \n",
       "57  https://weather.visualcrossing.com/VisualCross...                Clear  \n",
       "58  https://weather.visualcrossing.com/VisualCross...                Clear  \n",
       "59  https://weather.visualcrossing.com/VisualCross...                Clear  \n",
       "60  https://weather.visualcrossing.com/VisualCross...                Clear  \n",
       "61  https://weather.visualcrossing.com/VisualCross...     Partially cloudy  \n",
       "62  https://weather.visualcrossing.com/VisualCross...                Clear  \n",
       "63  https://weather.visualcrossing.com/VisualCross...     Partially cloudy  \n",
       "64  https://weather.visualcrossing.com/VisualCross...             Overcast  \n",
       "65  https://weather.visualcrossing.com/VisualCross...             Overcast  \n",
       "66  https://weather.visualcrossing.com/VisualCross...     Partially cloudy  \n",
       "67  https://weather.visualcrossing.com/VisualCross...     Partially cloudy  \n",
       "68  https://weather.visualcrossing.com/VisualCross...                Clear  \n",
       "69  https://weather.visualcrossing.com/VisualCross...     Partially cloudy  \n",
       "70  https://weather.visualcrossing.com/VisualCross...                Clear  \n",
       "71  https://weather.visualcrossing.com/VisualCross...     Partially cloudy  \n",
       "72  https://weather.visualcrossing.com/VisualCross...             Overcast  \n",
       "73  https://weather.visualcrossing.com/VisualCross...                Clear  \n",
       "74  https://weather.visualcrossing.com/VisualCross...                Clear  \n",
       "75  https://weather.visualcrossing.com/VisualCross...     Partially cloudy  \n",
       "76  https://weather.visualcrossing.com/VisualCross...                Clear  \n",
       "77  https://weather.visualcrossing.com/VisualCross...             Overcast  "
      ],
      "text/html": "<div>\n<style scoped>\n    .dataframe tbody tr th:only-of-type {\n        vertical-align: middle;\n    }\n\n    .dataframe tbody tr th {\n        vertical-align: top;\n    }\n\n    .dataframe thead th {\n        text-align: right;\n    }\n</style>\n<table border=\"1\" class=\"dataframe\">\n  <thead>\n    <tr style=\"text-align: right;\">\n      <th></th>\n      <th>Latitude</th>\n      <th>Longitude</th>\n      <th>API_url</th>\n      <th>Condições Climáticas</th>\n    </tr>\n  </thead>\n  <tbody>\n    <tr>\n      <th>39</th>\n      <td>-23,551139016382372</td>\n      <td>-45,963768606516076</td>\n      <td>https://weather.visualcrossing.com/VisualCross...</td>\n      <td>Clear</td>\n    </tr>\n    <tr>\n      <th>40</th>\n      <td>-23,460528098456592</td>\n      <td>-46,78155444520064</td>\n      <td>https://weather.visualcrossing.com/VisualCross...</td>\n      <td>Partially cloudy</td>\n    </tr>\n    <tr>\n      <th>41</th>\n      <td>-23,5316790279999</td>\n      <td>-46,522731426</td>\n      <td>https://weather.visualcrossing.com/VisualCross...</td>\n      <td>Partially cloudy</td>\n    </tr>\n    <tr>\n      <th>42</th>\n      <td>-23,580413</td>\n      <td>-46,410842</td>\n      <td>https://weather.visualcrossing.com/VisualCross...</td>\n      <td>Partially cloudy</td>\n    </tr>\n    <tr>\n      <th>43</th>\n      <td>-23,594144</td>\n      <td>-46,406052</td>\n      <td>https://weather.visualcrossing.com/VisualCross...</td>\n      <td>Clear</td>\n    </tr>\n    <tr>\n      <th>44</th>\n      <td>-23,7055050701374</td>\n      <td>-46,5885778644806</td>\n      <td>https://weather.visualcrossing.com/VisualCross...</td>\n      <td>Partially cloudy</td>\n    </tr>\n    <tr>\n      <th>45</th>\n      <td>-23,691531294111083</td>\n      <td>-46,81810740401574</td>\n      <td>https://weather.visualcrossing.com/VisualCross...</td>\n      <td>Partially cloudy</td>\n    </tr>\n    <tr>\n      <th>46</th>\n      <td>-23,408938439795886</td>\n      <td>-46,675254686509284</td>\n      <td>https://weather.visualcrossing.com/VisualCross...</td>\n      <td>Partially cloudy</td>\n    </tr>\n    <tr>\n      <th>47</th>\n      <td>-23,612613072459055</td>\n      <td>-46,77887607028904</td>\n      <td>https://weather.visualcrossing.com/VisualCross...</td>\n      <td>Partially cloudy</td>\n    </tr>\n    <tr>\n      <th>48</th>\n      <td>-23,582905</td>\n      <td>-46,702741</td>\n      <td>https://weather.visualcrossing.com/VisualCross...</td>\n      <td>Partially cloudy</td>\n    </tr>\n    <tr>\n      <th>49</th>\n      <td>-23,656679</td>\n      <td>-46,506779</td>\n      <td>https://weather.visualcrossing.com/VisualCross...</td>\n      <td>Clear</td>\n    </tr>\n    <tr>\n      <th>50</th>\n      <td>-23,599841893287387</td>\n      <td>-46,88231357497849</td>\n      <td>https://weather.visualcrossing.com/VisualCross...</td>\n      <td>Clear</td>\n    </tr>\n    <tr>\n      <th>51</th>\n      <td>-23,486675703145725</td>\n      <td>-46,55949278381248</td>\n      <td>https://weather.visualcrossing.com/VisualCross...</td>\n      <td>Partially cloudy</td>\n    </tr>\n    <tr>\n      <th>52</th>\n      <td>-23,691581</td>\n      <td>-46,587131</td>\n      <td>https://weather.visualcrossing.com/VisualCross...</td>\n      <td>Clear</td>\n    </tr>\n    <tr>\n      <th>53</th>\n      <td>-23,44309116907146</td>\n      <td>-46,44463413584089</td>\n      <td>https://weather.visualcrossing.com/VisualCross...</td>\n      <td>Clear</td>\n    </tr>\n    <tr>\n      <th>54</th>\n      <td>-23,608811</td>\n      <td>-46,637951</td>\n      <td>https://weather.visualcrossing.com/VisualCross...</td>\n      <td>Clear</td>\n    </tr>\n    <tr>\n      <th>55</th>\n      <td>-23,477128930919772</td>\n      <td>-46,52748343317096</td>\n      <td>https://weather.visualcrossing.com/VisualCross...</td>\n      <td>Partially cloudy</td>\n    </tr>\n    <tr>\n      <th>56</th>\n      <td>-23,4538</td>\n      <td>-46,675284</td>\n      <td>https://weather.visualcrossing.com/VisualCross...</td>\n      <td>Overcast</td>\n    </tr>\n    <tr>\n      <th>57</th>\n      <td>-23,458365</td>\n      <td>-46,488871</td>\n      <td>https://weather.visualcrossing.com/VisualCross...</td>\n      <td>Clear</td>\n    </tr>\n    <tr>\n      <th>58</th>\n      <td>-23,7325450477795</td>\n      <td>-46,697253565706</td>\n      <td>https://weather.visualcrossing.com/VisualCross...</td>\n      <td>Clear</td>\n    </tr>\n    <tr>\n      <th>59</th>\n      <td>-23,703733731978453</td>\n      <td>-46,38271946224993</td>\n      <td>https://weather.visualcrossing.com/VisualCross...</td>\n      <td>Clear</td>\n    </tr>\n    <tr>\n      <th>60</th>\n      <td>-23,566461</td>\n      <td>-46,850953</td>\n      <td>https://weather.visualcrossing.com/VisualCross...</td>\n      <td>Clear</td>\n    </tr>\n    <tr>\n      <th>61</th>\n      <td>-23,388257</td>\n      <td>-46,712859</td>\n      <td>https://weather.visualcrossing.com/VisualCross...</td>\n      <td>Partially cloudy</td>\n    </tr>\n    <tr>\n      <th>62</th>\n      <td>-23,640588</td>\n      <td>-46,804807</td>\n      <td>https://weather.visualcrossing.com/VisualCross...</td>\n      <td>Clear</td>\n    </tr>\n    <tr>\n      <th>63</th>\n      <td>-23,852192972</td>\n      <td>-46,841419357</td>\n      <td>https://weather.visualcrossing.com/VisualCross...</td>\n      <td>Partially cloudy</td>\n    </tr>\n    <tr>\n      <th>64</th>\n      <td>-23,34010700586835</td>\n      <td>-46,73849467636673</td>\n      <td>https://weather.visualcrossing.com/VisualCross...</td>\n      <td>Overcast</td>\n    </tr>\n    <tr>\n      <th>65</th>\n      <td>-23,3999416099999</td>\n      <td>-46,399276922</td>\n      <td>https://weather.visualcrossing.com/VisualCross...</td>\n      <td>Overcast</td>\n    </tr>\n    <tr>\n      <th>66</th>\n      <td>-23,569461</td>\n      <td>-46,547896</td>\n      <td>https://weather.visualcrossing.com/VisualCross...</td>\n      <td>Partially cloudy</td>\n    </tr>\n    <tr>\n      <th>67</th>\n      <td>-23,47034964531011</td>\n      <td>-46,894068301821065</td>\n      <td>https://weather.visualcrossing.com/VisualCross...</td>\n      <td>Partially cloudy</td>\n    </tr>\n    <tr>\n      <th>68</th>\n      <td>-23,5072935078528</td>\n      <td>-46,482846122852</td>\n      <td>https://weather.visualcrossing.com/VisualCross...</td>\n      <td>Clear</td>\n    </tr>\n    <tr>\n      <th>69</th>\n      <td>-23,338905174851604</td>\n      <td>-46,7437990134228</td>\n      <td>https://weather.visualcrossing.com/VisualCross...</td>\n      <td>Partially cloudy</td>\n    </tr>\n    <tr>\n      <th>70</th>\n      <td>-23,499118</td>\n      <td>-46,351258</td>\n      <td>https://weather.visualcrossing.com/VisualCross...</td>\n      <td>Clear</td>\n    </tr>\n    <tr>\n      <th>71</th>\n      <td>-23,52278458</td>\n      <td>-46,659077064</td>\n      <td>https://weather.visualcrossing.com/VisualCross...</td>\n      <td>Partially cloudy</td>\n    </tr>\n    <tr>\n      <th>72</th>\n      <td>-23,71969379026731</td>\n      <td>-46,557009256564214</td>\n      <td>https://weather.visualcrossing.com/VisualCross...</td>\n      <td>Overcast</td>\n    </tr>\n    <tr>\n      <th>73</th>\n      <td>-23,506997606950733</td>\n      <td>-46,837929804587105</td>\n      <td>https://weather.visualcrossing.com/VisualCross...</td>\n      <td>Clear</td>\n    </tr>\n    <tr>\n      <th>74</th>\n      <td>-23,595097</td>\n      <td>-46,486777</td>\n      <td>https://weather.visualcrossing.com/VisualCross...</td>\n      <td>Clear</td>\n    </tr>\n    <tr>\n      <th>75</th>\n      <td>-23,62620998133874</td>\n      <td>-46,371328411605724</td>\n      <td>https://weather.visualcrossing.com/VisualCross...</td>\n      <td>Partially cloudy</td>\n    </tr>\n    <tr>\n      <th>76</th>\n      <td>-23,4228809839578</td>\n      <td>-46,8771364962445</td>\n      <td>https://weather.visualcrossing.com/VisualCross...</td>\n      <td>Clear</td>\n    </tr>\n    <tr>\n      <th>77</th>\n      <td>-23,629285</td>\n      <td>-46,647897</td>\n      <td>https://weather.visualcrossing.com/VisualCross...</td>\n      <td>Overcast</td>\n    </tr>\n  </tbody>\n</table>\n</div>"
     },
     "metadata": {},
     "execution_count": 36
    }
   ],
   "source": [
    "df_escolhido[['Latitude','Longitude','API_url','Condições Climáticas']]"
   ]
  },
  {
   "cell_type": "code",
   "execution_count": 37,
   "metadata": {},
   "outputs": [
    {
     "output_type": "stream",
     "name": "stderr",
     "text": [
      "C:\\Users\\Renato\\anaconda3\\envs\\Data_Science\\lib\\site-packages\\pandas\\core\\frame.py:4308: SettingWithCopyWarning: \nA value is trying to be set on a copy of a slice from a DataFrame\n\nSee the caveats in the documentation: https://pandas.pydata.org/pandas-docs/stable/user_guide/indexing.html#returning-a-view-versus-a-copy\n  return super().drop(\n"
     ]
    }
   ],
   "source": [
    "# dropando coluna URL\n",
    "df_escolhido.drop(columns='API_url',axis=1,inplace=True)"
   ]
  },
  {
   "cell_type": "code",
   "execution_count": 38,
   "metadata": {},
   "outputs": [],
   "source": [
    "#exportando cada df escolhido na pasta weather API\n",
    "df_escolhido.to_csv(r'C:\\\\Users\\Renato\\OneDrive\\Projeto_TERA\\Predição Acidentes Motocicleta\\Projeto-TERA-Data-Science---Acidentes-Motocicletas\\Weather_API_data\\{}.csv'.format(nome_df))"
   ]
  }
 ]
}