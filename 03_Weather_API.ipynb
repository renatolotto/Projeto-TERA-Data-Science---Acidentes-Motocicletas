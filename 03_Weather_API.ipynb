{
 "metadata": {
  "language_info": {
   "codemirror_mode": {
    "name": "ipython",
    "version": 3
   },
   "file_extension": ".py",
   "mimetype": "text/x-python",
   "name": "python",
   "nbconvert_exporter": "python",
   "pygments_lexer": "ipython3",
   "version": "3.8.8"
  },
  "orig_nbformat": 2,
  "kernelspec": {
   "name": "python388jvsc74a57bd054aafdb36ba7a57007c1052e291baf553a31e85cae918a266292c7469c0efefb",
   "display_name": "Python 3.8.8 64-bit ('Data_Science': conda)"
  }
 },
 "nbformat": 4,
 "nbformat_minor": 2,
 "cells": [
  {
   "cell_type": "code",
   "execution_count": 1,
   "metadata": {},
   "outputs": [],
   "source": [
    "import numpy as np\n",
    "import pandas as pd\n",
    "import json\n",
    "import urllib, json"
   ]
  },
  {
   "cell_type": "code",
   "execution_count": 2,
   "metadata": {},
   "outputs": [],
   "source": [
    "df_API_fatais = pd.read_csv('df_API_fatais.csv')\n",
    "\n"
   ]
  },
  {
   "cell_type": "code",
   "execution_count": 3,
   "metadata": {},
   "outputs": [
    {
     "output_type": "execute_result",
     "data": {
      "text/plain": [
       "     Data do Acidente             Latitude           Longitude  \\\n",
       "0          2020-12-29    -23,7464627689999       -46,803836335   \n",
       "1          2020-12-26  -23,458778790416762  -46,48209129083817   \n",
       "2          2020-12-26  -23,418102298841816  -46,37791152937248   \n",
       "3          2020-12-26   -23,54191853681889  -47,01329391534144   \n",
       "4          2020-12-25  -23,487367560249513  -46,75690361349391   \n",
       "...               ...                  ...                 ...   \n",
       "3195       2015-02-18  -23,404111592317488  -46,57599535696205   \n",
       "3196       2015-01-15           -23,632392          -46,472206   \n",
       "3197       2014-12-28           -23,555237          -46,849214   \n",
       "3198       2014-11-05           -23,644498          -46,538558   \n",
       "3199       2012-06-15           -23,647306          -46,778984   \n",
       "\n",
       "      Condições Climáticas  Hora  \n",
       "0                      NaN   9.0  \n",
       "1                      NaN   2.0  \n",
       "2                      NaN   0.0  \n",
       "3                      NaN  18.0  \n",
       "4                      NaN   6.0  \n",
       "...                    ...   ...  \n",
       "3195                   NaN  11.0  \n",
       "3196                   NaN  14.0  \n",
       "3197                   NaN  14.0  \n",
       "3198                   NaN  15.0  \n",
       "3199                   NaN  22.0  \n",
       "\n",
       "[3200 rows x 5 columns]"
      ],
      "text/html": "<div>\n<style scoped>\n    .dataframe tbody tr th:only-of-type {\n        vertical-align: middle;\n    }\n\n    .dataframe tbody tr th {\n        vertical-align: top;\n    }\n\n    .dataframe thead th {\n        text-align: right;\n    }\n</style>\n<table border=\"1\" class=\"dataframe\">\n  <thead>\n    <tr style=\"text-align: right;\">\n      <th></th>\n      <th>Data do Acidente</th>\n      <th>Latitude</th>\n      <th>Longitude</th>\n      <th>Condições Climáticas</th>\n      <th>Hora</th>\n    </tr>\n  </thead>\n  <tbody>\n    <tr>\n      <th>0</th>\n      <td>2020-12-29</td>\n      <td>-23,7464627689999</td>\n      <td>-46,803836335</td>\n      <td>NaN</td>\n      <td>9.0</td>\n    </tr>\n    <tr>\n      <th>1</th>\n      <td>2020-12-26</td>\n      <td>-23,458778790416762</td>\n      <td>-46,48209129083817</td>\n      <td>NaN</td>\n      <td>2.0</td>\n    </tr>\n    <tr>\n      <th>2</th>\n      <td>2020-12-26</td>\n      <td>-23,418102298841816</td>\n      <td>-46,37791152937248</td>\n      <td>NaN</td>\n      <td>0.0</td>\n    </tr>\n    <tr>\n      <th>3</th>\n      <td>2020-12-26</td>\n      <td>-23,54191853681889</td>\n      <td>-47,01329391534144</td>\n      <td>NaN</td>\n      <td>18.0</td>\n    </tr>\n    <tr>\n      <th>4</th>\n      <td>2020-12-25</td>\n      <td>-23,487367560249513</td>\n      <td>-46,75690361349391</td>\n      <td>NaN</td>\n      <td>6.0</td>\n    </tr>\n    <tr>\n      <th>...</th>\n      <td>...</td>\n      <td>...</td>\n      <td>...</td>\n      <td>...</td>\n      <td>...</td>\n    </tr>\n    <tr>\n      <th>3195</th>\n      <td>2015-02-18</td>\n      <td>-23,404111592317488</td>\n      <td>-46,57599535696205</td>\n      <td>NaN</td>\n      <td>11.0</td>\n    </tr>\n    <tr>\n      <th>3196</th>\n      <td>2015-01-15</td>\n      <td>-23,632392</td>\n      <td>-46,472206</td>\n      <td>NaN</td>\n      <td>14.0</td>\n    </tr>\n    <tr>\n      <th>3197</th>\n      <td>2014-12-28</td>\n      <td>-23,555237</td>\n      <td>-46,849214</td>\n      <td>NaN</td>\n      <td>14.0</td>\n    </tr>\n    <tr>\n      <th>3198</th>\n      <td>2014-11-05</td>\n      <td>-23,644498</td>\n      <td>-46,538558</td>\n      <td>NaN</td>\n      <td>15.0</td>\n    </tr>\n    <tr>\n      <th>3199</th>\n      <td>2012-06-15</td>\n      <td>-23,647306</td>\n      <td>-46,778984</td>\n      <td>NaN</td>\n      <td>22.0</td>\n    </tr>\n  </tbody>\n</table>\n<p>3200 rows × 5 columns</p>\n</div>"
     },
     "metadata": {},
     "execution_count": 3
    }
   ],
   "source": [
    "df_API_fatais"
   ]
  },
  {
   "cell_type": "code",
   "execution_count": 4,
   "metadata": {},
   "outputs": [
    {
     "output_type": "stream",
     "name": "stdout",
     "text": [
      "<class 'pandas.core.frame.DataFrame'>\nRangeIndex: 3200 entries, 0 to 3199\nData columns (total 5 columns):\n #   Column                Non-Null Count  Dtype  \n---  ------                --------------  -----  \n 0   Data do Acidente      3200 non-null   object \n 1   Latitude              3200 non-null   object \n 2   Longitude             3200 non-null   object \n 3   Condições Climáticas  0 non-null      float64\n 4   Hora                  3200 non-null   float64\ndtypes: float64(2), object(3)\nmemory usage: 125.1+ KB\n"
     ]
    }
   ],
   "source": [
    "df_API_fatais.info()"
   ]
  },
  {
   "cell_type": "code",
   "execution_count": 205,
   "metadata": {},
   "outputs": [],
   "source": [
    "# criar dataset pequeno para nao exceder o limite do API\n",
    "#normalmente limite é 41 linhas diárias\n",
    "\n",
    "# df1 = df_API_fatais.iloc[:11,:] #DONE checado\n",
    "# df2 = df_API_fatais.iloc[11:39,:] #DONE checado\n",
    "# df3 = df_API_fatais.iloc[39:78,:] #Done checago\n",
    "# df4 = df_API_fatais.iloc[78:178,:] DONE checado\n",
    "# df5 = df_API_fatais.iloc[178:300,:] DONE checado\n",
    "# df6 = df_API_fatais.iloc[300:460,:] DONE checado\n",
    "# df7 = df_API_fatais.iloc[460:501,:] DONE checado\n",
    "# df8 = df_API_fatais.iloc[501:542,:] DONE checado\n",
    "# df9 = df_API_fatais.iloc[542:583,:] DONE checado\n",
    "# df10 = df_API_fatais.iloc[583:624,:] done checado\n",
    "# df11 = df_API_fatais.iloc[624:665,:] #DONE\n",
    "# df12 = df_API_fatais.iloc[665:706,:] #DONE\n",
    "# df13 = df_API_fatais.iloc[706:747,:] #DONE\n",
    "# df14 = df_API_fatais.iloc[747:788,:] #DONE\n",
    "# df15 = df_API_fatais.iloc[788:829,:] #DONE\n",
    "# df16 = df_API_fatais.iloc[829:870,:] #DONE\n",
    "# df17 = df_API_fatais.iloc[870:911,:] #DONE\n",
    "# df18 = df_API_fatais.iloc[911:952,:] #DONE\n",
    "# df19 = df_API_fatais.iloc[952:993,:] #DONE\n",
    "#a partir daqui tem precipitação\n",
    "# df20 = df_API_fatais.iloc[993:1033,:]\n",
    "# df21 = df_API_fatais.iloc[1033:1074,:]\n",
    "# df22 = df_API_fatais.iloc[1074:1115,:]\n",
    "# df23 = df_API_fatais.iloc[1115:1156,:]\n",
    "# df24 = df_API_fatais.iloc[1156:1197,:]\n",
    "# df25 = df_API_fatais.iloc[1197:1238,:]\n",
    "# df26 = df_API_fatais.iloc[1238:1279,:]\n",
    "# df27 = df_API_fatais.iloc[1279:1320,:]\n",
    "# df28 = df_API_fatais.iloc[1320:1361,:]\n",
    "# df29 = df_API_fatais.iloc[1361:1402,:]\n",
    "# df30 = df_API_fatais.iloc[1402:1443,:]\n",
    "# df31 = df_API_fatais.iloc[1443:1484,:]\n",
    "# df32 = df_API_fatais.iloc[1484:1525,:]\n",
    "# df33 = df_API_fatais.iloc[1525:1566,:]\n",
    "# df34 = df_API_fatais.iloc[1566:1607,:]\n",
    "# df35 = df_API_fatais.iloc[1607:1648,:]\n",
    "# df36 = df_API_fatais.iloc[1648:1689,:]\n",
    "# df37 = df_API_fatais.iloc[1689:1730,:]\n",
    "# df38 = df_API_fatais.iloc[1730:1771,:]\n",
    "# df39 = df_API_fatais.iloc[1771:1812,:]\n",
    "# df40 = df_API_fatais.iloc[1812:1853,:]\n",
    "# df41 = df_API_fatais.iloc[1853:1894,:]\n",
    "# df42 = df_API_fatais.iloc[1894:1935,:]\n",
    "# df43 = df_API_fatais.iloc[1935:1976,:]\n",
    "# df44 = df_API_fatais.iloc[1976:2017,:]\n",
    "# df45 = df_API_fatais.iloc[2017:2058,:]\n",
    "# df46 = df_API_fatais.iloc[2058:2099,:]\n",
    "# df47 = df_API_fatais.iloc[2099:2140,:]\n",
    "# df48 = df_API_fatais.iloc[2140:2181,:]\n",
    "# df49 = df_API_fatais.iloc[2181:2222,:]\n",
    "# df50 = df_API_fatais.iloc[2222:2263,:]\n",
    "# df51 = df_API_fatais.iloc[2263:2304,:]\n",
    "# df52 = df_API_fatais.iloc[2304:2345,:]\n",
    "# df53 = df_API_fatais.iloc[2345:2386,:]\n",
    "# df54 = df_API_fatais.iloc[2386:2427,:]\n",
    "# df55 = df_API_fatais.iloc[2427:2468,:]\n",
    "# df56 = df_API_fatais.iloc[2468:2509,:]\n",
    "# df57 = df_API_fatais.iloc[2509:2550,:]\n",
    "# df58 = df_API_fatais.iloc[2550:2591,:]\n",
    "# df59 = df_API_fatais.iloc[2591:2632,:]\n",
    "# df60 = df_API_fatais.iloc[2632:2673,:]\n",
    "# df61 = df_API_fatais.iloc[2673:2714,:]\n",
    "# df62 = df_API_fatais.iloc[2714:2755,:]\n",
    "# df63 = df_API_fatais.iloc[2755:2796,:]\n",
    "# df64 = df_API_fatais.iloc[2755:2796,:]\n",
    "# df65 = df_API_fatais.iloc[2796:2837,:]\n",
    "# df66 = df_API_fatais.iloc[2837:2878,:]\n",
    "# df67 = df_API_fatais.iloc[2878:2919,:]\n",
    "# df68 = df_API_fatais.iloc[2919:2960,:]\n",
    "# df69 = df_API_fatais.iloc[2960:3001,:]\n",
    "# df70 = df_API_fatais.iloc[3001:3042,:]\n",
    "df71 = df_API_fatais.iloc[3042:3083,:]\n",
    "# df72 = df_API_fatais.iloc[3083:3124,:]\n",
    "# df73 = df_API_fatais.iloc[3124:3165,:]\n",
    "\n"
   ]
  },
  {
   "cell_type": "code",
   "execution_count": 206,
   "metadata": {},
   "outputs": [
    {
     "output_type": "stream",
     "name": "stdout",
     "text": [
      "-Serão consumido 984 créditos\n\n-Capacidade de 697 linhas por dia\n\n-Demorará mais 1.109038737446198 dias\n"
     ]
    }
   ],
   "source": [
    "#CRÉDTIOS QUE SERÃO CONSUMIDOS POR CADA DF\n",
    "df_de_hoje=df71\n",
    "print('-Serão consumido',df_de_hoje.shape[0]*24,'créditos')\n",
    "print()\n",
    "\n",
    "n_chaves=17\n",
    "capacidade_dia=n_chaves*df_de_hoje.shape[0]\n",
    "print('-Capacidade de',capacidade_dia,'linhas por dia')\n",
    "print()\n",
    "\n",
    "prev_dias= (3200-2427)/capacidade_dia\n",
    "print('-Demorará mais',prev_dias,'dias')\n",
    "\n"
   ]
  },
  {
   "cell_type": "code",
   "execution_count": 207,
   "metadata": {},
   "outputs": [],
   "source": [
    "# ESCOLHER DF AQUI E RODAR DAQUI PRA BAIXO\n",
    "key1='B8JYA2DGP8JEMDN3SH4N4XGTT' #meu hotmail\n",
    "key2='A6USW7ZJVKXS796M85TUD5JB7' #Jobanegas@gmail.com, projetoTERA\n",
    "key3='SM2SEHMQ5C293FLZ5QBABUNUB'#meu gmail,\n",
    "key4='YEW24DH9DQC8K5PV9V4G6JDUE'#scania\n",
    "key5='L8W8YG6RD4JZ8E2V9NRYFBNCQ'#globo\n",
    "key6='9HS474ZGKWUFCC2CLE8SJ2GN8'#josybanegas@hotmail.com, projetoTERA2\n",
    "key7='PMFULACV4XSBP4LM2DGMRZA6S'#mi\n",
    "key8='NP47JLCE98FFHNGS5A69CFPGQ'#regi\n",
    "key9='S3Q3HW8B7AH2YEGCHUZ83WNNY'#pai\n",
    "key10='6M6F3HXMZMZJY6RUGX9EY9PLJ'#felipe1\n",
    "key11='CL5AYD4WYK4VCLPVJMXUJ7NDR'#felipe2\n",
    "key12='VSZRSD8JR53V7MS3R48U8Y79F'#felipe3\n",
    "key13='C58YE5ERBL5KNAXNU4QC3RZG6'#felipe4\n",
    "key14='GHYD5YGL7BZPPCNYNJMH6EYSE'#mi trab\n",
    "key15='7GSMXKHZV5XXGP9SH7W5S6VYC'#josy tra\n",
    "key16='HCTGMSJGY4YXTR7XT2RCFNEAL'#ivan1\n",
    "key17='ZBKHCV5PXP687E9JVPXUGGTY7'#ivan2\n",
    "\n",
    "key_escolhida = key17\n",
    "df_escolhido = df71 ##### ATENÇÃO NO NOME....SE NÃO ATUALIZAR VAI SOBRESCREVER OS DFS JÁ SALVOS\n",
    "nome_df = 'df71'\n",
    "\n"
   ]
  },
  {
   "cell_type": "code",
   "execution_count": 208,
   "metadata": {},
   "outputs": [],
   "source": [
    "def create_URL_column(df):\n",
    "    if pd.isnull(df['Condições Climáticas']):\n",
    "        return \"https://weather.visualcrossing.com/VisualCrossingWebServices/rest/services/timeline/{},{}/{}?key={}\".format(df['Latitude'].replace(',','.'),df['Longitude'].replace(',','.'),df['Data do Acidente'][0:10],key_escolhida)\n",
    "    else:\n",
    "        return 'Já temos'"
   ]
  },
  {
   "cell_type": "code",
   "execution_count": 209,
   "metadata": {},
   "outputs": [
    {
     "output_type": "stream",
     "name": "stderr",
     "text": [
      "<ipython-input-209-753ec4956c79>:1: SettingWithCopyWarning: \nA value is trying to be set on a copy of a slice from a DataFrame.\nTry using .loc[row_indexer,col_indexer] = value instead\n\nSee the caveats in the documentation: https://pandas.pydata.org/pandas-docs/stable/user_guide/indexing.html#returning-a-view-versus-a-copy\n  df_escolhido['API_url']= 'zero'\n<ipython-input-209-753ec4956c79>:2: SettingWithCopyWarning: \nA value is trying to be set on a copy of a slice from a DataFrame.\nTry using .loc[row_indexer,col_indexer] = value instead\n\nSee the caveats in the documentation: https://pandas.pydata.org/pandas-docs/stable/user_guide/indexing.html#returning-a-view-versus-a-copy\n  df_escolhido['Hora'] = df_escolhido['Hora'].astype(int)\n<ipython-input-209-753ec4956c79>:3: SettingWithCopyWarning: \nA value is trying to be set on a copy of a slice from a DataFrame.\nTry using .loc[row_indexer,col_indexer] = value instead\n\nSee the caveats in the documentation: https://pandas.pydata.org/pandas-docs/stable/user_guide/indexing.html#returning-a-view-versus-a-copy\n  df_escolhido['API_url'] = df_escolhido.apply(lambda df: create_URL_column(df),axis=1)\n"
     ]
    }
   ],
   "source": [
    "df_escolhido['API_url']= 'zero'\n",
    "df_escolhido['Hora'] = df_escolhido['Hora'].astype(int)\n",
    "df_escolhido['API_url'] = df_escolhido.apply(lambda df: create_URL_column(df),axis=1)"
   ]
  },
  {
   "cell_type": "code",
   "execution_count": 210,
   "metadata": {},
   "outputs": [
    {
     "output_type": "execute_result",
     "data": {
      "text/plain": [
       "['https://weather.visualcrossing.com/VisualCrossingWebServices/rest/services/timeline/-23.654535,-46.423381/2018-04-22?key=ZBKHCV5PXP687E9JVPXUGGTY7',\n",
       " 'https://weather.visualcrossing.com/VisualCrossingWebServices/rest/services/timeline/-23.728261,-46.573701/2018-04-20?key=ZBKHCV5PXP687E9JVPXUGGTY7',\n",
       " 'https://weather.visualcrossing.com/VisualCrossingWebServices/rest/services/timeline/-23.528289,-46.319018/2018-04-05?key=ZBKHCV5PXP687E9JVPXUGGTY7',\n",
       " 'https://weather.visualcrossing.com/VisualCrossingWebServices/rest/services/timeline/-23.335109,-46.841859/2018-04-05?key=ZBKHCV5PXP687E9JVPXUGGTY7',\n",
       " 'https://weather.visualcrossing.com/VisualCrossingWebServices/rest/services/timeline/-23.662173,-46.661971/2018-04-04?key=ZBKHCV5PXP687E9JVPXUGGTY7',\n",
       " 'https://weather.visualcrossing.com/VisualCrossingWebServices/rest/services/timeline/-23.714298,-46.548774/2018-03-27?key=ZBKHCV5PXP687E9JVPXUGGTY7',\n",
       " 'https://weather.visualcrossing.com/VisualCrossingWebServices/rest/services/timeline/-23.592784,-46.546741/2018-03-26?key=ZBKHCV5PXP687E9JVPXUGGTY7',\n",
       " 'https://weather.visualcrossing.com/VisualCrossingWebServices/rest/services/timeline/-23.496258,-46.652032/2018-03-17?key=ZBKHCV5PXP687E9JVPXUGGTY7',\n",
       " 'https://weather.visualcrossing.com/VisualCrossingWebServices/rest/services/timeline/-23.606858,-46.472132/2018-03-17?key=ZBKHCV5PXP687E9JVPXUGGTY7',\n",
       " 'https://weather.visualcrossing.com/VisualCrossingWebServices/rest/services/timeline/-23.565635,-46.647736/2018-03-16?key=ZBKHCV5PXP687E9JVPXUGGTY7',\n",
       " 'https://weather.visualcrossing.com/VisualCrossingWebServices/rest/services/timeline/-23.680238,-46.664072/2018-03-16?key=ZBKHCV5PXP687E9JVPXUGGTY7',\n",
       " 'https://weather.visualcrossing.com/VisualCrossingWebServices/rest/services/timeline/-23.535962,-46.847378/2018-03-05?key=ZBKHCV5PXP687E9JVPXUGGTY7',\n",
       " 'https://weather.visualcrossing.com/VisualCrossingWebServices/rest/services/timeline/-23.60851,-46.662249/2018-02-27?key=ZBKHCV5PXP687E9JVPXUGGTY7',\n",
       " 'https://weather.visualcrossing.com/VisualCrossingWebServices/rest/services/timeline/-23.543075,-46.579935/2018-02-27?key=ZBKHCV5PXP687E9JVPXUGGTY7',\n",
       " 'https://weather.visualcrossing.com/VisualCrossingWebServices/rest/services/timeline/-23.614697480319883,-46.97550091304159/2018-02-24?key=ZBKHCV5PXP687E9JVPXUGGTY7',\n",
       " 'https://weather.visualcrossing.com/VisualCrossingWebServices/rest/services/timeline/-23.734768,-46.585027/2018-02-20?key=ZBKHCV5PXP687E9JVPXUGGTY7',\n",
       " 'https://weather.visualcrossing.com/VisualCrossingWebServices/rest/services/timeline/-23.512385,-46.514444/2018-02-11?key=ZBKHCV5PXP687E9JVPXUGGTY7',\n",
       " 'https://weather.visualcrossing.com/VisualCrossingWebServices/rest/services/timeline/-23.338574,-46.758653/2018-02-11?key=ZBKHCV5PXP687E9JVPXUGGTY7',\n",
       " 'https://weather.visualcrossing.com/VisualCrossingWebServices/rest/services/timeline/-23.463398,-46.548026/2018-02-08?key=ZBKHCV5PXP687E9JVPXUGGTY7',\n",
       " 'https://weather.visualcrossing.com/VisualCrossingWebServices/rest/services/timeline/-23.4410916937639,-46.50775005222/2018-02-07?key=ZBKHCV5PXP687E9JVPXUGGTY7',\n",
       " 'https://weather.visualcrossing.com/VisualCrossingWebServices/rest/services/timeline/-23.7011085869469,-46.6244171817478/2018-02-04?key=ZBKHCV5PXP687E9JVPXUGGTY7',\n",
       " 'https://weather.visualcrossing.com/VisualCrossingWebServices/rest/services/timeline/-23.675563,-46.754498/2018-01-30?key=ZBKHCV5PXP687E9JVPXUGGTY7',\n",
       " 'https://weather.visualcrossing.com/VisualCrossingWebServices/rest/services/timeline/-23.522792,-46.206405/2018-01-19?key=ZBKHCV5PXP687E9JVPXUGGTY7',\n",
       " 'https://weather.visualcrossing.com/VisualCrossingWebServices/rest/services/timeline/-23.654466814606,-46.4464520681212/2018-01-17?key=ZBKHCV5PXP687E9JVPXUGGTY7',\n",
       " 'https://weather.visualcrossing.com/VisualCrossingWebServices/rest/services/timeline/-23.5375225044857,-46.1807408565714/2018-01-15?key=ZBKHCV5PXP687E9JVPXUGGTY7',\n",
       " 'https://weather.visualcrossing.com/VisualCrossingWebServices/rest/services/timeline/-23.539279,-46.608476/2018-01-12?key=ZBKHCV5PXP687E9JVPXUGGTY7',\n",
       " 'https://weather.visualcrossing.com/VisualCrossingWebServices/rest/services/timeline/-23.682527,-46.626118/2018-01-04?key=ZBKHCV5PXP687E9JVPXUGGTY7',\n",
       " 'https://weather.visualcrossing.com/VisualCrossingWebServices/rest/services/timeline/-23.466912325,-46.750130653/2018-01-02?key=ZBKHCV5PXP687E9JVPXUGGTY7',\n",
       " 'https://weather.visualcrossing.com/VisualCrossingWebServices/rest/services/timeline/-23.432028,-46.71553/2018-01-01?key=ZBKHCV5PXP687E9JVPXUGGTY7',\n",
       " 'https://weather.visualcrossing.com/VisualCrossingWebServices/rest/services/timeline/-23.654437,-46.492382/2017-12-28?key=ZBKHCV5PXP687E9JVPXUGGTY7',\n",
       " 'https://weather.visualcrossing.com/VisualCrossingWebServices/rest/services/timeline/-23.7162378700263,-46.6105323387105/2017-12-25?key=ZBKHCV5PXP687E9JVPXUGGTY7',\n",
       " 'https://weather.visualcrossing.com/VisualCrossingWebServices/rest/services/timeline/-23.332374,-46.606396/2017-12-25?key=ZBKHCV5PXP687E9JVPXUGGTY7',\n",
       " 'https://weather.visualcrossing.com/VisualCrossingWebServices/rest/services/timeline/-23.588296,-46.483594/2017-12-23?key=ZBKHCV5PXP687E9JVPXUGGTY7',\n",
       " 'https://weather.visualcrossing.com/VisualCrossingWebServices/rest/services/timeline/-23.551767,-46.805722/2017-12-14?key=ZBKHCV5PXP687E9JVPXUGGTY7',\n",
       " 'https://weather.visualcrossing.com/VisualCrossingWebServices/rest/services/timeline/-23.520398,-46.833637/2017-12-01?key=ZBKHCV5PXP687E9JVPXUGGTY7',\n",
       " 'https://weather.visualcrossing.com/VisualCrossingWebServices/rest/services/timeline/-23.5437203751933,-46.259912282576/2017-11-30?key=ZBKHCV5PXP687E9JVPXUGGTY7',\n",
       " 'https://weather.visualcrossing.com/VisualCrossingWebServices/rest/services/timeline/-23.568416,-46.540737/2017-11-25?key=ZBKHCV5PXP687E9JVPXUGGTY7',\n",
       " 'https://weather.visualcrossing.com/VisualCrossingWebServices/rest/services/timeline/-23.657449,-46.795888/2017-11-25?key=ZBKHCV5PXP687E9JVPXUGGTY7',\n",
       " 'https://weather.visualcrossing.com/VisualCrossingWebServices/rest/services/timeline/-23.6815884061754,-46.6102336432407/2017-11-19?key=ZBKHCV5PXP687E9JVPXUGGTY7',\n",
       " 'https://weather.visualcrossing.com/VisualCrossingWebServices/rest/services/timeline/-23.425585,-46.437421/2017-11-15?key=ZBKHCV5PXP687E9JVPXUGGTY7',\n",
       " 'https://weather.visualcrossing.com/VisualCrossingWebServices/rest/services/timeline/-23.699375,-46.426275/2017-11-13?key=ZBKHCV5PXP687E9JVPXUGGTY7']"
      ]
     },
     "metadata": {},
     "execution_count": 210
    }
   ],
   "source": [
    "list(df_escolhido['API_url'])"
   ]
  },
  {
   "cell_type": "code",
   "execution_count": 211,
   "metadata": {},
   "outputs": [
    {
     "output_type": "execute_result",
     "data": {
      "text/plain": [
       "                 Latitude           Longitude  \\\n",
       "3042           -23,654535          -46,423381   \n",
       "3043           -23,728261          -46,573701   \n",
       "3044           -23,528289          -46,319018   \n",
       "3045           -23,335109          -46,841859   \n",
       "3046           -23,662173          -46,661971   \n",
       "3047           -23,714298          -46,548774   \n",
       "3048           -23,592784          -46,546741   \n",
       "3049           -23,496258          -46,652032   \n",
       "3050           -23,606858          -46,472132   \n",
       "3051           -23,565635          -46,647736   \n",
       "3052           -23,680238          -46,664072   \n",
       "3053           -23,535962          -46,847378   \n",
       "3054            -23,60851          -46,662249   \n",
       "3055           -23,543075          -46,579935   \n",
       "3056  -23,614697480319883  -46,97550091304159   \n",
       "3057           -23,734768          -46,585027   \n",
       "3058           -23,512385          -46,514444   \n",
       "3059           -23,338574          -46,758653   \n",
       "3060           -23,463398          -46,548026   \n",
       "3061    -23,4410916937639     -46,50775005222   \n",
       "3062    -23,7011085869469   -46,6244171817478   \n",
       "3063           -23,675563          -46,754498   \n",
       "3064           -23,522792          -46,206405   \n",
       "3065     -23,654466814606   -46,4464520681212   \n",
       "3066    -23,5375225044857   -46,1807408565714   \n",
       "3067           -23,539279          -46,608476   \n",
       "3068           -23,682527          -46,626118   \n",
       "3069        -23,466912325       -46,750130653   \n",
       "3070           -23,432028           -46,71553   \n",
       "3071           -23,654437          -46,492382   \n",
       "3072    -23,7162378700263   -46,6105323387105   \n",
       "3073           -23,332374          -46,606396   \n",
       "3074           -23,588296          -46,483594   \n",
       "3075           -23,551767          -46,805722   \n",
       "3076           -23,520398          -46,833637   \n",
       "3077    -23,5437203751933    -46,259912282576   \n",
       "3078           -23,568416          -46,540737   \n",
       "3079           -23,657449          -46,795888   \n",
       "3080    -23,6815884061754   -46,6102336432407   \n",
       "3081           -23,425585          -46,437421   \n",
       "3082           -23,699375          -46,426275   \n",
       "\n",
       "                                                API_url  Condições Climáticas  \n",
       "3042  https://weather.visualcrossing.com/VisualCross...                   NaN  \n",
       "3043  https://weather.visualcrossing.com/VisualCross...                   NaN  \n",
       "3044  https://weather.visualcrossing.com/VisualCross...                   NaN  \n",
       "3045  https://weather.visualcrossing.com/VisualCross...                   NaN  \n",
       "3046  https://weather.visualcrossing.com/VisualCross...                   NaN  \n",
       "3047  https://weather.visualcrossing.com/VisualCross...                   NaN  \n",
       "3048  https://weather.visualcrossing.com/VisualCross...                   NaN  \n",
       "3049  https://weather.visualcrossing.com/VisualCross...                   NaN  \n",
       "3050  https://weather.visualcrossing.com/VisualCross...                   NaN  \n",
       "3051  https://weather.visualcrossing.com/VisualCross...                   NaN  \n",
       "3052  https://weather.visualcrossing.com/VisualCross...                   NaN  \n",
       "3053  https://weather.visualcrossing.com/VisualCross...                   NaN  \n",
       "3054  https://weather.visualcrossing.com/VisualCross...                   NaN  \n",
       "3055  https://weather.visualcrossing.com/VisualCross...                   NaN  \n",
       "3056  https://weather.visualcrossing.com/VisualCross...                   NaN  \n",
       "3057  https://weather.visualcrossing.com/VisualCross...                   NaN  \n",
       "3058  https://weather.visualcrossing.com/VisualCross...                   NaN  \n",
       "3059  https://weather.visualcrossing.com/VisualCross...                   NaN  \n",
       "3060  https://weather.visualcrossing.com/VisualCross...                   NaN  \n",
       "3061  https://weather.visualcrossing.com/VisualCross...                   NaN  \n",
       "3062  https://weather.visualcrossing.com/VisualCross...                   NaN  \n",
       "3063  https://weather.visualcrossing.com/VisualCross...                   NaN  \n",
       "3064  https://weather.visualcrossing.com/VisualCross...                   NaN  \n",
       "3065  https://weather.visualcrossing.com/VisualCross...                   NaN  \n",
       "3066  https://weather.visualcrossing.com/VisualCross...                   NaN  \n",
       "3067  https://weather.visualcrossing.com/VisualCross...                   NaN  \n",
       "3068  https://weather.visualcrossing.com/VisualCross...                   NaN  \n",
       "3069  https://weather.visualcrossing.com/VisualCross...                   NaN  \n",
       "3070  https://weather.visualcrossing.com/VisualCross...                   NaN  \n",
       "3071  https://weather.visualcrossing.com/VisualCross...                   NaN  \n",
       "3072  https://weather.visualcrossing.com/VisualCross...                   NaN  \n",
       "3073  https://weather.visualcrossing.com/VisualCross...                   NaN  \n",
       "3074  https://weather.visualcrossing.com/VisualCross...                   NaN  \n",
       "3075  https://weather.visualcrossing.com/VisualCross...                   NaN  \n",
       "3076  https://weather.visualcrossing.com/VisualCross...                   NaN  \n",
       "3077  https://weather.visualcrossing.com/VisualCross...                   NaN  \n",
       "3078  https://weather.visualcrossing.com/VisualCross...                   NaN  \n",
       "3079  https://weather.visualcrossing.com/VisualCross...                   NaN  \n",
       "3080  https://weather.visualcrossing.com/VisualCross...                   NaN  \n",
       "3081  https://weather.visualcrossing.com/VisualCross...                   NaN  \n",
       "3082  https://weather.visualcrossing.com/VisualCross...                   NaN  "
      ],
      "text/html": "<div>\n<style scoped>\n    .dataframe tbody tr th:only-of-type {\n        vertical-align: middle;\n    }\n\n    .dataframe tbody tr th {\n        vertical-align: top;\n    }\n\n    .dataframe thead th {\n        text-align: right;\n    }\n</style>\n<table border=\"1\" class=\"dataframe\">\n  <thead>\n    <tr style=\"text-align: right;\">\n      <th></th>\n      <th>Latitude</th>\n      <th>Longitude</th>\n      <th>API_url</th>\n      <th>Condições Climáticas</th>\n    </tr>\n  </thead>\n  <tbody>\n    <tr>\n      <th>3042</th>\n      <td>-23,654535</td>\n      <td>-46,423381</td>\n      <td>https://weather.visualcrossing.com/VisualCross...</td>\n      <td>NaN</td>\n    </tr>\n    <tr>\n      <th>3043</th>\n      <td>-23,728261</td>\n      <td>-46,573701</td>\n      <td>https://weather.visualcrossing.com/VisualCross...</td>\n      <td>NaN</td>\n    </tr>\n    <tr>\n      <th>3044</th>\n      <td>-23,528289</td>\n      <td>-46,319018</td>\n      <td>https://weather.visualcrossing.com/VisualCross...</td>\n      <td>NaN</td>\n    </tr>\n    <tr>\n      <th>3045</th>\n      <td>-23,335109</td>\n      <td>-46,841859</td>\n      <td>https://weather.visualcrossing.com/VisualCross...</td>\n      <td>NaN</td>\n    </tr>\n    <tr>\n      <th>3046</th>\n      <td>-23,662173</td>\n      <td>-46,661971</td>\n      <td>https://weather.visualcrossing.com/VisualCross...</td>\n      <td>NaN</td>\n    </tr>\n    <tr>\n      <th>3047</th>\n      <td>-23,714298</td>\n      <td>-46,548774</td>\n      <td>https://weather.visualcrossing.com/VisualCross...</td>\n      <td>NaN</td>\n    </tr>\n    <tr>\n      <th>3048</th>\n      <td>-23,592784</td>\n      <td>-46,546741</td>\n      <td>https://weather.visualcrossing.com/VisualCross...</td>\n      <td>NaN</td>\n    </tr>\n    <tr>\n      <th>3049</th>\n      <td>-23,496258</td>\n      <td>-46,652032</td>\n      <td>https://weather.visualcrossing.com/VisualCross...</td>\n      <td>NaN</td>\n    </tr>\n    <tr>\n      <th>3050</th>\n      <td>-23,606858</td>\n      <td>-46,472132</td>\n      <td>https://weather.visualcrossing.com/VisualCross...</td>\n      <td>NaN</td>\n    </tr>\n    <tr>\n      <th>3051</th>\n      <td>-23,565635</td>\n      <td>-46,647736</td>\n      <td>https://weather.visualcrossing.com/VisualCross...</td>\n      <td>NaN</td>\n    </tr>\n    <tr>\n      <th>3052</th>\n      <td>-23,680238</td>\n      <td>-46,664072</td>\n      <td>https://weather.visualcrossing.com/VisualCross...</td>\n      <td>NaN</td>\n    </tr>\n    <tr>\n      <th>3053</th>\n      <td>-23,535962</td>\n      <td>-46,847378</td>\n      <td>https://weather.visualcrossing.com/VisualCross...</td>\n      <td>NaN</td>\n    </tr>\n    <tr>\n      <th>3054</th>\n      <td>-23,60851</td>\n      <td>-46,662249</td>\n      <td>https://weather.visualcrossing.com/VisualCross...</td>\n      <td>NaN</td>\n    </tr>\n    <tr>\n      <th>3055</th>\n      <td>-23,543075</td>\n      <td>-46,579935</td>\n      <td>https://weather.visualcrossing.com/VisualCross...</td>\n      <td>NaN</td>\n    </tr>\n    <tr>\n      <th>3056</th>\n      <td>-23,614697480319883</td>\n      <td>-46,97550091304159</td>\n      <td>https://weather.visualcrossing.com/VisualCross...</td>\n      <td>NaN</td>\n    </tr>\n    <tr>\n      <th>3057</th>\n      <td>-23,734768</td>\n      <td>-46,585027</td>\n      <td>https://weather.visualcrossing.com/VisualCross...</td>\n      <td>NaN</td>\n    </tr>\n    <tr>\n      <th>3058</th>\n      <td>-23,512385</td>\n      <td>-46,514444</td>\n      <td>https://weather.visualcrossing.com/VisualCross...</td>\n      <td>NaN</td>\n    </tr>\n    <tr>\n      <th>3059</th>\n      <td>-23,338574</td>\n      <td>-46,758653</td>\n      <td>https://weather.visualcrossing.com/VisualCross...</td>\n      <td>NaN</td>\n    </tr>\n    <tr>\n      <th>3060</th>\n      <td>-23,463398</td>\n      <td>-46,548026</td>\n      <td>https://weather.visualcrossing.com/VisualCross...</td>\n      <td>NaN</td>\n    </tr>\n    <tr>\n      <th>3061</th>\n      <td>-23,4410916937639</td>\n      <td>-46,50775005222</td>\n      <td>https://weather.visualcrossing.com/VisualCross...</td>\n      <td>NaN</td>\n    </tr>\n    <tr>\n      <th>3062</th>\n      <td>-23,7011085869469</td>\n      <td>-46,6244171817478</td>\n      <td>https://weather.visualcrossing.com/VisualCross...</td>\n      <td>NaN</td>\n    </tr>\n    <tr>\n      <th>3063</th>\n      <td>-23,675563</td>\n      <td>-46,754498</td>\n      <td>https://weather.visualcrossing.com/VisualCross...</td>\n      <td>NaN</td>\n    </tr>\n    <tr>\n      <th>3064</th>\n      <td>-23,522792</td>\n      <td>-46,206405</td>\n      <td>https://weather.visualcrossing.com/VisualCross...</td>\n      <td>NaN</td>\n    </tr>\n    <tr>\n      <th>3065</th>\n      <td>-23,654466814606</td>\n      <td>-46,4464520681212</td>\n      <td>https://weather.visualcrossing.com/VisualCross...</td>\n      <td>NaN</td>\n    </tr>\n    <tr>\n      <th>3066</th>\n      <td>-23,5375225044857</td>\n      <td>-46,1807408565714</td>\n      <td>https://weather.visualcrossing.com/VisualCross...</td>\n      <td>NaN</td>\n    </tr>\n    <tr>\n      <th>3067</th>\n      <td>-23,539279</td>\n      <td>-46,608476</td>\n      <td>https://weather.visualcrossing.com/VisualCross...</td>\n      <td>NaN</td>\n    </tr>\n    <tr>\n      <th>3068</th>\n      <td>-23,682527</td>\n      <td>-46,626118</td>\n      <td>https://weather.visualcrossing.com/VisualCross...</td>\n      <td>NaN</td>\n    </tr>\n    <tr>\n      <th>3069</th>\n      <td>-23,466912325</td>\n      <td>-46,750130653</td>\n      <td>https://weather.visualcrossing.com/VisualCross...</td>\n      <td>NaN</td>\n    </tr>\n    <tr>\n      <th>3070</th>\n      <td>-23,432028</td>\n      <td>-46,71553</td>\n      <td>https://weather.visualcrossing.com/VisualCross...</td>\n      <td>NaN</td>\n    </tr>\n    <tr>\n      <th>3071</th>\n      <td>-23,654437</td>\n      <td>-46,492382</td>\n      <td>https://weather.visualcrossing.com/VisualCross...</td>\n      <td>NaN</td>\n    </tr>\n    <tr>\n      <th>3072</th>\n      <td>-23,7162378700263</td>\n      <td>-46,6105323387105</td>\n      <td>https://weather.visualcrossing.com/VisualCross...</td>\n      <td>NaN</td>\n    </tr>\n    <tr>\n      <th>3073</th>\n      <td>-23,332374</td>\n      <td>-46,606396</td>\n      <td>https://weather.visualcrossing.com/VisualCross...</td>\n      <td>NaN</td>\n    </tr>\n    <tr>\n      <th>3074</th>\n      <td>-23,588296</td>\n      <td>-46,483594</td>\n      <td>https://weather.visualcrossing.com/VisualCross...</td>\n      <td>NaN</td>\n    </tr>\n    <tr>\n      <th>3075</th>\n      <td>-23,551767</td>\n      <td>-46,805722</td>\n      <td>https://weather.visualcrossing.com/VisualCross...</td>\n      <td>NaN</td>\n    </tr>\n    <tr>\n      <th>3076</th>\n      <td>-23,520398</td>\n      <td>-46,833637</td>\n      <td>https://weather.visualcrossing.com/VisualCross...</td>\n      <td>NaN</td>\n    </tr>\n    <tr>\n      <th>3077</th>\n      <td>-23,5437203751933</td>\n      <td>-46,259912282576</td>\n      <td>https://weather.visualcrossing.com/VisualCross...</td>\n      <td>NaN</td>\n    </tr>\n    <tr>\n      <th>3078</th>\n      <td>-23,568416</td>\n      <td>-46,540737</td>\n      <td>https://weather.visualcrossing.com/VisualCross...</td>\n      <td>NaN</td>\n    </tr>\n    <tr>\n      <th>3079</th>\n      <td>-23,657449</td>\n      <td>-46,795888</td>\n      <td>https://weather.visualcrossing.com/VisualCross...</td>\n      <td>NaN</td>\n    </tr>\n    <tr>\n      <th>3080</th>\n      <td>-23,6815884061754</td>\n      <td>-46,6102336432407</td>\n      <td>https://weather.visualcrossing.com/VisualCross...</td>\n      <td>NaN</td>\n    </tr>\n    <tr>\n      <th>3081</th>\n      <td>-23,425585</td>\n      <td>-46,437421</td>\n      <td>https://weather.visualcrossing.com/VisualCross...</td>\n      <td>NaN</td>\n    </tr>\n    <tr>\n      <th>3082</th>\n      <td>-23,699375</td>\n      <td>-46,426275</td>\n      <td>https://weather.visualcrossing.com/VisualCross...</td>\n      <td>NaN</td>\n    </tr>\n  </tbody>\n</table>\n</div>"
     },
     "metadata": {},
     "execution_count": 211
    }
   ],
   "source": [
    "df_escolhido[['Latitude','Longitude','API_url','Condições Climáticas']]"
   ]
  },
  {
   "cell_type": "code",
   "execution_count": 212,
   "metadata": {},
   "outputs": [],
   "source": [
    "#criando função def para buscar na API e incluir no df\n",
    "def get_API_value(df):\n",
    "    response = urllib.request.urlopen(df['API_url'])\n",
    "    data = json.loads(response.read())\n",
    "    condition = data.get('days')[0].get('hours')[df['Hora']].get('conditions')\n",
    "    precip = data.get('days')[0].get('hours')[df['Hora']].get('precip')\n",
    "    return condition,precip"
   ]
  },
  {
   "cell_type": "code",
   "execution_count": 213,
   "metadata": {},
   "outputs": [
    {
     "output_type": "stream",
     "name": "stderr",
     "text": [
      "<ipython-input-213-a6cba688e84f>:2: SettingWithCopyWarning: \nA value is trying to be set on a copy of a slice from a DataFrame.\nTry using .loc[row_indexer,col_indexer] = value instead\n\nSee the caveats in the documentation: https://pandas.pydata.org/pandas-docs/stable/user_guide/indexing.html#returning-a-view-versus-a-copy\n  df_escolhido['Condições Climáticas'] =df_escolhido.apply(lambda df: get_API_value(df),axis=1)\n"
     ]
    }
   ],
   "source": [
    "#   AQUI A FUNÇÃO IRÁ CONSUMIR CRÉDITOS....CHECAR NA CONTA DO VISUAL CROSSING\n",
    "df_escolhido['Condições Climáticas'] =df_escolhido.apply(lambda df: get_API_value(df),axis=1)"
   ]
  },
  {
   "cell_type": "code",
   "execution_count": 214,
   "metadata": {},
   "outputs": [
    {
     "output_type": "execute_result",
     "data": {
      "text/plain": [
       "                 Latitude           Longitude  \\\n",
       "3042           -23,654535          -46,423381   \n",
       "3043           -23,728261          -46,573701   \n",
       "3044           -23,528289          -46,319018   \n",
       "3045           -23,335109          -46,841859   \n",
       "3046           -23,662173          -46,661971   \n",
       "3047           -23,714298          -46,548774   \n",
       "3048           -23,592784          -46,546741   \n",
       "3049           -23,496258          -46,652032   \n",
       "3050           -23,606858          -46,472132   \n",
       "3051           -23,565635          -46,647736   \n",
       "3052           -23,680238          -46,664072   \n",
       "3053           -23,535962          -46,847378   \n",
       "3054            -23,60851          -46,662249   \n",
       "3055           -23,543075          -46,579935   \n",
       "3056  -23,614697480319883  -46,97550091304159   \n",
       "3057           -23,734768          -46,585027   \n",
       "3058           -23,512385          -46,514444   \n",
       "3059           -23,338574          -46,758653   \n",
       "3060           -23,463398          -46,548026   \n",
       "3061    -23,4410916937639     -46,50775005222   \n",
       "3062    -23,7011085869469   -46,6244171817478   \n",
       "3063           -23,675563          -46,754498   \n",
       "3064           -23,522792          -46,206405   \n",
       "3065     -23,654466814606   -46,4464520681212   \n",
       "3066    -23,5375225044857   -46,1807408565714   \n",
       "3067           -23,539279          -46,608476   \n",
       "3068           -23,682527          -46,626118   \n",
       "3069        -23,466912325       -46,750130653   \n",
       "3070           -23,432028           -46,71553   \n",
       "3071           -23,654437          -46,492382   \n",
       "3072    -23,7162378700263   -46,6105323387105   \n",
       "3073           -23,332374          -46,606396   \n",
       "3074           -23,588296          -46,483594   \n",
       "3075           -23,551767          -46,805722   \n",
       "3076           -23,520398          -46,833637   \n",
       "3077    -23,5437203751933    -46,259912282576   \n",
       "3078           -23,568416          -46,540737   \n",
       "3079           -23,657449          -46,795888   \n",
       "3080    -23,6815884061754   -46,6102336432407   \n",
       "3081           -23,425585          -46,437421   \n",
       "3082           -23,699375          -46,426275   \n",
       "\n",
       "                                                API_url  \\\n",
       "3042  https://weather.visualcrossing.com/VisualCross...   \n",
       "3043  https://weather.visualcrossing.com/VisualCross...   \n",
       "3044  https://weather.visualcrossing.com/VisualCross...   \n",
       "3045  https://weather.visualcrossing.com/VisualCross...   \n",
       "3046  https://weather.visualcrossing.com/VisualCross...   \n",
       "3047  https://weather.visualcrossing.com/VisualCross...   \n",
       "3048  https://weather.visualcrossing.com/VisualCross...   \n",
       "3049  https://weather.visualcrossing.com/VisualCross...   \n",
       "3050  https://weather.visualcrossing.com/VisualCross...   \n",
       "3051  https://weather.visualcrossing.com/VisualCross...   \n",
       "3052  https://weather.visualcrossing.com/VisualCross...   \n",
       "3053  https://weather.visualcrossing.com/VisualCross...   \n",
       "3054  https://weather.visualcrossing.com/VisualCross...   \n",
       "3055  https://weather.visualcrossing.com/VisualCross...   \n",
       "3056  https://weather.visualcrossing.com/VisualCross...   \n",
       "3057  https://weather.visualcrossing.com/VisualCross...   \n",
       "3058  https://weather.visualcrossing.com/VisualCross...   \n",
       "3059  https://weather.visualcrossing.com/VisualCross...   \n",
       "3060  https://weather.visualcrossing.com/VisualCross...   \n",
       "3061  https://weather.visualcrossing.com/VisualCross...   \n",
       "3062  https://weather.visualcrossing.com/VisualCross...   \n",
       "3063  https://weather.visualcrossing.com/VisualCross...   \n",
       "3064  https://weather.visualcrossing.com/VisualCross...   \n",
       "3065  https://weather.visualcrossing.com/VisualCross...   \n",
       "3066  https://weather.visualcrossing.com/VisualCross...   \n",
       "3067  https://weather.visualcrossing.com/VisualCross...   \n",
       "3068  https://weather.visualcrossing.com/VisualCross...   \n",
       "3069  https://weather.visualcrossing.com/VisualCross...   \n",
       "3070  https://weather.visualcrossing.com/VisualCross...   \n",
       "3071  https://weather.visualcrossing.com/VisualCross...   \n",
       "3072  https://weather.visualcrossing.com/VisualCross...   \n",
       "3073  https://weather.visualcrossing.com/VisualCross...   \n",
       "3074  https://weather.visualcrossing.com/VisualCross...   \n",
       "3075  https://weather.visualcrossing.com/VisualCross...   \n",
       "3076  https://weather.visualcrossing.com/VisualCross...   \n",
       "3077  https://weather.visualcrossing.com/VisualCross...   \n",
       "3078  https://weather.visualcrossing.com/VisualCross...   \n",
       "3079  https://weather.visualcrossing.com/VisualCross...   \n",
       "3080  https://weather.visualcrossing.com/VisualCross...   \n",
       "3081  https://weather.visualcrossing.com/VisualCross...   \n",
       "3082  https://weather.visualcrossing.com/VisualCross...   \n",
       "\n",
       "          Condições Climáticas  \n",
       "3042             (Clear, None)  \n",
       "3043             (Clear, None)  \n",
       "3044          (Overcast, None)  \n",
       "3045  (Partially cloudy, None)  \n",
       "3046  (Partially cloudy, None)  \n",
       "3047  (Partially cloudy, None)  \n",
       "3048          (Overcast, None)  \n",
       "3049          (Overcast, None)  \n",
       "3050             (Clear, None)  \n",
       "3051  (Partially cloudy, None)  \n",
       "3052  (Partially cloudy, None)  \n",
       "3053  (Partially cloudy, None)  \n",
       "3054  (Partially cloudy, None)  \n",
       "3055  (Partially cloudy, None)  \n",
       "3056  (Partially cloudy, None)  \n",
       "3057             (Clear, None)  \n",
       "3058             (Clear, None)  \n",
       "3059  (Partially cloudy, None)  \n",
       "3060  (Partially cloudy, None)  \n",
       "3061             (Clear, None)  \n",
       "3062  (Partially cloudy, None)  \n",
       "3063  (Partially cloudy, None)  \n",
       "3064  (Partially cloudy, None)  \n",
       "3065             (Clear, None)  \n",
       "3066  (Partially cloudy, None)  \n",
       "3067  (Partially cloudy, None)  \n",
       "3068             (Clear, None)  \n",
       "3069             (Clear, None)  \n",
       "3070  (Partially cloudy, None)  \n",
       "3071  (Partially cloudy, None)  \n",
       "3072             (Clear, None)  \n",
       "3073             (Clear, None)  \n",
       "3074  (Partially cloudy, None)  \n",
       "3075             (Clear, None)  \n",
       "3076  (Partially cloudy, None)  \n",
       "3077          (Overcast, None)  \n",
       "3078             (Clear, None)  \n",
       "3079             (Clear, None)  \n",
       "3080  (Partially cloudy, None)  \n",
       "3081             (Clear, None)  \n",
       "3082  (Partially cloudy, None)  "
      ],
      "text/html": "<div>\n<style scoped>\n    .dataframe tbody tr th:only-of-type {\n        vertical-align: middle;\n    }\n\n    .dataframe tbody tr th {\n        vertical-align: top;\n    }\n\n    .dataframe thead th {\n        text-align: right;\n    }\n</style>\n<table border=\"1\" class=\"dataframe\">\n  <thead>\n    <tr style=\"text-align: right;\">\n      <th></th>\n      <th>Latitude</th>\n      <th>Longitude</th>\n      <th>API_url</th>\n      <th>Condições Climáticas</th>\n    </tr>\n  </thead>\n  <tbody>\n    <tr>\n      <th>3042</th>\n      <td>-23,654535</td>\n      <td>-46,423381</td>\n      <td>https://weather.visualcrossing.com/VisualCross...</td>\n      <td>(Clear, None)</td>\n    </tr>\n    <tr>\n      <th>3043</th>\n      <td>-23,728261</td>\n      <td>-46,573701</td>\n      <td>https://weather.visualcrossing.com/VisualCross...</td>\n      <td>(Clear, None)</td>\n    </tr>\n    <tr>\n      <th>3044</th>\n      <td>-23,528289</td>\n      <td>-46,319018</td>\n      <td>https://weather.visualcrossing.com/VisualCross...</td>\n      <td>(Overcast, None)</td>\n    </tr>\n    <tr>\n      <th>3045</th>\n      <td>-23,335109</td>\n      <td>-46,841859</td>\n      <td>https://weather.visualcrossing.com/VisualCross...</td>\n      <td>(Partially cloudy, None)</td>\n    </tr>\n    <tr>\n      <th>3046</th>\n      <td>-23,662173</td>\n      <td>-46,661971</td>\n      <td>https://weather.visualcrossing.com/VisualCross...</td>\n      <td>(Partially cloudy, None)</td>\n    </tr>\n    <tr>\n      <th>3047</th>\n      <td>-23,714298</td>\n      <td>-46,548774</td>\n      <td>https://weather.visualcrossing.com/VisualCross...</td>\n      <td>(Partially cloudy, None)</td>\n    </tr>\n    <tr>\n      <th>3048</th>\n      <td>-23,592784</td>\n      <td>-46,546741</td>\n      <td>https://weather.visualcrossing.com/VisualCross...</td>\n      <td>(Overcast, None)</td>\n    </tr>\n    <tr>\n      <th>3049</th>\n      <td>-23,496258</td>\n      <td>-46,652032</td>\n      <td>https://weather.visualcrossing.com/VisualCross...</td>\n      <td>(Overcast, None)</td>\n    </tr>\n    <tr>\n      <th>3050</th>\n      <td>-23,606858</td>\n      <td>-46,472132</td>\n      <td>https://weather.visualcrossing.com/VisualCross...</td>\n      <td>(Clear, None)</td>\n    </tr>\n    <tr>\n      <th>3051</th>\n      <td>-23,565635</td>\n      <td>-46,647736</td>\n      <td>https://weather.visualcrossing.com/VisualCross...</td>\n      <td>(Partially cloudy, None)</td>\n    </tr>\n    <tr>\n      <th>3052</th>\n      <td>-23,680238</td>\n      <td>-46,664072</td>\n      <td>https://weather.visualcrossing.com/VisualCross...</td>\n      <td>(Partially cloudy, None)</td>\n    </tr>\n    <tr>\n      <th>3053</th>\n      <td>-23,535962</td>\n      <td>-46,847378</td>\n      <td>https://weather.visualcrossing.com/VisualCross...</td>\n      <td>(Partially cloudy, None)</td>\n    </tr>\n    <tr>\n      <th>3054</th>\n      <td>-23,60851</td>\n      <td>-46,662249</td>\n      <td>https://weather.visualcrossing.com/VisualCross...</td>\n      <td>(Partially cloudy, None)</td>\n    </tr>\n    <tr>\n      <th>3055</th>\n      <td>-23,543075</td>\n      <td>-46,579935</td>\n      <td>https://weather.visualcrossing.com/VisualCross...</td>\n      <td>(Partially cloudy, None)</td>\n    </tr>\n    <tr>\n      <th>3056</th>\n      <td>-23,614697480319883</td>\n      <td>-46,97550091304159</td>\n      <td>https://weather.visualcrossing.com/VisualCross...</td>\n      <td>(Partially cloudy, None)</td>\n    </tr>\n    <tr>\n      <th>3057</th>\n      <td>-23,734768</td>\n      <td>-46,585027</td>\n      <td>https://weather.visualcrossing.com/VisualCross...</td>\n      <td>(Clear, None)</td>\n    </tr>\n    <tr>\n      <th>3058</th>\n      <td>-23,512385</td>\n      <td>-46,514444</td>\n      <td>https://weather.visualcrossing.com/VisualCross...</td>\n      <td>(Clear, None)</td>\n    </tr>\n    <tr>\n      <th>3059</th>\n      <td>-23,338574</td>\n      <td>-46,758653</td>\n      <td>https://weather.visualcrossing.com/VisualCross...</td>\n      <td>(Partially cloudy, None)</td>\n    </tr>\n    <tr>\n      <th>3060</th>\n      <td>-23,463398</td>\n      <td>-46,548026</td>\n      <td>https://weather.visualcrossing.com/VisualCross...</td>\n      <td>(Partially cloudy, None)</td>\n    </tr>\n    <tr>\n      <th>3061</th>\n      <td>-23,4410916937639</td>\n      <td>-46,50775005222</td>\n      <td>https://weather.visualcrossing.com/VisualCross...</td>\n      <td>(Clear, None)</td>\n    </tr>\n    <tr>\n      <th>3062</th>\n      <td>-23,7011085869469</td>\n      <td>-46,6244171817478</td>\n      <td>https://weather.visualcrossing.com/VisualCross...</td>\n      <td>(Partially cloudy, None)</td>\n    </tr>\n    <tr>\n      <th>3063</th>\n      <td>-23,675563</td>\n      <td>-46,754498</td>\n      <td>https://weather.visualcrossing.com/VisualCross...</td>\n      <td>(Partially cloudy, None)</td>\n    </tr>\n    <tr>\n      <th>3064</th>\n      <td>-23,522792</td>\n      <td>-46,206405</td>\n      <td>https://weather.visualcrossing.com/VisualCross...</td>\n      <td>(Partially cloudy, None)</td>\n    </tr>\n    <tr>\n      <th>3065</th>\n      <td>-23,654466814606</td>\n      <td>-46,4464520681212</td>\n      <td>https://weather.visualcrossing.com/VisualCross...</td>\n      <td>(Clear, None)</td>\n    </tr>\n    <tr>\n      <th>3066</th>\n      <td>-23,5375225044857</td>\n      <td>-46,1807408565714</td>\n      <td>https://weather.visualcrossing.com/VisualCross...</td>\n      <td>(Partially cloudy, None)</td>\n    </tr>\n    <tr>\n      <th>3067</th>\n      <td>-23,539279</td>\n      <td>-46,608476</td>\n      <td>https://weather.visualcrossing.com/VisualCross...</td>\n      <td>(Partially cloudy, None)</td>\n    </tr>\n    <tr>\n      <th>3068</th>\n      <td>-23,682527</td>\n      <td>-46,626118</td>\n      <td>https://weather.visualcrossing.com/VisualCross...</td>\n      <td>(Clear, None)</td>\n    </tr>\n    <tr>\n      <th>3069</th>\n      <td>-23,466912325</td>\n      <td>-46,750130653</td>\n      <td>https://weather.visualcrossing.com/VisualCross...</td>\n      <td>(Clear, None)</td>\n    </tr>\n    <tr>\n      <th>3070</th>\n      <td>-23,432028</td>\n      <td>-46,71553</td>\n      <td>https://weather.visualcrossing.com/VisualCross...</td>\n      <td>(Partially cloudy, None)</td>\n    </tr>\n    <tr>\n      <th>3071</th>\n      <td>-23,654437</td>\n      <td>-46,492382</td>\n      <td>https://weather.visualcrossing.com/VisualCross...</td>\n      <td>(Partially cloudy, None)</td>\n    </tr>\n    <tr>\n      <th>3072</th>\n      <td>-23,7162378700263</td>\n      <td>-46,6105323387105</td>\n      <td>https://weather.visualcrossing.com/VisualCross...</td>\n      <td>(Clear, None)</td>\n    </tr>\n    <tr>\n      <th>3073</th>\n      <td>-23,332374</td>\n      <td>-46,606396</td>\n      <td>https://weather.visualcrossing.com/VisualCross...</td>\n      <td>(Clear, None)</td>\n    </tr>\n    <tr>\n      <th>3074</th>\n      <td>-23,588296</td>\n      <td>-46,483594</td>\n      <td>https://weather.visualcrossing.com/VisualCross...</td>\n      <td>(Partially cloudy, None)</td>\n    </tr>\n    <tr>\n      <th>3075</th>\n      <td>-23,551767</td>\n      <td>-46,805722</td>\n      <td>https://weather.visualcrossing.com/VisualCross...</td>\n      <td>(Clear, None)</td>\n    </tr>\n    <tr>\n      <th>3076</th>\n      <td>-23,520398</td>\n      <td>-46,833637</td>\n      <td>https://weather.visualcrossing.com/VisualCross...</td>\n      <td>(Partially cloudy, None)</td>\n    </tr>\n    <tr>\n      <th>3077</th>\n      <td>-23,5437203751933</td>\n      <td>-46,259912282576</td>\n      <td>https://weather.visualcrossing.com/VisualCross...</td>\n      <td>(Overcast, None)</td>\n    </tr>\n    <tr>\n      <th>3078</th>\n      <td>-23,568416</td>\n      <td>-46,540737</td>\n      <td>https://weather.visualcrossing.com/VisualCross...</td>\n      <td>(Clear, None)</td>\n    </tr>\n    <tr>\n      <th>3079</th>\n      <td>-23,657449</td>\n      <td>-46,795888</td>\n      <td>https://weather.visualcrossing.com/VisualCross...</td>\n      <td>(Clear, None)</td>\n    </tr>\n    <tr>\n      <th>3080</th>\n      <td>-23,6815884061754</td>\n      <td>-46,6102336432407</td>\n      <td>https://weather.visualcrossing.com/VisualCross...</td>\n      <td>(Partially cloudy, None)</td>\n    </tr>\n    <tr>\n      <th>3081</th>\n      <td>-23,425585</td>\n      <td>-46,437421</td>\n      <td>https://weather.visualcrossing.com/VisualCross...</td>\n      <td>(Clear, None)</td>\n    </tr>\n    <tr>\n      <th>3082</th>\n      <td>-23,699375</td>\n      <td>-46,426275</td>\n      <td>https://weather.visualcrossing.com/VisualCross...</td>\n      <td>(Partially cloudy, None)</td>\n    </tr>\n  </tbody>\n</table>\n</div>"
     },
     "metadata": {},
     "execution_count": 214
    }
   ],
   "source": [
    "df_escolhido[['Latitude','Longitude','API_url','Condições Climáticas']]"
   ]
  },
  {
   "cell_type": "code",
   "execution_count": 215,
   "metadata": {},
   "outputs": [
    {
     "output_type": "stream",
     "name": "stderr",
     "text": [
      "C:\\Users\\Renato\\anaconda3\\envs\\Data_Science\\lib\\site-packages\\pandas\\core\\frame.py:4308: SettingWithCopyWarning: \nA value is trying to be set on a copy of a slice from a DataFrame\n\nSee the caveats in the documentation: https://pandas.pydata.org/pandas-docs/stable/user_guide/indexing.html#returning-a-view-versus-a-copy\n  return super().drop(\n"
     ]
    }
   ],
   "source": [
    "# dropando coluna URL\n",
    "df_escolhido.drop(columns='API_url',axis=1,inplace=True)"
   ]
  },
  {
   "cell_type": "code",
   "execution_count": 216,
   "metadata": {},
   "outputs": [],
   "source": [
    "#exportando cada df escolhido na pasta weather API\n",
    "df_escolhido.to_csv(r'C:\\\\Users\\Renato\\OneDrive\\Projeto_TERA\\Predição Acidentes Motocicleta\\Projeto-TERA-Data-Science---Acidentes-Motocicletas\\Weather_API_data\\{}.csv'.format(nome_df))"
   ]
  }
 ]
}