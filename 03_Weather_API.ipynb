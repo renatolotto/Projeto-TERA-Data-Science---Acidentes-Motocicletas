{
 "metadata": {
  "language_info": {
   "codemirror_mode": {
    "name": "ipython",
    "version": 3
   },
   "file_extension": ".py",
   "mimetype": "text/x-python",
   "name": "python",
   "nbconvert_exporter": "python",
   "pygments_lexer": "ipython3",
   "version": "3.8.8"
  },
  "orig_nbformat": 2,
  "kernelspec": {
   "name": "python388jvsc74a57bd054aafdb36ba7a57007c1052e291baf553a31e85cae918a266292c7469c0efefb",
   "display_name": "Python 3.8.8 64-bit ('Data_Science': conda)"
  }
 },
 "nbformat": 4,
 "nbformat_minor": 2,
 "cells": [
  {
   "cell_type": "code",
   "execution_count": 1,
   "metadata": {},
   "outputs": [],
   "source": [
    "import numpy as np\n",
    "import pandas as pd\n",
    "import json\n",
    "import urllib, json"
   ]
  },
  {
   "cell_type": "code",
   "execution_count": 2,
   "metadata": {},
   "outputs": [],
   "source": [
    "df_API_fatais = pd.read_csv('df_API_fatais.csv')\n",
    "\n"
   ]
  },
  {
   "cell_type": "code",
   "execution_count": 3,
   "metadata": {},
   "outputs": [
    {
     "output_type": "execute_result",
     "data": {
      "text/plain": [
       "     Data do Acidente             Latitude           Longitude  \\\n",
       "0          2020-12-29    -23,7464627689999       -46,803836335   \n",
       "1          2020-12-26  -23,458778790416762  -46,48209129083817   \n",
       "2          2020-12-26  -23,418102298841816  -46,37791152937248   \n",
       "3          2020-12-26   -23,54191853681889  -47,01329391534144   \n",
       "4          2020-12-25  -23,487367560249513  -46,75690361349391   \n",
       "...               ...                  ...                 ...   \n",
       "3195       2015-02-18  -23,404111592317488  -46,57599535696205   \n",
       "3196       2015-01-15           -23,632392          -46,472206   \n",
       "3197       2014-12-28           -23,555237          -46,849214   \n",
       "3198       2014-11-05           -23,644498          -46,538558   \n",
       "3199       2012-06-15           -23,647306          -46,778984   \n",
       "\n",
       "      Condições Climáticas  Hora  \n",
       "0                      NaN   9.0  \n",
       "1                      NaN   2.0  \n",
       "2                      NaN   0.0  \n",
       "3                      NaN  18.0  \n",
       "4                      NaN   6.0  \n",
       "...                    ...   ...  \n",
       "3195                   NaN  11.0  \n",
       "3196                   NaN  14.0  \n",
       "3197                   NaN  14.0  \n",
       "3198                   NaN  15.0  \n",
       "3199                   NaN  22.0  \n",
       "\n",
       "[3200 rows x 5 columns]"
      ],
      "text/html": "<div>\n<style scoped>\n    .dataframe tbody tr th:only-of-type {\n        vertical-align: middle;\n    }\n\n    .dataframe tbody tr th {\n        vertical-align: top;\n    }\n\n    .dataframe thead th {\n        text-align: right;\n    }\n</style>\n<table border=\"1\" class=\"dataframe\">\n  <thead>\n    <tr style=\"text-align: right;\">\n      <th></th>\n      <th>Data do Acidente</th>\n      <th>Latitude</th>\n      <th>Longitude</th>\n      <th>Condições Climáticas</th>\n      <th>Hora</th>\n    </tr>\n  </thead>\n  <tbody>\n    <tr>\n      <th>0</th>\n      <td>2020-12-29</td>\n      <td>-23,7464627689999</td>\n      <td>-46,803836335</td>\n      <td>NaN</td>\n      <td>9.0</td>\n    </tr>\n    <tr>\n      <th>1</th>\n      <td>2020-12-26</td>\n      <td>-23,458778790416762</td>\n      <td>-46,48209129083817</td>\n      <td>NaN</td>\n      <td>2.0</td>\n    </tr>\n    <tr>\n      <th>2</th>\n      <td>2020-12-26</td>\n      <td>-23,418102298841816</td>\n      <td>-46,37791152937248</td>\n      <td>NaN</td>\n      <td>0.0</td>\n    </tr>\n    <tr>\n      <th>3</th>\n      <td>2020-12-26</td>\n      <td>-23,54191853681889</td>\n      <td>-47,01329391534144</td>\n      <td>NaN</td>\n      <td>18.0</td>\n    </tr>\n    <tr>\n      <th>4</th>\n      <td>2020-12-25</td>\n      <td>-23,487367560249513</td>\n      <td>-46,75690361349391</td>\n      <td>NaN</td>\n      <td>6.0</td>\n    </tr>\n    <tr>\n      <th>...</th>\n      <td>...</td>\n      <td>...</td>\n      <td>...</td>\n      <td>...</td>\n      <td>...</td>\n    </tr>\n    <tr>\n      <th>3195</th>\n      <td>2015-02-18</td>\n      <td>-23,404111592317488</td>\n      <td>-46,57599535696205</td>\n      <td>NaN</td>\n      <td>11.0</td>\n    </tr>\n    <tr>\n      <th>3196</th>\n      <td>2015-01-15</td>\n      <td>-23,632392</td>\n      <td>-46,472206</td>\n      <td>NaN</td>\n      <td>14.0</td>\n    </tr>\n    <tr>\n      <th>3197</th>\n      <td>2014-12-28</td>\n      <td>-23,555237</td>\n      <td>-46,849214</td>\n      <td>NaN</td>\n      <td>14.0</td>\n    </tr>\n    <tr>\n      <th>3198</th>\n      <td>2014-11-05</td>\n      <td>-23,644498</td>\n      <td>-46,538558</td>\n      <td>NaN</td>\n      <td>15.0</td>\n    </tr>\n    <tr>\n      <th>3199</th>\n      <td>2012-06-15</td>\n      <td>-23,647306</td>\n      <td>-46,778984</td>\n      <td>NaN</td>\n      <td>22.0</td>\n    </tr>\n  </tbody>\n</table>\n<p>3200 rows × 5 columns</p>\n</div>"
     },
     "metadata": {},
     "execution_count": 3
    }
   ],
   "source": [
    "df_API_fatais"
   ]
  },
  {
   "cell_type": "code",
   "execution_count": 4,
   "metadata": {},
   "outputs": [
    {
     "output_type": "stream",
     "name": "stdout",
     "text": [
      "<class 'pandas.core.frame.DataFrame'>\nRangeIndex: 3200 entries, 0 to 3199\nData columns (total 5 columns):\n #   Column                Non-Null Count  Dtype  \n---  ------                --------------  -----  \n 0   Data do Acidente      3200 non-null   object \n 1   Latitude              3200 non-null   object \n 2   Longitude             3200 non-null   object \n 3   Condições Climáticas  0 non-null      float64\n 4   Hora                  3200 non-null   float64\ndtypes: float64(2), object(3)\nmemory usage: 125.1+ KB\n"
     ]
    }
   ],
   "source": [
    "df_API_fatais.info()"
   ]
  },
  {
   "cell_type": "code",
   "execution_count": 216,
   "metadata": {},
   "outputs": [],
   "source": [
    "# criar dataset pequeno para nao exceder o limite do API\n",
    "#normalmente limite é 41 linhas diárias\n",
    "\n",
    "# df1 = df_API_fatais.iloc[:11,:] #DONE checado\n",
    "# df2 = df_API_fatais.iloc[11:39,:] #DONE checado\n",
    "# df3 = df_API_fatais.iloc[39:78,:] #Done checago\n",
    "# df4 = df_API_fatais.iloc[78:178,:] DONE checado\n",
    "# df5 = df_API_fatais.iloc[178:300,:] DONE checado\n",
    "# df6 = df_API_fatais.iloc[300:460,:] DONE checado\n",
    "# df7 = df_API_fatais.iloc[460:501,:] DONE checado\n",
    "# df8 = df_API_fatais.iloc[501:542,:] DONE checado\n",
    "# df9 = df_API_fatais.iloc[542:583,:] DONE checado\n",
    "# df10 = df_API_fatais.iloc[583:624,:] done checado\n",
    "# df11 = df_API_fatais.iloc[624:665,:] #DONE\n",
    "# df12 = df_API_fatais.iloc[665:706,:] #DONE\n",
    "# df13 = df_API_fatais.iloc[706:747,:] #DONE\n",
    "# df14 = df_API_fatais.iloc[747:788,:] #DONE\n",
    "# df15 = df_API_fatais.iloc[788:829,:] #DONE\n",
    "# df16 = df_API_fatais.iloc[829:870,:] #DONE\n",
    "# df17 = df_API_fatais.iloc[870:911,:] #DONE\n",
    "# df18 = df_API_fatais.iloc[911:952,:] #DONE\n",
    "# df19 = df_API_fatais.iloc[952:993,:] #DONE\n",
    "#a partir daqui tem precipitação\n",
    "# df20 = df_API_fatais.iloc[993:1033,:]\n",
    "# df21 = df_API_fatais.iloc[1033:1074,:]\n",
    "# df22 = df_API_fatais.iloc[1074:1115,:]\n",
    "# df23 = df_API_fatais.iloc[1115:1156,:]\n",
    "# df24 = df_API_fatais.iloc[1156:1197,:]\n",
    "# df25 = df_API_fatais.iloc[1197:1238,:]\n",
    "# df26 = df_API_fatais.iloc[1238:1279,:]\n",
    "# df27 = df_API_fatais.iloc[1279:1320,:]\n",
    "# df28 = df_API_fatais.iloc[1320:1361,:]\n",
    "# df29 = df_API_fatais.iloc[1361:1402,:]\n",
    "# df30 = df_API_fatais.iloc[1402:1443,:]\n",
    "# df31 = df_API_fatais.iloc[1443:1484,:]\n",
    "# df32 = df_API_fatais.iloc[1484:1525,:]\n",
    "# df33 = df_API_fatais.iloc[1525:1566,:]\n",
    "# df34 = df_API_fatais.iloc[1566:1607,:]\n",
    "# df35 = df_API_fatais.iloc[1607:1648,:]\n",
    "# df36 = df_API_fatais.iloc[1648:1689,:]\n",
    "# df37 = df_API_fatais.iloc[1689:1730,:]\n",
    "# df38 = df_API_fatais.iloc[1730:1771,:]\n",
    "# df39 = df_API_fatais.iloc[1771:1812,:]\n",
    "# df40 = df_API_fatais.iloc[1812:1853,:]\n",
    "# df41 = df_API_fatais.iloc[1853:1894,:]\n",
    "# df42 = df_API_fatais.iloc[1894:1935,:]\n",
    "# df43 = df_API_fatais.iloc[1935:1976,:]\n",
    "# df44 = df_API_fatais.iloc[1976:2017,:]\n",
    "# df45 = df_API_fatais.iloc[2017:2058,:]\n",
    "# df46 = df_API_fatais.iloc[2058:2099,:]\n",
    "# df47 = df_API_fatais.iloc[2099:2140,:]\n",
    "# df48 = df_API_fatais.iloc[2140:2181,:]\n",
    "# df49 = df_API_fatais.iloc[2181:2222,:]\n",
    "# df50 = df_API_fatais.iloc[2222:2263,:]\n",
    "# df51 = df_API_fatais.iloc[2263:2304,:]\n",
    "# df52 = df_API_fatais.iloc[2304:2345,:]\n",
    "# df53 = df_API_fatais.iloc[2345:2386,:]\n",
    "df54 = df_API_fatais.iloc[2386:2427,:]\n",
    "# df55 = df_API_fatais.iloc[2427:2468,:]\n",
    "# df56 = df_API_fatais.iloc[2468:2509,:]\n",
    "# df57 = df_API_fatais.iloc[2509:2550,:]\n",
    "# df58 = df_API_fatais.iloc[2550:2591,:]\n",
    "# df59 = df_API_fatais.iloc[2591:2632,:]\n",
    "# df60 = df_API_fatais.iloc[2632:2673,:]\n",
    "# df61 = df_API_fatais.iloc[2673:2714,:]\n",
    "# df62 = df_API_fatais.iloc[2714:2755,:]\n",
    "# df63 = df_API_fatais.iloc[2755:2796,:]\n",
    "# df64 = df_API_fatais.iloc[2755:2796,:]\n",
    "# df65 = df_API_fatais.iloc[2796:2837,:]\n",
    "# df66 = df_API_fatais.iloc[2837:2878,:]\n",
    "# df67 = df_API_fatais.iloc[2878:2919,:]\n",
    "# df68 = df_API_fatais.iloc[2919:2960,:]\n",
    "# df69 = df_API_fatais.iloc[2960:3001,:]\n",
    "# df70 = df_API_fatais.iloc[3001:3042,:]\n",
    "# df71 = df_API_fatais.iloc[3042:3083,:]\n",
    "# df72 = df_API_fatais.iloc[3083:3124,:]\n",
    "# df73 = df_API_fatais.iloc[3124:3165,:]\n",
    "\n"
   ]
  },
  {
   "cell_type": "code",
   "execution_count": 217,
   "metadata": {},
   "outputs": [
    {
     "output_type": "stream",
     "name": "stdout",
     "text": [
      "-Serão consumido 984 créditos\n\n-Capacidade de 697 linhas por dia\n\n-Demorará mais 2.167862266857963 dias\n"
     ]
    }
   ],
   "source": [
    "#CRÉDTIOS QUE SERÃO CONSUMIDOS POR CADA DF\n",
    "df_de_hoje=df54\n",
    "print('-Serão consumido',df_de_hoje.shape[0]*24,'créditos')\n",
    "print()\n",
    "\n",
    "n_chaves=17\n",
    "capacidade_dia=n_chaves*df_de_hoje.shape[0]\n",
    "print('-Capacidade de',capacidade_dia,'linhas por dia')\n",
    "print()\n",
    "\n",
    "prev_dias= (3200-1689)/capacidade_dia\n",
    "print('-Demorará mais',prev_dias,'dias')\n",
    "\n"
   ]
  },
  {
   "cell_type": "code",
   "execution_count": 218,
   "metadata": {},
   "outputs": [],
   "source": [
    "# ESCOLHER DF AQUI E RODAR DAQUI PRA BAIXO\n",
    "key1='B8JYA2DGP8JEMDN3SH4N4XGTT' #meu hotmail\n",
    "key2='A6USW7ZJVKXS796M85TUD5JB7' #Jobanegas@gmail.com, projetoTERA\n",
    "key3='SM2SEHMQ5C293FLZ5QBABUNUB'#meu gmail, 1000 credits\n",
    "key4='YEW24DH9DQC8K5PV9V4G6JDUE'#scania\n",
    "key5='L8W8YG6RD4JZ8E2V9NRYFBNCQ'#globo\n",
    "key6='9HS474ZGKWUFCC2CLE8SJ2GN8'#josybanegas@hotmail.com, projetoTERA2\n",
    "key7='PMFULACV4XSBP4LM2DGMRZA6S'#mi\n",
    "key8='NP47JLCE98FFHNGS5A69CFPGQ'#regi\n",
    "key9='S3Q3HW8B7AH2YEGCHUZ83WNNY'#pai\n",
    "key10='6M6F3HXMZMZJY6RUGX9EY9PLJ'#felipe1\n",
    "key11='CL5AYD4WYK4VCLPVJMXUJ7NDR'#felipe2\n",
    "key12='VSZRSD8JR53V7MS3R48U8Y79F'#felipe3\n",
    "key13='C58YE5ERBL5KNAXNU4QC3RZG6'#felipe4\n",
    "key14='GHYD5YGL7BZPPCNYNJMH6EYSE'#mi trab\n",
    "key15='7GSMXKHZV5XXGP9SH7W5S6VYC'#josy tra\n",
    "key16='HCTGMSJGY4YXTR7XT2RCFNEAL'#ivan1\n",
    "key17='ZBKHCV5PXP687E9JVPXUGGTY7'#ivan2\n",
    "\n",
    "key_escolhida = key3\n",
    "df_escolhido = df54 ##### ATENÇÃO NO NOME....SE NÃO ATUALIZAR VAI SOBRESCREVER OS DFS JÁ SALVOS\n",
    "nome_df = 'df54'\n",
    "\n"
   ]
  },
  {
   "cell_type": "code",
   "execution_count": 219,
   "metadata": {},
   "outputs": [],
   "source": [
    "def create_URL_column(df):\n",
    "    if pd.isnull(df['Condições Climáticas']):\n",
    "        return \"https://weather.visualcrossing.com/VisualCrossingWebServices/rest/services/timeline/{},{}/{}?key={}\".format(df['Latitude'].replace(',','.'),df['Longitude'].replace(',','.'),df['Data do Acidente'][0:10],key_escolhida)\n",
    "    else:\n",
    "        return 'Já temos'"
   ]
  },
  {
   "cell_type": "code",
   "execution_count": 220,
   "metadata": {},
   "outputs": [
    {
     "output_type": "stream",
     "name": "stderr",
     "text": [
      "<ipython-input-220-753ec4956c79>:1: SettingWithCopyWarning: \nA value is trying to be set on a copy of a slice from a DataFrame.\nTry using .loc[row_indexer,col_indexer] = value instead\n\nSee the caveats in the documentation: https://pandas.pydata.org/pandas-docs/stable/user_guide/indexing.html#returning-a-view-versus-a-copy\n  df_escolhido['API_url']= 'zero'\n<ipython-input-220-753ec4956c79>:2: SettingWithCopyWarning: \nA value is trying to be set on a copy of a slice from a DataFrame.\nTry using .loc[row_indexer,col_indexer] = value instead\n\nSee the caveats in the documentation: https://pandas.pydata.org/pandas-docs/stable/user_guide/indexing.html#returning-a-view-versus-a-copy\n  df_escolhido['Hora'] = df_escolhido['Hora'].astype(int)\n<ipython-input-220-753ec4956c79>:3: SettingWithCopyWarning: \nA value is trying to be set on a copy of a slice from a DataFrame.\nTry using .loc[row_indexer,col_indexer] = value instead\n\nSee the caveats in the documentation: https://pandas.pydata.org/pandas-docs/stable/user_guide/indexing.html#returning-a-view-versus-a-copy\n  df_escolhido['API_url'] = df_escolhido.apply(lambda df: create_URL_column(df),axis=1)\n"
     ]
    }
   ],
   "source": [
    "df_escolhido['API_url']= 'zero'\n",
    "df_escolhido['Hora'] = df_escolhido['Hora'].astype(int)\n",
    "df_escolhido['API_url'] = df_escolhido.apply(lambda df: create_URL_column(df),axis=1)"
   ]
  },
  {
   "cell_type": "code",
   "execution_count": 221,
   "metadata": {},
   "outputs": [
    {
     "output_type": "execute_result",
     "data": {
      "text/plain": [
       "['https://weather.visualcrossing.com/VisualCrossingWebServices/rest/services/timeline/-23.742637,-46.81028/2015-10-06?key=SM2SEHMQ5C293FLZ5QBABUNUB',\n",
       " 'https://weather.visualcrossing.com/VisualCrossingWebServices/rest/services/timeline/-23.672663577,-46.620814067/2015-10-05?key=SM2SEHMQ5C293FLZ5QBABUNUB',\n",
       " 'https://weather.visualcrossing.com/VisualCrossingWebServices/rest/services/timeline/-23.4283854107,-46.4101153027/2015-10-05?key=SM2SEHMQ5C293FLZ5QBABUNUB',\n",
       " 'https://weather.visualcrossing.com/VisualCrossingWebServices/rest/services/timeline/-23.640227,-46.780023/2015-10-04?key=SM2SEHMQ5C293FLZ5QBABUNUB',\n",
       " 'https://weather.visualcrossing.com/VisualCrossingWebServices/rest/services/timeline/-23.729545,-46.6907083/2015-10-04?key=SM2SEHMQ5C293FLZ5QBABUNUB',\n",
       " 'https://weather.visualcrossing.com/VisualCrossingWebServices/rest/services/timeline/-23.54661877,-46.472644919/2015-10-04?key=SM2SEHMQ5C293FLZ5QBABUNUB',\n",
       " 'https://weather.visualcrossing.com/VisualCrossingWebServices/rest/services/timeline/-23.514634,-46.487291/2015-10-04?key=SM2SEHMQ5C293FLZ5QBABUNUB',\n",
       " 'https://weather.visualcrossing.com/VisualCrossingWebServices/rest/services/timeline/-23.713729,-46.420119/2015-10-04?key=SM2SEHMQ5C293FLZ5QBABUNUB',\n",
       " 'https://weather.visualcrossing.com/VisualCrossingWebServices/rest/services/timeline/-23.574559434,-46.009798086/2015-10-04?key=SM2SEHMQ5C293FLZ5QBABUNUB',\n",
       " 'https://weather.visualcrossing.com/VisualCrossingWebServices/rest/services/timeline/-23.583379135,-46.6530516/2015-10-03?key=SM2SEHMQ5C293FLZ5QBABUNUB',\n",
       " 'https://weather.visualcrossing.com/VisualCrossingWebServices/rest/services/timeline/-23.375302,-46.699386/2015-10-03?key=SM2SEHMQ5C293FLZ5QBABUNUB',\n",
       " 'https://weather.visualcrossing.com/VisualCrossingWebServices/rest/services/timeline/-23.4768296401,-46.3534953588/2015-10-03?key=SM2SEHMQ5C293FLZ5QBABUNUB',\n",
       " 'https://weather.visualcrossing.com/VisualCrossingWebServices/rest/services/timeline/-23.409862,-46.837051/2015-10-01?key=SM2SEHMQ5C293FLZ5QBABUNUB',\n",
       " 'https://weather.visualcrossing.com/VisualCrossingWebServices/rest/services/timeline/-23.59272,-46.50717/2015-09-30?key=SM2SEHMQ5C293FLZ5QBABUNUB',\n",
       " 'https://weather.visualcrossing.com/VisualCrossingWebServices/rest/services/timeline/-23.466253,-46.630032/2015-09-27?key=SM2SEHMQ5C293FLZ5QBABUNUB',\n",
       " 'https://weather.visualcrossing.com/VisualCrossingWebServices/rest/services/timeline/-23.5796384056,-46.6510305918/2015-09-27?key=SM2SEHMQ5C293FLZ5QBABUNUB',\n",
       " 'https://weather.visualcrossing.com/VisualCrossingWebServices/rest/services/timeline/-23.565674,-46.39942/2015-09-27?key=SM2SEHMQ5C293FLZ5QBABUNUB',\n",
       " 'https://weather.visualcrossing.com/VisualCrossingWebServices/rest/services/timeline/-23.5906646308,-46.8229448829/2015-09-27?key=SM2SEHMQ5C293FLZ5QBABUNUB',\n",
       " 'https://weather.visualcrossing.com/VisualCrossingWebServices/rest/services/timeline/-23.529067448,-46.842613272/2015-09-27?key=SM2SEHMQ5C293FLZ5QBABUNUB',\n",
       " 'https://weather.visualcrossing.com/VisualCrossingWebServices/rest/services/timeline/-23.59485,-46.62804/2015-09-26?key=SM2SEHMQ5C293FLZ5QBABUNUB',\n",
       " 'https://weather.visualcrossing.com/VisualCrossingWebServices/rest/services/timeline/-23.610517,-46.493161/2015-09-25?key=SM2SEHMQ5C293FLZ5QBABUNUB',\n",
       " 'https://weather.visualcrossing.com/VisualCrossingWebServices/rest/services/timeline/-23.70035,-46.752857/2015-09-24?key=SM2SEHMQ5C293FLZ5QBABUNUB',\n",
       " 'https://weather.visualcrossing.com/VisualCrossingWebServices/rest/services/timeline/-23.65052,-46.5492/2015-09-23?key=SM2SEHMQ5C293FLZ5QBABUNUB',\n",
       " 'https://weather.visualcrossing.com/VisualCrossingWebServices/rest/services/timeline/-23.586181,-46.690678/2015-09-22?key=SM2SEHMQ5C293FLZ5QBABUNUB',\n",
       " 'https://weather.visualcrossing.com/VisualCrossingWebServices/rest/services/timeline/-23.755755,-46.667313/2015-09-20?key=SM2SEHMQ5C293FLZ5QBABUNUB',\n",
       " 'https://weather.visualcrossing.com/VisualCrossingWebServices/rest/services/timeline/-23.568982,-46.429487/2015-09-19?key=SM2SEHMQ5C293FLZ5QBABUNUB',\n",
       " 'https://weather.visualcrossing.com/VisualCrossingWebServices/rest/services/timeline/-23.690222666,-46.512540687/2015-09-19?key=SM2SEHMQ5C293FLZ5QBABUNUB',\n",
       " 'https://weather.visualcrossing.com/VisualCrossingWebServices/rest/services/timeline/-23.312261369,-46.8173709546/2015-09-19?key=SM2SEHMQ5C293FLZ5QBABUNUB',\n",
       " 'https://weather.visualcrossing.com/VisualCrossingWebServices/rest/services/timeline/-23.473142,-46.531251/2015-09-19?key=SM2SEHMQ5C293FLZ5QBABUNUB',\n",
       " 'https://weather.visualcrossing.com/VisualCrossingWebServices/rest/services/timeline/-23.54654,-46.833897/2015-09-19?key=SM2SEHMQ5C293FLZ5QBABUNUB',\n",
       " 'https://weather.visualcrossing.com/VisualCrossingWebServices/rest/services/timeline/-23.500556,-46.572819/2015-09-18?key=SM2SEHMQ5C293FLZ5QBABUNUB',\n",
       " 'https://weather.visualcrossing.com/VisualCrossingWebServices/rest/services/timeline/-23.607313,-46.697431/2015-09-17?key=SM2SEHMQ5C293FLZ5QBABUNUB',\n",
       " 'https://weather.visualcrossing.com/VisualCrossingWebServices/rest/services/timeline/-23.555951,-46.640112/2015-09-17?key=SM2SEHMQ5C293FLZ5QBABUNUB',\n",
       " 'https://weather.visualcrossing.com/VisualCrossingWebServices/rest/services/timeline/-23.513404,-46.568074/2015-09-17?key=SM2SEHMQ5C293FLZ5QBABUNUB',\n",
       " 'https://weather.visualcrossing.com/VisualCrossingWebServices/rest/services/timeline/-23.8633472423,-46.4976251081/2015-09-16?key=SM2SEHMQ5C293FLZ5QBABUNUB',\n",
       " 'https://weather.visualcrossing.com/VisualCrossingWebServices/rest/services/timeline/-23.511064127,-46.833585549/2015-09-16?key=SM2SEHMQ5C293FLZ5QBABUNUB',\n",
       " 'https://weather.visualcrossing.com/VisualCrossingWebServices/rest/services/timeline/-23.523764,-46.598984/2015-09-14?key=SM2SEHMQ5C293FLZ5QBABUNUB',\n",
       " 'https://weather.visualcrossing.com/VisualCrossingWebServices/rest/services/timeline/-23.757065,-46.839592/2015-09-14?key=SM2SEHMQ5C293FLZ5QBABUNUB',\n",
       " 'https://weather.visualcrossing.com/VisualCrossingWebServices/rest/services/timeline/-23.6024617804,-46.9316395403/2015-09-14?key=SM2SEHMQ5C293FLZ5QBABUNUB',\n",
       " 'https://weather.visualcrossing.com/VisualCrossingWebServices/rest/services/timeline/-23.533542,-46.54044/2015-09-13?key=SM2SEHMQ5C293FLZ5QBABUNUB',\n",
       " 'https://weather.visualcrossing.com/VisualCrossingWebServices/rest/services/timeline/-23.3309901731,-46.6942060169/2015-09-12?key=SM2SEHMQ5C293FLZ5QBABUNUB']"
      ]
     },
     "metadata": {},
     "execution_count": 221
    }
   ],
   "source": [
    "list(df_escolhido['API_url'])"
   ]
  },
  {
   "cell_type": "code",
   "execution_count": 222,
   "metadata": {},
   "outputs": [
    {
     "output_type": "execute_result",
     "data": {
      "text/plain": [
       "            Latitude       Longitude  \\\n",
       "2386      -23,742637       -46,81028   \n",
       "2387   -23,672663577   -46,620814067   \n",
       "2388  -23,4283854107  -46,4101153027   \n",
       "2389      -23,640227      -46,780023   \n",
       "2390      -23,729545     -46,6907083   \n",
       "2391    -23,54661877   -46,472644919   \n",
       "2392      -23,514634      -46,487291   \n",
       "2393      -23,713729      -46,420119   \n",
       "2394   -23,574559434   -46,009798086   \n",
       "2395   -23,583379135     -46,6530516   \n",
       "2396      -23,375302      -46,699386   \n",
       "2397  -23,4768296401  -46,3534953588   \n",
       "2398      -23,409862      -46,837051   \n",
       "2399       -23,59272       -46,50717   \n",
       "2400      -23,466253      -46,630032   \n",
       "2401  -23,5796384056  -46,6510305918   \n",
       "2402      -23,565674       -46,39942   \n",
       "2403  -23,5906646308  -46,8229448829   \n",
       "2404   -23,529067448   -46,842613272   \n",
       "2405       -23,59485       -46,62804   \n",
       "2406      -23,610517      -46,493161   \n",
       "2407       -23,70035      -46,752857   \n",
       "2408       -23,65052        -46,5492   \n",
       "2409      -23,586181      -46,690678   \n",
       "2410      -23,755755      -46,667313   \n",
       "2411      -23,568982      -46,429487   \n",
       "2412   -23,690222666   -46,512540687   \n",
       "2413   -23,312261369  -46,8173709546   \n",
       "2414      -23,473142      -46,531251   \n",
       "2415       -23,54654      -46,833897   \n",
       "2416      -23,500556      -46,572819   \n",
       "2417      -23,607313      -46,697431   \n",
       "2418      -23,555951      -46,640112   \n",
       "2419      -23,513404      -46,568074   \n",
       "2420  -23,8633472423  -46,4976251081   \n",
       "2421   -23,511064127   -46,833585549   \n",
       "2422      -23,523764      -46,598984   \n",
       "2423      -23,757065      -46,839592   \n",
       "2424  -23,6024617804  -46,9316395403   \n",
       "2425      -23,533542       -46,54044   \n",
       "2426  -23,3309901731  -46,6942060169   \n",
       "\n",
       "                                                API_url  Condições Climáticas  \n",
       "2386  https://weather.visualcrossing.com/VisualCross...                   NaN  \n",
       "2387  https://weather.visualcrossing.com/VisualCross...                   NaN  \n",
       "2388  https://weather.visualcrossing.com/VisualCross...                   NaN  \n",
       "2389  https://weather.visualcrossing.com/VisualCross...                   NaN  \n",
       "2390  https://weather.visualcrossing.com/VisualCross...                   NaN  \n",
       "2391  https://weather.visualcrossing.com/VisualCross...                   NaN  \n",
       "2392  https://weather.visualcrossing.com/VisualCross...                   NaN  \n",
       "2393  https://weather.visualcrossing.com/VisualCross...                   NaN  \n",
       "2394  https://weather.visualcrossing.com/VisualCross...                   NaN  \n",
       "2395  https://weather.visualcrossing.com/VisualCross...                   NaN  \n",
       "2396  https://weather.visualcrossing.com/VisualCross...                   NaN  \n",
       "2397  https://weather.visualcrossing.com/VisualCross...                   NaN  \n",
       "2398  https://weather.visualcrossing.com/VisualCross...                   NaN  \n",
       "2399  https://weather.visualcrossing.com/VisualCross...                   NaN  \n",
       "2400  https://weather.visualcrossing.com/VisualCross...                   NaN  \n",
       "2401  https://weather.visualcrossing.com/VisualCross...                   NaN  \n",
       "2402  https://weather.visualcrossing.com/VisualCross...                   NaN  \n",
       "2403  https://weather.visualcrossing.com/VisualCross...                   NaN  \n",
       "2404  https://weather.visualcrossing.com/VisualCross...                   NaN  \n",
       "2405  https://weather.visualcrossing.com/VisualCross...                   NaN  \n",
       "2406  https://weather.visualcrossing.com/VisualCross...                   NaN  \n",
       "2407  https://weather.visualcrossing.com/VisualCross...                   NaN  \n",
       "2408  https://weather.visualcrossing.com/VisualCross...                   NaN  \n",
       "2409  https://weather.visualcrossing.com/VisualCross...                   NaN  \n",
       "2410  https://weather.visualcrossing.com/VisualCross...                   NaN  \n",
       "2411  https://weather.visualcrossing.com/VisualCross...                   NaN  \n",
       "2412  https://weather.visualcrossing.com/VisualCross...                   NaN  \n",
       "2413  https://weather.visualcrossing.com/VisualCross...                   NaN  \n",
       "2414  https://weather.visualcrossing.com/VisualCross...                   NaN  \n",
       "2415  https://weather.visualcrossing.com/VisualCross...                   NaN  \n",
       "2416  https://weather.visualcrossing.com/VisualCross...                   NaN  \n",
       "2417  https://weather.visualcrossing.com/VisualCross...                   NaN  \n",
       "2418  https://weather.visualcrossing.com/VisualCross...                   NaN  \n",
       "2419  https://weather.visualcrossing.com/VisualCross...                   NaN  \n",
       "2420  https://weather.visualcrossing.com/VisualCross...                   NaN  \n",
       "2421  https://weather.visualcrossing.com/VisualCross...                   NaN  \n",
       "2422  https://weather.visualcrossing.com/VisualCross...                   NaN  \n",
       "2423  https://weather.visualcrossing.com/VisualCross...                   NaN  \n",
       "2424  https://weather.visualcrossing.com/VisualCross...                   NaN  \n",
       "2425  https://weather.visualcrossing.com/VisualCross...                   NaN  \n",
       "2426  https://weather.visualcrossing.com/VisualCross...                   NaN  "
      ],
      "text/html": "<div>\n<style scoped>\n    .dataframe tbody tr th:only-of-type {\n        vertical-align: middle;\n    }\n\n    .dataframe tbody tr th {\n        vertical-align: top;\n    }\n\n    .dataframe thead th {\n        text-align: right;\n    }\n</style>\n<table border=\"1\" class=\"dataframe\">\n  <thead>\n    <tr style=\"text-align: right;\">\n      <th></th>\n      <th>Latitude</th>\n      <th>Longitude</th>\n      <th>API_url</th>\n      <th>Condições Climáticas</th>\n    </tr>\n  </thead>\n  <tbody>\n    <tr>\n      <th>2386</th>\n      <td>-23,742637</td>\n      <td>-46,81028</td>\n      <td>https://weather.visualcrossing.com/VisualCross...</td>\n      <td>NaN</td>\n    </tr>\n    <tr>\n      <th>2387</th>\n      <td>-23,672663577</td>\n      <td>-46,620814067</td>\n      <td>https://weather.visualcrossing.com/VisualCross...</td>\n      <td>NaN</td>\n    </tr>\n    <tr>\n      <th>2388</th>\n      <td>-23,4283854107</td>\n      <td>-46,4101153027</td>\n      <td>https://weather.visualcrossing.com/VisualCross...</td>\n      <td>NaN</td>\n    </tr>\n    <tr>\n      <th>2389</th>\n      <td>-23,640227</td>\n      <td>-46,780023</td>\n      <td>https://weather.visualcrossing.com/VisualCross...</td>\n      <td>NaN</td>\n    </tr>\n    <tr>\n      <th>2390</th>\n      <td>-23,729545</td>\n      <td>-46,6907083</td>\n      <td>https://weather.visualcrossing.com/VisualCross...</td>\n      <td>NaN</td>\n    </tr>\n    <tr>\n      <th>2391</th>\n      <td>-23,54661877</td>\n      <td>-46,472644919</td>\n      <td>https://weather.visualcrossing.com/VisualCross...</td>\n      <td>NaN</td>\n    </tr>\n    <tr>\n      <th>2392</th>\n      <td>-23,514634</td>\n      <td>-46,487291</td>\n      <td>https://weather.visualcrossing.com/VisualCross...</td>\n      <td>NaN</td>\n    </tr>\n    <tr>\n      <th>2393</th>\n      <td>-23,713729</td>\n      <td>-46,420119</td>\n      <td>https://weather.visualcrossing.com/VisualCross...</td>\n      <td>NaN</td>\n    </tr>\n    <tr>\n      <th>2394</th>\n      <td>-23,574559434</td>\n      <td>-46,009798086</td>\n      <td>https://weather.visualcrossing.com/VisualCross...</td>\n      <td>NaN</td>\n    </tr>\n    <tr>\n      <th>2395</th>\n      <td>-23,583379135</td>\n      <td>-46,6530516</td>\n      <td>https://weather.visualcrossing.com/VisualCross...</td>\n      <td>NaN</td>\n    </tr>\n    <tr>\n      <th>2396</th>\n      <td>-23,375302</td>\n      <td>-46,699386</td>\n      <td>https://weather.visualcrossing.com/VisualCross...</td>\n      <td>NaN</td>\n    </tr>\n    <tr>\n      <th>2397</th>\n      <td>-23,4768296401</td>\n      <td>-46,3534953588</td>\n      <td>https://weather.visualcrossing.com/VisualCross...</td>\n      <td>NaN</td>\n    </tr>\n    <tr>\n      <th>2398</th>\n      <td>-23,409862</td>\n      <td>-46,837051</td>\n      <td>https://weather.visualcrossing.com/VisualCross...</td>\n      <td>NaN</td>\n    </tr>\n    <tr>\n      <th>2399</th>\n      <td>-23,59272</td>\n      <td>-46,50717</td>\n      <td>https://weather.visualcrossing.com/VisualCross...</td>\n      <td>NaN</td>\n    </tr>\n    <tr>\n      <th>2400</th>\n      <td>-23,466253</td>\n      <td>-46,630032</td>\n      <td>https://weather.visualcrossing.com/VisualCross...</td>\n      <td>NaN</td>\n    </tr>\n    <tr>\n      <th>2401</th>\n      <td>-23,5796384056</td>\n      <td>-46,6510305918</td>\n      <td>https://weather.visualcrossing.com/VisualCross...</td>\n      <td>NaN</td>\n    </tr>\n    <tr>\n      <th>2402</th>\n      <td>-23,565674</td>\n      <td>-46,39942</td>\n      <td>https://weather.visualcrossing.com/VisualCross...</td>\n      <td>NaN</td>\n    </tr>\n    <tr>\n      <th>2403</th>\n      <td>-23,5906646308</td>\n      <td>-46,8229448829</td>\n      <td>https://weather.visualcrossing.com/VisualCross...</td>\n      <td>NaN</td>\n    </tr>\n    <tr>\n      <th>2404</th>\n      <td>-23,529067448</td>\n      <td>-46,842613272</td>\n      <td>https://weather.visualcrossing.com/VisualCross...</td>\n      <td>NaN</td>\n    </tr>\n    <tr>\n      <th>2405</th>\n      <td>-23,59485</td>\n      <td>-46,62804</td>\n      <td>https://weather.visualcrossing.com/VisualCross...</td>\n      <td>NaN</td>\n    </tr>\n    <tr>\n      <th>2406</th>\n      <td>-23,610517</td>\n      <td>-46,493161</td>\n      <td>https://weather.visualcrossing.com/VisualCross...</td>\n      <td>NaN</td>\n    </tr>\n    <tr>\n      <th>2407</th>\n      <td>-23,70035</td>\n      <td>-46,752857</td>\n      <td>https://weather.visualcrossing.com/VisualCross...</td>\n      <td>NaN</td>\n    </tr>\n    <tr>\n      <th>2408</th>\n      <td>-23,65052</td>\n      <td>-46,5492</td>\n      <td>https://weather.visualcrossing.com/VisualCross...</td>\n      <td>NaN</td>\n    </tr>\n    <tr>\n      <th>2409</th>\n      <td>-23,586181</td>\n      <td>-46,690678</td>\n      <td>https://weather.visualcrossing.com/VisualCross...</td>\n      <td>NaN</td>\n    </tr>\n    <tr>\n      <th>2410</th>\n      <td>-23,755755</td>\n      <td>-46,667313</td>\n      <td>https://weather.visualcrossing.com/VisualCross...</td>\n      <td>NaN</td>\n    </tr>\n    <tr>\n      <th>2411</th>\n      <td>-23,568982</td>\n      <td>-46,429487</td>\n      <td>https://weather.visualcrossing.com/VisualCross...</td>\n      <td>NaN</td>\n    </tr>\n    <tr>\n      <th>2412</th>\n      <td>-23,690222666</td>\n      <td>-46,512540687</td>\n      <td>https://weather.visualcrossing.com/VisualCross...</td>\n      <td>NaN</td>\n    </tr>\n    <tr>\n      <th>2413</th>\n      <td>-23,312261369</td>\n      <td>-46,8173709546</td>\n      <td>https://weather.visualcrossing.com/VisualCross...</td>\n      <td>NaN</td>\n    </tr>\n    <tr>\n      <th>2414</th>\n      <td>-23,473142</td>\n      <td>-46,531251</td>\n      <td>https://weather.visualcrossing.com/VisualCross...</td>\n      <td>NaN</td>\n    </tr>\n    <tr>\n      <th>2415</th>\n      <td>-23,54654</td>\n      <td>-46,833897</td>\n      <td>https://weather.visualcrossing.com/VisualCross...</td>\n      <td>NaN</td>\n    </tr>\n    <tr>\n      <th>2416</th>\n      <td>-23,500556</td>\n      <td>-46,572819</td>\n      <td>https://weather.visualcrossing.com/VisualCross...</td>\n      <td>NaN</td>\n    </tr>\n    <tr>\n      <th>2417</th>\n      <td>-23,607313</td>\n      <td>-46,697431</td>\n      <td>https://weather.visualcrossing.com/VisualCross...</td>\n      <td>NaN</td>\n    </tr>\n    <tr>\n      <th>2418</th>\n      <td>-23,555951</td>\n      <td>-46,640112</td>\n      <td>https://weather.visualcrossing.com/VisualCross...</td>\n      <td>NaN</td>\n    </tr>\n    <tr>\n      <th>2419</th>\n      <td>-23,513404</td>\n      <td>-46,568074</td>\n      <td>https://weather.visualcrossing.com/VisualCross...</td>\n      <td>NaN</td>\n    </tr>\n    <tr>\n      <th>2420</th>\n      <td>-23,8633472423</td>\n      <td>-46,4976251081</td>\n      <td>https://weather.visualcrossing.com/VisualCross...</td>\n      <td>NaN</td>\n    </tr>\n    <tr>\n      <th>2421</th>\n      <td>-23,511064127</td>\n      <td>-46,833585549</td>\n      <td>https://weather.visualcrossing.com/VisualCross...</td>\n      <td>NaN</td>\n    </tr>\n    <tr>\n      <th>2422</th>\n      <td>-23,523764</td>\n      <td>-46,598984</td>\n      <td>https://weather.visualcrossing.com/VisualCross...</td>\n      <td>NaN</td>\n    </tr>\n    <tr>\n      <th>2423</th>\n      <td>-23,757065</td>\n      <td>-46,839592</td>\n      <td>https://weather.visualcrossing.com/VisualCross...</td>\n      <td>NaN</td>\n    </tr>\n    <tr>\n      <th>2424</th>\n      <td>-23,6024617804</td>\n      <td>-46,9316395403</td>\n      <td>https://weather.visualcrossing.com/VisualCross...</td>\n      <td>NaN</td>\n    </tr>\n    <tr>\n      <th>2425</th>\n      <td>-23,533542</td>\n      <td>-46,54044</td>\n      <td>https://weather.visualcrossing.com/VisualCross...</td>\n      <td>NaN</td>\n    </tr>\n    <tr>\n      <th>2426</th>\n      <td>-23,3309901731</td>\n      <td>-46,6942060169</td>\n      <td>https://weather.visualcrossing.com/VisualCross...</td>\n      <td>NaN</td>\n    </tr>\n  </tbody>\n</table>\n</div>"
     },
     "metadata": {},
     "execution_count": 222
    }
   ],
   "source": [
    "df_escolhido[['Latitude','Longitude','API_url','Condições Climáticas']]"
   ]
  },
  {
   "cell_type": "code",
   "execution_count": 223,
   "metadata": {},
   "outputs": [],
   "source": [
    "#criando função def para buscar na API e incluir no df\n",
    "def get_API_value(df):\n",
    "    response = urllib.request.urlopen(df['API_url'])\n",
    "    data = json.loads(response.read())\n",
    "    condition = data.get('days')[0].get('hours')[df['Hora']].get('conditions')\n",
    "    precip = data.get('days')[0].get('hours')[df['Hora']].get('precip')\n",
    "    return condition,precip"
   ]
  },
  {
   "cell_type": "code",
   "execution_count": 224,
   "metadata": {},
   "outputs": [
    {
     "output_type": "stream",
     "name": "stderr",
     "text": [
      "<ipython-input-224-a6cba688e84f>:2: SettingWithCopyWarning: \nA value is trying to be set on a copy of a slice from a DataFrame.\nTry using .loc[row_indexer,col_indexer] = value instead\n\nSee the caveats in the documentation: https://pandas.pydata.org/pandas-docs/stable/user_guide/indexing.html#returning-a-view-versus-a-copy\n  df_escolhido['Condições Climáticas'] =df_escolhido.apply(lambda df: get_API_value(df),axis=1)\n"
     ]
    }
   ],
   "source": [
    "#   AQUI A FUNÇÃO IRÁ CONSUMIR CRÉDITOS....CHECAR NA CONTA DO VISUAL CROSSING\n",
    "df_escolhido['Condições Climáticas'] =df_escolhido.apply(lambda df: get_API_value(df),axis=1)"
   ]
  },
  {
   "cell_type": "code",
   "execution_count": 225,
   "metadata": {},
   "outputs": [
    {
     "output_type": "execute_result",
     "data": {
      "text/plain": [
       "            Latitude       Longitude  \\\n",
       "2386      -23,742637       -46,81028   \n",
       "2387   -23,672663577   -46,620814067   \n",
       "2388  -23,4283854107  -46,4101153027   \n",
       "2389      -23,640227      -46,780023   \n",
       "2390      -23,729545     -46,6907083   \n",
       "2391    -23,54661877   -46,472644919   \n",
       "2392      -23,514634      -46,487291   \n",
       "2393      -23,713729      -46,420119   \n",
       "2394   -23,574559434   -46,009798086   \n",
       "2395   -23,583379135     -46,6530516   \n",
       "2396      -23,375302      -46,699386   \n",
       "2397  -23,4768296401  -46,3534953588   \n",
       "2398      -23,409862      -46,837051   \n",
       "2399       -23,59272       -46,50717   \n",
       "2400      -23,466253      -46,630032   \n",
       "2401  -23,5796384056  -46,6510305918   \n",
       "2402      -23,565674       -46,39942   \n",
       "2403  -23,5906646308  -46,8229448829   \n",
       "2404   -23,529067448   -46,842613272   \n",
       "2405       -23,59485       -46,62804   \n",
       "2406      -23,610517      -46,493161   \n",
       "2407       -23,70035      -46,752857   \n",
       "2408       -23,65052        -46,5492   \n",
       "2409      -23,586181      -46,690678   \n",
       "2410      -23,755755      -46,667313   \n",
       "2411      -23,568982      -46,429487   \n",
       "2412   -23,690222666   -46,512540687   \n",
       "2413   -23,312261369  -46,8173709546   \n",
       "2414      -23,473142      -46,531251   \n",
       "2415       -23,54654      -46,833897   \n",
       "2416      -23,500556      -46,572819   \n",
       "2417      -23,607313      -46,697431   \n",
       "2418      -23,555951      -46,640112   \n",
       "2419      -23,513404      -46,568074   \n",
       "2420  -23,8633472423  -46,4976251081   \n",
       "2421   -23,511064127   -46,833585549   \n",
       "2422      -23,523764      -46,598984   \n",
       "2423      -23,757065      -46,839592   \n",
       "2424  -23,6024617804  -46,9316395403   \n",
       "2425      -23,533542       -46,54044   \n",
       "2426  -23,3309901731  -46,6942060169   \n",
       "\n",
       "                                                API_url  \\\n",
       "2386  https://weather.visualcrossing.com/VisualCross...   \n",
       "2387  https://weather.visualcrossing.com/VisualCross...   \n",
       "2388  https://weather.visualcrossing.com/VisualCross...   \n",
       "2389  https://weather.visualcrossing.com/VisualCross...   \n",
       "2390  https://weather.visualcrossing.com/VisualCross...   \n",
       "2391  https://weather.visualcrossing.com/VisualCross...   \n",
       "2392  https://weather.visualcrossing.com/VisualCross...   \n",
       "2393  https://weather.visualcrossing.com/VisualCross...   \n",
       "2394  https://weather.visualcrossing.com/VisualCross...   \n",
       "2395  https://weather.visualcrossing.com/VisualCross...   \n",
       "2396  https://weather.visualcrossing.com/VisualCross...   \n",
       "2397  https://weather.visualcrossing.com/VisualCross...   \n",
       "2398  https://weather.visualcrossing.com/VisualCross...   \n",
       "2399  https://weather.visualcrossing.com/VisualCross...   \n",
       "2400  https://weather.visualcrossing.com/VisualCross...   \n",
       "2401  https://weather.visualcrossing.com/VisualCross...   \n",
       "2402  https://weather.visualcrossing.com/VisualCross...   \n",
       "2403  https://weather.visualcrossing.com/VisualCross...   \n",
       "2404  https://weather.visualcrossing.com/VisualCross...   \n",
       "2405  https://weather.visualcrossing.com/VisualCross...   \n",
       "2406  https://weather.visualcrossing.com/VisualCross...   \n",
       "2407  https://weather.visualcrossing.com/VisualCross...   \n",
       "2408  https://weather.visualcrossing.com/VisualCross...   \n",
       "2409  https://weather.visualcrossing.com/VisualCross...   \n",
       "2410  https://weather.visualcrossing.com/VisualCross...   \n",
       "2411  https://weather.visualcrossing.com/VisualCross...   \n",
       "2412  https://weather.visualcrossing.com/VisualCross...   \n",
       "2413  https://weather.visualcrossing.com/VisualCross...   \n",
       "2414  https://weather.visualcrossing.com/VisualCross...   \n",
       "2415  https://weather.visualcrossing.com/VisualCross...   \n",
       "2416  https://weather.visualcrossing.com/VisualCross...   \n",
       "2417  https://weather.visualcrossing.com/VisualCross...   \n",
       "2418  https://weather.visualcrossing.com/VisualCross...   \n",
       "2419  https://weather.visualcrossing.com/VisualCross...   \n",
       "2420  https://weather.visualcrossing.com/VisualCross...   \n",
       "2421  https://weather.visualcrossing.com/VisualCross...   \n",
       "2422  https://weather.visualcrossing.com/VisualCross...   \n",
       "2423  https://weather.visualcrossing.com/VisualCross...   \n",
       "2424  https://weather.visualcrossing.com/VisualCross...   \n",
       "2425  https://weather.visualcrossing.com/VisualCross...   \n",
       "2426  https://weather.visualcrossing.com/VisualCross...   \n",
       "\n",
       "          Condições Climáticas  \n",
       "2386          (Overcast, None)  \n",
       "2387          (Overcast, None)  \n",
       "2388  (Partially cloudy, None)  \n",
       "2389          (Overcast, None)  \n",
       "2390          (Overcast, None)  \n",
       "2391          (Overcast, None)  \n",
       "2392          (Overcast, None)  \n",
       "2393          (Overcast, None)  \n",
       "2394          (Overcast, None)  \n",
       "2395  (Partially cloudy, None)  \n",
       "2396          (Overcast, None)  \n",
       "2397  (Partially cloudy, None)  \n",
       "2398  (Partially cloudy, None)  \n",
       "2399  (Partially cloudy, None)  \n",
       "2400  (Partially cloudy, None)  \n",
       "2401  (Partially cloudy, None)  \n",
       "2402  (Partially cloudy, None)  \n",
       "2403  (Partially cloudy, None)  \n",
       "2404  (Partially cloudy, None)  \n",
       "2405          (Overcast, None)  \n",
       "2406  (Partially cloudy, None)  \n",
       "2407             (Clear, None)  \n",
       "2408             (Clear, None)  \n",
       "2409             (Clear, None)  \n",
       "2410             (Clear, None)  \n",
       "2411             (Clear, None)  \n",
       "2412  (Partially cloudy, None)  \n",
       "2413             (Clear, None)  \n",
       "2414             (Clear, None)  \n",
       "2415             (Clear, None)  \n",
       "2416             (Clear, None)  \n",
       "2417  (Partially cloudy, None)  \n",
       "2418             (Clear, None)  \n",
       "2419  (Partially cloudy, None)  \n",
       "2420             (Clear, None)  \n",
       "2421             (Clear, None)  \n",
       "2422          (Overcast, None)  \n",
       "2423          (Overcast, None)  \n",
       "2424          (Overcast, None)  \n",
       "2425          (Overcast, None)  \n",
       "2426           (Overcast, 0.0)  "
      ],
      "text/html": "<div>\n<style scoped>\n    .dataframe tbody tr th:only-of-type {\n        vertical-align: middle;\n    }\n\n    .dataframe tbody tr th {\n        vertical-align: top;\n    }\n\n    .dataframe thead th {\n        text-align: right;\n    }\n</style>\n<table border=\"1\" class=\"dataframe\">\n  <thead>\n    <tr style=\"text-align: right;\">\n      <th></th>\n      <th>Latitude</th>\n      <th>Longitude</th>\n      <th>API_url</th>\n      <th>Condições Climáticas</th>\n    </tr>\n  </thead>\n  <tbody>\n    <tr>\n      <th>2386</th>\n      <td>-23,742637</td>\n      <td>-46,81028</td>\n      <td>https://weather.visualcrossing.com/VisualCross...</td>\n      <td>(Overcast, None)</td>\n    </tr>\n    <tr>\n      <th>2387</th>\n      <td>-23,672663577</td>\n      <td>-46,620814067</td>\n      <td>https://weather.visualcrossing.com/VisualCross...</td>\n      <td>(Overcast, None)</td>\n    </tr>\n    <tr>\n      <th>2388</th>\n      <td>-23,4283854107</td>\n      <td>-46,4101153027</td>\n      <td>https://weather.visualcrossing.com/VisualCross...</td>\n      <td>(Partially cloudy, None)</td>\n    </tr>\n    <tr>\n      <th>2389</th>\n      <td>-23,640227</td>\n      <td>-46,780023</td>\n      <td>https://weather.visualcrossing.com/VisualCross...</td>\n      <td>(Overcast, None)</td>\n    </tr>\n    <tr>\n      <th>2390</th>\n      <td>-23,729545</td>\n      <td>-46,6907083</td>\n      <td>https://weather.visualcrossing.com/VisualCross...</td>\n      <td>(Overcast, None)</td>\n    </tr>\n    <tr>\n      <th>2391</th>\n      <td>-23,54661877</td>\n      <td>-46,472644919</td>\n      <td>https://weather.visualcrossing.com/VisualCross...</td>\n      <td>(Overcast, None)</td>\n    </tr>\n    <tr>\n      <th>2392</th>\n      <td>-23,514634</td>\n      <td>-46,487291</td>\n      <td>https://weather.visualcrossing.com/VisualCross...</td>\n      <td>(Overcast, None)</td>\n    </tr>\n    <tr>\n      <th>2393</th>\n      <td>-23,713729</td>\n      <td>-46,420119</td>\n      <td>https://weather.visualcrossing.com/VisualCross...</td>\n      <td>(Overcast, None)</td>\n    </tr>\n    <tr>\n      <th>2394</th>\n      <td>-23,574559434</td>\n      <td>-46,009798086</td>\n      <td>https://weather.visualcrossing.com/VisualCross...</td>\n      <td>(Overcast, None)</td>\n    </tr>\n    <tr>\n      <th>2395</th>\n      <td>-23,583379135</td>\n      <td>-46,6530516</td>\n      <td>https://weather.visualcrossing.com/VisualCross...</td>\n      <td>(Partially cloudy, None)</td>\n    </tr>\n    <tr>\n      <th>2396</th>\n      <td>-23,375302</td>\n      <td>-46,699386</td>\n      <td>https://weather.visualcrossing.com/VisualCross...</td>\n      <td>(Overcast, None)</td>\n    </tr>\n    <tr>\n      <th>2397</th>\n      <td>-23,4768296401</td>\n      <td>-46,3534953588</td>\n      <td>https://weather.visualcrossing.com/VisualCross...</td>\n      <td>(Partially cloudy, None)</td>\n    </tr>\n    <tr>\n      <th>2398</th>\n      <td>-23,409862</td>\n      <td>-46,837051</td>\n      <td>https://weather.visualcrossing.com/VisualCross...</td>\n      <td>(Partially cloudy, None)</td>\n    </tr>\n    <tr>\n      <th>2399</th>\n      <td>-23,59272</td>\n      <td>-46,50717</td>\n      <td>https://weather.visualcrossing.com/VisualCross...</td>\n      <td>(Partially cloudy, None)</td>\n    </tr>\n    <tr>\n      <th>2400</th>\n      <td>-23,466253</td>\n      <td>-46,630032</td>\n      <td>https://weather.visualcrossing.com/VisualCross...</td>\n      <td>(Partially cloudy, None)</td>\n    </tr>\n    <tr>\n      <th>2401</th>\n      <td>-23,5796384056</td>\n      <td>-46,6510305918</td>\n      <td>https://weather.visualcrossing.com/VisualCross...</td>\n      <td>(Partially cloudy, None)</td>\n    </tr>\n    <tr>\n      <th>2402</th>\n      <td>-23,565674</td>\n      <td>-46,39942</td>\n      <td>https://weather.visualcrossing.com/VisualCross...</td>\n      <td>(Partially cloudy, None)</td>\n    </tr>\n    <tr>\n      <th>2403</th>\n      <td>-23,5906646308</td>\n      <td>-46,8229448829</td>\n      <td>https://weather.visualcrossing.com/VisualCross...</td>\n      <td>(Partially cloudy, None)</td>\n    </tr>\n    <tr>\n      <th>2404</th>\n      <td>-23,529067448</td>\n      <td>-46,842613272</td>\n      <td>https://weather.visualcrossing.com/VisualCross...</td>\n      <td>(Partially cloudy, None)</td>\n    </tr>\n    <tr>\n      <th>2405</th>\n      <td>-23,59485</td>\n      <td>-46,62804</td>\n      <td>https://weather.visualcrossing.com/VisualCross...</td>\n      <td>(Overcast, None)</td>\n    </tr>\n    <tr>\n      <th>2406</th>\n      <td>-23,610517</td>\n      <td>-46,493161</td>\n      <td>https://weather.visualcrossing.com/VisualCross...</td>\n      <td>(Partially cloudy, None)</td>\n    </tr>\n    <tr>\n      <th>2407</th>\n      <td>-23,70035</td>\n      <td>-46,752857</td>\n      <td>https://weather.visualcrossing.com/VisualCross...</td>\n      <td>(Clear, None)</td>\n    </tr>\n    <tr>\n      <th>2408</th>\n      <td>-23,65052</td>\n      <td>-46,5492</td>\n      <td>https://weather.visualcrossing.com/VisualCross...</td>\n      <td>(Clear, None)</td>\n    </tr>\n    <tr>\n      <th>2409</th>\n      <td>-23,586181</td>\n      <td>-46,690678</td>\n      <td>https://weather.visualcrossing.com/VisualCross...</td>\n      <td>(Clear, None)</td>\n    </tr>\n    <tr>\n      <th>2410</th>\n      <td>-23,755755</td>\n      <td>-46,667313</td>\n      <td>https://weather.visualcrossing.com/VisualCross...</td>\n      <td>(Clear, None)</td>\n    </tr>\n    <tr>\n      <th>2411</th>\n      <td>-23,568982</td>\n      <td>-46,429487</td>\n      <td>https://weather.visualcrossing.com/VisualCross...</td>\n      <td>(Clear, None)</td>\n    </tr>\n    <tr>\n      <th>2412</th>\n      <td>-23,690222666</td>\n      <td>-46,512540687</td>\n      <td>https://weather.visualcrossing.com/VisualCross...</td>\n      <td>(Partially cloudy, None)</td>\n    </tr>\n    <tr>\n      <th>2413</th>\n      <td>-23,312261369</td>\n      <td>-46,8173709546</td>\n      <td>https://weather.visualcrossing.com/VisualCross...</td>\n      <td>(Clear, None)</td>\n    </tr>\n    <tr>\n      <th>2414</th>\n      <td>-23,473142</td>\n      <td>-46,531251</td>\n      <td>https://weather.visualcrossing.com/VisualCross...</td>\n      <td>(Clear, None)</td>\n    </tr>\n    <tr>\n      <th>2415</th>\n      <td>-23,54654</td>\n      <td>-46,833897</td>\n      <td>https://weather.visualcrossing.com/VisualCross...</td>\n      <td>(Clear, None)</td>\n    </tr>\n    <tr>\n      <th>2416</th>\n      <td>-23,500556</td>\n      <td>-46,572819</td>\n      <td>https://weather.visualcrossing.com/VisualCross...</td>\n      <td>(Clear, None)</td>\n    </tr>\n    <tr>\n      <th>2417</th>\n      <td>-23,607313</td>\n      <td>-46,697431</td>\n      <td>https://weather.visualcrossing.com/VisualCross...</td>\n      <td>(Partially cloudy, None)</td>\n    </tr>\n    <tr>\n      <th>2418</th>\n      <td>-23,555951</td>\n      <td>-46,640112</td>\n      <td>https://weather.visualcrossing.com/VisualCross...</td>\n      <td>(Clear, None)</td>\n    </tr>\n    <tr>\n      <th>2419</th>\n      <td>-23,513404</td>\n      <td>-46,568074</td>\n      <td>https://weather.visualcrossing.com/VisualCross...</td>\n      <td>(Partially cloudy, None)</td>\n    </tr>\n    <tr>\n      <th>2420</th>\n      <td>-23,8633472423</td>\n      <td>-46,4976251081</td>\n      <td>https://weather.visualcrossing.com/VisualCross...</td>\n      <td>(Clear, None)</td>\n    </tr>\n    <tr>\n      <th>2421</th>\n      <td>-23,511064127</td>\n      <td>-46,833585549</td>\n      <td>https://weather.visualcrossing.com/VisualCross...</td>\n      <td>(Clear, None)</td>\n    </tr>\n    <tr>\n      <th>2422</th>\n      <td>-23,523764</td>\n      <td>-46,598984</td>\n      <td>https://weather.visualcrossing.com/VisualCross...</td>\n      <td>(Overcast, None)</td>\n    </tr>\n    <tr>\n      <th>2423</th>\n      <td>-23,757065</td>\n      <td>-46,839592</td>\n      <td>https://weather.visualcrossing.com/VisualCross...</td>\n      <td>(Overcast, None)</td>\n    </tr>\n    <tr>\n      <th>2424</th>\n      <td>-23,6024617804</td>\n      <td>-46,9316395403</td>\n      <td>https://weather.visualcrossing.com/VisualCross...</td>\n      <td>(Overcast, None)</td>\n    </tr>\n    <tr>\n      <th>2425</th>\n      <td>-23,533542</td>\n      <td>-46,54044</td>\n      <td>https://weather.visualcrossing.com/VisualCross...</td>\n      <td>(Overcast, None)</td>\n    </tr>\n    <tr>\n      <th>2426</th>\n      <td>-23,3309901731</td>\n      <td>-46,6942060169</td>\n      <td>https://weather.visualcrossing.com/VisualCross...</td>\n      <td>(Overcast, 0.0)</td>\n    </tr>\n  </tbody>\n</table>\n</div>"
     },
     "metadata": {},
     "execution_count": 225
    }
   ],
   "source": [
    "df_escolhido[['Latitude','Longitude','API_url','Condições Climáticas']]"
   ]
  },
  {
   "cell_type": "code",
   "execution_count": 226,
   "metadata": {},
   "outputs": [
    {
     "output_type": "stream",
     "name": "stderr",
     "text": [
      "C:\\Users\\Renato\\anaconda3\\envs\\Data_Science\\lib\\site-packages\\pandas\\core\\frame.py:4308: SettingWithCopyWarning: \nA value is trying to be set on a copy of a slice from a DataFrame\n\nSee the caveats in the documentation: https://pandas.pydata.org/pandas-docs/stable/user_guide/indexing.html#returning-a-view-versus-a-copy\n  return super().drop(\n"
     ]
    }
   ],
   "source": [
    "# dropando coluna URL\n",
    "df_escolhido.drop(columns='API_url',axis=1,inplace=True)"
   ]
  },
  {
   "cell_type": "code",
   "execution_count": 227,
   "metadata": {},
   "outputs": [],
   "source": [
    "#exportando cada df escolhido na pasta weather API\n",
    "df_escolhido.to_csv(r'C:\\\\Users\\Renato\\OneDrive\\Projeto_TERA\\Predição Acidentes Motocicleta\\Projeto-TERA-Data-Science---Acidentes-Motocicletas\\Weather_API_data\\{}.csv'.format(nome_df))"
   ]
  }
 ]
}