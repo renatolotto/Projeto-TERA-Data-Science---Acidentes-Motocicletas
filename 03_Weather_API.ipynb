{
 "metadata": {
  "language_info": {
   "codemirror_mode": {
    "name": "ipython",
    "version": 3
   },
   "file_extension": ".py",
   "mimetype": "text/x-python",
   "name": "python",
   "nbconvert_exporter": "python",
   "pygments_lexer": "ipython3",
   "version": "3.8.8"
  },
  "orig_nbformat": 2,
  "kernelspec": {
   "name": "python388jvsc74a57bd054aafdb36ba7a57007c1052e291baf553a31e85cae918a266292c7469c0efefb",
   "display_name": "Python 3.8.8 64-bit ('Data_Science': conda)"
  }
 },
 "nbformat": 4,
 "nbformat_minor": 2,
 "cells": [
  {
   "cell_type": "code",
   "execution_count": 1,
   "metadata": {},
   "outputs": [],
   "source": [
    "import numpy as np\n",
    "import pandas as pd\n",
    "import json\n",
    "import urllib, json"
   ]
  },
  {
   "cell_type": "code",
   "execution_count": 232,
   "metadata": {},
   "outputs": [],
   "source": [
    "df_API_fatais = pd.read_csv('df_API_fatais.csv')\n",
    "\n"
   ]
  },
  {
   "cell_type": "code",
   "execution_count": 233,
   "metadata": {},
   "outputs": [
    {
     "output_type": "execute_result",
     "data": {
      "text/plain": [
       "     Data do Acidente             Latitude           Longitude  \\\n",
       "0          2020-12-29    -23,7464627689999       -46,803836335   \n",
       "1          2020-12-26  -23,458778790416762  -46,48209129083817   \n",
       "2          2020-12-26  -23,418102298841816  -46,37791152937248   \n",
       "3          2020-12-26   -23,54191853681889  -47,01329391534144   \n",
       "4          2020-12-25  -23,487367560249513  -46,75690361349391   \n",
       "...               ...                  ...                 ...   \n",
       "3195       2015-02-18  -23,404111592317488  -46,57599535696205   \n",
       "3196       2015-01-15           -23,632392          -46,472206   \n",
       "3197       2014-12-28           -23,555237          -46,849214   \n",
       "3198       2014-11-05           -23,644498          -46,538558   \n",
       "3199       2012-06-15           -23,647306          -46,778984   \n",
       "\n",
       "      Condições Climáticas  Hora  \n",
       "0                      NaN   9.0  \n",
       "1                      NaN   2.0  \n",
       "2                      NaN   0.0  \n",
       "3                      NaN  18.0  \n",
       "4                      NaN   6.0  \n",
       "...                    ...   ...  \n",
       "3195                   NaN  11.0  \n",
       "3196                   NaN  14.0  \n",
       "3197                   NaN  14.0  \n",
       "3198                   NaN  15.0  \n",
       "3199                   NaN  22.0  \n",
       "\n",
       "[3200 rows x 5 columns]"
      ],
      "text/html": "<div>\n<style scoped>\n    .dataframe tbody tr th:only-of-type {\n        vertical-align: middle;\n    }\n\n    .dataframe tbody tr th {\n        vertical-align: top;\n    }\n\n    .dataframe thead th {\n        text-align: right;\n    }\n</style>\n<table border=\"1\" class=\"dataframe\">\n  <thead>\n    <tr style=\"text-align: right;\">\n      <th></th>\n      <th>Data do Acidente</th>\n      <th>Latitude</th>\n      <th>Longitude</th>\n      <th>Condições Climáticas</th>\n      <th>Hora</th>\n    </tr>\n  </thead>\n  <tbody>\n    <tr>\n      <th>0</th>\n      <td>2020-12-29</td>\n      <td>-23,7464627689999</td>\n      <td>-46,803836335</td>\n      <td>NaN</td>\n      <td>9.0</td>\n    </tr>\n    <tr>\n      <th>1</th>\n      <td>2020-12-26</td>\n      <td>-23,458778790416762</td>\n      <td>-46,48209129083817</td>\n      <td>NaN</td>\n      <td>2.0</td>\n    </tr>\n    <tr>\n      <th>2</th>\n      <td>2020-12-26</td>\n      <td>-23,418102298841816</td>\n      <td>-46,37791152937248</td>\n      <td>NaN</td>\n      <td>0.0</td>\n    </tr>\n    <tr>\n      <th>3</th>\n      <td>2020-12-26</td>\n      <td>-23,54191853681889</td>\n      <td>-47,01329391534144</td>\n      <td>NaN</td>\n      <td>18.0</td>\n    </tr>\n    <tr>\n      <th>4</th>\n      <td>2020-12-25</td>\n      <td>-23,487367560249513</td>\n      <td>-46,75690361349391</td>\n      <td>NaN</td>\n      <td>6.0</td>\n    </tr>\n    <tr>\n      <th>...</th>\n      <td>...</td>\n      <td>...</td>\n      <td>...</td>\n      <td>...</td>\n      <td>...</td>\n    </tr>\n    <tr>\n      <th>3195</th>\n      <td>2015-02-18</td>\n      <td>-23,404111592317488</td>\n      <td>-46,57599535696205</td>\n      <td>NaN</td>\n      <td>11.0</td>\n    </tr>\n    <tr>\n      <th>3196</th>\n      <td>2015-01-15</td>\n      <td>-23,632392</td>\n      <td>-46,472206</td>\n      <td>NaN</td>\n      <td>14.0</td>\n    </tr>\n    <tr>\n      <th>3197</th>\n      <td>2014-12-28</td>\n      <td>-23,555237</td>\n      <td>-46,849214</td>\n      <td>NaN</td>\n      <td>14.0</td>\n    </tr>\n    <tr>\n      <th>3198</th>\n      <td>2014-11-05</td>\n      <td>-23,644498</td>\n      <td>-46,538558</td>\n      <td>NaN</td>\n      <td>15.0</td>\n    </tr>\n    <tr>\n      <th>3199</th>\n      <td>2012-06-15</td>\n      <td>-23,647306</td>\n      <td>-46,778984</td>\n      <td>NaN</td>\n      <td>22.0</td>\n    </tr>\n  </tbody>\n</table>\n<p>3200 rows × 5 columns</p>\n</div>"
     },
     "metadata": {},
     "execution_count": 233
    }
   ],
   "source": [
    "df_API_fatais"
   ]
  },
  {
   "cell_type": "code",
   "execution_count": 3,
   "metadata": {},
   "outputs": [
    {
     "output_type": "stream",
     "name": "stdout",
     "text": [
      "<class 'pandas.core.frame.DataFrame'>\nRangeIndex: 3200 entries, 0 to 3199\nData columns (total 5 columns):\n #   Column                Non-Null Count  Dtype  \n---  ------                --------------  -----  \n 0   Data do Acidente      3200 non-null   object \n 1   Latitude              3200 non-null   object \n 2   Longitude             3200 non-null   object \n 3   Condições Climáticas  0 non-null      float64\n 4   Hora                  3200 non-null   float64\ndtypes: float64(2), object(3)\nmemory usage: 125.1+ KB\n"
     ]
    }
   ],
   "source": [
    "df_API_fatais.info()"
   ]
  },
  {
   "cell_type": "code",
   "execution_count": 238,
   "metadata": {},
   "outputs": [],
   "source": [
    "# criar dataset pequeno para nao exceder o limite do API\n",
    "#normalmente limite é 41 linhas diárias\n",
    "\n",
    "# df1 = df_API_fatais.iloc[:11,:] #DONE checado\n",
    "# df2 = df_API_fatais.iloc[11:39,:] #DONE checado\n",
    "# df3 = df_API_fatais.iloc[39:78,:] #Done checago\n",
    "# df4 = df_API_fatais.iloc[78:178,:] DONE checado\n",
    "# df5 = df_API_fatais.iloc[178:300,:] DONE checado\n",
    "# df6 = df_API_fatais.iloc[300:460,:] DONE checado\n",
    "# df7 = df_API_fatais.iloc[460:501,:] DONE checado\n",
    "# df8 = df_API_fatais.iloc[501:542,:] DONE checado\n",
    "# df9 = df_API_fatais.iloc[542:583,:] DONE checado\n",
    "# df10 = df_API_fatais.iloc[583:624,:] done checado\n",
    "# df11 = df_API_fatais.iloc[624:665,:] #DONE\n",
    "# df12 = df_API_fatais.iloc[665:706,:] #DONE\n",
    "# df13 = df_API_fatais.iloc[706:747,:] #DONE\n",
    "# df14 = df_API_fatais.iloc[747:788,:] #DONE\n",
    "# df15 = df_API_fatais.iloc[788:829,:] #DONE\n",
    "# df16 = df_API_fatais.iloc[829:870,:] #DONE\n",
    "# df17 = df_API_fatais.iloc[870:911,:] #DONE\n",
    "# df18 = df_API_fatais.iloc[911:952,:] #DONE\n",
    "# df19 = df_API_fatais.iloc[952:993,:] #DONE\n",
    "#a partir daqui tem precipitação\n",
    "# df20 = df_API_fatais.iloc[993:1033,:]\n",
    "# df21 = df_API_fatais.iloc[1033:1074,:]\n",
    "# df22 = df_API_fatais.iloc[1074:1115,:]\n",
    "# df23 = df_API_fatais.iloc[1115:1156,:]\n",
    "# df24 = df_API_fatais.iloc[1156:1197,:]\n",
    "# df25 = df_API_fatais.iloc[1197:1238,:]\n",
    "# df26 = df_API_fatais.iloc[1238:1279,:]\n",
    "# df27 = df_API_fatais.iloc[1279:1320,:]\n",
    "# df28 = df_API_fatais.iloc[1320:1361,:]\n",
    "# df29 = df_API_fatais.iloc[1361:1402,:]\n",
    "# df30 = df_API_fatais.iloc[1402:1443,:]\n",
    "# df31 = df_API_fatais.iloc[1443:1484,:]\n",
    "# df32 = df_API_fatais.iloc[1484:1525,:]\n",
    "# df33 = df_API_fatais.iloc[1525:1566,:]\n",
    "# df34 = df_API_fatais.iloc[1566:1607,:]\n",
    "# df35 = df_API_fatais.iloc[1607:1648,:]\n",
    "# df36 = df_API_fatais.iloc[1648:1689,:]\n",
    "df37 = df_API_fatais.iloc[1689:1730,:]\n",
    "\n"
   ]
  },
  {
   "cell_type": "code",
   "execution_count": 239,
   "metadata": {},
   "outputs": [
    {
     "output_type": "stream",
     "name": "stdout",
     "text": [
      "-Serão consumido 984 créditos\n\n-Capacidade de 697 linhas por dia\n\n-Demorará mais 2.167862266857963 dias\n"
     ]
    }
   ],
   "source": [
    "#CRÉDTIOS QUE SERÃO CONSUMIDOS POR CADA DF\n",
    "df_de_hoje=df37\n",
    "print('-Serão consumido',df_de_hoje.shape[0]*24,'créditos')\n",
    "print()\n",
    "\n",
    "n_chaves=17\n",
    "capacidade_dia=n_chaves*df_de_hoje.shape[0]\n",
    "print('-Capacidade de',capacidade_dia,'linhas por dia')\n",
    "print()\n",
    "\n",
    "prev_dias= (3200-1689)/capacidade_dia\n",
    "print('-Demorará mais',prev_dias,'dias')\n",
    "\n"
   ]
  },
  {
   "cell_type": "code",
   "execution_count": 240,
   "metadata": {},
   "outputs": [],
   "source": [
    "# ESCOLHER DF AQUI E RODAR DAQUI PRA BAIXO\n",
    "key1='B8JYA2DGP8JEMDN3SH4N4XGTT' #meu hotmail\n",
    "key2='A6USW7ZJVKXS796M85TUD5JB7' #Jobanegas@gmail.com, projetoTERA\n",
    "key3='SM2SEHMQ5C293FLZ5QBABUNUB'#meu gmail, waiting credits\n",
    "key4='YEW24DH9DQC8K5PV9V4G6JDUE'#scania\n",
    "key5='L8W8YG6RD4JZ8E2V9NRYFBNCQ'#globo\n",
    "key6='9HS474ZGKWUFCC2CLE8SJ2GN8'#josybanegas@hotmail.com, projetoTERA2\n",
    "key7='PMFULACV4XSBP4LM2DGMRZA6S'#mi\n",
    "key8='NP47JLCE98FFHNGS5A69CFPGQ'#regi\n",
    "key9='S3Q3HW8B7AH2YEGCHUZ83WNNY'#pai\n",
    "key10='6M6F3HXMZMZJY6RUGX9EY9PLJ'#felipe1\n",
    "key11='CL5AYD4WYK4VCLPVJMXUJ7NDR'#felipe2\n",
    "key12='VSZRSD8JR53V7MS3R48U8Y79F'#felipe3\n",
    "key13='C58YE5ERBL5KNAXNU4QC3RZG6'#felipe4\n",
    "key14='GHYD5YGL7BZPPCNYNJMH6EYSE'#mi trab\n",
    "key15='7GSMXKHZV5XXGP9SH7W5S6VYC'#josy tra\n",
    "key16='HCTGMSJGY4YXTR7XT2RCFNEAL'#ivan1\n",
    "key17='ZBKHCV5PXP687E9JVPXUGGTY7'#ivan2\n",
    "\n",
    "key_escolhida = key1\n",
    "df_escolhido = df37 ##### ATENÇÃO NO NOME....SE NÃO ATUALIZAR VAI SOBRESCREVER OS DFS JÁ SALVOS\n",
    "nome_df = 'df37'\n",
    "\n"
   ]
  },
  {
   "cell_type": "code",
   "execution_count": 223,
   "metadata": {},
   "outputs": [],
   "source": [
    "def create_URL_column(df):\n",
    "    if pd.isnull(df['Condições Climáticas']):\n",
    "        return \"https://weather.visualcrossing.com/VisualCrossingWebServices/rest/services/timeline/{},{}/{}?key={}\".format(df['Latitude'].replace(',','.'),df['Longitude'].replace(',','.'),df['Data do Acidente'][0:10],key_escolhida)\n",
    "    else:\n",
    "        return 'Já temos'"
   ]
  },
  {
   "cell_type": "code",
   "execution_count": 224,
   "metadata": {},
   "outputs": [
    {
     "output_type": "stream",
     "name": "stderr",
     "text": [
      "<ipython-input-224-753ec4956c79>:1: SettingWithCopyWarning: \nA value is trying to be set on a copy of a slice from a DataFrame.\nTry using .loc[row_indexer,col_indexer] = value instead\n\nSee the caveats in the documentation: https://pandas.pydata.org/pandas-docs/stable/user_guide/indexing.html#returning-a-view-versus-a-copy\n  df_escolhido['API_url']= 'zero'\n<ipython-input-224-753ec4956c79>:2: SettingWithCopyWarning: \nA value is trying to be set on a copy of a slice from a DataFrame.\nTry using .loc[row_indexer,col_indexer] = value instead\n\nSee the caveats in the documentation: https://pandas.pydata.org/pandas-docs/stable/user_guide/indexing.html#returning-a-view-versus-a-copy\n  df_escolhido['Hora'] = df_escolhido['Hora'].astype(int)\n<ipython-input-224-753ec4956c79>:3: SettingWithCopyWarning: \nA value is trying to be set on a copy of a slice from a DataFrame.\nTry using .loc[row_indexer,col_indexer] = value instead\n\nSee the caveats in the documentation: https://pandas.pydata.org/pandas-docs/stable/user_guide/indexing.html#returning-a-view-versus-a-copy\n  df_escolhido['API_url'] = df_escolhido.apply(lambda df: create_URL_column(df),axis=1)\n"
     ]
    }
   ],
   "source": [
    "df_escolhido['API_url']= 'zero'\n",
    "df_escolhido['Hora'] = df_escolhido['Hora'].astype(int)\n",
    "df_escolhido['API_url'] = df_escolhido.apply(lambda df: create_URL_column(df),axis=1)"
   ]
  },
  {
   "cell_type": "code",
   "execution_count": 225,
   "metadata": {},
   "outputs": [
    {
     "output_type": "execute_result",
     "data": {
      "text/plain": [
       "['https://weather.visualcrossing.com/VisualCrossingWebServices/rest/services/timeline/-23.506913,-46.715937/2016-12-24?key=ZBKHCV5PXP687E9JVPXUGGTY7',\n",
       " 'https://weather.visualcrossing.com/VisualCrossingWebServices/rest/services/timeline/-23.592966,-46.692368/2016-12-24?key=ZBKHCV5PXP687E9JVPXUGGTY7',\n",
       " 'https://weather.visualcrossing.com/VisualCrossingWebServices/rest/services/timeline/-23.831156,-46.722301/2016-12-24?key=ZBKHCV5PXP687E9JVPXUGGTY7',\n",
       " 'https://weather.visualcrossing.com/VisualCrossingWebServices/rest/services/timeline/-23.636258,-46.618885/2016-12-23?key=ZBKHCV5PXP687E9JVPXUGGTY7',\n",
       " 'https://weather.visualcrossing.com/VisualCrossingWebServices/rest/services/timeline/-23.7770374729,-46.6014202777/2016-12-23?key=ZBKHCV5PXP687E9JVPXUGGTY7',\n",
       " 'https://weather.visualcrossing.com/VisualCrossingWebServices/rest/services/timeline/-23.712916,-46.600033/2016-12-23?key=ZBKHCV5PXP687E9JVPXUGGTY7',\n",
       " 'https://weather.visualcrossing.com/VisualCrossingWebServices/rest/services/timeline/-23.7603216233,-46.9040541043/2016-12-23?key=ZBKHCV5PXP687E9JVPXUGGTY7',\n",
       " 'https://weather.visualcrossing.com/VisualCrossingWebServices/rest/services/timeline/-23.726053,-46.78909/2016-12-22?key=ZBKHCV5PXP687E9JVPXUGGTY7',\n",
       " 'https://weather.visualcrossing.com/VisualCrossingWebServices/rest/services/timeline/-23.496914,-46.686372/2016-12-22?key=ZBKHCV5PXP687E9JVPXUGGTY7',\n",
       " 'https://weather.visualcrossing.com/VisualCrossingWebServices/rest/services/timeline/-23.826884,-46.729567/2016-12-21?key=ZBKHCV5PXP687E9JVPXUGGTY7',\n",
       " 'https://weather.visualcrossing.com/VisualCrossingWebServices/rest/services/timeline/-23.5269836915,-46.7507861432/2016-12-21?key=ZBKHCV5PXP687E9JVPXUGGTY7',\n",
       " 'https://weather.visualcrossing.com/VisualCrossingWebServices/rest/services/timeline/-23.539411,-46.801023/2016-12-20?key=ZBKHCV5PXP687E9JVPXUGGTY7',\n",
       " 'https://weather.visualcrossing.com/VisualCrossingWebServices/rest/services/timeline/-23.716837,-46.851914/2016-12-19?key=ZBKHCV5PXP687E9JVPXUGGTY7',\n",
       " 'https://weather.visualcrossing.com/VisualCrossingWebServices/rest/services/timeline/-23.5076946996,-46.7438705222/2016-12-18?key=ZBKHCV5PXP687E9JVPXUGGTY7',\n",
       " 'https://weather.visualcrossing.com/VisualCrossingWebServices/rest/services/timeline/-23.7287511535,-46.4248868556/2016-12-18?key=ZBKHCV5PXP687E9JVPXUGGTY7',\n",
       " 'https://weather.visualcrossing.com/VisualCrossingWebServices/rest/services/timeline/-23.405311,-46.738085/2016-12-17?key=ZBKHCV5PXP687E9JVPXUGGTY7',\n",
       " 'https://weather.visualcrossing.com/VisualCrossingWebServices/rest/services/timeline/-23.488305,-46.434576/2016-12-17?key=ZBKHCV5PXP687E9JVPXUGGTY7',\n",
       " 'https://weather.visualcrossing.com/VisualCrossingWebServices/rest/services/timeline/-23.624628,-46.485407/2016-12-17?key=ZBKHCV5PXP687E9JVPXUGGTY7',\n",
       " 'https://weather.visualcrossing.com/VisualCrossingWebServices/rest/services/timeline/-23.512914,-46.468745/2016-12-16?key=ZBKHCV5PXP687E9JVPXUGGTY7',\n",
       " 'https://weather.visualcrossing.com/VisualCrossingWebServices/rest/services/timeline/-23.49714,-46.467997/2016-12-16?key=ZBKHCV5PXP687E9JVPXUGGTY7',\n",
       " 'https://weather.visualcrossing.com/VisualCrossingWebServices/rest/services/timeline/-23.685344,-46.620642/2016-12-16?key=ZBKHCV5PXP687E9JVPXUGGTY7',\n",
       " 'https://weather.visualcrossing.com/VisualCrossingWebServices/rest/services/timeline/-23.40912,-46.408801/2016-12-16?key=ZBKHCV5PXP687E9JVPXUGGTY7',\n",
       " 'https://weather.visualcrossing.com/VisualCrossingWebServices/rest/services/timeline/-23.533018,-46.209522/2016-12-16?key=ZBKHCV5PXP687E9JVPXUGGTY7',\n",
       " 'https://weather.visualcrossing.com/VisualCrossingWebServices/rest/services/timeline/-23.5080710247,-46.8288384232/2016-12-15?key=ZBKHCV5PXP687E9JVPXUGGTY7',\n",
       " 'https://weather.visualcrossing.com/VisualCrossingWebServices/rest/services/timeline/-23.448863,-46.70202/2016-12-14?key=ZBKHCV5PXP687E9JVPXUGGTY7',\n",
       " 'https://weather.visualcrossing.com/VisualCrossingWebServices/rest/services/timeline/-23.447332,-46.581644/2016-12-14?key=ZBKHCV5PXP687E9JVPXUGGTY7',\n",
       " 'https://weather.visualcrossing.com/VisualCrossingWebServices/rest/services/timeline/-23.675204,-46.661258/2016-12-11?key=ZBKHCV5PXP687E9JVPXUGGTY7',\n",
       " 'https://weather.visualcrossing.com/VisualCrossingWebServices/rest/services/timeline/-23.661934,-46.459326/2016-12-11?key=ZBKHCV5PXP687E9JVPXUGGTY7',\n",
       " 'https://weather.visualcrossing.com/VisualCrossingWebServices/rest/services/timeline/-23.69833,-46.852357/2016-12-11?key=ZBKHCV5PXP687E9JVPXUGGTY7',\n",
       " 'https://weather.visualcrossing.com/VisualCrossingWebServices/rest/services/timeline/-23.622247,-46.760553/2016-12-10?key=ZBKHCV5PXP687E9JVPXUGGTY7',\n",
       " 'https://weather.visualcrossing.com/VisualCrossingWebServices/rest/services/timeline/-23.523694,-46.63164/2016-12-09?key=ZBKHCV5PXP687E9JVPXUGGTY7',\n",
       " 'https://weather.visualcrossing.com/VisualCrossingWebServices/rest/services/timeline/-23.675279,-46.755939/2016-12-09?key=ZBKHCV5PXP687E9JVPXUGGTY7',\n",
       " 'https://weather.visualcrossing.com/VisualCrossingWebServices/rest/services/timeline/-23.589856,-46.588464/2016-12-08?key=ZBKHCV5PXP687E9JVPXUGGTY7',\n",
       " 'https://weather.visualcrossing.com/VisualCrossingWebServices/rest/services/timeline/-23.440753,-46.587868/2016-12-08?key=ZBKHCV5PXP687E9JVPXUGGTY7',\n",
       " 'https://weather.visualcrossing.com/VisualCrossingWebServices/rest/services/timeline/-23.430786285,-46.2723142663/2016-12-08?key=ZBKHCV5PXP687E9JVPXUGGTY7',\n",
       " 'https://weather.visualcrossing.com/VisualCrossingWebServices/rest/services/timeline/-23.431989,-46.43955/2016-12-07?key=ZBKHCV5PXP687E9JVPXUGGTY7',\n",
       " 'https://weather.visualcrossing.com/VisualCrossingWebServices/rest/services/timeline/-23.538019,-46.486573/2016-12-06?key=ZBKHCV5PXP687E9JVPXUGGTY7',\n",
       " 'https://weather.visualcrossing.com/VisualCrossingWebServices/rest/services/timeline/-23.542904,-46.48162/2016-12-06?key=ZBKHCV5PXP687E9JVPXUGGTY7',\n",
       " 'https://weather.visualcrossing.com/VisualCrossingWebServices/rest/services/timeline/-23.7185444914,-46.8822947262/2016-12-05?key=ZBKHCV5PXP687E9JVPXUGGTY7',\n",
       " 'https://weather.visualcrossing.com/VisualCrossingWebServices/rest/services/timeline/-23.630937,-46.621861/2016-12-04?key=ZBKHCV5PXP687E9JVPXUGGTY7',\n",
       " 'https://weather.visualcrossing.com/VisualCrossingWebServices/rest/services/timeline/-23.666649,-46.576017/2016-12-04?key=ZBKHCV5PXP687E9JVPXUGGTY7']"
      ]
     },
     "metadata": {},
     "execution_count": 225
    }
   ],
   "source": [
    "list(df_escolhido['API_url'])"
   ]
  },
  {
   "cell_type": "code",
   "execution_count": 226,
   "metadata": {},
   "outputs": [
    {
     "output_type": "execute_result",
     "data": {
      "text/plain": [
       "            Latitude       Longitude  \\\n",
       "1648      -23,506913      -46,715937   \n",
       "1649      -23,592966      -46,692368   \n",
       "1650      -23,831156      -46,722301   \n",
       "1651      -23,636258      -46,618885   \n",
       "1652  -23,7770374729  -46,6014202777   \n",
       "1653      -23,712916      -46,600033   \n",
       "1654  -23,7603216233  -46,9040541043   \n",
       "1655      -23,726053       -46,78909   \n",
       "1656      -23,496914      -46,686372   \n",
       "1657      -23,826884      -46,729567   \n",
       "1658  -23,5269836915  -46,7507861432   \n",
       "1659      -23,539411      -46,801023   \n",
       "1660      -23,716837      -46,851914   \n",
       "1661  -23,5076946996  -46,7438705222   \n",
       "1662  -23,7287511535  -46,4248868556   \n",
       "1663      -23,405311      -46,738085   \n",
       "1664      -23,488305      -46,434576   \n",
       "1665      -23,624628      -46,485407   \n",
       "1666      -23,512914      -46,468745   \n",
       "1667       -23,49714      -46,467997   \n",
       "1668      -23,685344      -46,620642   \n",
       "1669       -23,40912      -46,408801   \n",
       "1670      -23,533018      -46,209522   \n",
       "1671  -23,5080710247  -46,8288384232   \n",
       "1672      -23,448863       -46,70202   \n",
       "1673      -23,447332      -46,581644   \n",
       "1674      -23,675204      -46,661258   \n",
       "1675      -23,661934      -46,459326   \n",
       "1676       -23,69833      -46,852357   \n",
       "1677      -23,622247      -46,760553   \n",
       "1678      -23,523694       -46,63164   \n",
       "1679      -23,675279      -46,755939   \n",
       "1680      -23,589856      -46,588464   \n",
       "1681      -23,440753      -46,587868   \n",
       "1682   -23,430786285  -46,2723142663   \n",
       "1683      -23,431989       -46,43955   \n",
       "1684      -23,538019      -46,486573   \n",
       "1685      -23,542904       -46,48162   \n",
       "1686  -23,7185444914  -46,8822947262   \n",
       "1687      -23,630937      -46,621861   \n",
       "1688      -23,666649      -46,576017   \n",
       "\n",
       "                                                API_url  Condições Climáticas  \n",
       "1648  https://weather.visualcrossing.com/VisualCross...                   NaN  \n",
       "1649  https://weather.visualcrossing.com/VisualCross...                   NaN  \n",
       "1650  https://weather.visualcrossing.com/VisualCross...                   NaN  \n",
       "1651  https://weather.visualcrossing.com/VisualCross...                   NaN  \n",
       "1652  https://weather.visualcrossing.com/VisualCross...                   NaN  \n",
       "1653  https://weather.visualcrossing.com/VisualCross...                   NaN  \n",
       "1654  https://weather.visualcrossing.com/VisualCross...                   NaN  \n",
       "1655  https://weather.visualcrossing.com/VisualCross...                   NaN  \n",
       "1656  https://weather.visualcrossing.com/VisualCross...                   NaN  \n",
       "1657  https://weather.visualcrossing.com/VisualCross...                   NaN  \n",
       "1658  https://weather.visualcrossing.com/VisualCross...                   NaN  \n",
       "1659  https://weather.visualcrossing.com/VisualCross...                   NaN  \n",
       "1660  https://weather.visualcrossing.com/VisualCross...                   NaN  \n",
       "1661  https://weather.visualcrossing.com/VisualCross...                   NaN  \n",
       "1662  https://weather.visualcrossing.com/VisualCross...                   NaN  \n",
       "1663  https://weather.visualcrossing.com/VisualCross...                   NaN  \n",
       "1664  https://weather.visualcrossing.com/VisualCross...                   NaN  \n",
       "1665  https://weather.visualcrossing.com/VisualCross...                   NaN  \n",
       "1666  https://weather.visualcrossing.com/VisualCross...                   NaN  \n",
       "1667  https://weather.visualcrossing.com/VisualCross...                   NaN  \n",
       "1668  https://weather.visualcrossing.com/VisualCross...                   NaN  \n",
       "1669  https://weather.visualcrossing.com/VisualCross...                   NaN  \n",
       "1670  https://weather.visualcrossing.com/VisualCross...                   NaN  \n",
       "1671  https://weather.visualcrossing.com/VisualCross...                   NaN  \n",
       "1672  https://weather.visualcrossing.com/VisualCross...                   NaN  \n",
       "1673  https://weather.visualcrossing.com/VisualCross...                   NaN  \n",
       "1674  https://weather.visualcrossing.com/VisualCross...                   NaN  \n",
       "1675  https://weather.visualcrossing.com/VisualCross...                   NaN  \n",
       "1676  https://weather.visualcrossing.com/VisualCross...                   NaN  \n",
       "1677  https://weather.visualcrossing.com/VisualCross...                   NaN  \n",
       "1678  https://weather.visualcrossing.com/VisualCross...                   NaN  \n",
       "1679  https://weather.visualcrossing.com/VisualCross...                   NaN  \n",
       "1680  https://weather.visualcrossing.com/VisualCross...                   NaN  \n",
       "1681  https://weather.visualcrossing.com/VisualCross...                   NaN  \n",
       "1682  https://weather.visualcrossing.com/VisualCross...                   NaN  \n",
       "1683  https://weather.visualcrossing.com/VisualCross...                   NaN  \n",
       "1684  https://weather.visualcrossing.com/VisualCross...                   NaN  \n",
       "1685  https://weather.visualcrossing.com/VisualCross...                   NaN  \n",
       "1686  https://weather.visualcrossing.com/VisualCross...                   NaN  \n",
       "1687  https://weather.visualcrossing.com/VisualCross...                   NaN  \n",
       "1688  https://weather.visualcrossing.com/VisualCross...                   NaN  "
      ],
      "text/html": "<div>\n<style scoped>\n    .dataframe tbody tr th:only-of-type {\n        vertical-align: middle;\n    }\n\n    .dataframe tbody tr th {\n        vertical-align: top;\n    }\n\n    .dataframe thead th {\n        text-align: right;\n    }\n</style>\n<table border=\"1\" class=\"dataframe\">\n  <thead>\n    <tr style=\"text-align: right;\">\n      <th></th>\n      <th>Latitude</th>\n      <th>Longitude</th>\n      <th>API_url</th>\n      <th>Condições Climáticas</th>\n    </tr>\n  </thead>\n  <tbody>\n    <tr>\n      <th>1648</th>\n      <td>-23,506913</td>\n      <td>-46,715937</td>\n      <td>https://weather.visualcrossing.com/VisualCross...</td>\n      <td>NaN</td>\n    </tr>\n    <tr>\n      <th>1649</th>\n      <td>-23,592966</td>\n      <td>-46,692368</td>\n      <td>https://weather.visualcrossing.com/VisualCross...</td>\n      <td>NaN</td>\n    </tr>\n    <tr>\n      <th>1650</th>\n      <td>-23,831156</td>\n      <td>-46,722301</td>\n      <td>https://weather.visualcrossing.com/VisualCross...</td>\n      <td>NaN</td>\n    </tr>\n    <tr>\n      <th>1651</th>\n      <td>-23,636258</td>\n      <td>-46,618885</td>\n      <td>https://weather.visualcrossing.com/VisualCross...</td>\n      <td>NaN</td>\n    </tr>\n    <tr>\n      <th>1652</th>\n      <td>-23,7770374729</td>\n      <td>-46,6014202777</td>\n      <td>https://weather.visualcrossing.com/VisualCross...</td>\n      <td>NaN</td>\n    </tr>\n    <tr>\n      <th>1653</th>\n      <td>-23,712916</td>\n      <td>-46,600033</td>\n      <td>https://weather.visualcrossing.com/VisualCross...</td>\n      <td>NaN</td>\n    </tr>\n    <tr>\n      <th>1654</th>\n      <td>-23,7603216233</td>\n      <td>-46,9040541043</td>\n      <td>https://weather.visualcrossing.com/VisualCross...</td>\n      <td>NaN</td>\n    </tr>\n    <tr>\n      <th>1655</th>\n      <td>-23,726053</td>\n      <td>-46,78909</td>\n      <td>https://weather.visualcrossing.com/VisualCross...</td>\n      <td>NaN</td>\n    </tr>\n    <tr>\n      <th>1656</th>\n      <td>-23,496914</td>\n      <td>-46,686372</td>\n      <td>https://weather.visualcrossing.com/VisualCross...</td>\n      <td>NaN</td>\n    </tr>\n    <tr>\n      <th>1657</th>\n      <td>-23,826884</td>\n      <td>-46,729567</td>\n      <td>https://weather.visualcrossing.com/VisualCross...</td>\n      <td>NaN</td>\n    </tr>\n    <tr>\n      <th>1658</th>\n      <td>-23,5269836915</td>\n      <td>-46,7507861432</td>\n      <td>https://weather.visualcrossing.com/VisualCross...</td>\n      <td>NaN</td>\n    </tr>\n    <tr>\n      <th>1659</th>\n      <td>-23,539411</td>\n      <td>-46,801023</td>\n      <td>https://weather.visualcrossing.com/VisualCross...</td>\n      <td>NaN</td>\n    </tr>\n    <tr>\n      <th>1660</th>\n      <td>-23,716837</td>\n      <td>-46,851914</td>\n      <td>https://weather.visualcrossing.com/VisualCross...</td>\n      <td>NaN</td>\n    </tr>\n    <tr>\n      <th>1661</th>\n      <td>-23,5076946996</td>\n      <td>-46,7438705222</td>\n      <td>https://weather.visualcrossing.com/VisualCross...</td>\n      <td>NaN</td>\n    </tr>\n    <tr>\n      <th>1662</th>\n      <td>-23,7287511535</td>\n      <td>-46,4248868556</td>\n      <td>https://weather.visualcrossing.com/VisualCross...</td>\n      <td>NaN</td>\n    </tr>\n    <tr>\n      <th>1663</th>\n      <td>-23,405311</td>\n      <td>-46,738085</td>\n      <td>https://weather.visualcrossing.com/VisualCross...</td>\n      <td>NaN</td>\n    </tr>\n    <tr>\n      <th>1664</th>\n      <td>-23,488305</td>\n      <td>-46,434576</td>\n      <td>https://weather.visualcrossing.com/VisualCross...</td>\n      <td>NaN</td>\n    </tr>\n    <tr>\n      <th>1665</th>\n      <td>-23,624628</td>\n      <td>-46,485407</td>\n      <td>https://weather.visualcrossing.com/VisualCross...</td>\n      <td>NaN</td>\n    </tr>\n    <tr>\n      <th>1666</th>\n      <td>-23,512914</td>\n      <td>-46,468745</td>\n      <td>https://weather.visualcrossing.com/VisualCross...</td>\n      <td>NaN</td>\n    </tr>\n    <tr>\n      <th>1667</th>\n      <td>-23,49714</td>\n      <td>-46,467997</td>\n      <td>https://weather.visualcrossing.com/VisualCross...</td>\n      <td>NaN</td>\n    </tr>\n    <tr>\n      <th>1668</th>\n      <td>-23,685344</td>\n      <td>-46,620642</td>\n      <td>https://weather.visualcrossing.com/VisualCross...</td>\n      <td>NaN</td>\n    </tr>\n    <tr>\n      <th>1669</th>\n      <td>-23,40912</td>\n      <td>-46,408801</td>\n      <td>https://weather.visualcrossing.com/VisualCross...</td>\n      <td>NaN</td>\n    </tr>\n    <tr>\n      <th>1670</th>\n      <td>-23,533018</td>\n      <td>-46,209522</td>\n      <td>https://weather.visualcrossing.com/VisualCross...</td>\n      <td>NaN</td>\n    </tr>\n    <tr>\n      <th>1671</th>\n      <td>-23,5080710247</td>\n      <td>-46,8288384232</td>\n      <td>https://weather.visualcrossing.com/VisualCross...</td>\n      <td>NaN</td>\n    </tr>\n    <tr>\n      <th>1672</th>\n      <td>-23,448863</td>\n      <td>-46,70202</td>\n      <td>https://weather.visualcrossing.com/VisualCross...</td>\n      <td>NaN</td>\n    </tr>\n    <tr>\n      <th>1673</th>\n      <td>-23,447332</td>\n      <td>-46,581644</td>\n      <td>https://weather.visualcrossing.com/VisualCross...</td>\n      <td>NaN</td>\n    </tr>\n    <tr>\n      <th>1674</th>\n      <td>-23,675204</td>\n      <td>-46,661258</td>\n      <td>https://weather.visualcrossing.com/VisualCross...</td>\n      <td>NaN</td>\n    </tr>\n    <tr>\n      <th>1675</th>\n      <td>-23,661934</td>\n      <td>-46,459326</td>\n      <td>https://weather.visualcrossing.com/VisualCross...</td>\n      <td>NaN</td>\n    </tr>\n    <tr>\n      <th>1676</th>\n      <td>-23,69833</td>\n      <td>-46,852357</td>\n      <td>https://weather.visualcrossing.com/VisualCross...</td>\n      <td>NaN</td>\n    </tr>\n    <tr>\n      <th>1677</th>\n      <td>-23,622247</td>\n      <td>-46,760553</td>\n      <td>https://weather.visualcrossing.com/VisualCross...</td>\n      <td>NaN</td>\n    </tr>\n    <tr>\n      <th>1678</th>\n      <td>-23,523694</td>\n      <td>-46,63164</td>\n      <td>https://weather.visualcrossing.com/VisualCross...</td>\n      <td>NaN</td>\n    </tr>\n    <tr>\n      <th>1679</th>\n      <td>-23,675279</td>\n      <td>-46,755939</td>\n      <td>https://weather.visualcrossing.com/VisualCross...</td>\n      <td>NaN</td>\n    </tr>\n    <tr>\n      <th>1680</th>\n      <td>-23,589856</td>\n      <td>-46,588464</td>\n      <td>https://weather.visualcrossing.com/VisualCross...</td>\n      <td>NaN</td>\n    </tr>\n    <tr>\n      <th>1681</th>\n      <td>-23,440753</td>\n      <td>-46,587868</td>\n      <td>https://weather.visualcrossing.com/VisualCross...</td>\n      <td>NaN</td>\n    </tr>\n    <tr>\n      <th>1682</th>\n      <td>-23,430786285</td>\n      <td>-46,2723142663</td>\n      <td>https://weather.visualcrossing.com/VisualCross...</td>\n      <td>NaN</td>\n    </tr>\n    <tr>\n      <th>1683</th>\n      <td>-23,431989</td>\n      <td>-46,43955</td>\n      <td>https://weather.visualcrossing.com/VisualCross...</td>\n      <td>NaN</td>\n    </tr>\n    <tr>\n      <th>1684</th>\n      <td>-23,538019</td>\n      <td>-46,486573</td>\n      <td>https://weather.visualcrossing.com/VisualCross...</td>\n      <td>NaN</td>\n    </tr>\n    <tr>\n      <th>1685</th>\n      <td>-23,542904</td>\n      <td>-46,48162</td>\n      <td>https://weather.visualcrossing.com/VisualCross...</td>\n      <td>NaN</td>\n    </tr>\n    <tr>\n      <th>1686</th>\n      <td>-23,7185444914</td>\n      <td>-46,8822947262</td>\n      <td>https://weather.visualcrossing.com/VisualCross...</td>\n      <td>NaN</td>\n    </tr>\n    <tr>\n      <th>1687</th>\n      <td>-23,630937</td>\n      <td>-46,621861</td>\n      <td>https://weather.visualcrossing.com/VisualCross...</td>\n      <td>NaN</td>\n    </tr>\n    <tr>\n      <th>1688</th>\n      <td>-23,666649</td>\n      <td>-46,576017</td>\n      <td>https://weather.visualcrossing.com/VisualCross...</td>\n      <td>NaN</td>\n    </tr>\n  </tbody>\n</table>\n</div>"
     },
     "metadata": {},
     "execution_count": 226
    }
   ],
   "source": [
    "df_escolhido[['Latitude','Longitude','API_url','Condições Climáticas']]"
   ]
  },
  {
   "cell_type": "code",
   "execution_count": 227,
   "metadata": {},
   "outputs": [],
   "source": [
    "#criando função def para buscar na API e incluir no df\n",
    "def get_API_value(df):\n",
    "    response = urllib.request.urlopen(df['API_url'])\n",
    "    data = json.loads(response.read())\n",
    "    condition = data.get('days')[0].get('hours')[df['Hora']].get('conditions')\n",
    "    precip = data.get('days')[0].get('hours')[df['Hora']].get('precip')\n",
    "    return condition,precip"
   ]
  },
  {
   "cell_type": "code",
   "execution_count": 228,
   "metadata": {},
   "outputs": [
    {
     "output_type": "stream",
     "name": "stderr",
     "text": [
      "<ipython-input-228-a6cba688e84f>:2: SettingWithCopyWarning: \nA value is trying to be set on a copy of a slice from a DataFrame.\nTry using .loc[row_indexer,col_indexer] = value instead\n\nSee the caveats in the documentation: https://pandas.pydata.org/pandas-docs/stable/user_guide/indexing.html#returning-a-view-versus-a-copy\n  df_escolhido['Condições Climáticas'] =df_escolhido.apply(lambda df: get_API_value(df),axis=1)\n"
     ]
    }
   ],
   "source": [
    "#   AQUI A FUNÇÃO IRÁ CONSUMIR CRÉDITOS....CHECAR NA CONTA DO VISUAL CROSSING\n",
    "df_escolhido['Condições Climáticas'] =df_escolhido.apply(lambda df: get_API_value(df),axis=1)"
   ]
  },
  {
   "cell_type": "code",
   "execution_count": 229,
   "metadata": {},
   "outputs": [
    {
     "output_type": "execute_result",
     "data": {
      "text/plain": [
       "            Latitude       Longitude  \\\n",
       "1648      -23,506913      -46,715937   \n",
       "1649      -23,592966      -46,692368   \n",
       "1650      -23,831156      -46,722301   \n",
       "1651      -23,636258      -46,618885   \n",
       "1652  -23,7770374729  -46,6014202777   \n",
       "1653      -23,712916      -46,600033   \n",
       "1654  -23,7603216233  -46,9040541043   \n",
       "1655      -23,726053       -46,78909   \n",
       "1656      -23,496914      -46,686372   \n",
       "1657      -23,826884      -46,729567   \n",
       "1658  -23,5269836915  -46,7507861432   \n",
       "1659      -23,539411      -46,801023   \n",
       "1660      -23,716837      -46,851914   \n",
       "1661  -23,5076946996  -46,7438705222   \n",
       "1662  -23,7287511535  -46,4248868556   \n",
       "1663      -23,405311      -46,738085   \n",
       "1664      -23,488305      -46,434576   \n",
       "1665      -23,624628      -46,485407   \n",
       "1666      -23,512914      -46,468745   \n",
       "1667       -23,49714      -46,467997   \n",
       "1668      -23,685344      -46,620642   \n",
       "1669       -23,40912      -46,408801   \n",
       "1670      -23,533018      -46,209522   \n",
       "1671  -23,5080710247  -46,8288384232   \n",
       "1672      -23,448863       -46,70202   \n",
       "1673      -23,447332      -46,581644   \n",
       "1674      -23,675204      -46,661258   \n",
       "1675      -23,661934      -46,459326   \n",
       "1676       -23,69833      -46,852357   \n",
       "1677      -23,622247      -46,760553   \n",
       "1678      -23,523694       -46,63164   \n",
       "1679      -23,675279      -46,755939   \n",
       "1680      -23,589856      -46,588464   \n",
       "1681      -23,440753      -46,587868   \n",
       "1682   -23,430786285  -46,2723142663   \n",
       "1683      -23,431989       -46,43955   \n",
       "1684      -23,538019      -46,486573   \n",
       "1685      -23,542904       -46,48162   \n",
       "1686  -23,7185444914  -46,8822947262   \n",
       "1687      -23,630937      -46,621861   \n",
       "1688      -23,666649      -46,576017   \n",
       "\n",
       "                                                API_url  \\\n",
       "1648  https://weather.visualcrossing.com/VisualCross...   \n",
       "1649  https://weather.visualcrossing.com/VisualCross...   \n",
       "1650  https://weather.visualcrossing.com/VisualCross...   \n",
       "1651  https://weather.visualcrossing.com/VisualCross...   \n",
       "1652  https://weather.visualcrossing.com/VisualCross...   \n",
       "1653  https://weather.visualcrossing.com/VisualCross...   \n",
       "1654  https://weather.visualcrossing.com/VisualCross...   \n",
       "1655  https://weather.visualcrossing.com/VisualCross...   \n",
       "1656  https://weather.visualcrossing.com/VisualCross...   \n",
       "1657  https://weather.visualcrossing.com/VisualCross...   \n",
       "1658  https://weather.visualcrossing.com/VisualCross...   \n",
       "1659  https://weather.visualcrossing.com/VisualCross...   \n",
       "1660  https://weather.visualcrossing.com/VisualCross...   \n",
       "1661  https://weather.visualcrossing.com/VisualCross...   \n",
       "1662  https://weather.visualcrossing.com/VisualCross...   \n",
       "1663  https://weather.visualcrossing.com/VisualCross...   \n",
       "1664  https://weather.visualcrossing.com/VisualCross...   \n",
       "1665  https://weather.visualcrossing.com/VisualCross...   \n",
       "1666  https://weather.visualcrossing.com/VisualCross...   \n",
       "1667  https://weather.visualcrossing.com/VisualCross...   \n",
       "1668  https://weather.visualcrossing.com/VisualCross...   \n",
       "1669  https://weather.visualcrossing.com/VisualCross...   \n",
       "1670  https://weather.visualcrossing.com/VisualCross...   \n",
       "1671  https://weather.visualcrossing.com/VisualCross...   \n",
       "1672  https://weather.visualcrossing.com/VisualCross...   \n",
       "1673  https://weather.visualcrossing.com/VisualCross...   \n",
       "1674  https://weather.visualcrossing.com/VisualCross...   \n",
       "1675  https://weather.visualcrossing.com/VisualCross...   \n",
       "1676  https://weather.visualcrossing.com/VisualCross...   \n",
       "1677  https://weather.visualcrossing.com/VisualCross...   \n",
       "1678  https://weather.visualcrossing.com/VisualCross...   \n",
       "1679  https://weather.visualcrossing.com/VisualCross...   \n",
       "1680  https://weather.visualcrossing.com/VisualCross...   \n",
       "1681  https://weather.visualcrossing.com/VisualCross...   \n",
       "1682  https://weather.visualcrossing.com/VisualCross...   \n",
       "1683  https://weather.visualcrossing.com/VisualCross...   \n",
       "1684  https://weather.visualcrossing.com/VisualCross...   \n",
       "1685  https://weather.visualcrossing.com/VisualCross...   \n",
       "1686  https://weather.visualcrossing.com/VisualCross...   \n",
       "1687  https://weather.visualcrossing.com/VisualCross...   \n",
       "1688  https://weather.visualcrossing.com/VisualCross...   \n",
       "\n",
       "                Condições Climáticas  \n",
       "1648        (Partially cloudy, None)  \n",
       "1649        (Partially cloudy, None)  \n",
       "1650        (Partially cloudy, None)  \n",
       "1651        (Partially cloudy, None)  \n",
       "1652                   (Clear, None)  \n",
       "1653                   (Clear, None)  \n",
       "1654        (Partially cloudy, None)  \n",
       "1655        (Partially cloudy, None)  \n",
       "1656        (Partially cloudy, None)  \n",
       "1657        (Partially cloudy, None)  \n",
       "1658        (Partially cloudy, None)  \n",
       "1659                   (Clear, None)  \n",
       "1660        (Partially cloudy, None)  \n",
       "1661        (Partially cloudy, None)  \n",
       "1662        (Partially cloudy, None)  \n",
       "1663        (Partially cloudy, None)  \n",
       "1664                   (Clear, None)  \n",
       "1665                (Overcast, None)  \n",
       "1666        (Partially cloudy, None)  \n",
       "1667        (Partially cloudy, None)  \n",
       "1668        (Partially cloudy, None)  \n",
       "1669        (Partially cloudy, None)  \n",
       "1670        (Partially cloudy, None)  \n",
       "1671                (Overcast, None)  \n",
       "1672        (Partially cloudy, None)  \n",
       "1673        (Partially cloudy, None)  \n",
       "1674                (Overcast, None)  \n",
       "1675                (Overcast, None)  \n",
       "1676  (Rain, Partially cloudy, 0.24)  \n",
       "1677        (Partially cloudy, None)  \n",
       "1678        (Partially cloudy, None)  \n",
       "1679        (Partially cloudy, None)  \n",
       "1680                   (Clear, None)  \n",
       "1681                   (Clear, None)  \n",
       "1682        (Partially cloudy, None)  \n",
       "1683                   (Clear, None)  \n",
       "1684                   (Clear, None)  \n",
       "1685                   (Clear, None)  \n",
       "1686                (Overcast, None)  \n",
       "1687                (Overcast, None)  \n",
       "1688        (Partially cloudy, None)  "
      ],
      "text/html": "<div>\n<style scoped>\n    .dataframe tbody tr th:only-of-type {\n        vertical-align: middle;\n    }\n\n    .dataframe tbody tr th {\n        vertical-align: top;\n    }\n\n    .dataframe thead th {\n        text-align: right;\n    }\n</style>\n<table border=\"1\" class=\"dataframe\">\n  <thead>\n    <tr style=\"text-align: right;\">\n      <th></th>\n      <th>Latitude</th>\n      <th>Longitude</th>\n      <th>API_url</th>\n      <th>Condições Climáticas</th>\n    </tr>\n  </thead>\n  <tbody>\n    <tr>\n      <th>1648</th>\n      <td>-23,506913</td>\n      <td>-46,715937</td>\n      <td>https://weather.visualcrossing.com/VisualCross...</td>\n      <td>(Partially cloudy, None)</td>\n    </tr>\n    <tr>\n      <th>1649</th>\n      <td>-23,592966</td>\n      <td>-46,692368</td>\n      <td>https://weather.visualcrossing.com/VisualCross...</td>\n      <td>(Partially cloudy, None)</td>\n    </tr>\n    <tr>\n      <th>1650</th>\n      <td>-23,831156</td>\n      <td>-46,722301</td>\n      <td>https://weather.visualcrossing.com/VisualCross...</td>\n      <td>(Partially cloudy, None)</td>\n    </tr>\n    <tr>\n      <th>1651</th>\n      <td>-23,636258</td>\n      <td>-46,618885</td>\n      <td>https://weather.visualcrossing.com/VisualCross...</td>\n      <td>(Partially cloudy, None)</td>\n    </tr>\n    <tr>\n      <th>1652</th>\n      <td>-23,7770374729</td>\n      <td>-46,6014202777</td>\n      <td>https://weather.visualcrossing.com/VisualCross...</td>\n      <td>(Clear, None)</td>\n    </tr>\n    <tr>\n      <th>1653</th>\n      <td>-23,712916</td>\n      <td>-46,600033</td>\n      <td>https://weather.visualcrossing.com/VisualCross...</td>\n      <td>(Clear, None)</td>\n    </tr>\n    <tr>\n      <th>1654</th>\n      <td>-23,7603216233</td>\n      <td>-46,9040541043</td>\n      <td>https://weather.visualcrossing.com/VisualCross...</td>\n      <td>(Partially cloudy, None)</td>\n    </tr>\n    <tr>\n      <th>1655</th>\n      <td>-23,726053</td>\n      <td>-46,78909</td>\n      <td>https://weather.visualcrossing.com/VisualCross...</td>\n      <td>(Partially cloudy, None)</td>\n    </tr>\n    <tr>\n      <th>1656</th>\n      <td>-23,496914</td>\n      <td>-46,686372</td>\n      <td>https://weather.visualcrossing.com/VisualCross...</td>\n      <td>(Partially cloudy, None)</td>\n    </tr>\n    <tr>\n      <th>1657</th>\n      <td>-23,826884</td>\n      <td>-46,729567</td>\n      <td>https://weather.visualcrossing.com/VisualCross...</td>\n      <td>(Partially cloudy, None)</td>\n    </tr>\n    <tr>\n      <th>1658</th>\n      <td>-23,5269836915</td>\n      <td>-46,7507861432</td>\n      <td>https://weather.visualcrossing.com/VisualCross...</td>\n      <td>(Partially cloudy, None)</td>\n    </tr>\n    <tr>\n      <th>1659</th>\n      <td>-23,539411</td>\n      <td>-46,801023</td>\n      <td>https://weather.visualcrossing.com/VisualCross...</td>\n      <td>(Clear, None)</td>\n    </tr>\n    <tr>\n      <th>1660</th>\n      <td>-23,716837</td>\n      <td>-46,851914</td>\n      <td>https://weather.visualcrossing.com/VisualCross...</td>\n      <td>(Partially cloudy, None)</td>\n    </tr>\n    <tr>\n      <th>1661</th>\n      <td>-23,5076946996</td>\n      <td>-46,7438705222</td>\n      <td>https://weather.visualcrossing.com/VisualCross...</td>\n      <td>(Partially cloudy, None)</td>\n    </tr>\n    <tr>\n      <th>1662</th>\n      <td>-23,7287511535</td>\n      <td>-46,4248868556</td>\n      <td>https://weather.visualcrossing.com/VisualCross...</td>\n      <td>(Partially cloudy, None)</td>\n    </tr>\n    <tr>\n      <th>1663</th>\n      <td>-23,405311</td>\n      <td>-46,738085</td>\n      <td>https://weather.visualcrossing.com/VisualCross...</td>\n      <td>(Partially cloudy, None)</td>\n    </tr>\n    <tr>\n      <th>1664</th>\n      <td>-23,488305</td>\n      <td>-46,434576</td>\n      <td>https://weather.visualcrossing.com/VisualCross...</td>\n      <td>(Clear, None)</td>\n    </tr>\n    <tr>\n      <th>1665</th>\n      <td>-23,624628</td>\n      <td>-46,485407</td>\n      <td>https://weather.visualcrossing.com/VisualCross...</td>\n      <td>(Overcast, None)</td>\n    </tr>\n    <tr>\n      <th>1666</th>\n      <td>-23,512914</td>\n      <td>-46,468745</td>\n      <td>https://weather.visualcrossing.com/VisualCross...</td>\n      <td>(Partially cloudy, None)</td>\n    </tr>\n    <tr>\n      <th>1667</th>\n      <td>-23,49714</td>\n      <td>-46,467997</td>\n      <td>https://weather.visualcrossing.com/VisualCross...</td>\n      <td>(Partially cloudy, None)</td>\n    </tr>\n    <tr>\n      <th>1668</th>\n      <td>-23,685344</td>\n      <td>-46,620642</td>\n      <td>https://weather.visualcrossing.com/VisualCross...</td>\n      <td>(Partially cloudy, None)</td>\n    </tr>\n    <tr>\n      <th>1669</th>\n      <td>-23,40912</td>\n      <td>-46,408801</td>\n      <td>https://weather.visualcrossing.com/VisualCross...</td>\n      <td>(Partially cloudy, None)</td>\n    </tr>\n    <tr>\n      <th>1670</th>\n      <td>-23,533018</td>\n      <td>-46,209522</td>\n      <td>https://weather.visualcrossing.com/VisualCross...</td>\n      <td>(Partially cloudy, None)</td>\n    </tr>\n    <tr>\n      <th>1671</th>\n      <td>-23,5080710247</td>\n      <td>-46,8288384232</td>\n      <td>https://weather.visualcrossing.com/VisualCross...</td>\n      <td>(Overcast, None)</td>\n    </tr>\n    <tr>\n      <th>1672</th>\n      <td>-23,448863</td>\n      <td>-46,70202</td>\n      <td>https://weather.visualcrossing.com/VisualCross...</td>\n      <td>(Partially cloudy, None)</td>\n    </tr>\n    <tr>\n      <th>1673</th>\n      <td>-23,447332</td>\n      <td>-46,581644</td>\n      <td>https://weather.visualcrossing.com/VisualCross...</td>\n      <td>(Partially cloudy, None)</td>\n    </tr>\n    <tr>\n      <th>1674</th>\n      <td>-23,675204</td>\n      <td>-46,661258</td>\n      <td>https://weather.visualcrossing.com/VisualCross...</td>\n      <td>(Overcast, None)</td>\n    </tr>\n    <tr>\n      <th>1675</th>\n      <td>-23,661934</td>\n      <td>-46,459326</td>\n      <td>https://weather.visualcrossing.com/VisualCross...</td>\n      <td>(Overcast, None)</td>\n    </tr>\n    <tr>\n      <th>1676</th>\n      <td>-23,69833</td>\n      <td>-46,852357</td>\n      <td>https://weather.visualcrossing.com/VisualCross...</td>\n      <td>(Rain, Partially cloudy, 0.24)</td>\n    </tr>\n    <tr>\n      <th>1677</th>\n      <td>-23,622247</td>\n      <td>-46,760553</td>\n      <td>https://weather.visualcrossing.com/VisualCross...</td>\n      <td>(Partially cloudy, None)</td>\n    </tr>\n    <tr>\n      <th>1678</th>\n      <td>-23,523694</td>\n      <td>-46,63164</td>\n      <td>https://weather.visualcrossing.com/VisualCross...</td>\n      <td>(Partially cloudy, None)</td>\n    </tr>\n    <tr>\n      <th>1679</th>\n      <td>-23,675279</td>\n      <td>-46,755939</td>\n      <td>https://weather.visualcrossing.com/VisualCross...</td>\n      <td>(Partially cloudy, None)</td>\n    </tr>\n    <tr>\n      <th>1680</th>\n      <td>-23,589856</td>\n      <td>-46,588464</td>\n      <td>https://weather.visualcrossing.com/VisualCross...</td>\n      <td>(Clear, None)</td>\n    </tr>\n    <tr>\n      <th>1681</th>\n      <td>-23,440753</td>\n      <td>-46,587868</td>\n      <td>https://weather.visualcrossing.com/VisualCross...</td>\n      <td>(Clear, None)</td>\n    </tr>\n    <tr>\n      <th>1682</th>\n      <td>-23,430786285</td>\n      <td>-46,2723142663</td>\n      <td>https://weather.visualcrossing.com/VisualCross...</td>\n      <td>(Partially cloudy, None)</td>\n    </tr>\n    <tr>\n      <th>1683</th>\n      <td>-23,431989</td>\n      <td>-46,43955</td>\n      <td>https://weather.visualcrossing.com/VisualCross...</td>\n      <td>(Clear, None)</td>\n    </tr>\n    <tr>\n      <th>1684</th>\n      <td>-23,538019</td>\n      <td>-46,486573</td>\n      <td>https://weather.visualcrossing.com/VisualCross...</td>\n      <td>(Clear, None)</td>\n    </tr>\n    <tr>\n      <th>1685</th>\n      <td>-23,542904</td>\n      <td>-46,48162</td>\n      <td>https://weather.visualcrossing.com/VisualCross...</td>\n      <td>(Clear, None)</td>\n    </tr>\n    <tr>\n      <th>1686</th>\n      <td>-23,7185444914</td>\n      <td>-46,8822947262</td>\n      <td>https://weather.visualcrossing.com/VisualCross...</td>\n      <td>(Overcast, None)</td>\n    </tr>\n    <tr>\n      <th>1687</th>\n      <td>-23,630937</td>\n      <td>-46,621861</td>\n      <td>https://weather.visualcrossing.com/VisualCross...</td>\n      <td>(Overcast, None)</td>\n    </tr>\n    <tr>\n      <th>1688</th>\n      <td>-23,666649</td>\n      <td>-46,576017</td>\n      <td>https://weather.visualcrossing.com/VisualCross...</td>\n      <td>(Partially cloudy, None)</td>\n    </tr>\n  </tbody>\n</table>\n</div>"
     },
     "metadata": {},
     "execution_count": 229
    }
   ],
   "source": [
    "df_escolhido[['Latitude','Longitude','API_url','Condições Climáticas']]"
   ]
  },
  {
   "cell_type": "code",
   "execution_count": 230,
   "metadata": {},
   "outputs": [
    {
     "output_type": "stream",
     "name": "stderr",
     "text": [
      "C:\\Users\\Renato\\anaconda3\\envs\\Data_Science\\lib\\site-packages\\pandas\\core\\frame.py:4308: SettingWithCopyWarning: \nA value is trying to be set on a copy of a slice from a DataFrame\n\nSee the caveats in the documentation: https://pandas.pydata.org/pandas-docs/stable/user_guide/indexing.html#returning-a-view-versus-a-copy\n  return super().drop(\n"
     ]
    }
   ],
   "source": [
    "# dropando coluna URL\n",
    "df_escolhido.drop(columns='API_url',axis=1,inplace=True)"
   ]
  },
  {
   "cell_type": "code",
   "execution_count": 231,
   "metadata": {},
   "outputs": [],
   "source": [
    "#exportando cada df escolhido na pasta weather API\n",
    "df_escolhido.to_csv(r'C:\\\\Users\\Renato\\OneDrive\\Projeto_TERA\\Predição Acidentes Motocicleta\\Projeto-TERA-Data-Science---Acidentes-Motocicletas\\Weather_API_data\\{}.csv'.format(nome_df))"
   ]
  }
 ]
}