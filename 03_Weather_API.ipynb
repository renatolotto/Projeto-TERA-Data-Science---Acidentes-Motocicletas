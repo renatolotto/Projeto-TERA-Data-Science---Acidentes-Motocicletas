{
 "metadata": {
  "language_info": {
   "codemirror_mode": {
    "name": "ipython",
    "version": 3
   },
   "file_extension": ".py",
   "mimetype": "text/x-python",
   "name": "python",
   "nbconvert_exporter": "python",
   "pygments_lexer": "ipython3",
   "version": "3.8.8"
  },
  "orig_nbformat": 2,
  "kernelspec": {
   "name": "python388jvsc74a57bd054aafdb36ba7a57007c1052e291baf553a31e85cae918a266292c7469c0efefb",
   "display_name": "Python 3.8.8 64-bit ('Data_Science': conda)"
  }
 },
 "nbformat": 4,
 "nbformat_minor": 2,
 "cells": [
  {
   "cell_type": "code",
   "execution_count": 1,
   "metadata": {},
   "outputs": [],
   "source": [
    "import numpy as np\n",
    "import pandas as pd\n",
    "import json\n",
    "import urllib, json"
   ]
  },
  {
   "cell_type": "code",
   "execution_count": 2,
   "metadata": {},
   "outputs": [],
   "source": [
    "df_API_fatais = pd.read_csv('df_API_fatais.csv')\n",
    "\n"
   ]
  },
  {
   "cell_type": "code",
   "execution_count": 3,
   "metadata": {},
   "outputs": [
    {
     "output_type": "stream",
     "name": "stdout",
     "text": [
      "<class 'pandas.core.frame.DataFrame'>\nRangeIndex: 3200 entries, 0 to 3199\nData columns (total 5 columns):\n #   Column                Non-Null Count  Dtype  \n---  ------                --------------  -----  \n 0   Data do Acidente      3200 non-null   object \n 1   Latitude              3200 non-null   object \n 2   Longitude             3200 non-null   object \n 3   Condições Climáticas  0 non-null      float64\n 4   Hora                  3200 non-null   float64\ndtypes: float64(2), object(3)\nmemory usage: 125.1+ KB\n"
     ]
    }
   ],
   "source": [
    "df_API_fatais.info()"
   ]
  },
  {
   "cell_type": "code",
   "execution_count": 124,
   "metadata": {},
   "outputs": [],
   "source": [
    "# criar dataset pequeno para nao exceder o limite do API\n",
    "#normalmente limite é 41 linhas diárias\n",
    "\n",
    "# df1 = df_API_fatais.iloc[:11,:] #DONE checado\n",
    "# df2 = df_API_fatais.iloc[11:39,:] #DONE checado\n",
    "# df3 = df_API_fatais.iloc[39:78,:] #Done checago\n",
    "# df4 = df_API_fatais.iloc[78:178,:] DONE checado\n",
    "# df5 = df_API_fatais.iloc[178:300,:] DONE checado\n",
    "# df6 = df_API_fatais.iloc[300:460,:] DONE checado\n",
    "# df7 = df_API_fatais.iloc[460:501,:] DONE checado\n",
    "# df8 = df_API_fatais.iloc[501:542,:] DONE checado\n",
    "# df9 = df_API_fatais.iloc[542:583,:] DONE checado\n",
    "# df10 = df_API_fatais.iloc[583:624,:] done checado\n",
    "# df11 = df_API_fatais.iloc[624:665,:] #DONE\n",
    "# df12 = df_API_fatais.iloc[665:706,:] #DONE\n",
    "# df13 = df_API_fatais.iloc[706:747,:] #DONE\n",
    "# df14 = df_API_fatais.iloc[747:788,:] #DONE\n",
    "# df15 = df_API_fatais.iloc[788:829,:] #DONE\n",
    "# df16 = df_API_fatais.iloc[829:870,:] #DONE\n",
    "# df17 = df_API_fatais.iloc[870:911,:] #DONE\n",
    "# df18 = df_API_fatais.iloc[911:952,:] #DONE\n",
    "# df19 = df_API_fatais.iloc[952:993,:] #DONE\n",
    "# df20 = df_API_fatais.iloc[993:1034,:]\n",
    "test993 = df_API_fatais.iloc[993:994,:]\n"
   ]
  },
  {
   "cell_type": "code",
   "execution_count": 125,
   "metadata": {},
   "outputs": [
    {
     "output_type": "execute_result",
     "data": {
      "text/plain": [
       "    Data do Acidente    Latitude   Longitude  Condições Climáticas  Hora\n",
       "993       2018-03-25  -23,481489  -46,675492                   NaN   1.0"
      ],
      "text/html": "<div>\n<style scoped>\n    .dataframe tbody tr th:only-of-type {\n        vertical-align: middle;\n    }\n\n    .dataframe tbody tr th {\n        vertical-align: top;\n    }\n\n    .dataframe thead th {\n        text-align: right;\n    }\n</style>\n<table border=\"1\" class=\"dataframe\">\n  <thead>\n    <tr style=\"text-align: right;\">\n      <th></th>\n      <th>Data do Acidente</th>\n      <th>Latitude</th>\n      <th>Longitude</th>\n      <th>Condições Climáticas</th>\n      <th>Hora</th>\n    </tr>\n  </thead>\n  <tbody>\n    <tr>\n      <th>993</th>\n      <td>2018-03-25</td>\n      <td>-23,481489</td>\n      <td>-46,675492</td>\n      <td>NaN</td>\n      <td>1.0</td>\n    </tr>\n  </tbody>\n</table>\n</div>"
     },
     "metadata": {},
     "execution_count": 125
    }
   ],
   "source": [
    "test993"
   ]
  },
  {
   "cell_type": "code",
   "execution_count": 119,
   "metadata": {},
   "outputs": [
    {
     "output_type": "stream",
     "name": "stdout",
     "text": [
      "-Serão consumido 984 créditos\n\n-Capacidade de 369 linhas por dia\n\n-Demorará mais 5.983739837398374 dias\n"
     ]
    }
   ],
   "source": [
    "#CRÉDTIOS QUE SERÃO CONSUMIDOS POR CADA DF\n",
    "df_de_hoje=df20\n",
    "print('-Serão consumido',df_de_hoje.shape[0]*24,'créditos')\n",
    "print()\n",
    "\n",
    "n_chaves=9\n",
    "capacidade_dia=n_chaves*df_de_hoje.shape[0]\n",
    "print('-Capacidade de',capacidade_dia,'linhas por dia')\n",
    "print()\n",
    "\n",
    "prev_dias= (3200-992)/capacidade_dia\n",
    "print('-Demorará mais',prev_dias,'dias')\n",
    "\n"
   ]
  },
  {
   "cell_type": "code",
   "execution_count": 126,
   "metadata": {},
   "outputs": [],
   "source": [
    "# ESCOLHER DF AQUI E RODAR DAQUI PRA BAIXO\n",
    "key1='B8JYA2DGP8JEMDN3SH4N4XGTT' #meu hotmail\n",
    "key2='A6USW7ZJVKXS796M85TUD5JB7' #Jobanegas@gmail.com, projetoTERA\n",
    "key3='SM2SEHMQ5C293FLZ5QBABUNUB'#meu gmail, waiting credits\n",
    "key4='YEW24DH9DQC8K5PV9V4G6JDUE'#scania\n",
    "key5='L8W8YG6RD4JZ8E2V9NRYFBNCQ'#globo\n",
    "key6='9HS474ZGKWUFCC2CLE8SJ2GN8'#josybanegas@hotmail.com, projetoTERA2\n",
    "key7='PMFULACV4XSBP4LM2DGMRZA6S'#mi\n",
    "key8='NP47JLCE98FFHNGS5A69CFPGQ'#regi\n",
    "key9='S3Q3HW8B7AH2YEGCHUZ83WNNY'#pai\n",
    "\n",
    "key_escolhida = key1\n",
    "df_escolhido = test993 ##### ATENÇÃO NO NOME....SE NÃO ATUALIZAR VAI SOBRESCREVER OS DFS JÁ SALVOS\n",
    "nome_df = 'test993'\n",
    "\n"
   ]
  },
  {
   "cell_type": "code",
   "execution_count": 107,
   "metadata": {},
   "outputs": [],
   "source": [
    "def create_URL_column(df):\n",
    "    if pd.isnull(df['Condições Climáticas']):\n",
    "        return \"https://weather.visualcrossing.com/VisualCrossingWebServices/rest/services/timeline/{},{}/{}?key={}\".format(df['Latitude'].replace(',','.'),df['Longitude'].replace(',','.'),df['Data do Acidente'][0:10],key_escolhida)\n",
    "    else:\n",
    "        return 'Já temos'"
   ]
  },
  {
   "cell_type": "code",
   "execution_count": 108,
   "metadata": {},
   "outputs": [
    {
     "output_type": "stream",
     "name": "stderr",
     "text": [
      "<ipython-input-108-753ec4956c79>:1: SettingWithCopyWarning: \nA value is trying to be set on a copy of a slice from a DataFrame.\nTry using .loc[row_indexer,col_indexer] = value instead\n\nSee the caveats in the documentation: https://pandas.pydata.org/pandas-docs/stable/user_guide/indexing.html#returning-a-view-versus-a-copy\n  df_escolhido['API_url']= 'zero'\n<ipython-input-108-753ec4956c79>:2: SettingWithCopyWarning: \nA value is trying to be set on a copy of a slice from a DataFrame.\nTry using .loc[row_indexer,col_indexer] = value instead\n\nSee the caveats in the documentation: https://pandas.pydata.org/pandas-docs/stable/user_guide/indexing.html#returning-a-view-versus-a-copy\n  df_escolhido['Hora'] = df_escolhido['Hora'].astype(int)\n<ipython-input-108-753ec4956c79>:3: SettingWithCopyWarning: \nA value is trying to be set on a copy of a slice from a DataFrame.\nTry using .loc[row_indexer,col_indexer] = value instead\n\nSee the caveats in the documentation: https://pandas.pydata.org/pandas-docs/stable/user_guide/indexing.html#returning-a-view-versus-a-copy\n  df_escolhido['API_url'] = df_escolhido.apply(lambda df: create_URL_column(df),axis=1)\n"
     ]
    }
   ],
   "source": [
    "df_escolhido['API_url']= 'zero'\n",
    "df_escolhido['Hora'] = df_escolhido['Hora'].astype(int)\n",
    "df_escolhido['API_url'] = df_escolhido.apply(lambda df: create_URL_column(df),axis=1)"
   ]
  },
  {
   "cell_type": "code",
   "execution_count": 109,
   "metadata": {},
   "outputs": [
    {
     "output_type": "execute_result",
     "data": {
      "text/plain": [
       "['https://weather.visualcrossing.com/VisualCrossingWebServices/rest/services/timeline/-23.508651,-46.68321/2018-04-21?key=S3Q3HW8B7AH2YEGCHUZ83WNNY',\n",
       " 'https://weather.visualcrossing.com/VisualCrossingWebServices/rest/services/timeline/-23.507185,-46.486156/2018-04-21?key=S3Q3HW8B7AH2YEGCHUZ83WNNY',\n",
       " 'https://weather.visualcrossing.com/VisualCrossingWebServices/rest/services/timeline/-23.490734,-46.770538/2018-04-21?key=S3Q3HW8B7AH2YEGCHUZ83WNNY',\n",
       " 'https://weather.visualcrossing.com/VisualCrossingWebServices/rest/services/timeline/-23.289652817691163,-46.8466866204862/2018-04-20?key=S3Q3HW8B7AH2YEGCHUZ83WNNY',\n",
       " 'https://weather.visualcrossing.com/VisualCrossingWebServices/rest/services/timeline/-23.766777340116,-46.6762969520143/2018-04-19?key=S3Q3HW8B7AH2YEGCHUZ83WNNY',\n",
       " 'https://weather.visualcrossing.com/VisualCrossingWebServices/rest/services/timeline/-23.490659,-46.426977/2018-04-19?key=S3Q3HW8B7AH2YEGCHUZ83WNNY',\n",
       " 'https://weather.visualcrossing.com/VisualCrossingWebServices/rest/services/timeline/-23.844285776527993,-46.823411072745586/2018-04-17?key=S3Q3HW8B7AH2YEGCHUZ83WNNY',\n",
       " 'https://weather.visualcrossing.com/VisualCrossingWebServices/rest/services/timeline/-23.709584,-46.699692/2018-04-15?key=S3Q3HW8B7AH2YEGCHUZ83WNNY',\n",
       " 'https://weather.visualcrossing.com/VisualCrossingWebServices/rest/services/timeline/-23.322032,-46.630584/2018-04-15?key=S3Q3HW8B7AH2YEGCHUZ83WNNY',\n",
       " 'https://weather.visualcrossing.com/VisualCrossingWebServices/rest/services/timeline/-23.567856,-46.832253/2018-04-15?key=S3Q3HW8B7AH2YEGCHUZ83WNNY',\n",
       " 'https://weather.visualcrossing.com/VisualCrossingWebServices/rest/services/timeline/-23.678503,-46.776714/2018-04-14?key=S3Q3HW8B7AH2YEGCHUZ83WNNY',\n",
       " 'https://weather.visualcrossing.com/VisualCrossingWebServices/rest/services/timeline/-23.566527,-46.569345/2018-04-14?key=S3Q3HW8B7AH2YEGCHUZ83WNNY',\n",
       " 'https://weather.visualcrossing.com/VisualCrossingWebServices/rest/services/timeline/-23.578775390120782,-46.69416613263075/2018-04-14?key=S3Q3HW8B7AH2YEGCHUZ83WNNY',\n",
       " 'https://weather.visualcrossing.com/VisualCrossingWebServices/rest/services/timeline/-23.63645,-46.778075/2018-04-13?key=S3Q3HW8B7AH2YEGCHUZ83WNNY',\n",
       " 'https://weather.visualcrossing.com/VisualCrossingWebServices/rest/services/timeline/-23.543906,-46.408042/2018-04-13?key=S3Q3HW8B7AH2YEGCHUZ83WNNY',\n",
       " 'https://weather.visualcrossing.com/VisualCrossingWebServices/rest/services/timeline/-23.598776,-46.59749/2018-04-11?key=S3Q3HW8B7AH2YEGCHUZ83WNNY',\n",
       " 'https://weather.visualcrossing.com/VisualCrossingWebServices/rest/services/timeline/-23.425746351883976,-46.787776220729555/2018-04-10?key=S3Q3HW8B7AH2YEGCHUZ83WNNY',\n",
       " 'https://weather.visualcrossing.com/VisualCrossingWebServices/rest/services/timeline/-23.51023935714047,-46.72888797827142/2018-04-10?key=S3Q3HW8B7AH2YEGCHUZ83WNNY',\n",
       " 'https://weather.visualcrossing.com/VisualCrossingWebServices/rest/services/timeline/-23.614449,-46.50167/2018-04-09?key=S3Q3HW8B7AH2YEGCHUZ83WNNY',\n",
       " 'https://weather.visualcrossing.com/VisualCrossingWebServices/rest/services/timeline/-23.574312,-46.481592/2018-04-08?key=S3Q3HW8B7AH2YEGCHUZ83WNNY',\n",
       " 'https://weather.visualcrossing.com/VisualCrossingWebServices/rest/services/timeline/-23.560609,-46.521808/2018-04-08?key=S3Q3HW8B7AH2YEGCHUZ83WNNY',\n",
       " 'https://weather.visualcrossing.com/VisualCrossingWebServices/rest/services/timeline/-23.671126,-46.430628/2018-04-08?key=S3Q3HW8B7AH2YEGCHUZ83WNNY',\n",
       " 'https://weather.visualcrossing.com/VisualCrossingWebServices/rest/services/timeline/-23.402101,-46.721073/2018-04-07?key=S3Q3HW8B7AH2YEGCHUZ83WNNY',\n",
       " 'https://weather.visualcrossing.com/VisualCrossingWebServices/rest/services/timeline/-23.487599,-46.544012/2018-04-07?key=S3Q3HW8B7AH2YEGCHUZ83WNNY',\n",
       " 'https://weather.visualcrossing.com/VisualCrossingWebServices/rest/services/timeline/-23.718027,-46.703489/2018-04-06?key=S3Q3HW8B7AH2YEGCHUZ83WNNY',\n",
       " 'https://weather.visualcrossing.com/VisualCrossingWebServices/rest/services/timeline/-23.539291,-46.570446/2018-04-06?key=S3Q3HW8B7AH2YEGCHUZ83WNNY',\n",
       " 'https://weather.visualcrossing.com/VisualCrossingWebServices/rest/services/timeline/-23.605907,-46.469031/2018-04-05?key=S3Q3HW8B7AH2YEGCHUZ83WNNY',\n",
       " 'https://weather.visualcrossing.com/VisualCrossingWebServices/rest/services/timeline/-23.639736,-46.745634/2018-04-03?key=S3Q3HW8B7AH2YEGCHUZ83WNNY',\n",
       " 'https://weather.visualcrossing.com/VisualCrossingWebServices/rest/services/timeline/-23.668971,-46.634474/2018-04-01?key=S3Q3HW8B7AH2YEGCHUZ83WNNY',\n",
       " 'https://weather.visualcrossing.com/VisualCrossingWebServices/rest/services/timeline/-23.514548,-46.664321/2018-04-01?key=S3Q3HW8B7AH2YEGCHUZ83WNNY',\n",
       " 'https://weather.visualcrossing.com/VisualCrossingWebServices/rest/services/timeline/-23.679219,-46.384018/2018-04-01?key=S3Q3HW8B7AH2YEGCHUZ83WNNY',\n",
       " 'https://weather.visualcrossing.com/VisualCrossingWebServices/rest/services/timeline/-23.388421,-46.435756/2018-04-01?key=S3Q3HW8B7AH2YEGCHUZ83WNNY',\n",
       " 'https://weather.visualcrossing.com/VisualCrossingWebServices/rest/services/timeline/-23.274322759063615,-46.585275361039365/2018-03-31?key=S3Q3HW8B7AH2YEGCHUZ83WNNY',\n",
       " 'https://weather.visualcrossing.com/VisualCrossingWebServices/rest/services/timeline/-23.400982,-46.524045/2018-03-30?key=S3Q3HW8B7AH2YEGCHUZ83WNNY',\n",
       " 'https://weather.visualcrossing.com/VisualCrossingWebServices/rest/services/timeline/-23.437867,-46.4959/2018-03-29?key=S3Q3HW8B7AH2YEGCHUZ83WNNY',\n",
       " 'https://weather.visualcrossing.com/VisualCrossingWebServices/rest/services/timeline/-23.629013,-46.716791/2018-03-28?key=S3Q3HW8B7AH2YEGCHUZ83WNNY',\n",
       " 'https://weather.visualcrossing.com/VisualCrossingWebServices/rest/services/timeline/-23.781795,-46.690976/2018-03-27?key=S3Q3HW8B7AH2YEGCHUZ83WNNY',\n",
       " 'https://weather.visualcrossing.com/VisualCrossingWebServices/rest/services/timeline/-23.505205,-46.152062/2018-03-27?key=S3Q3HW8B7AH2YEGCHUZ83WNNY',\n",
       " 'https://weather.visualcrossing.com/VisualCrossingWebServices/rest/services/timeline/-23.704344,-46.616806/2018-03-26?key=S3Q3HW8B7AH2YEGCHUZ83WNNY',\n",
       " 'https://weather.visualcrossing.com/VisualCrossingWebServices/rest/services/timeline/-23.50816807819195,-46.34258100197872/2018-03-26?key=S3Q3HW8B7AH2YEGCHUZ83WNNY',\n",
       " 'https://weather.visualcrossing.com/VisualCrossingWebServices/rest/services/timeline/-23.590828,-46.823061/2018-03-26?key=S3Q3HW8B7AH2YEGCHUZ83WNNY']"
      ]
     },
     "metadata": {},
     "execution_count": 109
    }
   ],
   "source": [
    "list(df_escolhido['API_url'])"
   ]
  },
  {
   "cell_type": "code",
   "execution_count": 110,
   "metadata": {},
   "outputs": [
    {
     "output_type": "execute_result",
     "data": {
      "text/plain": [
       "                Latitude            Longitude  \\\n",
       "952           -23,508651            -46,68321   \n",
       "953           -23,507185           -46,486156   \n",
       "954           -23,490734           -46,770538   \n",
       "955  -23,289652817691163    -46,8466866204862   \n",
       "956     -23,766777340116    -46,6762969520143   \n",
       "957           -23,490659           -46,426977   \n",
       "958  -23,844285776527993  -46,823411072745586   \n",
       "959           -23,709584           -46,699692   \n",
       "960           -23,322032           -46,630584   \n",
       "961           -23,567856           -46,832253   \n",
       "962           -23,678503           -46,776714   \n",
       "963           -23,566527           -46,569345   \n",
       "964  -23,578775390120782   -46,69416613263075   \n",
       "965            -23,63645           -46,778075   \n",
       "966           -23,543906           -46,408042   \n",
       "967           -23,598776            -46,59749   \n",
       "968  -23,425746351883976  -46,787776220729555   \n",
       "969   -23,51023935714047   -46,72888797827142   \n",
       "970           -23,614449            -46,50167   \n",
       "971           -23,574312           -46,481592   \n",
       "972           -23,560609           -46,521808   \n",
       "973           -23,671126           -46,430628   \n",
       "974           -23,402101           -46,721073   \n",
       "975           -23,487599           -46,544012   \n",
       "976           -23,718027           -46,703489   \n",
       "977           -23,539291           -46,570446   \n",
       "978           -23,605907           -46,469031   \n",
       "979           -23,639736           -46,745634   \n",
       "980           -23,668971           -46,634474   \n",
       "981           -23,514548           -46,664321   \n",
       "982           -23,679219           -46,384018   \n",
       "983           -23,388421           -46,435756   \n",
       "984  -23,274322759063615  -46,585275361039365   \n",
       "985           -23,400982           -46,524045   \n",
       "986           -23,437867             -46,4959   \n",
       "987           -23,629013           -46,716791   \n",
       "988           -23,781795           -46,690976   \n",
       "989           -23,505205           -46,152062   \n",
       "990           -23,704344           -46,616806   \n",
       "991   -23,50816807819195   -46,34258100197872   \n",
       "992           -23,590828           -46,823061   \n",
       "\n",
       "                                               API_url  Condições Climáticas  \n",
       "952  https://weather.visualcrossing.com/VisualCross...                   NaN  \n",
       "953  https://weather.visualcrossing.com/VisualCross...                   NaN  \n",
       "954  https://weather.visualcrossing.com/VisualCross...                   NaN  \n",
       "955  https://weather.visualcrossing.com/VisualCross...                   NaN  \n",
       "956  https://weather.visualcrossing.com/VisualCross...                   NaN  \n",
       "957  https://weather.visualcrossing.com/VisualCross...                   NaN  \n",
       "958  https://weather.visualcrossing.com/VisualCross...                   NaN  \n",
       "959  https://weather.visualcrossing.com/VisualCross...                   NaN  \n",
       "960  https://weather.visualcrossing.com/VisualCross...                   NaN  \n",
       "961  https://weather.visualcrossing.com/VisualCross...                   NaN  \n",
       "962  https://weather.visualcrossing.com/VisualCross...                   NaN  \n",
       "963  https://weather.visualcrossing.com/VisualCross...                   NaN  \n",
       "964  https://weather.visualcrossing.com/VisualCross...                   NaN  \n",
       "965  https://weather.visualcrossing.com/VisualCross...                   NaN  \n",
       "966  https://weather.visualcrossing.com/VisualCross...                   NaN  \n",
       "967  https://weather.visualcrossing.com/VisualCross...                   NaN  \n",
       "968  https://weather.visualcrossing.com/VisualCross...                   NaN  \n",
       "969  https://weather.visualcrossing.com/VisualCross...                   NaN  \n",
       "970  https://weather.visualcrossing.com/VisualCross...                   NaN  \n",
       "971  https://weather.visualcrossing.com/VisualCross...                   NaN  \n",
       "972  https://weather.visualcrossing.com/VisualCross...                   NaN  \n",
       "973  https://weather.visualcrossing.com/VisualCross...                   NaN  \n",
       "974  https://weather.visualcrossing.com/VisualCross...                   NaN  \n",
       "975  https://weather.visualcrossing.com/VisualCross...                   NaN  \n",
       "976  https://weather.visualcrossing.com/VisualCross...                   NaN  \n",
       "977  https://weather.visualcrossing.com/VisualCross...                   NaN  \n",
       "978  https://weather.visualcrossing.com/VisualCross...                   NaN  \n",
       "979  https://weather.visualcrossing.com/VisualCross...                   NaN  \n",
       "980  https://weather.visualcrossing.com/VisualCross...                   NaN  \n",
       "981  https://weather.visualcrossing.com/VisualCross...                   NaN  \n",
       "982  https://weather.visualcrossing.com/VisualCross...                   NaN  \n",
       "983  https://weather.visualcrossing.com/VisualCross...                   NaN  \n",
       "984  https://weather.visualcrossing.com/VisualCross...                   NaN  \n",
       "985  https://weather.visualcrossing.com/VisualCross...                   NaN  \n",
       "986  https://weather.visualcrossing.com/VisualCross...                   NaN  \n",
       "987  https://weather.visualcrossing.com/VisualCross...                   NaN  \n",
       "988  https://weather.visualcrossing.com/VisualCross...                   NaN  \n",
       "989  https://weather.visualcrossing.com/VisualCross...                   NaN  \n",
       "990  https://weather.visualcrossing.com/VisualCross...                   NaN  \n",
       "991  https://weather.visualcrossing.com/VisualCross...                   NaN  \n",
       "992  https://weather.visualcrossing.com/VisualCross...                   NaN  "
      ],
      "text/html": "<div>\n<style scoped>\n    .dataframe tbody tr th:only-of-type {\n        vertical-align: middle;\n    }\n\n    .dataframe tbody tr th {\n        vertical-align: top;\n    }\n\n    .dataframe thead th {\n        text-align: right;\n    }\n</style>\n<table border=\"1\" class=\"dataframe\">\n  <thead>\n    <tr style=\"text-align: right;\">\n      <th></th>\n      <th>Latitude</th>\n      <th>Longitude</th>\n      <th>API_url</th>\n      <th>Condições Climáticas</th>\n    </tr>\n  </thead>\n  <tbody>\n    <tr>\n      <th>952</th>\n      <td>-23,508651</td>\n      <td>-46,68321</td>\n      <td>https://weather.visualcrossing.com/VisualCross...</td>\n      <td>NaN</td>\n    </tr>\n    <tr>\n      <th>953</th>\n      <td>-23,507185</td>\n      <td>-46,486156</td>\n      <td>https://weather.visualcrossing.com/VisualCross...</td>\n      <td>NaN</td>\n    </tr>\n    <tr>\n      <th>954</th>\n      <td>-23,490734</td>\n      <td>-46,770538</td>\n      <td>https://weather.visualcrossing.com/VisualCross...</td>\n      <td>NaN</td>\n    </tr>\n    <tr>\n      <th>955</th>\n      <td>-23,289652817691163</td>\n      <td>-46,8466866204862</td>\n      <td>https://weather.visualcrossing.com/VisualCross...</td>\n      <td>NaN</td>\n    </tr>\n    <tr>\n      <th>956</th>\n      <td>-23,766777340116</td>\n      <td>-46,6762969520143</td>\n      <td>https://weather.visualcrossing.com/VisualCross...</td>\n      <td>NaN</td>\n    </tr>\n    <tr>\n      <th>957</th>\n      <td>-23,490659</td>\n      <td>-46,426977</td>\n      <td>https://weather.visualcrossing.com/VisualCross...</td>\n      <td>NaN</td>\n    </tr>\n    <tr>\n      <th>958</th>\n      <td>-23,844285776527993</td>\n      <td>-46,823411072745586</td>\n      <td>https://weather.visualcrossing.com/VisualCross...</td>\n      <td>NaN</td>\n    </tr>\n    <tr>\n      <th>959</th>\n      <td>-23,709584</td>\n      <td>-46,699692</td>\n      <td>https://weather.visualcrossing.com/VisualCross...</td>\n      <td>NaN</td>\n    </tr>\n    <tr>\n      <th>960</th>\n      <td>-23,322032</td>\n      <td>-46,630584</td>\n      <td>https://weather.visualcrossing.com/VisualCross...</td>\n      <td>NaN</td>\n    </tr>\n    <tr>\n      <th>961</th>\n      <td>-23,567856</td>\n      <td>-46,832253</td>\n      <td>https://weather.visualcrossing.com/VisualCross...</td>\n      <td>NaN</td>\n    </tr>\n    <tr>\n      <th>962</th>\n      <td>-23,678503</td>\n      <td>-46,776714</td>\n      <td>https://weather.visualcrossing.com/VisualCross...</td>\n      <td>NaN</td>\n    </tr>\n    <tr>\n      <th>963</th>\n      <td>-23,566527</td>\n      <td>-46,569345</td>\n      <td>https://weather.visualcrossing.com/VisualCross...</td>\n      <td>NaN</td>\n    </tr>\n    <tr>\n      <th>964</th>\n      <td>-23,578775390120782</td>\n      <td>-46,69416613263075</td>\n      <td>https://weather.visualcrossing.com/VisualCross...</td>\n      <td>NaN</td>\n    </tr>\n    <tr>\n      <th>965</th>\n      <td>-23,63645</td>\n      <td>-46,778075</td>\n      <td>https://weather.visualcrossing.com/VisualCross...</td>\n      <td>NaN</td>\n    </tr>\n    <tr>\n      <th>966</th>\n      <td>-23,543906</td>\n      <td>-46,408042</td>\n      <td>https://weather.visualcrossing.com/VisualCross...</td>\n      <td>NaN</td>\n    </tr>\n    <tr>\n      <th>967</th>\n      <td>-23,598776</td>\n      <td>-46,59749</td>\n      <td>https://weather.visualcrossing.com/VisualCross...</td>\n      <td>NaN</td>\n    </tr>\n    <tr>\n      <th>968</th>\n      <td>-23,425746351883976</td>\n      <td>-46,787776220729555</td>\n      <td>https://weather.visualcrossing.com/VisualCross...</td>\n      <td>NaN</td>\n    </tr>\n    <tr>\n      <th>969</th>\n      <td>-23,51023935714047</td>\n      <td>-46,72888797827142</td>\n      <td>https://weather.visualcrossing.com/VisualCross...</td>\n      <td>NaN</td>\n    </tr>\n    <tr>\n      <th>970</th>\n      <td>-23,614449</td>\n      <td>-46,50167</td>\n      <td>https://weather.visualcrossing.com/VisualCross...</td>\n      <td>NaN</td>\n    </tr>\n    <tr>\n      <th>971</th>\n      <td>-23,574312</td>\n      <td>-46,481592</td>\n      <td>https://weather.visualcrossing.com/VisualCross...</td>\n      <td>NaN</td>\n    </tr>\n    <tr>\n      <th>972</th>\n      <td>-23,560609</td>\n      <td>-46,521808</td>\n      <td>https://weather.visualcrossing.com/VisualCross...</td>\n      <td>NaN</td>\n    </tr>\n    <tr>\n      <th>973</th>\n      <td>-23,671126</td>\n      <td>-46,430628</td>\n      <td>https://weather.visualcrossing.com/VisualCross...</td>\n      <td>NaN</td>\n    </tr>\n    <tr>\n      <th>974</th>\n      <td>-23,402101</td>\n      <td>-46,721073</td>\n      <td>https://weather.visualcrossing.com/VisualCross...</td>\n      <td>NaN</td>\n    </tr>\n    <tr>\n      <th>975</th>\n      <td>-23,487599</td>\n      <td>-46,544012</td>\n      <td>https://weather.visualcrossing.com/VisualCross...</td>\n      <td>NaN</td>\n    </tr>\n    <tr>\n      <th>976</th>\n      <td>-23,718027</td>\n      <td>-46,703489</td>\n      <td>https://weather.visualcrossing.com/VisualCross...</td>\n      <td>NaN</td>\n    </tr>\n    <tr>\n      <th>977</th>\n      <td>-23,539291</td>\n      <td>-46,570446</td>\n      <td>https://weather.visualcrossing.com/VisualCross...</td>\n      <td>NaN</td>\n    </tr>\n    <tr>\n      <th>978</th>\n      <td>-23,605907</td>\n      <td>-46,469031</td>\n      <td>https://weather.visualcrossing.com/VisualCross...</td>\n      <td>NaN</td>\n    </tr>\n    <tr>\n      <th>979</th>\n      <td>-23,639736</td>\n      <td>-46,745634</td>\n      <td>https://weather.visualcrossing.com/VisualCross...</td>\n      <td>NaN</td>\n    </tr>\n    <tr>\n      <th>980</th>\n      <td>-23,668971</td>\n      <td>-46,634474</td>\n      <td>https://weather.visualcrossing.com/VisualCross...</td>\n      <td>NaN</td>\n    </tr>\n    <tr>\n      <th>981</th>\n      <td>-23,514548</td>\n      <td>-46,664321</td>\n      <td>https://weather.visualcrossing.com/VisualCross...</td>\n      <td>NaN</td>\n    </tr>\n    <tr>\n      <th>982</th>\n      <td>-23,679219</td>\n      <td>-46,384018</td>\n      <td>https://weather.visualcrossing.com/VisualCross...</td>\n      <td>NaN</td>\n    </tr>\n    <tr>\n      <th>983</th>\n      <td>-23,388421</td>\n      <td>-46,435756</td>\n      <td>https://weather.visualcrossing.com/VisualCross...</td>\n      <td>NaN</td>\n    </tr>\n    <tr>\n      <th>984</th>\n      <td>-23,274322759063615</td>\n      <td>-46,585275361039365</td>\n      <td>https://weather.visualcrossing.com/VisualCross...</td>\n      <td>NaN</td>\n    </tr>\n    <tr>\n      <th>985</th>\n      <td>-23,400982</td>\n      <td>-46,524045</td>\n      <td>https://weather.visualcrossing.com/VisualCross...</td>\n      <td>NaN</td>\n    </tr>\n    <tr>\n      <th>986</th>\n      <td>-23,437867</td>\n      <td>-46,4959</td>\n      <td>https://weather.visualcrossing.com/VisualCross...</td>\n      <td>NaN</td>\n    </tr>\n    <tr>\n      <th>987</th>\n      <td>-23,629013</td>\n      <td>-46,716791</td>\n      <td>https://weather.visualcrossing.com/VisualCross...</td>\n      <td>NaN</td>\n    </tr>\n    <tr>\n      <th>988</th>\n      <td>-23,781795</td>\n      <td>-46,690976</td>\n      <td>https://weather.visualcrossing.com/VisualCross...</td>\n      <td>NaN</td>\n    </tr>\n    <tr>\n      <th>989</th>\n      <td>-23,505205</td>\n      <td>-46,152062</td>\n      <td>https://weather.visualcrossing.com/VisualCross...</td>\n      <td>NaN</td>\n    </tr>\n    <tr>\n      <th>990</th>\n      <td>-23,704344</td>\n      <td>-46,616806</td>\n      <td>https://weather.visualcrossing.com/VisualCross...</td>\n      <td>NaN</td>\n    </tr>\n    <tr>\n      <th>991</th>\n      <td>-23,50816807819195</td>\n      <td>-46,34258100197872</td>\n      <td>https://weather.visualcrossing.com/VisualCross...</td>\n      <td>NaN</td>\n    </tr>\n    <tr>\n      <th>992</th>\n      <td>-23,590828</td>\n      <td>-46,823061</td>\n      <td>https://weather.visualcrossing.com/VisualCross...</td>\n      <td>NaN</td>\n    </tr>\n  </tbody>\n</table>\n</div>"
     },
     "metadata": {},
     "execution_count": 110
    }
   ],
   "source": [
    "df_escolhido[['Latitude','Longitude','API_url','Condições Climáticas']]"
   ]
  },
  {
   "cell_type": "code",
   "execution_count": 127,
   "metadata": {},
   "outputs": [],
   "source": [
    "#criando função def para buscar na API e incluir no df\n",
    "def get_API_value(df):\n",
    "    response = urllib.request.urlopen(df['API_url'])\n",
    "    data = json.loads(response.read())\n",
    "    condition = data.get('days')[0].get('hours')[df['Hora']].get('conditions')\n",
    "    precip = data.get('days')[0].get('hours')[df['Hora']].get('precip')\n",
    "    return condition,precip"
   ]
  },
  {
   "cell_type": "code",
   "execution_count": 112,
   "metadata": {},
   "outputs": [
    {
     "output_type": "stream",
     "name": "stderr",
     "text": [
      "<ipython-input-112-a6cba688e84f>:2: SettingWithCopyWarning: \nA value is trying to be set on a copy of a slice from a DataFrame.\nTry using .loc[row_indexer,col_indexer] = value instead\n\nSee the caveats in the documentation: https://pandas.pydata.org/pandas-docs/stable/user_guide/indexing.html#returning-a-view-versus-a-copy\n  df_escolhido['Condições Climáticas'] =df_escolhido.apply(lambda df: get_API_value(df),axis=1)\n"
     ]
    }
   ],
   "source": [
    "#   AQUI A FUNÇÃO IRÁ CONSUMIR CRÉDITOS....CHECAR NA CONTA DO VISUAL CROSSING\n",
    "df_escolhido['Condições Climáticas'] =df_escolhido.apply(lambda df: get_API_value(df),axis=1)"
   ]
  },
  {
   "cell_type": "code",
   "execution_count": 113,
   "metadata": {},
   "outputs": [
    {
     "output_type": "execute_result",
     "data": {
      "text/plain": [
       "                Latitude            Longitude  \\\n",
       "952           -23,508651            -46,68321   \n",
       "953           -23,507185           -46,486156   \n",
       "954           -23,490734           -46,770538   \n",
       "955  -23,289652817691163    -46,8466866204862   \n",
       "956     -23,766777340116    -46,6762969520143   \n",
       "957           -23,490659           -46,426977   \n",
       "958  -23,844285776527993  -46,823411072745586   \n",
       "959           -23,709584           -46,699692   \n",
       "960           -23,322032           -46,630584   \n",
       "961           -23,567856           -46,832253   \n",
       "962           -23,678503           -46,776714   \n",
       "963           -23,566527           -46,569345   \n",
       "964  -23,578775390120782   -46,69416613263075   \n",
       "965            -23,63645           -46,778075   \n",
       "966           -23,543906           -46,408042   \n",
       "967           -23,598776            -46,59749   \n",
       "968  -23,425746351883976  -46,787776220729555   \n",
       "969   -23,51023935714047   -46,72888797827142   \n",
       "970           -23,614449            -46,50167   \n",
       "971           -23,574312           -46,481592   \n",
       "972           -23,560609           -46,521808   \n",
       "973           -23,671126           -46,430628   \n",
       "974           -23,402101           -46,721073   \n",
       "975           -23,487599           -46,544012   \n",
       "976           -23,718027           -46,703489   \n",
       "977           -23,539291           -46,570446   \n",
       "978           -23,605907           -46,469031   \n",
       "979           -23,639736           -46,745634   \n",
       "980           -23,668971           -46,634474   \n",
       "981           -23,514548           -46,664321   \n",
       "982           -23,679219           -46,384018   \n",
       "983           -23,388421           -46,435756   \n",
       "984  -23,274322759063615  -46,585275361039365   \n",
       "985           -23,400982           -46,524045   \n",
       "986           -23,437867             -46,4959   \n",
       "987           -23,629013           -46,716791   \n",
       "988           -23,781795           -46,690976   \n",
       "989           -23,505205           -46,152062   \n",
       "990           -23,704344           -46,616806   \n",
       "991   -23,50816807819195   -46,34258100197872   \n",
       "992           -23,590828           -46,823061   \n",
       "\n",
       "                                               API_url Condições Climáticas  \n",
       "952  https://weather.visualcrossing.com/VisualCross...                Clear  \n",
       "953  https://weather.visualcrossing.com/VisualCross...     Partially cloudy  \n",
       "954  https://weather.visualcrossing.com/VisualCross...                Clear  \n",
       "955  https://weather.visualcrossing.com/VisualCross...                Clear  \n",
       "956  https://weather.visualcrossing.com/VisualCross...                Clear  \n",
       "957  https://weather.visualcrossing.com/VisualCross...                Clear  \n",
       "958  https://weather.visualcrossing.com/VisualCross...     Partially cloudy  \n",
       "959  https://weather.visualcrossing.com/VisualCross...             Overcast  \n",
       "960  https://weather.visualcrossing.com/VisualCross...             Overcast  \n",
       "961  https://weather.visualcrossing.com/VisualCross...             Overcast  \n",
       "962  https://weather.visualcrossing.com/VisualCross...     Partially cloudy  \n",
       "963  https://weather.visualcrossing.com/VisualCross...     Partially cloudy  \n",
       "964  https://weather.visualcrossing.com/VisualCross...     Partially cloudy  \n",
       "965  https://weather.visualcrossing.com/VisualCross...     Partially cloudy  \n",
       "966  https://weather.visualcrossing.com/VisualCross...     Partially cloudy  \n",
       "967  https://weather.visualcrossing.com/VisualCross...     Partially cloudy  \n",
       "968  https://weather.visualcrossing.com/VisualCross...     Partially cloudy  \n",
       "969  https://weather.visualcrossing.com/VisualCross...     Partially cloudy  \n",
       "970  https://weather.visualcrossing.com/VisualCross...     Partially cloudy  \n",
       "971  https://weather.visualcrossing.com/VisualCross...     Partially cloudy  \n",
       "972  https://weather.visualcrossing.com/VisualCross...     Partially cloudy  \n",
       "973  https://weather.visualcrossing.com/VisualCross...     Partially cloudy  \n",
       "974  https://weather.visualcrossing.com/VisualCross...     Partially cloudy  \n",
       "975  https://weather.visualcrossing.com/VisualCross...     Partially cloudy  \n",
       "976  https://weather.visualcrossing.com/VisualCross...     Partially cloudy  \n",
       "977  https://weather.visualcrossing.com/VisualCross...     Partially cloudy  \n",
       "978  https://weather.visualcrossing.com/VisualCross...     Partially cloudy  \n",
       "979  https://weather.visualcrossing.com/VisualCross...     Partially cloudy  \n",
       "980  https://weather.visualcrossing.com/VisualCross...                Clear  \n",
       "981  https://weather.visualcrossing.com/VisualCross...     Partially cloudy  \n",
       "982  https://weather.visualcrossing.com/VisualCross...     Partially cloudy  \n",
       "983  https://weather.visualcrossing.com/VisualCross...                Clear  \n",
       "984  https://weather.visualcrossing.com/VisualCross...     Partially cloudy  \n",
       "985  https://weather.visualcrossing.com/VisualCross...     Partially cloudy  \n",
       "986  https://weather.visualcrossing.com/VisualCross...     Partially cloudy  \n",
       "987  https://weather.visualcrossing.com/VisualCross...     Partially cloudy  \n",
       "988  https://weather.visualcrossing.com/VisualCross...     Partially cloudy  \n",
       "989  https://weather.visualcrossing.com/VisualCross...     Partially cloudy  \n",
       "990  https://weather.visualcrossing.com/VisualCross...                Clear  \n",
       "991  https://weather.visualcrossing.com/VisualCross...                Clear  \n",
       "992  https://weather.visualcrossing.com/VisualCross...     Partially cloudy  "
      ],
      "text/html": "<div>\n<style scoped>\n    .dataframe tbody tr th:only-of-type {\n        vertical-align: middle;\n    }\n\n    .dataframe tbody tr th {\n        vertical-align: top;\n    }\n\n    .dataframe thead th {\n        text-align: right;\n    }\n</style>\n<table border=\"1\" class=\"dataframe\">\n  <thead>\n    <tr style=\"text-align: right;\">\n      <th></th>\n      <th>Latitude</th>\n      <th>Longitude</th>\n      <th>API_url</th>\n      <th>Condições Climáticas</th>\n    </tr>\n  </thead>\n  <tbody>\n    <tr>\n      <th>952</th>\n      <td>-23,508651</td>\n      <td>-46,68321</td>\n      <td>https://weather.visualcrossing.com/VisualCross...</td>\n      <td>Clear</td>\n    </tr>\n    <tr>\n      <th>953</th>\n      <td>-23,507185</td>\n      <td>-46,486156</td>\n      <td>https://weather.visualcrossing.com/VisualCross...</td>\n      <td>Partially cloudy</td>\n    </tr>\n    <tr>\n      <th>954</th>\n      <td>-23,490734</td>\n      <td>-46,770538</td>\n      <td>https://weather.visualcrossing.com/VisualCross...</td>\n      <td>Clear</td>\n    </tr>\n    <tr>\n      <th>955</th>\n      <td>-23,289652817691163</td>\n      <td>-46,8466866204862</td>\n      <td>https://weather.visualcrossing.com/VisualCross...</td>\n      <td>Clear</td>\n    </tr>\n    <tr>\n      <th>956</th>\n      <td>-23,766777340116</td>\n      <td>-46,6762969520143</td>\n      <td>https://weather.visualcrossing.com/VisualCross...</td>\n      <td>Clear</td>\n    </tr>\n    <tr>\n      <th>957</th>\n      <td>-23,490659</td>\n      <td>-46,426977</td>\n      <td>https://weather.visualcrossing.com/VisualCross...</td>\n      <td>Clear</td>\n    </tr>\n    <tr>\n      <th>958</th>\n      <td>-23,844285776527993</td>\n      <td>-46,823411072745586</td>\n      <td>https://weather.visualcrossing.com/VisualCross...</td>\n      <td>Partially cloudy</td>\n    </tr>\n    <tr>\n      <th>959</th>\n      <td>-23,709584</td>\n      <td>-46,699692</td>\n      <td>https://weather.visualcrossing.com/VisualCross...</td>\n      <td>Overcast</td>\n    </tr>\n    <tr>\n      <th>960</th>\n      <td>-23,322032</td>\n      <td>-46,630584</td>\n      <td>https://weather.visualcrossing.com/VisualCross...</td>\n      <td>Overcast</td>\n    </tr>\n    <tr>\n      <th>961</th>\n      <td>-23,567856</td>\n      <td>-46,832253</td>\n      <td>https://weather.visualcrossing.com/VisualCross...</td>\n      <td>Overcast</td>\n    </tr>\n    <tr>\n      <th>962</th>\n      <td>-23,678503</td>\n      <td>-46,776714</td>\n      <td>https://weather.visualcrossing.com/VisualCross...</td>\n      <td>Partially cloudy</td>\n    </tr>\n    <tr>\n      <th>963</th>\n      <td>-23,566527</td>\n      <td>-46,569345</td>\n      <td>https://weather.visualcrossing.com/VisualCross...</td>\n      <td>Partially cloudy</td>\n    </tr>\n    <tr>\n      <th>964</th>\n      <td>-23,578775390120782</td>\n      <td>-46,69416613263075</td>\n      <td>https://weather.visualcrossing.com/VisualCross...</td>\n      <td>Partially cloudy</td>\n    </tr>\n    <tr>\n      <th>965</th>\n      <td>-23,63645</td>\n      <td>-46,778075</td>\n      <td>https://weather.visualcrossing.com/VisualCross...</td>\n      <td>Partially cloudy</td>\n    </tr>\n    <tr>\n      <th>966</th>\n      <td>-23,543906</td>\n      <td>-46,408042</td>\n      <td>https://weather.visualcrossing.com/VisualCross...</td>\n      <td>Partially cloudy</td>\n    </tr>\n    <tr>\n      <th>967</th>\n      <td>-23,598776</td>\n      <td>-46,59749</td>\n      <td>https://weather.visualcrossing.com/VisualCross...</td>\n      <td>Partially cloudy</td>\n    </tr>\n    <tr>\n      <th>968</th>\n      <td>-23,425746351883976</td>\n      <td>-46,787776220729555</td>\n      <td>https://weather.visualcrossing.com/VisualCross...</td>\n      <td>Partially cloudy</td>\n    </tr>\n    <tr>\n      <th>969</th>\n      <td>-23,51023935714047</td>\n      <td>-46,72888797827142</td>\n      <td>https://weather.visualcrossing.com/VisualCross...</td>\n      <td>Partially cloudy</td>\n    </tr>\n    <tr>\n      <th>970</th>\n      <td>-23,614449</td>\n      <td>-46,50167</td>\n      <td>https://weather.visualcrossing.com/VisualCross...</td>\n      <td>Partially cloudy</td>\n    </tr>\n    <tr>\n      <th>971</th>\n      <td>-23,574312</td>\n      <td>-46,481592</td>\n      <td>https://weather.visualcrossing.com/VisualCross...</td>\n      <td>Partially cloudy</td>\n    </tr>\n    <tr>\n      <th>972</th>\n      <td>-23,560609</td>\n      <td>-46,521808</td>\n      <td>https://weather.visualcrossing.com/VisualCross...</td>\n      <td>Partially cloudy</td>\n    </tr>\n    <tr>\n      <th>973</th>\n      <td>-23,671126</td>\n      <td>-46,430628</td>\n      <td>https://weather.visualcrossing.com/VisualCross...</td>\n      <td>Partially cloudy</td>\n    </tr>\n    <tr>\n      <th>974</th>\n      <td>-23,402101</td>\n      <td>-46,721073</td>\n      <td>https://weather.visualcrossing.com/VisualCross...</td>\n      <td>Partially cloudy</td>\n    </tr>\n    <tr>\n      <th>975</th>\n      <td>-23,487599</td>\n      <td>-46,544012</td>\n      <td>https://weather.visualcrossing.com/VisualCross...</td>\n      <td>Partially cloudy</td>\n    </tr>\n    <tr>\n      <th>976</th>\n      <td>-23,718027</td>\n      <td>-46,703489</td>\n      <td>https://weather.visualcrossing.com/VisualCross...</td>\n      <td>Partially cloudy</td>\n    </tr>\n    <tr>\n      <th>977</th>\n      <td>-23,539291</td>\n      <td>-46,570446</td>\n      <td>https://weather.visualcrossing.com/VisualCross...</td>\n      <td>Partially cloudy</td>\n    </tr>\n    <tr>\n      <th>978</th>\n      <td>-23,605907</td>\n      <td>-46,469031</td>\n      <td>https://weather.visualcrossing.com/VisualCross...</td>\n      <td>Partially cloudy</td>\n    </tr>\n    <tr>\n      <th>979</th>\n      <td>-23,639736</td>\n      <td>-46,745634</td>\n      <td>https://weather.visualcrossing.com/VisualCross...</td>\n      <td>Partially cloudy</td>\n    </tr>\n    <tr>\n      <th>980</th>\n      <td>-23,668971</td>\n      <td>-46,634474</td>\n      <td>https://weather.visualcrossing.com/VisualCross...</td>\n      <td>Clear</td>\n    </tr>\n    <tr>\n      <th>981</th>\n      <td>-23,514548</td>\n      <td>-46,664321</td>\n      <td>https://weather.visualcrossing.com/VisualCross...</td>\n      <td>Partially cloudy</td>\n    </tr>\n    <tr>\n      <th>982</th>\n      <td>-23,679219</td>\n      <td>-46,384018</td>\n      <td>https://weather.visualcrossing.com/VisualCross...</td>\n      <td>Partially cloudy</td>\n    </tr>\n    <tr>\n      <th>983</th>\n      <td>-23,388421</td>\n      <td>-46,435756</td>\n      <td>https://weather.visualcrossing.com/VisualCross...</td>\n      <td>Clear</td>\n    </tr>\n    <tr>\n      <th>984</th>\n      <td>-23,274322759063615</td>\n      <td>-46,585275361039365</td>\n      <td>https://weather.visualcrossing.com/VisualCross...</td>\n      <td>Partially cloudy</td>\n    </tr>\n    <tr>\n      <th>985</th>\n      <td>-23,400982</td>\n      <td>-46,524045</td>\n      <td>https://weather.visualcrossing.com/VisualCross...</td>\n      <td>Partially cloudy</td>\n    </tr>\n    <tr>\n      <th>986</th>\n      <td>-23,437867</td>\n      <td>-46,4959</td>\n      <td>https://weather.visualcrossing.com/VisualCross...</td>\n      <td>Partially cloudy</td>\n    </tr>\n    <tr>\n      <th>987</th>\n      <td>-23,629013</td>\n      <td>-46,716791</td>\n      <td>https://weather.visualcrossing.com/VisualCross...</td>\n      <td>Partially cloudy</td>\n    </tr>\n    <tr>\n      <th>988</th>\n      <td>-23,781795</td>\n      <td>-46,690976</td>\n      <td>https://weather.visualcrossing.com/VisualCross...</td>\n      <td>Partially cloudy</td>\n    </tr>\n    <tr>\n      <th>989</th>\n      <td>-23,505205</td>\n      <td>-46,152062</td>\n      <td>https://weather.visualcrossing.com/VisualCross...</td>\n      <td>Partially cloudy</td>\n    </tr>\n    <tr>\n      <th>990</th>\n      <td>-23,704344</td>\n      <td>-46,616806</td>\n      <td>https://weather.visualcrossing.com/VisualCross...</td>\n      <td>Clear</td>\n    </tr>\n    <tr>\n      <th>991</th>\n      <td>-23,50816807819195</td>\n      <td>-46,34258100197872</td>\n      <td>https://weather.visualcrossing.com/VisualCross...</td>\n      <td>Clear</td>\n    </tr>\n    <tr>\n      <th>992</th>\n      <td>-23,590828</td>\n      <td>-46,823061</td>\n      <td>https://weather.visualcrossing.com/VisualCross...</td>\n      <td>Partially cloudy</td>\n    </tr>\n  </tbody>\n</table>\n</div>"
     },
     "metadata": {},
     "execution_count": 113
    }
   ],
   "source": [
    "df_escolhido[['Latitude','Longitude','API_url','Condições Climáticas']]"
   ]
  },
  {
   "cell_type": "code",
   "execution_count": 114,
   "metadata": {},
   "outputs": [
    {
     "output_type": "stream",
     "name": "stderr",
     "text": [
      "C:\\Users\\Renato\\anaconda3\\envs\\Data_Science\\lib\\site-packages\\pandas\\core\\frame.py:4308: SettingWithCopyWarning: \nA value is trying to be set on a copy of a slice from a DataFrame\n\nSee the caveats in the documentation: https://pandas.pydata.org/pandas-docs/stable/user_guide/indexing.html#returning-a-view-versus-a-copy\n  return super().drop(\n"
     ]
    }
   ],
   "source": [
    "# dropando coluna URL\n",
    "df_escolhido.drop(columns='API_url',axis=1,inplace=True)"
   ]
  },
  {
   "cell_type": "code",
   "execution_count": 115,
   "metadata": {},
   "outputs": [],
   "source": [
    "#exportando cada df escolhido na pasta weather API\n",
    "df_escolhido.to_csv(r'C:\\\\Users\\Renato\\OneDrive\\Projeto_TERA\\Predição Acidentes Motocicleta\\Projeto-TERA-Data-Science---Acidentes-Motocicletas\\Weather_API_data\\{}.csv'.format(nome_df))"
   ]
  }
 ]
}